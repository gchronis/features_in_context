{
 "cells": [
  {
   "cell_type": "code",
   "execution_count": 1,
   "metadata": {},
   "outputs": [],
   "source": [
    "import torch\n",
    "from bert import *"
   ]
  },
  {
   "cell_type": "code",
   "execution_count": 41,
   "metadata": {},
   "outputs": [],
   "source": [
    "model = torch.load('model.30eps.1k.saved')\n",
    "#model = torch.load('model.30eps.5k.saved4')"
   ]
  },
  {
   "cell_type": "code",
   "execution_count": 3,
   "metadata": {},
   "outputs": [
    {
     "data": {
      "text/plain": [
       "array([ 0.1632253 , -1.3629794 ,  0.65916   , ...,  0.00360468,\n",
       "       -0.01656886, -0.05103391], dtype=float32)"
      ]
     },
     "execution_count": 3,
     "metadata": {},
     "output_type": "execute_result"
    }
   ],
   "source": [
    "model.predict('gravel')"
   ]
  },
  {
   "cell_type": "code",
   "execution_count": 4,
   "metadata": {},
   "outputs": [
    {
     "data": {
      "text/plain": [
       "['object',\n",
       " 'wear',\n",
       " 'human',\n",
       " 'act',\n",
       " 'paper',\n",
       " 'give',\n",
       " 'money',\n",
       " 'currency',\n",
       " 'place',\n",
       " 'green']"
      ]
     },
     "execution_count": 4,
     "metadata": {},
     "output_type": "execute_result"
    }
   ],
   "source": [
    "model.predict_top_n_features('bank',10)"
   ]
  },
  {
   "cell_type": "code",
   "execution_count": 5,
   "metadata": {},
   "outputs": [
    {
     "name": "stderr",
     "output_type": "stream",
     "text": [
      "INFO:pytorch_pretrained_bert.modeling:loading archive file https://s3.amazonaws.com/models.huggingface.co/bert/bert-base-uncased.tar.gz from cache at /Users/gabriellachronis/.pytorch_pretrained_bert/9c41111e2de84547a463fd39217199738d1e3deb72d4fec4399e6e241983c6f0.ae3cef932725ca7a30cdcb93fc6e09150a55e2a130ec7af63975a16c153ae2ba\n",
      "INFO:pytorch_pretrained_bert.modeling:extracting archive file /Users/gabriellachronis/.pytorch_pretrained_bert/9c41111e2de84547a463fd39217199738d1e3deb72d4fec4399e6e241983c6f0.ae3cef932725ca7a30cdcb93fc6e09150a55e2a130ec7af63975a16c153ae2ba to temp dir /var/folders/9m/vzvx58rs51v_x5nm620fz4xr0000gn/T/tmpk2h2yy4q\n",
      "INFO:pytorch_pretrained_bert.modeling:Model config {\n",
      "  \"attention_probs_dropout_prob\": 0.1,\n",
      "  \"hidden_act\": \"gelu\",\n",
      "  \"hidden_dropout_prob\": 0.1,\n",
      "  \"hidden_size\": 768,\n",
      "  \"initializer_range\": 0.02,\n",
      "  \"intermediate_size\": 3072,\n",
      "  \"max_position_embeddings\": 512,\n",
      "  \"num_attention_heads\": 12,\n",
      "  \"num_hidden_layers\": 12,\n",
      "  \"type_vocab_size\": 2,\n",
      "  \"vocab_size\": 30522\n",
      "}\n",
      "\n",
      "INFO:pytorch_pretrained_bert.tokenization:loading vocabulary file https://s3.amazonaws.com/models.huggingface.co/bert/bert-base-uncased-vocab.txt from cache at /Users/gabriellachronis/.pytorch_pretrained_bert/26bc1ad6c0ac742e9b52263248f6d0f00068293b33709fae12320c0e35ccfbbb.542ce4285a40d23a559526243235df47c5f75c197f04f37d1a0c124c32c9a084\n"
     ]
    }
   ],
   "source": [
    "bert = BERTBase()"
   ]
  },
  {
   "cell_type": "code",
   "execution_count": 30,
   "metadata": {},
   "outputs": [
    {
     "data": {
      "text/plain": [
       "['instrument',\n",
       " 'feather',\n",
       " 'insect',\n",
       " 'wear',\n",
       " 'music',\n",
       " 'animal',\n",
       " 'air',\n",
       " 'fly',\n",
       " 'wing',\n",
       " 'bird']"
      ]
     },
     "execution_count": 30,
     "metadata": {},
     "output_type": "execute_result"
    }
   ],
   "source": [
    "sent = \"The second largest order of mammals after rodents, bats comprise about 20% of all classified mammal species worldwide, with over 1,400 species\"\n",
    "sent = \"'Or the surging whirling sounds of bats at night , when their black bodies dived into the blackness above and below the amber street lights\"\n",
    "\n",
    "model.predict_top_n_features_in_context('bats', sent, 10, bert=bert)"
   ]
  },
  {
   "cell_type": "code",
   "execution_count": 7,
   "metadata": {},
   "outputs": [
    {
     "data": {
      "text/plain": [
       "['cut',\n",
       " 'tool',\n",
       " 'wood',\n",
       " 'loud',\n",
       " 'metal',\n",
       " 'act',\n",
       " 'kitchen',\n",
       " 'hand',\n",
       " 'sharp',\n",
       " 'water']"
      ]
     },
     "execution_count": 7,
     "metadata": {},
     "output_type": "execute_result"
    }
   ],
   "source": [
    "model.predict_top_n_features('drill',10)"
   ]
  },
  {
   "cell_type": "code",
   "execution_count": 8,
   "metadata": {},
   "outputs": [
    {
     "data": {
      "text/plain": [
       "['grow',\n",
       " 'warm',\n",
       " 'tree',\n",
       " 'money',\n",
       " 'leave',\n",
       " 'vegetable',\n",
       " 'hard',\n",
       " 'green',\n",
       " 'water',\n",
       " 'wear']"
      ]
     },
     "execution_count": 8,
     "metadata": {},
     "output_type": "execute_result"
    }
   ],
   "source": [
    "model.predict_top_n_features_in_context('foundation', 'The argument has a weak foundation', 10, bert=bert)"
   ]
  },
  {
   "cell_type": "code",
   "execution_count": 9,
   "metadata": {},
   "outputs": [
    {
     "data": {
      "text/plain": [
       "['green',\n",
       " 'object',\n",
       " 'move',\n",
       " 'water',\n",
       " 'money',\n",
       " 'act',\n",
       " 'hard',\n",
       " 'wear',\n",
       " 'human',\n",
       " 'person']"
      ]
     },
     "execution_count": 9,
     "metadata": {},
     "output_type": "execute_result"
    }
   ],
   "source": [
    "model.predict_top_n_features_in_context('foundation', 'The building has a weak foundation', 10, bert=bert)"
   ]
  },
  {
   "cell_type": "code",
   "execution_count": 26,
   "metadata": {},
   "outputs": [
    {
     "name": "stdout",
     "output_type": "stream",
     "text": [
      "People\n",
      "['one', 'country', 'together', 'place', 'group', 'large', 'person']\n",
      "travel\n",
      "['two', 'one', 'group', 'person', 'move', 'together', 'act']\n",
      "many\n",
      "['money', 'large', 'bird', 'one', 'many', 'more', 'fly']\n",
      "miles\n",
      "['small', 'land', 'large', 'time', 'country', 'area', 'person']\n",
      "to\n",
      "['instrument', 'group', 'music', 'country', 'take', 'place', 'person']\n",
      "gaze\n",
      "['wood', 'person', 'eye', 'act', 'animal', 'large', 'place']\n",
      "upon\n",
      "['good', 'green', 'eat', 'animal', 'large', 'person', 'place']\n",
      "this\n",
      "['leave', 'instrument', 'grow', 'music', 'animal', 'place', 'large']\n",
      "natural\n",
      "['mammal', 'four', 'good', 'animal', 'tree', 'leg', 'fur']\n",
      "wonder,\n",
      "['piece', 'instrument', 'differ', 'fun', 'place', 'good', 'music']\n",
      "though\n",
      "['fly', 'large', 'person', 'water', 'one', 'two', 'more']\n",
      "few\n",
      "['many', 'large', 'small', 'wood', 'group', 'one', 'person']\n",
      "are\n",
      "['fly', 'money', 'place', 'food', 'bird', 'group', 'person']\n",
      "willing\n",
      "['grow', 'good', 'money', 'fruit', 'give', 'food', 'person']\n",
      "to\n",
      "['instrument', 'group', 'music', 'country', 'take', 'place', 'person']\n",
      "approach\n",
      "['hand', 'tool', 'human', 'object', 'move', 'act', 'music']\n",
      "it\n",
      "['small', 'area', 'piece', 'land', 'place', 'large', 'animal']\n",
      "closely,\n",
      "['one', 'metal', 'wood', 'time', 'music', 'same', 'instrument']\n",
      "since\n",
      "['fruit', 'money', 'vegetable', 'grow', 'green', 'time', 'eat']\n",
      "it\n",
      "['small', 'area', 'piece', 'land', 'place', 'large', 'animal']\n",
      "is\n",
      "['many', 'animal', 'money', 'area', 'time', 'place', 'person']\n",
      "reputed\n",
      "['story', 'water', 'metal', 'green', 'money', 'person', 'eat']\n",
      "to\n",
      "['instrument', 'group', 'music', 'country', 'take', 'place', 'person']\n",
      "be\n",
      "['long', 'wear', 'animal', 'large', 'place', 'person', 'water']\n",
      "the\n",
      "['small', 'water', 'metal', 'person', 'large', 'eat', 'place']\n",
      "haunt\n",
      "['move', 'green', 'small', 'body', 'person', 'water', 'place']\n",
      "of\n",
      "['scare', 'wing', 'place', 'fly', 'animal', 'person', 'bird']\n",
      "various\n",
      "['weird', 'good', 'one', 'more', 'differ', 'many', 'same']\n",
      "demons\n",
      "['blood', 'religious', 'scare', 'hot', 'person', 'bad', 'god']\n",
      "and\n",
      "['more', 'group', 'sharp', 'place', 'person', 'bad', 'many']\n",
      "devils\n",
      "['crime', 'scare', 'god', 'place', 'good', 'bad', 'person']\n"
     ]
    }
   ],
   "source": [
    "sent = 'By the way, did everyone notice that misogynist pig served the ladies raw meat? '\n",
    "sent = \"People travel many miles to gaze upon this natural wonder, though few are willing to approach it closely, since it is reputed to be the haunt of various demons and devils\"\n",
    "#sent = \"Early on, the target herd immunity threshold was estimated to be about 60 to 70 percent of the population. Most experts, including Dr. Fauci, expected that the United States would be able to reach it once vaccines were available\"\n",
    "for word in sent.split(' '):\n",
    "    print(word)\n",
    "    feats = model.predict_top_n_features_in_context(word, sent,7, bert=bert)\n",
    "    print(feats)"
   ]
  },
  {
   "cell_type": "code",
   "execution_count": 11,
   "metadata": {},
   "outputs": [
    {
     "data": {
      "text/plain": [
       "['water',\n",
       " 'food',\n",
       " 'wing',\n",
       " 'hunt',\n",
       " 'small',\n",
       " 'brown',\n",
       " 'beak',\n",
       " 'farm',\n",
       " 'white',\n",
       " 'fly',\n",
       " 'large',\n",
       " 'feather',\n",
       " 'tail',\n",
       " 'fur',\n",
       " 'animal',\n",
       " 'bird',\n",
       " 'four',\n",
       " 'mammal',\n",
       " 'eat',\n",
       " 'leg']"
      ]
     },
     "execution_count": 11,
     "metadata": {},
     "output_type": "execute_result"
    }
   ],
   "source": [
    "model.predict_top_n_features_in_context('pig', 'In fact with the development of deep-litter hen houses and intensive pig culture some such controls are necessary', 20, bert=bert)"
   ]
  },
  {
   "cell_type": "code",
   "execution_count": 21,
   "metadata": {},
   "outputs": [
    {
     "data": {
      "text/plain": [
       "['instrument',\n",
       " 'person',\n",
       " 'dirt',\n",
       " 'brown',\n",
       " 'meat',\n",
       " 'tail',\n",
       " 'large',\n",
       " 'fur',\n",
       " 'water',\n",
       " 'leg',\n",
       " 'farm',\n",
       " 'wheel',\n",
       " 'food',\n",
       " 'four',\n",
       " 'music',\n",
       " 'eat',\n",
       " 'metal',\n",
       " 'animal',\n",
       " 'black',\n",
       " 'mammal']"
      ]
     },
     "execution_count": 21,
     "metadata": {},
     "output_type": "execute_result"
    }
   ],
   "source": [
    "sent = \" My place is an absolute pig sty and I have to do laundry Hahahahaha\"\n",
    "model.predict_top_n_features_in_context('pig', sent, 20, bert=bert)"
   ]
  },
  {
   "cell_type": "code",
   "execution_count": 13,
   "metadata": {},
   "outputs": [
    {
     "data": {
      "text/plain": [
       "['danger',\n",
       " 'scale',\n",
       " 'good',\n",
       " 'wood',\n",
       " 'mouth',\n",
       " 'tail',\n",
       " 'boat',\n",
       " 'mammal',\n",
       " 'eat',\n",
       " 'fish',\n",
       " 'large',\n",
       " 'water',\n",
       " 'teeth',\n",
       " 'person',\n",
       " 'swim',\n",
       " 'leg',\n",
       " 'ocean',\n",
       " 'animal',\n",
       " 'hunt',\n",
       " 'long']"
      ]
     },
     "execution_count": 13,
     "metadata": {},
     "output_type": "execute_result"
    }
   ],
   "source": [
    "model.predict_top_n_features_in_context('sharks', 'We saw sharks, rays, els, turtles, lobsters, crabs, hundreds and hundreds of', 20, bert=bert)"
   ]
  },
  {
   "cell_type": "code",
   "execution_count": 14,
   "metadata": {},
   "outputs": [
    {
     "data": {
      "text/plain": [
       "['person',\n",
       " 'metal',\n",
       " 'large',\n",
       " 'fly',\n",
       " 'swim',\n",
       " 'fish',\n",
       " 'bird',\n",
       " 'animal',\n",
       " 'water',\n",
       " 'eat']"
      ]
     },
     "execution_count": 14,
     "metadata": {},
     "output_type": "execute_result"
    }
   ],
   "source": [
    "model.predict_top_n_features_in_context('shark', \"kill what is the same product of rape.... you have simply jumped the logical shark.... it's as simple as that. # We can argue the political and\", 10, bert=bert)"
   ]
  },
  {
   "cell_type": "code",
   "execution_count": 15,
   "metadata": {},
   "outputs": [
    {
     "data": {
      "text/plain": [
       "['long',\n",
       " 'danger',\n",
       " 'fur',\n",
       " 'teeth',\n",
       " 'tail',\n",
       " 'fish',\n",
       " 'hunt',\n",
       " 'mammal',\n",
       " 'four',\n",
       " 'act',\n",
       " 'swim',\n",
       " 'give',\n",
       " 'large',\n",
       " 'eat',\n",
       " 'leg',\n",
       " 'water',\n",
       " 'person',\n",
       " 'human',\n",
       " 'animal',\n",
       " 'money']"
      ]
     },
     "execution_count": 15,
     "metadata": {},
     "output_type": "execute_result"
    }
   ],
   "source": [
    "model.predict_top_n_features_in_context('shark', \"offended by the Poll # The character's name has become a synonym for loan shark, and as a verb to shylock means to lend money at exorbitant rates.\", 20, bert=bert)"
   ]
  },
  {
   "cell_type": "code",
   "execution_count": 16,
   "metadata": {},
   "outputs": [],
   "source": [
    "word = \"production\"\n",
    "sents = [\"Here we must stress again that we are not proposing that the category of production should magically disappear, but that we depose it from the metaphysical primacy it has enjoyed for far too long in Western history, especially following the rise of capitalism.\"\n",
    "        , \"Her visit was in conjunction with the School of Theater's production of \\\" The Laramie Project, \\\" a play about Shepard's gay son,\"\n",
    "        , \"Agriculture is the birth of production, complete with its essential features and deformation of life and consciousness\"\n",
    "        , \"How to achieve such a seizure of the means of production is a political question\"\n",
    "        , \"The rig had been expected to begin oil production again later this month\"]"
   ]
  },
  {
   "cell_type": "code",
   "execution_count": 17,
   "metadata": {},
   "outputs": [
    {
     "name": "stdout",
     "output_type": "stream",
     "text": [
      "['up', 'tool', 'build', 'bad', 'place', 'store', 'dirt', 'act', 'give', 'large', 'person', 'human', 'farm', 'object', 'good', 'money', 'animal', 'body', 'country', 'work']\n",
      "['store', 'window', 'book', 'air', 'group', 'place', 'vehicle', 'loud', 'noise', 'transport', 'sport', 'mouth', 'word', 'human', 'light', 'person', 'fun', 'large', 'funny', 'wheel']\n",
      "['hand', 'more', 'country', 'grow', 'dirt', 'cloth', 'up', 'farm', 'object', 'bad', 'animal', 'give', 'person', 'act', 'body', 'human', 'good', 'work', 'money', 'food']\n",
      "['make', 'animal', 'one', 'hold', 'place', 'work', 'good', 'object', 'give', 'four', 'large', 'together', 'tool', 'money', 'act', 'wheel', 'metal', 'person', 'wood', 'human']\n",
      "['egg', 'sharp', 'fish', 'air', 'fly', 'metal', 'wing', 'place', 'feather', 'high', 'noise', 'mouth', 'beak', 'loud', 'fire', 'work', 'kill', 'weapon', 'bird', 'food']\n"
     ]
    }
   ],
   "source": [
    "for sent in sents:\n",
    "    features = model.predict_top_n_features_in_context(word, sent, 20, bert=bert)\n",
    "    print(features)"
   ]
  },
  {
   "cell_type": "code",
   "execution_count": 42,
   "metadata": {},
   "outputs": [
    {
     "name": "stdout",
     "output_type": "stream",
     "text": [
      "['vehicle', 'many', 'city', 'material', 'small', 'place', 'smooth', 'white', 'money', 'soft', 'rock', 'build', 'expense', 'tree', 'car', 'hard', 'wheel', 'transport', 'house', 'wood']\n",
      "['black', 'annoy', 'ground', 'communicate', 'express', 'act', 'air', 'pitch', 'voice', 'sound', 'money', 'animal', 'small', 'bad', 'green', 'hard', 'dirt', 'mouth', 'noise', 'loud']\n"
     ]
    }
   ],
   "source": [
    "word = \"gravel\"\n",
    "sents = [\n",
    "    \"My wheel turned to the left and down a gravel road.\"\n",
    "    , \"The speaker's voice was guttural and low, low and full of gravel and flecks of spit.\"\n",
    "]\n",
    "\n",
    "for sent in sents:\n",
    "    features = model.predict_top_n_features_in_context(word, sent, 20, bert=bert)\n",
    "    print(features)"
   ]
  },
  {
   "cell_type": "code",
   "execution_count": 43,
   "metadata": {},
   "outputs": [
    {
     "name": "stdout",
     "output_type": "stream",
     "text": [
      "['farm', 'beak', 'white', 'brown', 'long', 'black', 'hunt', 'pet', 'fly', 'large', 'mammal', 'small', 'tail', 'feather', 'bird', 'animal', 'eat', 'four', 'leg', 'fur']\n",
      "['good', 'wood', 'big', 'dirt', 'long', 'farm', 'black', 'small', 'eat', 'tail', 'bad', 'four', 'white', 'animal', 'fur', 'leg', 'brown', 'person', 'large', 'mammal']\n"
     ]
    }
   ],
   "source": [
    "word = \"pig\"\n",
    "sents = [\n",
    "    \"The pig trotted up to the fence.\"\n",
    "    , \"My roommate is a pig.\"\n",
    "]\n",
    "\n",
    "for sent in sents:\n",
    "    features = model.predict_top_n_features_in_context(word, sent, 20, bert=bert)\n",
    "    print(features)"
   ]
  },
  {
   "cell_type": "code",
   "execution_count": null,
   "metadata": {},
   "outputs": [],
   "source": []
  }
 ],
 "metadata": {
  "kernelspec": {
   "display_name": "Python 3",
   "language": "python",
   "name": "python3"
  },
  "language_info": {
   "codemirror_mode": {
    "name": "ipython",
    "version": 3
   },
   "file_extension": ".py",
   "mimetype": "text/x-python",
   "name": "python",
   "nbconvert_exporter": "python",
   "pygments_lexer": "ipython3",
   "version": "3.8.5"
  }
 },
 "nbformat": 4,
 "nbformat_minor": 4
}
