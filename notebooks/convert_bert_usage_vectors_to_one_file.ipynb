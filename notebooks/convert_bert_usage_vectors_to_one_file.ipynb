{
 "cells": [
  {
   "cell_type": "code",
   "execution_count": 4,
   "id": "4f22d80a",
   "metadata": {},
   "outputs": [],
   "source": [
    "import pickle\n",
    "from transformers import BertModel, BertTokenizer\n",
    "import torch\n",
    "import numpy as np\n",
    "from collections import defaultdict\n"
   ]
  },
  {
   "cell_type": "code",
   "execution_count": 19,
   "id": "2d8616aa",
   "metadata": {},
   "outputs": [],
   "source": [
    "decades = [decade for decade in np.arange(1910, 2009, 10)]\n",
    "out_path = '../data/cwr4lsc/bert/usages_16_len128.dict'\n",
    "\n",
    "all_usages = defaultdict(list)\n",
    "\n",
    "for decade in decades:\n",
    "    path = '../data/cwr4lsc/bert/usages_with_vectors_16_len128_{}.dict'.format(decade)\n",
    "    with open(path, 'rb') as f:\n",
    "        decade = pickle.load(f)\n",
    "\n",
    "        for target in decade.keys():\n",
    "            all_usages[target] += (decade[target])"
   ]
  },
  {
   "cell_type": "code",
   "execution_count": 21,
   "id": "1af4f0bd",
   "metadata": {},
   "outputs": [
    {
     "data": {
      "text/plain": [
       "6302"
      ]
     },
     "execution_count": 21,
     "metadata": {},
     "output_type": "execute_result"
    }
   ],
   "source": [
    "len(all_usages['parent'])"
   ]
  },
  {
   "cell_type": "code",
   "execution_count": 23,
   "id": "47b71808",
   "metadata": {},
   "outputs": [],
   "source": [
    "# save into another file with all usages, in the format tht the clusterizer expects\n",
    "\n",
    "\n",
    "with open(out_path, 'wb') as f:\n",
    "    pickle.dump(all_usages, f)"
   ]
  },
  {
   "cell_type": "code",
   "execution_count": null,
   "id": "4b8f197c",
   "metadata": {},
   "outputs": [],
   "source": []
  }
 ],
 "metadata": {
  "kernelspec": {
   "display_name": "gabriella_cwr4lsc",
   "language": "python",
   "name": "gabriella_cwr4lsc"
  },
  "language_info": {
   "codemirror_mode": {
    "name": "ipython",
    "version": 3
   },
   "file_extension": ".py",
   "mimetype": "text/x-python",
   "name": "python",
   "nbconvert_exporter": "python",
   "pygments_lexer": "ipython3",
   "version": "3.10.9"
  }
 },
 "nbformat": 4,
 "nbformat_minor": 5
}
