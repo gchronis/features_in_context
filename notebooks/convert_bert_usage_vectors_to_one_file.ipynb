{
 "cells": [
  {
   "cell_type": "code",
   "execution_count": 6,
   "id": "4f22d80a",
   "metadata": {},
   "outputs": [
    {
     "name": "stderr",
     "output_type": "stream",
     "text": [
      "/home/gsc685/.conda/envs/gabriella_cwr4lsc/lib/python3.10/site-packages/tqdm/auto.py:21: TqdmWarning: IProgress not found. Please update jupyter and ipywidgets. See https://ipywidgets.readthedocs.io/en/stable/user_install.html\n",
      "  from .autonotebook import tqdm as notebook_tqdm\n"
     ]
    }
   ],
   "source": [
    "\n",
    "\n",
    "import pickle\n",
    "from transformers import BertModel, BertTokenizer\n",
    "import torch\n",
    "import numpy as np\n",
    "from collections import defaultdict\n",
    "\n",
    "import sys\n",
    "sys.path.append(\"..\")\n",
    "from clustering import make_usage_matrices\n"
   ]
  },
  {
   "cell_type": "code",
   "execution_count": 11,
   "id": "2d8616aa",
   "metadata": {},
   "outputs": [],
   "source": [
    "decades = [decade for decade in np.arange(1910, 2009, 10)]\n",
    "out_path = '../data/cwr4lsc/bert/usages_16_len128.dict'\n",
    "\n",
    "all_usages = defaultdict(list)\n",
    "\n",
    "for decade in decades:\n",
    "    path = '../data/cwr4lsc/bert/usages_with_vectors_16_len128_{}.dict'.format(decade)\n",
    "    with open(path, 'rb') as f:\n",
    "        decade = pickle.load(f)\n",
    "        \n",
    "        for target in decade.keys():\n",
    "            all_usages[target] += (decade[target])"
   ]
  },
  {
   "cell_type": "code",
   "execution_count": 8,
   "id": "1af4f0bd",
   "metadata": {},
   "outputs": [
    {
     "data": {
      "text/plain": [
       "6302"
      ]
     },
     "execution_count": 8,
     "metadata": {},
     "output_type": "execute_result"
    }
   ],
   "source": [
    "len(all_usages['parent'])"
   ]
  },
  {
   "cell_type": "code",
   "execution_count": 10,
   "id": "02b1a1cf",
   "metadata": {},
   "outputs": [
    {
     "data": {
      "text/plain": [
       "(-2.5064497,\n",
       " ['@',\n",
       "  '@',\n",
       "  '@',\n",
       "  '@',\n",
       "  '@',\n",
       "  '@',\n",
       "  'to',\n",
       "  'whom',\n",
       "  ',',\n",
       "  'indeed',\n",
       "  ',',\n",
       "  'but',\n",
       "  'mary',\n",
       "  'fit',\n",
       "  '##ton',\n",
       "  '?',\n",
       "  'the',\n",
       "  'close',\n",
       "  'of',\n",
       "  'this',\n",
       "  'vera',\n",
       "  '##cious',\n",
       "  'history',\n",
       "  'is',\n",
       "  'occupied',\n",
       "  'with',\n",
       "  'shakespeare',\n",
       "  \"'\",\n",
       "  's',\n",
       "  '\"',\n",
       "  'life',\n",
       "  ',',\n",
       "  '\"',\n",
       "  'which',\n",
       "  'incorporates',\n",
       "  ',',\n",
       "  'as',\n",
       "  'credible',\n",
       "  ',',\n",
       "  'stories',\n",
       "  'ranging',\n",
       "  'from',\n",
       "  'audrey',\n",
       "  \"'\",\n",
       "  's',\n",
       "  'account',\n",
       "  'of',\n",
       "  'shakespeare',\n",
       "  \"'\",\n",
       "  's',\n",
       "  'killing',\n",
       "  'a',\n",
       "  'calf',\n",
       "  'in',\n",
       "  'high',\n",
       "  'style',\n",
       "  'and',\n",
       "  'making',\n",
       "  'a',\n",
       "  'speech',\n",
       "  ',',\n",
       "  'to',\n",
       "  'his',\n",
       "  'parent',\n",
       "  '##age',\n",
       "  'of',\n",
       "  'd',\n",
       "  \"'\",\n",
       "  'ave',\n",
       "  '##nant',\n",
       "  '.',\n",
       "  'a',\n",
       "  'fitting',\n",
       "  'close',\n",
       "  'to',\n",
       "  'the',\n",
       "  'romance',\n",
       "  '.',\n",
       "  'it',\n",
       "  'is',\n",
       "  'interesting',\n",
       "  'to',\n",
       "  'note',\n",
       "  'that',\n",
       "  'the',\n",
       "  'book',\n",
       "  ',',\n",
       "  'which',\n",
       "  'contains',\n",
       "  'such',\n",
       "  'violent',\n",
       "  'dia',\n",
       "  '##tri',\n",
       "  '##bes',\n",
       "  'on',\n",
       "  'the',\n",
       "  'english',\n",
       "  'aristocracy',\n",
       "  'as',\n",
       "  'would',\n",
       "  'have',\n",
       "  'made',\n",
       "  'good',\n",
       "  'radical',\n",
       "  'campaign',\n",
       "  'literature',\n",
       "  'in',\n",
       "  'the',\n",
       "  'recent',\n",
       "  'elections',\n",
       "  ',',\n",
       "  'is',\n",
       "  'dedicated',\n",
       "  'to',\n",
       "  'an',\n",
       "  'english',\n",
       "  'peer',\n",
       "  '.',\n",
       "  'a',\n",
       "  'fitting',\n",
       "  'beginning',\n",
       "  'to',\n",
       "  'the',\n",
       "  'romance',\n",
       "  '|',\n",
       "  '[SEP]'],\n",
       " 63,\n",
       " 1910)"
      ]
     },
     "execution_count": 10,
     "metadata": {},
     "output_type": "execute_result"
    }
   ],
   "source": [
    "all_usages['parent'][0]"
   ]
  },
  {
   "cell_type": "code",
   "execution_count": 23,
   "id": "47b71808",
   "metadata": {},
   "outputs": [],
   "source": [
    "# save into another file with all usages, in the format tht the clusterizer expects\n",
    "\n",
    "\n",
    "with open(out_path, 'wb') as f:\n",
    "    pickle.dump(all_usages, f)"
   ]
  },
  {
   "cell_type": "markdown",
   "id": "2acfaf88",
   "metadata": {},
   "source": [
    "now we have the right number of things to unpack in a single usage."
   ]
  },
  {
   "cell_type": "code",
   "execution_count": 26,
   "id": "4b8f197c",
   "metadata": {},
   "outputs": [
    {
     "data": {
      "text/plain": [
       "4"
      ]
     },
     "execution_count": 26,
     "metadata": {},
     "output_type": "execute_result"
    }
   ],
   "source": [
    "len(all_usages['leaf'][0])"
   ]
  },
  {
   "cell_type": "code",
   "execution_count": 27,
   "id": "5719d07c",
   "metadata": {},
   "outputs": [],
   "source": [
    "with open(out_path, 'rb') as f:\n",
    "    usages_test = pickle.load(f)"
   ]
  },
  {
   "cell_type": "code",
   "execution_count": null,
   "id": "e92a9a01",
   "metadata": {},
   "outputs": [],
   "source": [
    "for w in usages_test:\n",
    "    _, _, _, _ = usages_test"
   ]
  },
  {
   "cell_type": "markdown",
   "id": "07401381",
   "metadata": {},
   "source": [
    "actually it still doesn't work. the function doesn't want a llist of individual usages for a word, it wants a matrix for each word"
   ]
  },
  {
   "cell_type": "markdown",
   "id": "af9bf69c",
   "metadata": {},
   "source": [
    "We have to make udsage matrices actually which is what the clusterizer really expects. there's a utility for this already but we have to do it ourselves"
   ]
  },
  {
   "cell_type": "code",
   "execution_count": 33,
   "id": "ca92557e",
   "metadata": {},
   "outputs": [
    {
     "name": "stderr",
     "output_type": "stream",
     "text": [
      "100%|██████████████████████████████████████████████████████████████████████████████████████████████████████████████████| 18/18 [18:38<00:00, 62.15s/it]\n"
     ]
    }
   ],
   "source": [
    "in_path = '../data/cwr4lsc/bert/usages_16_len128.dict'\n",
    "out_path = '../data/cwr4lsc/bert/matrix_usages_16_len128.dict'\n",
    "\n",
    "matrix_usages = make_usage_matrices(in_path, usages_out=None, ndims=768)\n",
    "with open(out_path, 'wb') as f:\n",
    "    pickle.dump(matrix_usages, f)"
   ]
  },
  {
   "cell_type": "code",
   "execution_count": null,
   "id": "4d2a41f8",
   "metadata": {},
   "outputs": [],
   "source": []
  }
 ],
 "metadata": {
  "kernelspec": {
   "display_name": "gabriella_cwr4lsc",
   "language": "python",
   "name": "gabriella_cwr4lsc"
  },
  "language_info": {
   "codemirror_mode": {
    "name": "ipython",
    "version": 3
   },
   "file_extension": ".py",
   "mimetype": "text/x-python",
   "name": "python",
   "nbconvert_exporter": "python",
   "pygments_lexer": "ipython3",
   "version": "3.10.9"
  }
 },
 "nbformat": 4,
 "nbformat_minor": 5
}
