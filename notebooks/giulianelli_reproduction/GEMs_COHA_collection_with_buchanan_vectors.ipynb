{
 "cells": [
  {
   "cell_type": "code",
   "execution_count": 1,
   "id": "a46e36f4",
   "metadata": {},
   "outputs": [
    {
     "name": "stderr",
     "output_type": "stream",
     "text": [
      "/home/gsc685/.conda/envs/gabriella_cwr4lsc/lib/python3.10/site-packages/tqdm/auto.py:21: TqdmWarning: IProgress not found. Please update jupyter and ipywidgets. See https://ipywidgets.readthedocs.io/en/stable/user_install.html\n",
      "  from .autonotebook import tqdm as notebook_tqdm\n"
     ]
    }
   ],
   "source": [
    "import os\n",
    "import pickle\n",
    "\n",
    "import torch\n",
    "import numpy as np\n",
    "from tqdm import tqdm\n",
    "from collections import defaultdict\n",
    "from transformers import BertModel, BertTokenizer\n",
    "import re\n",
    "import csv   \n",
    "\n",
    "import sys\n",
    "sys.path.append(\"..\")\n",
    "from src.bert import *\n",
    "\n",
    "\n",
    "def get_context(token_ids, target_position, sequence_length=128):\n",
    "    \"\"\"\n",
    "    Given a text containing a target word, return the sentence snippet which surrounds the target word\n",
    "    (and the target word's position in the snippet).\n",
    "\n",
    "    :param token_ids: list of token ids (for an entire line of text)\n",
    "    :param target_position: index of the target word's position in `tokens`\n",
    "    :param sequence_length: desired length for output sequence (e.g. 128, 256, 512)\n",
    "    :return: (context_ids, new_target_position)\n",
    "                context_ids: list of token ids for the output sequence\n",
    "                new_target_position: index of the target word's position in `context_ids`\n",
    "    \"\"\"\n",
    "    # -2 as [CLS] and [SEP] tokens will be added later; /2 as it's a one-sided window\n",
    "    window_size = int((sequence_length - 2) / 2)\n",
    "    context_start = max([0, target_position - window_size])\n",
    "    padding_offset = max([0, window_size - target_position])\n",
    "    padding_offset += max([0, target_position + window_size - len(token_ids)])\n",
    "\n",
    "    context_ids = token_ids[context_start:target_position + window_size]\n",
    "    context_ids += padding_offset * [0]\n",
    "\n",
    "    new_target_position = target_position - context_start\n",
    "\n",
    "    return context_ids, new_target_position\n",
    "\n",
    "def get_usage_vectors( model,\n",
    "                       batch_input_ids,\n",
    "                       batch_tokens,\n",
    "                       batch_snippets,\n",
    "                       batch_pos, \n",
    "                       batch_decades):\n",
    "    \n",
    "    with torch.no_grad():\n",
    "        # collect list of input ids into a single batch tensor\n",
    "        input_ids_tensor = torch.tensor(batch_input_ids)\n",
    "        if torch.cuda.is_available():\n",
    "            input_ids_tensor = input_ids_tensor.to('cuda')\n",
    "\n",
    "            \n",
    "        #print(input_ids_tensor)\n",
    "        # run usages through language model\n",
    "        outputs = model(input_ids_tensor,  output_hidden_states=True )\n",
    "        #print(len(outputs.hidden_states)) # items in the tuple = 1 + num layers\n",
    "        if torch.cuda.is_available():\n",
    "            hidden_states = [l.detach().cpu().clone().numpy() for l in outputs[2]]\n",
    "        else:\n",
    "            #print(\"fjekl\")\n",
    "            hidden_states = [l.clone().numpy() for l in outputs.hidden_states]\n",
    "\n",
    "        # get usage vectors from hidden states\n",
    "        hidden_states = np.stack(hidden_states)  # (13, B, |s|, 768)\n",
    "        #print('Expected hidden states size: (13, B, |s|, 768). Got {}'.format(hidden_states.shape))\n",
    "        # usage_vectors = np.sum(hidden_states, 0)  # (B, |s|, 768)\n",
    "        # usage_vectors = hidden_states.view(hidden_states.shape[1],\n",
    "        #                                    hidden_states.shape[2],\n",
    "        #                                    -1)\n",
    "        usage_vectors = np.sum(hidden_states[1:, :, :, :], axis=0)\n",
    "        \n",
    "        # usage_vectors = hidden_states.reshape((hidden_states.shape[1], hidden_states.shape[2], -1))\n",
    "        #print(usage_vectors.shape)\n",
    "        return usage_vectors\n",
    "    \n",
    "def get_feature_vectors( model,\n",
    "                        feature_model,\n",
    "                       batch_input_ids,\n",
    "                       batch_tokens,\n",
    "                       batch_snippets,\n",
    "                       batch_pos, \n",
    "                       batch_decades):\n",
    "    \n",
    "    with torch.no_grad():\n",
    "        # collect list of input ids into a single batch tensor\n",
    "        input_ids_tensor = torch.tensor(batch_input_ids)\n",
    "        if torch.cuda.is_available():\n",
    "            input_ids_tensor = input_ids_tensor.to('cuda')\n",
    "\n",
    "            \n",
    "        #print(input_ids_tensor)\n",
    "        # run usages through language model\n",
    "        outputs = model(input_ids_tensor,  output_hidden_states=True )\n",
    "        #print(len(outputs.hidden_states)) # items in the tuple = 1 + num layers\n",
    "        if torch.cuda.is_available():\n",
    "            hidden_states = [l.detach().cpu().clone().numpy() for l in outputs[2]]\n",
    "        else:\n",
    "            #print(\"fjekl\")\n",
    "            hidden_states = [l.clone().numpy() for l in outputs.hidden_states]\n",
    "\n",
    "        # get usage vectors from hidden states\n",
    "        hidden_states = np.stack(hidden_states)  # (13, B, |s|, 768)\n",
    "        print('Expected hidden states size: (13, B, |s|, 768). Got {}'.format(hidden_states.shape))\n",
    "        # usage_vectors = np.sum(hidden_states, 0)  # (B, |s|, 768)\n",
    "        # usage_vectors = hidden_states.view(hidden_states.shape[1],\n",
    "        #                                    hidden_states.shape[2],\n",
    "        #                                    -1)\n",
    "        \n",
    "        #print(hidden_states.shape)\n",
    "        #print(hidden_states[1:, :, :, :].shape)\n",
    "        usage_vectors = hidden_states[8, :, :, :] # get the 8th layer, which the model expects as input\n",
    "        \n",
    "        # usage_vectors = hidden_states.reshape((hidden_states.shape[1], hidden_states.shape[2], -1))\n",
    "        #print(usage_vectors.shape)\n",
    "        \n",
    "        \n",
    "        \n",
    "        return usage_vectors\n",
    "\n",
    "\n",
    "def collect_from_coha(target_words,\n",
    "                      decades,\n",
    "                      sequence_length,\n",
    "                      pretrained_weights='models/bert-base-uncased',\n",
    "                      coha_dir='data/coha',\n",
    "                      output_path=None,\n",
    "                      buffer_size=1024):\n",
    "    \"\"\"\n",
    "    Collect usages of target words from the COHA dataset.\n",
    "\n",
    "    :param target_words: list of words whose usages are to be collected\n",
    "    :param decades: list of year integers (e.g. list(np.arange(1910, 2001, 10)))\n",
    "    :param sequence_length: the number of tokens in the context of a word occurrence\n",
    "    :param pretrained_weights: path to model folder with weights and config file\n",
    "    :param coha_dir: path to COHA directory (containing `all_1810.txt`, ..., `all_2000.txt`)\n",
    "    :param output_path: path to output file for `usages` dictionary. If provided, data is stored\n",
    "                        in this file incrementally (use e.g. to avoid out of memory errors)\n",
    "    :param buffer_size: (max) number of usages to process in a single model run\n",
    "    :return: usages: a dictionary from target words to lists of usage tuples\n",
    "                     lemma -> [(vector, sentence, word_position, decade), (v, s, p, d), ...]\n",
    "    \"\"\"\n",
    "\n",
    "    # load model and tokenizer\n",
    "    tokenizer = BertTokenizer.from_pretrained(pretrained_weights)\n",
    "    model = BertModel.from_pretrained(pretrained_weights)\n",
    "    if torch.cuda.is_available():\n",
    "        model.to('cuda')\n",
    "        \n",
    "        \n",
    "    buchanan = torch.load('../trained_models/model.plsr.buchanan.allbuthomonyms.5k.300components.500max_iters')\n",
    "\n",
    "\n",
    "    # build word-index vocabulary for target words\n",
    "    i2w = {}\n",
    "    for t, t_id in zip(target_words, tokenizer.encode(' '.join(target_words))[1:-1]): #changed for new hugginface api\n",
    "        i2w[t_id] = t\n",
    "\n",
    "    # buffers for batch processing\n",
    "    batch_input_ids = []\n",
    "    batch_tokens = []\n",
    "    batch_pos = []\n",
    "    batch_snippets = []\n",
    "    batch_decades = []\n",
    "\n",
    "    usages = defaultdict(list)  # w -> (vector, sentence, word_position, decade)\n",
    "    \n",
    "    # do collection\n",
    "    \n",
    "    print(len(decades))\n",
    "    for T, decade in enumerate(decades):\n",
    "        # one time interval at a time\n",
    "        print('Decade {}...'.format(decade))\n",
    "\n",
    "        \n",
    "        ### gabriella changes\n",
    "        ### my coha is organized differently. \n",
    "        ### the decades have random numbers for the alphabet index places , so i have to use regex\n",
    "        ### to ignore that. \n",
    "        print(coha_dir)\n",
    "        print(decade)\n",
    "        my_regex = r'text_' + re.escape(str(decade)) + 's.*'\n",
    "\n",
    "        #print(\"running through decade \", decade)\n",
    "\n",
    "        # iterate through directories\n",
    "        for decade_dir in os.listdir(coha_dir):\n",
    "\n",
    "            if re.match(my_regex, decade_dir):\n",
    "                # get all the text files for that decade\n",
    "                # iterate through text files for this decade\n",
    "                this_decade_files = os.listdir(os.path.join(coha_dir, decade_dir))\n",
    "                for F, filename in enumerate(tqdm(this_decade_files)):\n",
    "                    #print(filename)\n",
    "                    \n",
    "                    with open(os.path.join(coha_dir, decade_dir, filename), 'r') as f:\n",
    "                        lines = f.readlines()\n",
    "                        #print(\"gets here\")\n",
    "\n",
    "                        # get the usages from this file\n",
    "                        for L, line in enumerate(lines):\n",
    "                            #print(\"gets to line: \", L)\n",
    "\n",
    "\n",
    "\n",
    "                            # tokenize line and convert to token ids\n",
    "                            tokens = tokenizer.encode(line)\n",
    "\n",
    "                            for pos, token in enumerate(tokens):\n",
    "                                #print(token)\n",
    "                                # store usage info of target words only\n",
    "                                if token in i2w:\n",
    "                                    context_ids, pos_in_context = get_context(tokens, pos, sequence_length)\n",
    "\n",
    "                                    input_ids = [101] + context_ids + [102]\n",
    "\n",
    "\n",
    "                                    # convert later to save storage space\n",
    "                                    snippet = tokenizer.convert_ids_to_tokens(context_ids)\n",
    "                                    #print(i2w[token])\n",
    "                                    #print(' '.join(snippet))\n",
    "\n",
    "                                    # add usage info to buffers\n",
    "                                    batch_input_ids.append(input_ids)\n",
    "                                    batch_tokens.append(i2w[token])\n",
    "                                    batch_pos.append(pos_in_context)\n",
    "                                    batch_snippets.append(snippet)\n",
    "                                    batch_decades.append(decade)\n",
    "\n",
    "#                                 print(\"batch size \", len(batch_input_ids))\n",
    "#                                 print(\"lines left \", len(lines) - L)\n",
    "#                                 print(\"files left in this decade\" , len(this_decade_files) - F)\n",
    "#                                 print(\"decades left\", len(decades) - T)\n",
    "                                    \n",
    "                                # if the buffers are full...             or if we're at the end of the dataset\n",
    "                                if (len(batch_input_ids) >= buffer_size) or (L == len(lines) - 1 and T == len(decades) - 1 and F==len(this_decade_files)):\n",
    "                                    \n",
    "                                    usage_vectors = get_feature_vectors(\n",
    "                                        model,\n",
    "                                        buchanan,\n",
    "                                        batch_input_ids,\n",
    "                                        batch_tokens,\n",
    "                                        batch_snippets, \n",
    "                                        batch_pos, \n",
    "                                        batch_decades )\n",
    "\n",
    "\n",
    "                                    # store usage tuples in a dictionary: lemma -> (vector, snippet, position, decade)\n",
    "                                    #print(len(batch_input_ids))\n",
    "                                    for b in np.arange(len(batch_input_ids)):\n",
    "                                        #print(usage_vectors.shape)\n",
    "                                        layer_8_bert_vector = usage_vectors[b, batch_pos[b]+1, :] # get the right position\n",
    "                                        \n",
    "                                        word, feature_vector = buchanan.predict_from_single_context_vector(batch_tokens[b], layer_8_bert_vector)\n",
    "                                        \n",
    "                                        usages[batch_tokens[b]].append(\n",
    "                                             (feature_vector, batch_snippets[b], batch_pos[b], batch_decades[b]))\n",
    "                                    \n",
    "#                                     print(usages)\n",
    "                        \n",
    "                                    # finally, empty the batch buffers\n",
    "                                    batch_input_ids, batch_tokens, batch_pos, batch_snippets, batch_decades = [], [], [], [], []\n",
    "                        \n",
    "        print(\"saving usages for decade\")\n",
    "        if os.path.exists(output_path):\n",
    "            append_write = 'ab' # append if already exists\n",
    "        else:\n",
    "            append_write = 'wb' # make a new file if not\n",
    "\n",
    "        # and store data incrementally\n",
    "        if output_path:\n",
    "            #print(append_write)\n",
    "            with open(output_path, append_write) as f:\n",
    "                pickle.dump(usages, file=f)\n",
    "    \n",
    "\n",
    "    return usages\n"
   ]
  },
  {
   "cell_type": "code",
   "execution_count": 39,
   "id": "815298a2",
   "metadata": {},
   "outputs": [
    {
     "name": "stdout",
     "output_type": "stream",
     "text": [
      "10\n"
     ]
    }
   ],
   "source": [
    "# Target words: we want to collect tokens of each of these words from COHA\n",
    "\n",
    "targets = ['net', 'virtual', 'disk', 'card', 'optical', 'virus',\n",
    "           'signal', 'mirror', 'energy', 'compact', 'leaf',\n",
    "           'brick', 'federal', 'sphere', 'coach', 'spine', 'parent', 'sleep']\n",
    "\n",
    "decades = [decade for decade in np.arange(1910, 2009, 10)]\n",
    "print(len(decades))\n",
    "\n",
    "buffer_size=1024\n",
    "sequence_length=128\n",
    "\n",
    "\n",
    "coha_dir = '/home/shared/corpora/Corpus of Historical American English/TEXTS'\n",
    "bert_dir = 'bert-base-uncased'\n",
    "output_dir = '../data/cwr4lsc/feature_prediction'"
   ]
  },
  {
   "cell_type": "code",
   "execution_count": 40,
   "id": "e0889b8d",
   "metadata": {},
   "outputs": [
    {
     "name": "stderr",
     "output_type": "stream",
     "text": [
      "Some weights of the model checkpoint at bert-base-uncased were not used when initializing BertModel: ['cls.predictions.transform.LayerNorm.weight', 'cls.predictions.transform.LayerNorm.bias', 'cls.seq_relationship.bias', 'cls.predictions.transform.dense.weight', 'cls.predictions.transform.dense.bias', 'cls.seq_relationship.weight', 'cls.predictions.bias']\n",
      "- This IS expected if you are initializing BertModel from the checkpoint of a model trained on another task or with another architecture (e.g. initializing a BertForSequenceClassification model from a BertForPreTraining model).\n",
      "- This IS NOT expected if you are initializing BertModel from the checkpoint of a model that you expect to be exactly identical (initializing a BertForSequenceClassification model from a BertForSequenceClassification model).\n"
     ]
    },
    {
     "name": "stdout",
     "output_type": "stream",
     "text": [
      "1\n",
      "Decade 1910...\n",
      "/home/shared/corpora/Corpus of Historical American English/TEXTS\n",
      "1910\n"
     ]
    },
    {
     "name": "stderr",
     "output_type": "stream",
     "text": [
      "  0%|                                                                                                                         | 0/3355 [00:00<?, ?it/s]Token indices sequence length is longer than the specified maximum sequence length for this model (7482 > 512). Running this sequence through the model will result in indexing errors\n",
      "  8%|█████████▍                                                                                                     | 284/3355 [00:18<02:28, 20.69it/s]"
     ]
    },
    {
     "name": "stdout",
     "output_type": "stream",
     "text": [
      "Expected hidden states size: (13, B, |s|, 768). Got (13, 1024, 128, 768)\n"
     ]
    },
    {
     "name": "stderr",
     "output_type": "stream",
     "text": [
      " 18%|████████████████████▍                                                                                          | 616/3355 [00:43<01:15, 36.51it/s]"
     ]
    },
    {
     "name": "stdout",
     "output_type": "stream",
     "text": [
      "Expected hidden states size: (13, B, |s|, 768). Got (13, 1024, 128, 768)\n"
     ]
    },
    {
     "name": "stderr",
     "output_type": "stream",
     "text": [
      " 28%|███████████████████████████████▌                                                                               | 955/3355 [01:09<02:54, 13.78it/s]"
     ]
    },
    {
     "name": "stdout",
     "output_type": "stream",
     "text": [
      "Expected hidden states size: (13, B, |s|, 768). Got (13, 1024, 128, 768)\n"
     ]
    },
    {
     "name": "stderr",
     "output_type": "stream",
     "text": [
      " 36%|███████████████████████████████████████                                                                       | 1193/3355 [01:39<14:42,  2.45it/s]"
     ]
    },
    {
     "name": "stdout",
     "output_type": "stream",
     "text": [
      "Expected hidden states size: (13, B, |s|, 768). Got (13, 1024, 128, 768)\n"
     ]
    },
    {
     "name": "stderr",
     "output_type": "stream",
     "text": [
      " 37%|████████████████████████████████████████▋                                                                     | 1241/3355 [02:04<08:18,  4.24it/s]"
     ]
    },
    {
     "name": "stdout",
     "output_type": "stream",
     "text": [
      "Expected hidden states size: (13, B, |s|, 768). Got (13, 1024, 128, 768)\n"
     ]
    },
    {
     "name": "stderr",
     "output_type": "stream",
     "text": [
      " 39%|██████████████████████████████████████████▍                                                                   | 1294/3355 [02:33<28:06,  1.22it/s]"
     ]
    },
    {
     "name": "stdout",
     "output_type": "stream",
     "text": [
      "Expected hidden states size: (13, B, |s|, 768). Got (13, 1024, 128, 768)\n"
     ]
    },
    {
     "name": "stderr",
     "output_type": "stream",
     "text": [
      " 40%|████████████████████████████████████████████▏                                                                 | 1349/3355 [03:08<15:55,  2.10it/s]"
     ]
    },
    {
     "name": "stdout",
     "output_type": "stream",
     "text": [
      "Expected hidden states size: (13, B, |s|, 768). Got (13, 1024, 128, 768)\n"
     ]
    },
    {
     "name": "stderr",
     "output_type": "stream",
     "text": [
      " 42%|█████████████████████████████████████████████▉                                                                | 1400/3355 [03:41<09:51,  3.31it/s]"
     ]
    },
    {
     "name": "stdout",
     "output_type": "stream",
     "text": [
      "Expected hidden states size: (13, B, |s|, 768). Got (13, 1024, 128, 768)\n"
     ]
    },
    {
     "name": "stderr",
     "output_type": "stream",
     "text": [
      " 44%|███████████████████████████████████████████████▊                                                              | 1460/3355 [04:14<03:51,  8.18it/s]"
     ]
    },
    {
     "name": "stdout",
     "output_type": "stream",
     "text": [
      "Expected hidden states size: (13, B, |s|, 768). Got (13, 1024, 128, 768)\n"
     ]
    },
    {
     "name": "stderr",
     "output_type": "stream",
     "text": [
      " 45%|█████████████████████████████████████████████████▊                                                            | 1520/3355 [04:48<34:47,  1.14s/it]"
     ]
    },
    {
     "name": "stdout",
     "output_type": "stream",
     "text": [
      "Expected hidden states size: (13, B, |s|, 768). Got (13, 1024, 128, 768)\n"
     ]
    },
    {
     "name": "stderr",
     "output_type": "stream",
     "text": [
      " 47%|███████████████████████████████████████████████████▌                                                          | 1571/3355 [05:17<11:41,  2.54it/s]"
     ]
    },
    {
     "name": "stdout",
     "output_type": "stream",
     "text": [
      "Expected hidden states size: (13, B, |s|, 768). Got (13, 1024, 128, 768)\n"
     ]
    },
    {
     "name": "stderr",
     "output_type": "stream",
     "text": [
      "100%|██████████████████████████████████████████████████████████████████████████████████████████████████████████████| 3355/3355 [05:45<00:00,  9.71it/s]\n"
     ]
    },
    {
     "name": "stdout",
     "output_type": "stream",
     "text": [
      "saving usages for decade\n"
     ]
    },
    {
     "name": "stderr",
     "output_type": "stream",
     "text": [
      "Some weights of the model checkpoint at bert-base-uncased were not used when initializing BertModel: ['cls.predictions.transform.LayerNorm.weight', 'cls.predictions.transform.LayerNorm.bias', 'cls.seq_relationship.bias', 'cls.predictions.transform.dense.weight', 'cls.predictions.transform.dense.bias', 'cls.seq_relationship.weight', 'cls.predictions.bias']\n",
      "- This IS expected if you are initializing BertModel from the checkpoint of a model trained on another task or with another architecture (e.g. initializing a BertForSequenceClassification model from a BertForPreTraining model).\n",
      "- This IS NOT expected if you are initializing BertModel from the checkpoint of a model that you expect to be exactly identical (initializing a BertForSequenceClassification model from a BertForSequenceClassification model).\n",
      "/home/gsc685/.conda/envs/gabriella_cwr4lsc/lib/python3.10/site-packages/sklearn/base.py:318: UserWarning: Trying to unpickle estimator PLSRegression from version 1.1.3 when using version 1.2.2. This might lead to breaking code or invalid results. Use at your own risk. For more info please refer to:\n",
      "https://scikit-learn.org/stable/model_persistence.html#security-maintainability-limitations\n",
      "  warnings.warn(\n"
     ]
    },
    {
     "name": "stdout",
     "output_type": "stream",
     "text": [
      "1\n",
      "Decade 1920...\n",
      "/home/shared/corpora/Corpus of Historical American English/TEXTS\n",
      "1920\n"
     ]
    },
    {
     "name": "stderr",
     "output_type": "stream",
     "text": [
      "  0%|                                                                                                                        | 0/11557 [00:00<?, ?it/s]Token indices sequence length is longer than the specified maximum sequence length for this model (5408 > 512). Running this sequence through the model will result in indexing errors\n",
      " 14%|███████████████▎                                                                                            | 1639/11557 [00:23<01:31, 108.14it/s]"
     ]
    },
    {
     "name": "stdout",
     "output_type": "stream",
     "text": [
      "Expected hidden states size: (13, B, |s|, 768). Got (13, 1024, 128, 768)\n"
     ]
    },
    {
     "name": "stderr",
     "output_type": "stream",
     "text": [
      " 28%|██████████████████████████████▋                                                                             | 3278/11557 [00:52<00:40, 206.01it/s]"
     ]
    },
    {
     "name": "stdout",
     "output_type": "stream",
     "text": [
      "Expected hidden states size: (13, B, |s|, 768). Got (13, 1024, 128, 768)\n"
     ]
    },
    {
     "name": "stderr",
     "output_type": "stream",
     "text": [
      " 51%|███████████████████████████████████████████████████████▉                                                     | 5936/11557 [01:21<03:11, 29.29it/s]"
     ]
    },
    {
     "name": "stdout",
     "output_type": "stream",
     "text": [
      "Expected hidden states size: (13, B, |s|, 768). Got (13, 1024, 128, 768)\n"
     ]
    },
    {
     "name": "stderr",
     "output_type": "stream",
     "text": [
      " 63%|████████████████████████████████████████████████████████████████████▍                                        | 7258/11557 [01:47<09:15,  7.74it/s]"
     ]
    },
    {
     "name": "stdout",
     "output_type": "stream",
     "text": [
      "Expected hidden states size: (13, B, |s|, 768). Got (13, 1024, 128, 768)\n"
     ]
    },
    {
     "name": "stderr",
     "output_type": "stream",
     "text": [
      " 64%|█████████████████████████████████████████████████████████████████████▌                                       | 7372/11557 [02:19<34:08,  2.04it/s]"
     ]
    },
    {
     "name": "stdout",
     "output_type": "stream",
     "text": [
      "Expected hidden states size: (13, B, |s|, 768). Got (13, 1024, 128, 768)\n"
     ]
    },
    {
     "name": "stderr",
     "output_type": "stream",
     "text": [
      " 64%|█████████████████████████████████████████████████████████████████████▉                                       | 7412/11557 [02:52<45:10,  1.53it/s]"
     ]
    },
    {
     "name": "stdout",
     "output_type": "stream",
     "text": [
      "Expected hidden states size: (13, B, |s|, 768). Got (13, 1024, 128, 768)\n"
     ]
    },
    {
     "name": "stderr",
     "output_type": "stream",
     "text": [
      " 64%|██████████████████████████████████████████████████████████████████████▏                                      | 7445/11557 [03:19<19:57,  3.43it/s]"
     ]
    },
    {
     "name": "stdout",
     "output_type": "stream",
     "text": [
      "Expected hidden states size: (13, B, |s|, 768). Got (13, 1024, 128, 768)\n"
     ]
    },
    {
     "name": "stderr",
     "output_type": "stream",
     "text": [
      " 65%|██████████████████████████████████████████████████████████████████████▋                                      | 7494/11557 [03:46<42:17,  1.60it/s]"
     ]
    },
    {
     "name": "stdout",
     "output_type": "stream",
     "text": [
      "Expected hidden states size: (13, B, |s|, 768). Got (13, 1024, 128, 768)\n"
     ]
    },
    {
     "name": "stderr",
     "output_type": "stream",
     "text": [
      " 65%|███████████████████████████████████████████████████████████████████████                                      | 7539/11557 [04:18<38:01,  1.76it/s]"
     ]
    },
    {
     "name": "stdout",
     "output_type": "stream",
     "text": [
      "Expected hidden states size: (13, B, |s|, 768). Got (13, 1024, 128, 768)\n"
     ]
    },
    {
     "name": "stderr",
     "output_type": "stream",
     "text": [
      " 66%|███████████████████████████████████████████████████████████████████████▌                                     | 7592/11557 [04:52<50:12,  1.32it/s]"
     ]
    },
    {
     "name": "stdout",
     "output_type": "stream",
     "text": [
      "Expected hidden states size: (13, B, |s|, 768). Got (13, 1024, 128, 768)\n"
     ]
    },
    {
     "name": "stderr",
     "output_type": "stream",
     "text": [
      " 66%|████████████████████████████████████████████████████████████████████████▍                                    | 7674/11557 [05:22<18:16,  3.54it/s]"
     ]
    },
    {
     "name": "stdout",
     "output_type": "stream",
     "text": [
      "Expected hidden states size: (13, B, |s|, 768). Got (13, 1024, 128, 768)\n"
     ]
    },
    {
     "name": "stderr",
     "output_type": "stream",
     "text": [
      " 68%|█████████████████████████████████████████████████████████████████████████▌                                   | 7805/11557 [05:45<02:49, 22.13it/s]"
     ]
    },
    {
     "name": "stdout",
     "output_type": "stream",
     "text": [
      "Expected hidden states size: (13, B, |s|, 768). Got (13, 1024, 128, 768)\n"
     ]
    },
    {
     "name": "stderr",
     "output_type": "stream",
     "text": [
      " 81%|███████████████████████████████████████████████████████████████████████████████████████▌                    | 9373/11557 [06:09<00:20, 104.08it/s]"
     ]
    },
    {
     "name": "stdout",
     "output_type": "stream",
     "text": [
      "Expected hidden states size: (13, B, |s|, 768). Got (13, 1024, 128, 768)\n"
     ]
    },
    {
     "name": "stderr",
     "output_type": "stream",
     "text": [
      " 95%|██████████████████████████████████████████████████████████████████████████████████████████████████████      | 10922/11557 [06:33<00:06, 96.62it/s]"
     ]
    },
    {
     "name": "stdout",
     "output_type": "stream",
     "text": [
      "Expected hidden states size: (13, B, |s|, 768). Got (13, 1024, 128, 768)\n"
     ]
    },
    {
     "name": "stderr",
     "output_type": "stream",
     "text": [
      "100%|████████████████████████████████████████████████████████████████████████████████████████████████████████████| 11557/11557 [06:46<00:00, 28.41it/s]\n"
     ]
    },
    {
     "name": "stdout",
     "output_type": "stream",
     "text": [
      "saving usages for decade\n"
     ]
    },
    {
     "name": "stderr",
     "output_type": "stream",
     "text": [
      "Some weights of the model checkpoint at bert-base-uncased were not used when initializing BertModel: ['cls.predictions.transform.LayerNorm.weight', 'cls.predictions.transform.LayerNorm.bias', 'cls.seq_relationship.bias', 'cls.predictions.transform.dense.weight', 'cls.predictions.transform.dense.bias', 'cls.seq_relationship.weight', 'cls.predictions.bias']\n",
      "- This IS expected if you are initializing BertModel from the checkpoint of a model trained on another task or with another architecture (e.g. initializing a BertForSequenceClassification model from a BertForPreTraining model).\n",
      "- This IS NOT expected if you are initializing BertModel from the checkpoint of a model that you expect to be exactly identical (initializing a BertForSequenceClassification model from a BertForSequenceClassification model).\n",
      "/home/gsc685/.conda/envs/gabriella_cwr4lsc/lib/python3.10/site-packages/sklearn/base.py:318: UserWarning: Trying to unpickle estimator PLSRegression from version 1.1.3 when using version 1.2.2. This might lead to breaking code or invalid results. Use at your own risk. For more info please refer to:\n",
      "https://scikit-learn.org/stable/model_persistence.html#security-maintainability-limitations\n",
      "  warnings.warn(\n"
     ]
    },
    {
     "name": "stdout",
     "output_type": "stream",
     "text": [
      "1\n",
      "Decade 1930...\n",
      "/home/shared/corpora/Corpus of Historical American English/TEXTS\n",
      "1930\n"
     ]
    },
    {
     "name": "stderr",
     "output_type": "stream",
     "text": [
      "  0%|                                                                                                                        | 0/10352 [00:00<?, ?it/s]Token indices sequence length is longer than the specified maximum sequence length for this model (516 > 512). Running this sequence through the model will result in indexing errors\n",
      " 10%|██████████▌                                                                                                   | 996/10352 [00:20<06:30, 23.94it/s]"
     ]
    },
    {
     "name": "stdout",
     "output_type": "stream",
     "text": [
      "Expected hidden states size: (13, B, |s|, 768). Got (13, 1024, 128, 768)\n"
     ]
    },
    {
     "name": "stderr",
     "output_type": "stream",
     "text": [
      " 17%|██████████████████▋                                                                                          | 1776/10352 [00:41<05:26, 26.29it/s]"
     ]
    },
    {
     "name": "stdout",
     "output_type": "stream",
     "text": [
      "Expected hidden states size: (13, B, |s|, 768). Got (13, 1024, 128, 768)\n"
     ]
    },
    {
     "name": "stderr",
     "output_type": "stream",
     "text": [
      " 30%|█████████████████████████████████▏                                                                           | 3149/10352 [01:06<05:19, 22.57it/s]"
     ]
    },
    {
     "name": "stdout",
     "output_type": "stream",
     "text": [
      "Expected hidden states size: (13, B, |s|, 768). Got (13, 1024, 128, 768)\n"
     ]
    },
    {
     "name": "stderr",
     "output_type": "stream",
     "text": [
      " 51%|██████████████████████████████████████████████████████▊                                                     | 5259/10352 [01:30<00:25, 197.91it/s]"
     ]
    },
    {
     "name": "stdout",
     "output_type": "stream",
     "text": [
      "Expected hidden states size: (13, B, |s|, 768). Got (13, 1024, 128, 768)\n"
     ]
    },
    {
     "name": "stderr",
     "output_type": "stream",
     "text": [
      " 56%|████████████████████████████████████████████████████████████▋                                                | 5761/10352 [01:56<21:04,  3.63it/s]"
     ]
    },
    {
     "name": "stdout",
     "output_type": "stream",
     "text": [
      "Expected hidden states size: (13, B, |s|, 768). Got (13, 1024, 128, 768)\n"
     ]
    },
    {
     "name": "stderr",
     "output_type": "stream",
     "text": [
      " 57%|█████████████████████████████████████████████████████████████▊                                               | 5873/10352 [02:25<26:30,  2.82it/s]"
     ]
    },
    {
     "name": "stdout",
     "output_type": "stream",
     "text": [
      "Expected hidden states size: (13, B, |s|, 768). Got (13, 1024, 128, 768)\n"
     ]
    },
    {
     "name": "stderr",
     "output_type": "stream",
     "text": [
      " 58%|██████████████████████████████████████████████████████████████▋                                              | 5959/10352 [02:56<26:22,  2.78it/s]"
     ]
    },
    {
     "name": "stdout",
     "output_type": "stream",
     "text": [
      "Expected hidden states size: (13, B, |s|, 768). Got (13, 1024, 128, 768)\n"
     ]
    },
    {
     "name": "stderr",
     "output_type": "stream",
     "text": [
      " 58%|███████████████████████████████████████████████████████████████▎                                             | 6018/10352 [03:24<37:53,  1.91it/s]"
     ]
    },
    {
     "name": "stdout",
     "output_type": "stream",
     "text": [
      "Expected hidden states size: (13, B, |s|, 768). Got (13, 1024, 128, 768)\n"
     ]
    },
    {
     "name": "stderr",
     "output_type": "stream",
     "text": [
      " 59%|████████████████████████████████████████████████████████████████▎                                            | 6108/10352 [03:53<14:51,  4.76it/s]"
     ]
    },
    {
     "name": "stdout",
     "output_type": "stream",
     "text": [
      "Expected hidden states size: (13, B, |s|, 768). Got (13, 1024, 128, 768)\n"
     ]
    },
    {
     "name": "stderr",
     "output_type": "stream",
     "text": [
      " 60%|█████████████████████████████████████████████████████████████████▏                                           | 6192/10352 [04:22<27:38,  2.51it/s]"
     ]
    },
    {
     "name": "stdout",
     "output_type": "stream",
     "text": [
      "Expected hidden states size: (13, B, |s|, 768). Got (13, 1024, 128, 768)\n"
     ]
    },
    {
     "name": "stderr",
     "output_type": "stream",
     "text": [
      " 60%|█████████████████████████████████████████████████████████████████▊                                           | 6245/10352 [04:40<28:49,  2.37it/s]"
     ]
    },
    {
     "name": "stdout",
     "output_type": "stream",
     "text": [
      "Expected hidden states size: (13, B, |s|, 768). Got (13, 1024, 128, 768)\n"
     ]
    },
    {
     "name": "stderr",
     "output_type": "stream",
     "text": [
      " 61%|██████████████████████████████████████████████████████████████████▎                                          | 6298/10352 [05:06<22:20,  3.02it/s]"
     ]
    },
    {
     "name": "stdout",
     "output_type": "stream",
     "text": [
      "Expected hidden states size: (13, B, |s|, 768). Got (13, 1024, 128, 768)\n"
     ]
    },
    {
     "name": "stderr",
     "output_type": "stream",
     "text": [
      " 62%|███████████████████████████████████████████████████████████████████▉                                         | 6453/10352 [05:31<09:17,  7.00it/s]"
     ]
    },
    {
     "name": "stdout",
     "output_type": "stream",
     "text": [
      "Expected hidden states size: (13, B, |s|, 768). Got (13, 1024, 128, 768)\n"
     ]
    },
    {
     "name": "stderr",
     "output_type": "stream",
     "text": [
      " 69%|███████████████████████████████████████████████████████████████████████████                                 | 7194/10352 [05:56<00:27, 112.85it/s]"
     ]
    },
    {
     "name": "stdout",
     "output_type": "stream",
     "text": [
      "Expected hidden states size: (13, B, |s|, 768). Got (13, 1024, 128, 768)\n"
     ]
    },
    {
     "name": "stderr",
     "output_type": "stream",
     "text": [
      " 80%|██████████████████████████████████████████████████████████████████████████████████████▏                     | 8262/10352 [06:14<00:20, 101.71it/s]"
     ]
    },
    {
     "name": "stdout",
     "output_type": "stream",
     "text": [
      "Expected hidden states size: (13, B, |s|, 768). Got (13, 1024, 128, 768)\n"
     ]
    },
    {
     "name": "stderr",
     "output_type": "stream",
     "text": [
      " 88%|███████████████████████████████████████████████████████████████████████████████████████████████▍            | 9144/10352 [06:31<00:10, 116.12it/s]"
     ]
    },
    {
     "name": "stdout",
     "output_type": "stream",
     "text": [
      "Expected hidden states size: (13, B, |s|, 768). Got (13, 1024, 128, 768)\n"
     ]
    },
    {
     "name": "stderr",
     "output_type": "stream",
     "text": [
      " 99%|███████████████████████████████████████████████████████████████████████████████████████████████████████████▏| 10279/10352 [06:51<00:01, 71.73it/s]"
     ]
    },
    {
     "name": "stdout",
     "output_type": "stream",
     "text": [
      "Expected hidden states size: (13, B, |s|, 768). Got (13, 1024, 128, 768)\n"
     ]
    },
    {
     "name": "stderr",
     "output_type": "stream",
     "text": [
      "100%|████████████████████████████████████████████████████████████████████████████████████████████████████████████| 10352/10352 [06:59<00:00, 24.69it/s]\n"
     ]
    },
    {
     "name": "stdout",
     "output_type": "stream",
     "text": [
      "saving usages for decade\n"
     ]
    },
    {
     "name": "stderr",
     "output_type": "stream",
     "text": [
      "Some weights of the model checkpoint at bert-base-uncased were not used when initializing BertModel: ['cls.predictions.transform.LayerNorm.weight', 'cls.predictions.transform.LayerNorm.bias', 'cls.seq_relationship.bias', 'cls.predictions.transform.dense.weight', 'cls.predictions.transform.dense.bias', 'cls.seq_relationship.weight', 'cls.predictions.bias']\n",
      "- This IS expected if you are initializing BertModel from the checkpoint of a model trained on another task or with another architecture (e.g. initializing a BertForSequenceClassification model from a BertForPreTraining model).\n",
      "- This IS NOT expected if you are initializing BertModel from the checkpoint of a model that you expect to be exactly identical (initializing a BertForSequenceClassification model from a BertForSequenceClassification model).\n",
      "/home/gsc685/.conda/envs/gabriella_cwr4lsc/lib/python3.10/site-packages/sklearn/base.py:318: UserWarning: Trying to unpickle estimator PLSRegression from version 1.1.3 when using version 1.2.2. This might lead to breaking code or invalid results. Use at your own risk. For more info please refer to:\n",
      "https://scikit-learn.org/stable/model_persistence.html#security-maintainability-limitations\n",
      "  warnings.warn(\n"
     ]
    },
    {
     "name": "stdout",
     "output_type": "stream",
     "text": [
      "1\n",
      "Decade 1940...\n",
      "/home/shared/corpora/Corpus of Historical American English/TEXTS\n",
      "1940\n"
     ]
    },
    {
     "name": "stderr",
     "output_type": "stream",
     "text": [
      "  0%|                                                                                                                        | 0/11343 [00:00<?, ?it/s]Token indices sequence length is longer than the specified maximum sequence length for this model (768 > 512). Running this sequence through the model will result in indexing errors\n",
      " 17%|██████████████████▍                                                                                          | 1925/11343 [00:20<03:25, 45.87it/s]"
     ]
    },
    {
     "name": "stdout",
     "output_type": "stream",
     "text": [
      "Expected hidden states size: (13, B, |s|, 768). Got (13, 1024, 128, 768)\n"
     ]
    },
    {
     "name": "stderr",
     "output_type": "stream",
     "text": [
      " 35%|██████████████████████████████████████▌                                                                      | 4015/11343 [00:51<01:34, 77.55it/s]"
     ]
    },
    {
     "name": "stdout",
     "output_type": "stream",
     "text": [
      "Expected hidden states size: (13, B, |s|, 768). Got (13, 1024, 128, 768)\n"
     ]
    },
    {
     "name": "stderr",
     "output_type": "stream",
     "text": [
      " 51%|███████████████████████████████████████████████████████▍                                                     | 5770/11343 [01:18<01:11, 77.82it/s]"
     ]
    },
    {
     "name": "stdout",
     "output_type": "stream",
     "text": [
      "Expected hidden states size: (13, B, |s|, 768). Got (13, 1024, 128, 768)\n"
     ]
    },
    {
     "name": "stderr",
     "output_type": "stream",
     "text": [
      " 61%|██████████████████████████████████████████████████████████████████▏                                          | 6893/11343 [01:42<13:25,  5.53it/s]"
     ]
    },
    {
     "name": "stdout",
     "output_type": "stream",
     "text": [
      "Expected hidden states size: (13, B, |s|, 768). Got (13, 1024, 128, 768)\n"
     ]
    },
    {
     "name": "stderr",
     "output_type": "stream",
     "text": [
      " 62%|███████████████████████████████████████████████████████████████████▍                                         | 7013/11343 [02:11<19:40,  3.67it/s]"
     ]
    },
    {
     "name": "stdout",
     "output_type": "stream",
     "text": [
      "Expected hidden states size: (13, B, |s|, 768). Got (13, 1024, 128, 768)\n"
     ]
    },
    {
     "name": "stderr",
     "output_type": "stream",
     "text": [
      " 62%|███████████████████████████████████████████████████████████████████▉                                         | 7068/11343 [02:37<15:47,  4.51it/s]"
     ]
    },
    {
     "name": "stdout",
     "output_type": "stream",
     "text": [
      "Expected hidden states size: (13, B, |s|, 768). Got (13, 1024, 128, 768)\n"
     ]
    },
    {
     "name": "stderr",
     "output_type": "stream",
     "text": [
      " 63%|████████████████████████████████████████████████████████████████████▋                                        | 7146/11343 [03:04<31:58,  2.19it/s]"
     ]
    },
    {
     "name": "stdout",
     "output_type": "stream",
     "text": [
      "Expected hidden states size: (13, B, |s|, 768). Got (13, 1024, 128, 768)\n"
     ]
    },
    {
     "name": "stderr",
     "output_type": "stream",
     "text": [
      " 63%|█████████████████████████████████████████████████████████████████████                                        | 7185/11343 [03:31<38:48,  1.79it/s]"
     ]
    },
    {
     "name": "stdout",
     "output_type": "stream",
     "text": [
      "Expected hidden states size: (13, B, |s|, 768). Got (13, 1024, 128, 768)\n"
     ]
    },
    {
     "name": "stderr",
     "output_type": "stream",
     "text": [
      " 64%|█████████████████████████████████████████████████████████████████████▋                                       | 7251/11343 [03:57<16:06,  4.24it/s]"
     ]
    },
    {
     "name": "stdout",
     "output_type": "stream",
     "text": [
      "Expected hidden states size: (13, B, |s|, 768). Got (13, 1024, 128, 768)\n"
     ]
    },
    {
     "name": "stderr",
     "output_type": "stream",
     "text": [
      " 65%|██████████████████████████████████████████████████████████████████████▎                                      | 7317/11343 [04:27<48:55,  1.37it/s]"
     ]
    },
    {
     "name": "stdout",
     "output_type": "stream",
     "text": [
      "Expected hidden states size: (13, B, |s|, 768). Got (13, 1024, 128, 768)\n"
     ]
    },
    {
     "name": "stderr",
     "output_type": "stream",
     "text": [
      " 65%|██████████████████████████████████████████████████████████████████████▊                                      | 7369/11343 [04:52<24:56,  2.66it/s]"
     ]
    },
    {
     "name": "stdout",
     "output_type": "stream",
     "text": [
      "Expected hidden states size: (13, B, |s|, 768). Got (13, 1024, 128, 768)\n"
     ]
    },
    {
     "name": "stderr",
     "output_type": "stream",
     "text": [
      " 66%|███████████████████████████████████████████████████████████████████████▌                                     | 7453/11343 [05:13<28:25,  2.28it/s]"
     ]
    },
    {
     "name": "stdout",
     "output_type": "stream",
     "text": [
      "Expected hidden states size: (13, B, |s|, 768). Got (13, 1024, 128, 768)\n"
     ]
    },
    {
     "name": "stderr",
     "output_type": "stream",
     "text": [
      " 66%|███████████████████████████████████████████████████████████████████████▉                                     | 7484/11343 [05:33<25:58,  2.48it/s]"
     ]
    },
    {
     "name": "stdout",
     "output_type": "stream",
     "text": [
      "Expected hidden states size: (13, B, |s|, 768). Got (13, 1024, 128, 768)\n"
     ]
    },
    {
     "name": "stderr",
     "output_type": "stream",
     "text": [
      " 76%|██████████████████████████████████████████████████████████████████████████████████▎                         | 8641/11343 [05:59<00:23, 114.19it/s]"
     ]
    },
    {
     "name": "stdout",
     "output_type": "stream",
     "text": [
      "Expected hidden states size: (13, B, |s|, 768). Got (13, 1024, 128, 768)\n"
     ]
    },
    {
     "name": "stderr",
     "output_type": "stream",
     "text": [
      " 88%|███████████████████████████████████████████████████████████████████████████████████████████████▎            | 10012/11343 [06:21<00:16, 82.01it/s]"
     ]
    },
    {
     "name": "stdout",
     "output_type": "stream",
     "text": [
      "Expected hidden states size: (13, B, |s|, 768). Got (13, 1024, 128, 768)\n"
     ]
    },
    {
     "name": "stderr",
     "output_type": "stream",
     "text": [
      "100%|████████████████████████████████████████████████████████████████████████████████████████████████████████████| 11343/11343 [06:43<00:00, 28.08it/s]\n"
     ]
    },
    {
     "name": "stdout",
     "output_type": "stream",
     "text": [
      "saving usages for decade\n"
     ]
    },
    {
     "name": "stderr",
     "output_type": "stream",
     "text": [
      "Some weights of the model checkpoint at bert-base-uncased were not used when initializing BertModel: ['cls.predictions.transform.LayerNorm.weight', 'cls.predictions.transform.LayerNorm.bias', 'cls.seq_relationship.bias', 'cls.predictions.transform.dense.weight', 'cls.predictions.transform.dense.bias', 'cls.seq_relationship.weight', 'cls.predictions.bias']\n",
      "- This IS expected if you are initializing BertModel from the checkpoint of a model trained on another task or with another architecture (e.g. initializing a BertForSequenceClassification model from a BertForPreTraining model).\n",
      "- This IS NOT expected if you are initializing BertModel from the checkpoint of a model that you expect to be exactly identical (initializing a BertForSequenceClassification model from a BertForSequenceClassification model).\n",
      "/home/gsc685/.conda/envs/gabriella_cwr4lsc/lib/python3.10/site-packages/sklearn/base.py:318: UserWarning: Trying to unpickle estimator PLSRegression from version 1.1.3 when using version 1.2.2. This might lead to breaking code or invalid results. Use at your own risk. For more info please refer to:\n",
      "https://scikit-learn.org/stable/model_persistence.html#security-maintainability-limitations\n",
      "  warnings.warn(\n"
     ]
    },
    {
     "name": "stdout",
     "output_type": "stream",
     "text": [
      "1\n",
      "Decade 1950...\n",
      "/home/shared/corpora/Corpus of Historical American English/TEXTS\n",
      "1950\n"
     ]
    },
    {
     "name": "stderr",
     "output_type": "stream",
     "text": [
      "  0%|                                                                                                                        | 0/11935 [00:00<?, ?it/s]Token indices sequence length is longer than the specified maximum sequence length for this model (603 > 512). Running this sequence through the model will result in indexing errors\n",
      " 14%|███████████████▋                                                                                             | 1722/11935 [00:18<06:35, 25.79it/s]"
     ]
    },
    {
     "name": "stdout",
     "output_type": "stream",
     "text": [
      "Expected hidden states size: (13, B, |s|, 768). Got (13, 1024, 128, 768)\n"
     ]
    },
    {
     "name": "stderr",
     "output_type": "stream",
     "text": [
      " 26%|████████████████████████████▎                                                                               | 3123/11935 [00:42<00:56, 156.13it/s]"
     ]
    },
    {
     "name": "stdout",
     "output_type": "stream",
     "text": [
      "Expected hidden states size: (13, B, |s|, 768). Got (13, 1024, 128, 768)\n"
     ]
    },
    {
     "name": "stderr",
     "output_type": "stream",
     "text": [
      " 42%|█████████████████████████████████████████████▎                                                              | 5002/11935 [01:06<00:44, 154.48it/s]"
     ]
    },
    {
     "name": "stdout",
     "output_type": "stream",
     "text": [
      "Expected hidden states size: (13, B, |s|, 768). Got (13, 1024, 128, 768)\n"
     ]
    },
    {
     "name": "stderr",
     "output_type": "stream",
     "text": [
      " 57%|█████████████████████████████████████████████████████████████                                               | 6749/11935 [01:31<00:50, 102.05it/s]"
     ]
    },
    {
     "name": "stdout",
     "output_type": "stream",
     "text": [
      "Expected hidden states size: (13, B, |s|, 768). Got (13, 1024, 128, 768)\n"
     ]
    },
    {
     "name": "stderr",
     "output_type": "stream",
     "text": [
      " 62%|███████████████████████████████████████████████████████████████████▍                                         | 7379/11935 [01:54<12:48,  5.92it/s]"
     ]
    },
    {
     "name": "stdout",
     "output_type": "stream",
     "text": [
      "Expected hidden states size: (13, B, |s|, 768). Got (13, 1024, 128, 768)\n"
     ]
    },
    {
     "name": "stderr",
     "output_type": "stream",
     "text": [
      " 62%|████████████████████████████████████████████████████████████████████                                         | 7454/11935 [02:25<05:12, 14.36it/s]"
     ]
    },
    {
     "name": "stdout",
     "output_type": "stream",
     "text": [
      "Expected hidden states size: (13, B, |s|, 768). Got (13, 1024, 128, 768)\n"
     ]
    },
    {
     "name": "stderr",
     "output_type": "stream",
     "text": [
      " 63%|████████████████████████████████████████████████████████████████████▊                                        | 7534/11935 [02:54<40:19,  1.82it/s]"
     ]
    },
    {
     "name": "stdout",
     "output_type": "stream",
     "text": [
      "Expected hidden states size: (13, B, |s|, 768). Got (13, 1024, 128, 768)\n"
     ]
    },
    {
     "name": "stderr",
     "output_type": "stream",
     "text": [
      " 64%|█████████████████████████████████████████████████████████████████████▋                                       | 7624/11935 [03:21<04:59, 14.42it/s]"
     ]
    },
    {
     "name": "stdout",
     "output_type": "stream",
     "text": [
      "Expected hidden states size: (13, B, |s|, 768). Got (13, 1024, 128, 768)\n"
     ]
    },
    {
     "name": "stderr",
     "output_type": "stream",
     "text": [
      " 64%|██████████████████████████████████████████████████████████████████████▏                                      | 7683/11935 [03:47<15:55,  4.45it/s]"
     ]
    },
    {
     "name": "stdout",
     "output_type": "stream",
     "text": [
      "Expected hidden states size: (13, B, |s|, 768). Got (13, 1024, 128, 768)\n"
     ]
    },
    {
     "name": "stderr",
     "output_type": "stream",
     "text": [
      " 65%|██████████████████████████████████████████████████████████████████████▌                                      | 7733/11935 [04:14<47:23,  1.48it/s]"
     ]
    },
    {
     "name": "stdout",
     "output_type": "stream",
     "text": [
      "Expected hidden states size: (13, B, |s|, 768). Got (13, 1024, 128, 768)\n"
     ]
    },
    {
     "name": "stderr",
     "output_type": "stream",
     "text": [
      " 65%|██████████████████████████████████████████████████████████████████████▉                                      | 7770/11935 [04:37<24:42,  2.81it/s]"
     ]
    },
    {
     "name": "stdout",
     "output_type": "stream",
     "text": [
      "Expected hidden states size: (13, B, |s|, 768). Got (13, 1024, 128, 768)\n"
     ]
    },
    {
     "name": "stderr",
     "output_type": "stream",
     "text": [
      " 66%|███████████████████████████████████████████████████████████████████████▌                                     | 7832/11935 [05:03<04:40, 14.62it/s]"
     ]
    },
    {
     "name": "stdout",
     "output_type": "stream",
     "text": [
      "Expected hidden states size: (13, B, |s|, 768). Got (13, 1024, 128, 768)\n"
     ]
    },
    {
     "name": "stderr",
     "output_type": "stream",
     "text": [
      " 67%|████████████████████████████████████████████████████████████████████████▌                                    | 7952/11935 [05:28<07:21,  9.03it/s]"
     ]
    },
    {
     "name": "stdout",
     "output_type": "stream",
     "text": [
      "Expected hidden states size: (13, B, |s|, 768). Got (13, 1024, 128, 768)\n"
     ]
    },
    {
     "name": "stderr",
     "output_type": "stream",
     "text": [
      " 68%|██████████████████████████████████████████████████████████████████████████                                   | 8111/11935 [05:54<01:44, 36.56it/s]"
     ]
    },
    {
     "name": "stdout",
     "output_type": "stream",
     "text": [
      "Expected hidden states size: (13, B, |s|, 768). Got (13, 1024, 128, 768)\n"
     ]
    },
    {
     "name": "stderr",
     "output_type": "stream",
     "text": [
      " 80%|███████████████████████████████████████████████████████████████████████████████████████▏                     | 9544/11935 [06:15<00:24, 97.88it/s]"
     ]
    },
    {
     "name": "stdout",
     "output_type": "stream",
     "text": [
      "Expected hidden states size: (13, B, |s|, 768). Got (13, 1024, 128, 768)\n"
     ]
    },
    {
     "name": "stderr",
     "output_type": "stream",
     "text": [
      " 90%|████████████████████████████████████████████████████████████████████████████████████████████████▍          | 10762/11935 [06:36<00:10, 109.26it/s]"
     ]
    },
    {
     "name": "stdout",
     "output_type": "stream",
     "text": [
      "Expected hidden states size: (13, B, |s|, 768). Got (13, 1024, 128, 768)\n"
     ]
    },
    {
     "name": "stderr",
     "output_type": "stream",
     "text": [
      " 99%|██████████████████████████████████████████████████████████████████████████████████████████████████████████▋ | 11786/11935 [06:53<00:01, 91.36it/s]"
     ]
    },
    {
     "name": "stdout",
     "output_type": "stream",
     "text": [
      "Expected hidden states size: (13, B, |s|, 768). Got (13, 1024, 128, 768)\n"
     ]
    },
    {
     "name": "stderr",
     "output_type": "stream",
     "text": [
      "100%|████████████████████████████████████████████████████████████████████████████████████████████████████████████| 11935/11935 [07:02<00:00, 28.26it/s]\n"
     ]
    },
    {
     "name": "stdout",
     "output_type": "stream",
     "text": [
      "saving usages for decade\n"
     ]
    },
    {
     "name": "stderr",
     "output_type": "stream",
     "text": [
      "Some weights of the model checkpoint at bert-base-uncased were not used when initializing BertModel: ['cls.predictions.transform.LayerNorm.weight', 'cls.predictions.transform.LayerNorm.bias', 'cls.seq_relationship.bias', 'cls.predictions.transform.dense.weight', 'cls.predictions.transform.dense.bias', 'cls.seq_relationship.weight', 'cls.predictions.bias']\n",
      "- This IS expected if you are initializing BertModel from the checkpoint of a model trained on another task or with another architecture (e.g. initializing a BertForSequenceClassification model from a BertForPreTraining model).\n",
      "- This IS NOT expected if you are initializing BertModel from the checkpoint of a model that you expect to be exactly identical (initializing a BertForSequenceClassification model from a BertForSequenceClassification model).\n",
      "/home/gsc685/.conda/envs/gabriella_cwr4lsc/lib/python3.10/site-packages/sklearn/base.py:318: UserWarning: Trying to unpickle estimator PLSRegression from version 1.1.3 when using version 1.2.2. This might lead to breaking code or invalid results. Use at your own risk. For more info please refer to:\n",
      "https://scikit-learn.org/stable/model_persistence.html#security-maintainability-limitations\n",
      "  warnings.warn(\n"
     ]
    },
    {
     "name": "stdout",
     "output_type": "stream",
     "text": [
      "1\n",
      "Decade 1960...\n",
      "/home/shared/corpora/Corpus of Historical American English/TEXTS\n",
      "1960\n"
     ]
    },
    {
     "name": "stderr",
     "output_type": "stream",
     "text": [
      "  0%|                                                                                                                        | 0/10113 [00:00<?, ?it/s]Token indices sequence length is longer than the specified maximum sequence length for this model (693 > 512). Running this sequence through the model will result in indexing errors\n",
      " 15%|███████████████▉                                                                                             | 1484/10113 [00:19<01:46, 81.25it/s]"
     ]
    },
    {
     "name": "stdout",
     "output_type": "stream",
     "text": [
      "Expected hidden states size: (13, B, |s|, 768). Got (13, 1024, 128, 768)\n"
     ]
    },
    {
     "name": "stderr",
     "output_type": "stream",
     "text": [
      " 29%|███████████████████████████████▋                                                                             | 2940/10113 [00:44<06:15, 19.11it/s]"
     ]
    },
    {
     "name": "stdout",
     "output_type": "stream",
     "text": [
      "Expected hidden states size: (13, B, |s|, 768). Got (13, 1024, 128, 768)\n"
     ]
    },
    {
     "name": "stderr",
     "output_type": "stream",
     "text": [
      " 42%|█████████████████████████████████████████████▏                                                              | 4233/10113 [01:07<00:33, 174.23it/s]"
     ]
    },
    {
     "name": "stdout",
     "output_type": "stream",
     "text": [
      "Expected hidden states size: (13, B, |s|, 768). Got (13, 1024, 128, 768)\n"
     ]
    },
    {
     "name": "stderr",
     "output_type": "stream",
     "text": [
      " 54%|███████████████████████████████████████████████████████████▏                                                 | 5489/10113 [01:30<00:46, 99.87it/s]"
     ]
    },
    {
     "name": "stdout",
     "output_type": "stream",
     "text": [
      "Expected hidden states size: (13, B, |s|, 768). Got (13, 1024, 128, 768)\n"
     ]
    },
    {
     "name": "stderr",
     "output_type": "stream",
     "text": [
      " 57%|██████████████████████████████████████████████████████████████▏                                              | 5768/10113 [01:58<35:31,  2.04it/s]"
     ]
    },
    {
     "name": "stdout",
     "output_type": "stream",
     "text": [
      "Expected hidden states size: (13, B, |s|, 768). Got (13, 1024, 128, 768)\n"
     ]
    },
    {
     "name": "stderr",
     "output_type": "stream",
     "text": [
      " 58%|███████████████████████████████████████████████████████████████                                              | 5851/10113 [02:24<17:37,  4.03it/s]"
     ]
    },
    {
     "name": "stdout",
     "output_type": "stream",
     "text": [
      "Expected hidden states size: (13, B, |s|, 768). Got (13, 1024, 128, 768)\n"
     ]
    },
    {
     "name": "stderr",
     "output_type": "stream",
     "text": [
      " 59%|███████████████████████████████████████████████████████████████▊                                             | 5918/10113 [02:52<29:24,  2.38it/s]"
     ]
    },
    {
     "name": "stdout",
     "output_type": "stream",
     "text": [
      "Expected hidden states size: (13, B, |s|, 768). Got (13, 1024, 128, 768)\n"
     ]
    },
    {
     "name": "stderr",
     "output_type": "stream",
     "text": [
      " 59%|███████████████████████████████████████████████████████████████                                            | 5965/10113 [03:19<1:20:11,  1.16s/it]"
     ]
    },
    {
     "name": "stdout",
     "output_type": "stream",
     "text": [
      "Expected hidden states size: (13, B, |s|, 768). Got (13, 1024, 128, 768)\n"
     ]
    },
    {
     "name": "stderr",
     "output_type": "stream",
     "text": [
      " 60%|████████████████████████████████████████████████████████████████▉                                            | 6022/10113 [03:46<54:14,  1.26it/s]"
     ]
    },
    {
     "name": "stdout",
     "output_type": "stream",
     "text": [
      "Expected hidden states size: (13, B, |s|, 768). Got (13, 1024, 128, 768)\n"
     ]
    },
    {
     "name": "stderr",
     "output_type": "stream",
     "text": [
      " 60%|█████████████████████████████████████████████████████████████████▋                                           | 6089/10113 [04:14<14:03,  4.77it/s]"
     ]
    },
    {
     "name": "stdout",
     "output_type": "stream",
     "text": [
      "Expected hidden states size: (13, B, |s|, 768). Got (13, 1024, 128, 768)\n"
     ]
    },
    {
     "name": "stderr",
     "output_type": "stream",
     "text": [
      " 61%|██████████████████████████████████████████████████████████████████▏                                          | 6144/10113 [04:43<41:03,  1.61it/s]"
     ]
    },
    {
     "name": "stdout",
     "output_type": "stream",
     "text": [
      "Expected hidden states size: (13, B, |s|, 768). Got (13, 1024, 128, 768)\n"
     ]
    },
    {
     "name": "stderr",
     "output_type": "stream",
     "text": [
      " 62%|███████████████████████████████████████████████████████████████████▎                                         | 6251/10113 [05:12<06:33,  9.80it/s]"
     ]
    },
    {
     "name": "stdout",
     "output_type": "stream",
     "text": [
      "Expected hidden states size: (13, B, |s|, 768). Got (13, 1024, 128, 768)\n"
     ]
    },
    {
     "name": "stderr",
     "output_type": "stream",
     "text": [
      " 63%|████████████████████████████████████████████████████████████████████▏                                        | 6324/10113 [05:31<25:46,  2.45it/s]"
     ]
    },
    {
     "name": "stdout",
     "output_type": "stream",
     "text": [
      "Expected hidden states size: (13, B, |s|, 768). Got (13, 1024, 128, 768)\n"
     ]
    },
    {
     "name": "stderr",
     "output_type": "stream",
     "text": [
      " 71%|█████████████████████████████████████████████████████████████████████████████▊                               | 7218/10113 [05:54<00:30, 95.94it/s]"
     ]
    },
    {
     "name": "stdout",
     "output_type": "stream",
     "text": [
      "Expected hidden states size: (13, B, |s|, 768). Got (13, 1024, 128, 768)\n"
     ]
    },
    {
     "name": "stderr",
     "output_type": "stream",
     "text": [
      " 82%|█████████████████████████████████████████████████████████████████████████████████████████▏                   | 8274/10113 [06:13<00:19, 96.12it/s]"
     ]
    },
    {
     "name": "stdout",
     "output_type": "stream",
     "text": [
      "Expected hidden states size: (13, B, |s|, 768). Got (13, 1024, 128, 768)\n"
     ]
    },
    {
     "name": "stderr",
     "output_type": "stream",
     "text": [
      " 93%|█████████████████████████████████████████████████████████████████████████████████████████████████████▍       | 9407/10113 [06:33<00:07, 94.08it/s]"
     ]
    },
    {
     "name": "stdout",
     "output_type": "stream",
     "text": [
      "Expected hidden states size: (13, B, |s|, 768). Got (13, 1024, 128, 768)\n"
     ]
    },
    {
     "name": "stderr",
     "output_type": "stream",
     "text": [
      "100%|████████████████████████████████████████████████████████████████████████████████████████████████████████████| 10113/10113 [06:48<00:00, 24.74it/s]\n"
     ]
    },
    {
     "name": "stdout",
     "output_type": "stream",
     "text": [
      "saving usages for decade\n"
     ]
    },
    {
     "name": "stderr",
     "output_type": "stream",
     "text": [
      "Some weights of the model checkpoint at bert-base-uncased were not used when initializing BertModel: ['cls.predictions.transform.LayerNorm.weight', 'cls.predictions.transform.LayerNorm.bias', 'cls.seq_relationship.bias', 'cls.predictions.transform.dense.weight', 'cls.predictions.transform.dense.bias', 'cls.seq_relationship.weight', 'cls.predictions.bias']\n",
      "- This IS expected if you are initializing BertModel from the checkpoint of a model trained on another task or with another architecture (e.g. initializing a BertForSequenceClassification model from a BertForPreTraining model).\n",
      "- This IS NOT expected if you are initializing BertModel from the checkpoint of a model that you expect to be exactly identical (initializing a BertForSequenceClassification model from a BertForSequenceClassification model).\n",
      "/home/gsc685/.conda/envs/gabriella_cwr4lsc/lib/python3.10/site-packages/sklearn/base.py:318: UserWarning: Trying to unpickle estimator PLSRegression from version 1.1.3 when using version 1.2.2. This might lead to breaking code or invalid results. Use at your own risk. For more info please refer to:\n",
      "https://scikit-learn.org/stable/model_persistence.html#security-maintainability-limitations\n",
      "  warnings.warn(\n"
     ]
    },
    {
     "name": "stdout",
     "output_type": "stream",
     "text": [
      "1\n",
      "Decade 1970...\n",
      "/home/shared/corpora/Corpus of Historical American English/TEXTS\n",
      "1970\n"
     ]
    },
    {
     "name": "stderr",
     "output_type": "stream",
     "text": [
      "  0%|                                                                                                                         | 0/9419 [00:00<?, ?it/s]Token indices sequence length is longer than the specified maximum sequence length for this model (1233 > 512). Running this sequence through the model will result in indexing errors\n",
      " 13%|██████████████▏                                                                                               | 1215/9419 [00:15<04:42, 29.08it/s]"
     ]
    },
    {
     "name": "stdout",
     "output_type": "stream",
     "text": [
      "Expected hidden states size: (13, B, |s|, 768). Got (13, 1024, 128, 768)\n"
     ]
    },
    {
     "name": "stderr",
     "output_type": "stream",
     "text": [
      " 25%|███████████████████████████▎                                                                                 | 2360/9419 [00:38<00:44, 158.79it/s]"
     ]
    },
    {
     "name": "stdout",
     "output_type": "stream",
     "text": [
      "Expected hidden states size: (13, B, |s|, 768). Got (13, 1024, 128, 768)\n"
     ]
    },
    {
     "name": "stderr",
     "output_type": "stream",
     "text": [
      " 33%|████████████████████████████████████▏                                                                         | 3103/9419 [00:57<02:29, 42.34it/s]"
     ]
    },
    {
     "name": "stdout",
     "output_type": "stream",
     "text": [
      "Expected hidden states size: (13, B, |s|, 768). Got (13, 1024, 128, 768)\n"
     ]
    },
    {
     "name": "stderr",
     "output_type": "stream",
     "text": [
      " 44%|████████████████████████████████████████████████▊                                                             | 4177/9419 [01:17<01:58, 44.21it/s]"
     ]
    },
    {
     "name": "stdout",
     "output_type": "stream",
     "text": [
      "Expected hidden states size: (13, B, |s|, 768). Got (13, 1024, 128, 768)\n"
     ]
    },
    {
     "name": "stderr",
     "output_type": "stream",
     "text": [
      " 55%|███████████████████████████████████████████████████████████▌                                                 | 5143/9419 [01:36<00:40, 106.58it/s]"
     ]
    },
    {
     "name": "stdout",
     "output_type": "stream",
     "text": [
      "Expected hidden states size: (13, B, |s|, 768). Got (13, 1024, 128, 768)\n"
     ]
    },
    {
     "name": "stderr",
     "output_type": "stream",
     "text": [
      " 63%|█████████████████████████████████████████████████████████████████████▏                                        | 5926/9419 [01:53<02:50, 20.49it/s]"
     ]
    },
    {
     "name": "stdout",
     "output_type": "stream",
     "text": [
      "Expected hidden states size: (13, B, |s|, 768). Got (13, 1024, 128, 768)\n"
     ]
    },
    {
     "name": "stderr",
     "output_type": "stream",
     "text": [
      " 63%|█████████████████████████████████████████████████████████████████████▋                                        | 5967/9419 [02:23<35:20,  1.63it/s]"
     ]
    },
    {
     "name": "stdout",
     "output_type": "stream",
     "text": [
      "Expected hidden states size: (13, B, |s|, 768). Got (13, 1024, 128, 768)\n"
     ]
    },
    {
     "name": "stderr",
     "output_type": "stream",
     "text": [
      " 65%|██████████████████████████████████████████████████████████████████████▉                                       | 6078/9419 [02:49<23:08,  2.41it/s]"
     ]
    },
    {
     "name": "stdout",
     "output_type": "stream",
     "text": [
      "Expected hidden states size: (13, B, |s|, 768). Got (13, 1024, 128, 768)\n"
     ]
    },
    {
     "name": "stderr",
     "output_type": "stream",
     "text": [
      " 65%|███████████████████████████████████████████████████████████████████████▍                                      | 6121/9419 [03:16<18:08,  3.03it/s]"
     ]
    },
    {
     "name": "stdout",
     "output_type": "stream",
     "text": [
      "Expected hidden states size: (13, B, |s|, 768). Got (13, 1024, 128, 768)\n"
     ]
    },
    {
     "name": "stderr",
     "output_type": "stream",
     "text": [
      " 66%|████████████████████████████████████████████████████████████████████████▎                                     | 6192/9419 [03:43<10:34,  5.09it/s]"
     ]
    },
    {
     "name": "stdout",
     "output_type": "stream",
     "text": [
      "Expected hidden states size: (13, B, |s|, 768). Got (13, 1024, 128, 768)\n"
     ]
    },
    {
     "name": "stderr",
     "output_type": "stream",
     "text": [
      " 66%|████████████████████████████████████████████████████████████████████████▊                                     | 6232/9419 [04:09<28:49,  1.84it/s]"
     ]
    },
    {
     "name": "stdout",
     "output_type": "stream",
     "text": [
      "Expected hidden states size: (13, B, |s|, 768). Got (13, 1024, 128, 768)\n"
     ]
    },
    {
     "name": "stderr",
     "output_type": "stream",
     "text": [
      " 67%|█████████████████████████████████████████████████████████████████████████▎                                    | 6275/9419 [04:35<35:22,  1.48it/s]"
     ]
    },
    {
     "name": "stdout",
     "output_type": "stream",
     "text": [
      "Expected hidden states size: (13, B, |s|, 768). Got (13, 1024, 128, 768)\n"
     ]
    },
    {
     "name": "stderr",
     "output_type": "stream",
     "text": [
      " 67%|█████████████████████████████████████████████████████████████████████████▊                                    | 6324/9419 [04:52<06:01,  8.57it/s]"
     ]
    },
    {
     "name": "stdout",
     "output_type": "stream",
     "text": [
      "Expected hidden states size: (13, B, |s|, 768). Got (13, 1024, 128, 768)\n"
     ]
    },
    {
     "name": "stderr",
     "output_type": "stream",
     "text": [
      " 68%|██████████████████████████████████████████████████████████████████████████▍                                   | 6373/9419 [05:21<16:12,  3.13it/s]"
     ]
    },
    {
     "name": "stdout",
     "output_type": "stream",
     "text": [
      "Expected hidden states size: (13, B, |s|, 768). Got (13, 1024, 128, 768)\n"
     ]
    },
    {
     "name": "stderr",
     "output_type": "stream",
     "text": [
      " 68%|██████████████████████████████████████████████████████████████████████████▉                                   | 6415/9419 [05:47<37:56,  1.32it/s]"
     ]
    },
    {
     "name": "stdout",
     "output_type": "stream",
     "text": [
      "Expected hidden states size: (13, B, |s|, 768). Got (13, 1024, 128, 768)\n"
     ]
    },
    {
     "name": "stderr",
     "output_type": "stream",
     "text": [
      " 72%|███████████████████████████████████████████████████████████████████████████████▌                              | 6816/9419 [06:05<00:27, 94.07it/s]"
     ]
    },
    {
     "name": "stdout",
     "output_type": "stream",
     "text": [
      "Expected hidden states size: (13, B, |s|, 768). Got (13, 1024, 128, 768)\n"
     ]
    },
    {
     "name": "stderr",
     "output_type": "stream",
     "text": [
      " 81%|████████████████████████████████████████████████████████████████████████████████████████▌                    | 7658/9419 [06:21<00:16, 105.81it/s]"
     ]
    },
    {
     "name": "stdout",
     "output_type": "stream",
     "text": [
      "Expected hidden states size: (13, B, |s|, 768). Got (13, 1024, 128, 768)\n"
     ]
    },
    {
     "name": "stderr",
     "output_type": "stream",
     "text": [
      " 88%|████████████████████████████████████████████████████████████████████████████████████████████████▊             | 8295/9419 [06:36<00:15, 70.89it/s]"
     ]
    },
    {
     "name": "stdout",
     "output_type": "stream",
     "text": [
      "Expected hidden states size: (13, B, |s|, 768). Got (13, 1024, 128, 768)\n"
     ]
    },
    {
     "name": "stderr",
     "output_type": "stream",
     "text": [
      " 95%|███████████████████████████████████████████████████████████████████████████████████████████████████████▉      | 8902/9419 [06:51<00:06, 76.39it/s]"
     ]
    },
    {
     "name": "stdout",
     "output_type": "stream",
     "text": [
      "Expected hidden states size: (13, B, |s|, 768). Got (13, 1024, 128, 768)\n"
     ]
    },
    {
     "name": "stderr",
     "output_type": "stream",
     "text": [
      "100%|██████████████████████████████████████████████████████████████████████████████████████████████████████████████| 9419/9419 [07:05<00:00, 22.15it/s]\n"
     ]
    },
    {
     "name": "stdout",
     "output_type": "stream",
     "text": [
      "saving usages for decade\n"
     ]
    },
    {
     "name": "stderr",
     "output_type": "stream",
     "text": [
      "Some weights of the model checkpoint at bert-base-uncased were not used when initializing BertModel: ['cls.predictions.transform.LayerNorm.weight', 'cls.predictions.transform.LayerNorm.bias', 'cls.seq_relationship.bias', 'cls.predictions.transform.dense.weight', 'cls.predictions.transform.dense.bias', 'cls.seq_relationship.weight', 'cls.predictions.bias']\n",
      "- This IS expected if you are initializing BertModel from the checkpoint of a model trained on another task or with another architecture (e.g. initializing a BertForSequenceClassification model from a BertForPreTraining model).\n",
      "- This IS NOT expected if you are initializing BertModel from the checkpoint of a model that you expect to be exactly identical (initializing a BertForSequenceClassification model from a BertForSequenceClassification model).\n",
      "/home/gsc685/.conda/envs/gabriella_cwr4lsc/lib/python3.10/site-packages/sklearn/base.py:318: UserWarning: Trying to unpickle estimator PLSRegression from version 1.1.3 when using version 1.2.2. This might lead to breaking code or invalid results. Use at your own risk. For more info please refer to:\n",
      "https://scikit-learn.org/stable/model_persistence.html#security-maintainability-limitations\n",
      "  warnings.warn(\n"
     ]
    },
    {
     "name": "stdout",
     "output_type": "stream",
     "text": [
      "1\n",
      "Decade 1980...\n",
      "/home/shared/corpora/Corpus of Historical American English/TEXTS\n",
      "1980\n"
     ]
    },
    {
     "name": "stderr",
     "output_type": "stream",
     "text": [
      "  0%|                                                                                                                        | 0/11106 [00:00<?, ?it/s]Token indices sequence length is longer than the specified maximum sequence length for this model (4048 > 512). Running this sequence through the model will result in indexing errors\n",
      "  9%|█████████▊                                                                                                  | 1007/11106 [00:10<01:02, 162.41it/s]"
     ]
    },
    {
     "name": "stdout",
     "output_type": "stream",
     "text": [
      "Expected hidden states size: (13, B, |s|, 768). Got (13, 1024, 128, 768)\n"
     ]
    },
    {
     "name": "stderr",
     "output_type": "stream",
     "text": [
      " 18%|███████████████████▉                                                                                         | 2035/11106 [00:32<02:38, 57.31it/s]"
     ]
    },
    {
     "name": "stdout",
     "output_type": "stream",
     "text": [
      "Expected hidden states size: (13, B, |s|, 768). Got (13, 1024, 128, 768)\n"
     ]
    },
    {
     "name": "stderr",
     "output_type": "stream",
     "text": [
      " 26%|████████████████████████████▎                                                                                | 2886/11106 [00:50<02:22, 57.88it/s]"
     ]
    },
    {
     "name": "stdout",
     "output_type": "stream",
     "text": [
      "Expected hidden states size: (13, B, |s|, 768). Got (13, 1024, 128, 768)\n"
     ]
    },
    {
     "name": "stderr",
     "output_type": "stream",
     "text": [
      " 33%|████████████████████████████████████                                                                         | 3672/11106 [01:09<01:37, 76.01it/s]"
     ]
    },
    {
     "name": "stdout",
     "output_type": "stream",
     "text": [
      "Expected hidden states size: (13, B, |s|, 768). Got (13, 1024, 128, 768)\n"
     ]
    },
    {
     "name": "stderr",
     "output_type": "stream",
     "text": [
      " 42%|█████████████████████████████████████████████▊                                                               | 4665/11106 [01:30<04:07, 25.99it/s]"
     ]
    },
    {
     "name": "stdout",
     "output_type": "stream",
     "text": [
      "Expected hidden states size: (13, B, |s|, 768). Got (13, 1024, 128, 768)\n"
     ]
    },
    {
     "name": "stderr",
     "output_type": "stream",
     "text": [
      " 55%|███████████████████████████████████████████████████████████▏                                                | 6083/11106 [01:52<00:42, 119.17it/s]"
     ]
    },
    {
     "name": "stdout",
     "output_type": "stream",
     "text": [
      "Expected hidden states size: (13, B, |s|, 768). Got (13, 1024, 128, 768)\n"
     ]
    },
    {
     "name": "stderr",
     "output_type": "stream",
     "text": [
      " 63%|█████████████████████████████████████████████████████████████████████                                        | 7034/11106 [02:12<01:10, 57.51it/s]"
     ]
    },
    {
     "name": "stdout",
     "output_type": "stream",
     "text": [
      "Expected hidden states size: (13, B, |s|, 768). Got (13, 1024, 128, 768)\n"
     ]
    },
    {
     "name": "stderr",
     "output_type": "stream",
     "text": [
      " 73%|███████████████████████████████████████████████████████████████████████████████▊                             | 8128/11106 [02:31<00:59, 50.15it/s]"
     ]
    },
    {
     "name": "stdout",
     "output_type": "stream",
     "text": [
      "Expected hidden states size: (13, B, |s|, 768). Got (13, 1024, 128, 768)\n"
     ]
    },
    {
     "name": "stderr",
     "output_type": "stream",
     "text": [
      " 83%|██████████████████████████████████████████████████████████████████████████████████████████▉                  | 9271/11106 [02:50<00:19, 93.62it/s]"
     ]
    },
    {
     "name": "stdout",
     "output_type": "stream",
     "text": [
      "Expected hidden states size: (13, B, |s|, 768). Got (13, 1024, 128, 768)\n"
     ]
    },
    {
     "name": "stderr",
     "output_type": "stream",
     "text": [
      " 91%|██████████████████████████████████████████████████████████████████████████████████████████████████▏         | 10102/11106 [03:09<00:53, 18.62it/s]"
     ]
    },
    {
     "name": "stdout",
     "output_type": "stream",
     "text": [
      "Expected hidden states size: (13, B, |s|, 768). Got (13, 1024, 128, 768)\n"
     ]
    },
    {
     "name": "stderr",
     "output_type": "stream",
     "text": [
      " 92%|██████████████████████████████████████████████████████████████████████████████████████████████████▊         | 10167/11106 [03:38<08:01,  1.95it/s]"
     ]
    },
    {
     "name": "stdout",
     "output_type": "stream",
     "text": [
      "Expected hidden states size: (13, B, |s|, 768). Got (13, 1024, 128, 768)\n"
     ]
    },
    {
     "name": "stderr",
     "output_type": "stream",
     "text": [
      " 92%|███████████████████████████████████████████████████████████████████████████████████████████████████▊        | 10268/11106 [04:04<02:07,  6.57it/s]"
     ]
    },
    {
     "name": "stdout",
     "output_type": "stream",
     "text": [
      "Expected hidden states size: (13, B, |s|, 768). Got (13, 1024, 128, 768)\n"
     ]
    },
    {
     "name": "stderr",
     "output_type": "stream",
     "text": [
      " 93%|████████████████████████████████████████████████████████████████████████████████████████████████████▎       | 10313/11106 [04:30<07:40,  1.72it/s]"
     ]
    },
    {
     "name": "stdout",
     "output_type": "stream",
     "text": [
      "Expected hidden states size: (13, B, |s|, 768). Got (13, 1024, 128, 768)\n"
     ]
    },
    {
     "name": "stderr",
     "output_type": "stream",
     "text": [
      " 93%|████████████████████████████████████████████████████████████████████████████████████████████████████▋       | 10348/11106 [04:57<13:11,  1.04s/it]"
     ]
    },
    {
     "name": "stdout",
     "output_type": "stream",
     "text": [
      "Expected hidden states size: (13, B, |s|, 768). Got (13, 1024, 128, 768)\n"
     ]
    },
    {
     "name": "stderr",
     "output_type": "stream",
     "text": [
      " 94%|█████████████████████████████████████████████████████████████████████████████████████████████████████▏      | 10406/11106 [05:25<03:28,  3.36it/s]"
     ]
    },
    {
     "name": "stdout",
     "output_type": "stream",
     "text": [
      "Expected hidden states size: (13, B, |s|, 768). Got (13, 1024, 128, 768)\n"
     ]
    },
    {
     "name": "stderr",
     "output_type": "stream",
     "text": [
      " 94%|█████████████████████████████████████████████████████████████████████████████████████████████████████▍      | 10437/11106 [05:47<03:15,  3.42it/s]"
     ]
    },
    {
     "name": "stdout",
     "output_type": "stream",
     "text": [
      "Expected hidden states size: (13, B, |s|, 768). Got (13, 1024, 128, 768)\n"
     ]
    },
    {
     "name": "stderr",
     "output_type": "stream",
     "text": [
      " 94%|█████████████████████████████████████████████████████████████████████████████████████████████████████▊      | 10475/11106 [06:11<08:29,  1.24it/s]"
     ]
    },
    {
     "name": "stdout",
     "output_type": "stream",
     "text": [
      "Expected hidden states size: (13, B, |s|, 768). Got (13, 1024, 128, 768)\n"
     ]
    },
    {
     "name": "stderr",
     "output_type": "stream",
     "text": [
      " 95%|██████████████████████████████████████████████████████████████████████████████████████████████████████▏     | 10513/11106 [06:31<04:10,  2.36it/s]"
     ]
    },
    {
     "name": "stdout",
     "output_type": "stream",
     "text": [
      "Expected hidden states size: (13, B, |s|, 768). Got (13, 1024, 128, 768)\n"
     ]
    },
    {
     "name": "stderr",
     "output_type": "stream",
     "text": [
      " 95%|██████████████████████████████████████████████████████████████████████████████████████████████████████▌     | 10542/11106 [06:50<04:02,  2.33it/s]"
     ]
    },
    {
     "name": "stdout",
     "output_type": "stream",
     "text": [
      "Expected hidden states size: (13, B, |s|, 768). Got (13, 1024, 128, 768)\n"
     ]
    },
    {
     "name": "stderr",
     "output_type": "stream",
     "text": [
      " 95%|██████████████████████████████████████████████████████████████████████████████████████████████████████▉     | 10579/11106 [07:12<03:19,  2.65it/s]"
     ]
    },
    {
     "name": "stdout",
     "output_type": "stream",
     "text": [
      "Expected hidden states size: (13, B, |s|, 768). Got (13, 1024, 128, 768)\n"
     ]
    },
    {
     "name": "stderr",
     "output_type": "stream",
     "text": [
      " 96%|████████████████████████████████████████████████████████████████████████████████████████████████████████    | 10699/11106 [07:33<00:12, 31.69it/s]"
     ]
    },
    {
     "name": "stdout",
     "output_type": "stream",
     "text": [
      "Expected hidden states size: (13, B, |s|, 768). Got (13, 1024, 128, 768)\n"
     ]
    },
    {
     "name": "stderr",
     "output_type": "stream",
     "text": [
      "100%|████████████████████████████████████████████████████████████████████████████████████████████████████████████| 11106/11106 [07:43<00:00, 23.96it/s]\n"
     ]
    },
    {
     "name": "stdout",
     "output_type": "stream",
     "text": [
      "saving usages for decade\n"
     ]
    },
    {
     "name": "stderr",
     "output_type": "stream",
     "text": [
      "Some weights of the model checkpoint at bert-base-uncased were not used when initializing BertModel: ['cls.predictions.transform.LayerNorm.weight', 'cls.predictions.transform.LayerNorm.bias', 'cls.seq_relationship.bias', 'cls.predictions.transform.dense.weight', 'cls.predictions.transform.dense.bias', 'cls.seq_relationship.weight', 'cls.predictions.bias']\n",
      "- This IS expected if you are initializing BertModel from the checkpoint of a model trained on another task or with another architecture (e.g. initializing a BertForSequenceClassification model from a BertForPreTraining model).\n",
      "- This IS NOT expected if you are initializing BertModel from the checkpoint of a model that you expect to be exactly identical (initializing a BertForSequenceClassification model from a BertForSequenceClassification model).\n",
      "/home/gsc685/.conda/envs/gabriella_cwr4lsc/lib/python3.10/site-packages/sklearn/base.py:318: UserWarning: Trying to unpickle estimator PLSRegression from version 1.1.3 when using version 1.2.2. This might lead to breaking code or invalid results. Use at your own risk. For more info please refer to:\n",
      "https://scikit-learn.org/stable/model_persistence.html#security-maintainability-limitations\n",
      "  warnings.warn(\n"
     ]
    },
    {
     "name": "stdout",
     "output_type": "stream",
     "text": [
      "1\n",
      "Decade 1990...\n",
      "/home/shared/corpora/Corpus of Historical American English/TEXTS\n",
      "1990\n"
     ]
    },
    {
     "name": "stderr",
     "output_type": "stream",
     "text": [
      "  0%|                                                                                                                         | 0/9778 [00:00<?, ?it/s]Token indices sequence length is longer than the specified maximum sequence length for this model (634 > 512). Running this sequence through the model will result in indexing errors\n",
      "  8%|████████▍                                                                                                      | 748/9778 [00:14<03:37, 41.45it/s]"
     ]
    },
    {
     "name": "stdout",
     "output_type": "stream",
     "text": [
      "Expected hidden states size: (13, B, |s|, 768). Got (13, 1024, 128, 768)\n"
     ]
    },
    {
     "name": "stderr",
     "output_type": "stream",
     "text": [
      " 14%|███████████████▋                                                                                              | 1391/9778 [00:34<01:34, 88.59it/s]"
     ]
    },
    {
     "name": "stdout",
     "output_type": "stream",
     "text": [
      "Expected hidden states size: (13, B, |s|, 768). Got (13, 1024, 128, 768)\n"
     ]
    },
    {
     "name": "stderr",
     "output_type": "stream",
     "text": [
      " 19%|█████████████████████▍                                                                                        | 1901/9778 [00:54<02:09, 60.67it/s]"
     ]
    },
    {
     "name": "stdout",
     "output_type": "stream",
     "text": [
      "Expected hidden states size: (13, B, |s|, 768). Got (13, 1024, 128, 768)\n"
     ]
    },
    {
     "name": "stderr",
     "output_type": "stream",
     "text": [
      " 26%|███████████████████████████▉                                                                                 | 2506/9778 [01:13<01:01, 117.78it/s]"
     ]
    },
    {
     "name": "stdout",
     "output_type": "stream",
     "text": [
      "Expected hidden states size: (13, B, |s|, 768). Got (13, 1024, 128, 768)\n"
     ]
    },
    {
     "name": "stderr",
     "output_type": "stream",
     "text": [
      " 31%|█████████████████████████████████▉                                                                            | 3020/9778 [01:30<02:51, 39.48it/s]"
     ]
    },
    {
     "name": "stdout",
     "output_type": "stream",
     "text": [
      "Expected hidden states size: (13, B, |s|, 768). Got (13, 1024, 128, 768)\n"
     ]
    },
    {
     "name": "stderr",
     "output_type": "stream",
     "text": [
      " 38%|██████████████████████████████████████████                                                                    | 3740/9778 [01:50<02:39, 37.79it/s]"
     ]
    },
    {
     "name": "stdout",
     "output_type": "stream",
     "text": [
      "Expected hidden states size: (13, B, |s|, 768). Got (13, 1024, 128, 768)\n"
     ]
    },
    {
     "name": "stderr",
     "output_type": "stream",
     "text": [
      " 45%|█████████████████████████████████████████████████▏                                                            | 4374/9778 [02:10<02:22, 38.04it/s]"
     ]
    },
    {
     "name": "stdout",
     "output_type": "stream",
     "text": [
      "Expected hidden states size: (13, B, |s|, 768). Got (13, 1024, 128, 768)\n"
     ]
    },
    {
     "name": "stderr",
     "output_type": "stream",
     "text": [
      " 49%|█████████████████████████████████████████████████████▊                                                        | 4786/9778 [02:26<01:57, 42.57it/s]"
     ]
    },
    {
     "name": "stdout",
     "output_type": "stream",
     "text": [
      "Expected hidden states size: (13, B, |s|, 768). Got (13, 1024, 128, 768)\n"
     ]
    },
    {
     "name": "stderr",
     "output_type": "stream",
     "text": [
      " 54%|███████████████████████████████████████████████████████████▊                                                  | 5312/9778 [02:44<01:23, 53.35it/s]"
     ]
    },
    {
     "name": "stdout",
     "output_type": "stream",
     "text": [
      "Expected hidden states size: (13, B, |s|, 768). Got (13, 1024, 128, 768)\n"
     ]
    },
    {
     "name": "stderr",
     "output_type": "stream",
     "text": [
      " 60%|█████████████████████████████████████████████████████████████████▉                                            | 5866/9778 [03:03<02:04, 31.46it/s]"
     ]
    },
    {
     "name": "stdout",
     "output_type": "stream",
     "text": [
      "Expected hidden states size: (13, B, |s|, 768). Got (13, 1024, 128, 768)\n"
     ]
    },
    {
     "name": "stderr",
     "output_type": "stream",
     "text": [
      " 68%|██████████████████████████████████████████████████████████████████████████▌                                   | 6628/9778 [03:21<00:49, 63.97it/s]"
     ]
    },
    {
     "name": "stdout",
     "output_type": "stream",
     "text": [
      "Expected hidden states size: (13, B, |s|, 768). Got (13, 1024, 128, 768)\n"
     ]
    },
    {
     "name": "stderr",
     "output_type": "stream",
     "text": [
      " 72%|███████████████████████████████████████████████████████████████████████████████▌                              | 7072/9778 [03:42<02:56, 15.31it/s]"
     ]
    },
    {
     "name": "stdout",
     "output_type": "stream",
     "text": [
      "Expected hidden states size: (13, B, |s|, 768). Got (13, 1024, 128, 768)\n"
     ]
    },
    {
     "name": "stderr",
     "output_type": "stream",
     "text": [
      " 75%|██████████████████████████████████████████████████████████████████████████████████▍                           | 7328/9778 [04:05<02:43, 14.95it/s]"
     ]
    },
    {
     "name": "stdout",
     "output_type": "stream",
     "text": [
      "Expected hidden states size: (13, B, |s|, 768). Got (13, 1024, 128, 768)\n"
     ]
    },
    {
     "name": "stderr",
     "output_type": "stream",
     "text": [
      " 77%|████████████████████████████████████████████████████████████████████████████████████▊                         | 7534/9778 [04:27<02:48, 13.33it/s]"
     ]
    },
    {
     "name": "stdout",
     "output_type": "stream",
     "text": [
      "Expected hidden states size: (13, B, |s|, 768). Got (13, 1024, 128, 768)\n"
     ]
    },
    {
     "name": "stderr",
     "output_type": "stream",
     "text": [
      " 79%|███████████████████████████████████████████████████████████████████████████████████████▏                      | 7752/9778 [04:50<02:09, 15.60it/s]"
     ]
    },
    {
     "name": "stdout",
     "output_type": "stream",
     "text": [
      "Expected hidden states size: (13, B, |s|, 768). Got (13, 1024, 128, 768)\n"
     ]
    },
    {
     "name": "stderr",
     "output_type": "stream",
     "text": [
      " 81%|█████████████████████████████████████████████████████████████████████████████████████████▍                    | 7949/9778 [05:13<03:47,  8.04it/s]"
     ]
    },
    {
     "name": "stdout",
     "output_type": "stream",
     "text": [
      "Expected hidden states size: (13, B, |s|, 768). Got (13, 1024, 128, 768)\n"
     ]
    },
    {
     "name": "stderr",
     "output_type": "stream",
     "text": [
      " 83%|██████████████████████████████████████████████████████████████████████████████████████████▊                   | 8077/9778 [05:33<14:47,  1.92it/s]"
     ]
    },
    {
     "name": "stdout",
     "output_type": "stream",
     "text": [
      "Expected hidden states size: (13, B, |s|, 768). Got (13, 1024, 128, 768)\n"
     ]
    },
    {
     "name": "stderr",
     "output_type": "stream",
     "text": [
      " 83%|███████████████████████████████████████████████████████████████████████████████████████████▏                  | 8111/9778 [05:59<17:01,  1.63it/s]"
     ]
    },
    {
     "name": "stdout",
     "output_type": "stream",
     "text": [
      "Expected hidden states size: (13, B, |s|, 768). Got (13, 1024, 128, 768)\n"
     ]
    },
    {
     "name": "stderr",
     "output_type": "stream",
     "text": [
      " 83%|███████████████████████████████████████████████████████████████████████████████████████████▌                  | 8138/9778 [06:22<16:45,  1.63it/s]"
     ]
    },
    {
     "name": "stdout",
     "output_type": "stream",
     "text": [
      "Expected hidden states size: (13, B, |s|, 768). Got (13, 1024, 128, 768)\n"
     ]
    },
    {
     "name": "stderr",
     "output_type": "stream",
     "text": [
      " 86%|██████████████████████████████████████████████████████████████████████████████████████████████                | 8361/9778 [06:47<01:30, 15.67it/s]"
     ]
    },
    {
     "name": "stdout",
     "output_type": "stream",
     "text": [
      "Expected hidden states size: (13, B, |s|, 768). Got (13, 1024, 128, 768)\n"
     ]
    },
    {
     "name": "stderr",
     "output_type": "stream",
     "text": [
      " 87%|███████████████████████████████████████████████████████████████████████████████████████████████▌              | 8500/9778 [07:06<02:41,  7.91it/s]"
     ]
    },
    {
     "name": "stdout",
     "output_type": "stream",
     "text": [
      "Expected hidden states size: (13, B, |s|, 768). Got (13, 1024, 128, 768)\n"
     ]
    },
    {
     "name": "stderr",
     "output_type": "stream",
     "text": [
      " 88%|█████████████████████████████████████████████████████████████████████████████████████████████████             | 8628/9778 [07:26<01:23, 13.77it/s]"
     ]
    },
    {
     "name": "stdout",
     "output_type": "stream",
     "text": [
      "Expected hidden states size: (13, B, |s|, 768). Got (13, 1024, 128, 768)\n"
     ]
    },
    {
     "name": "stderr",
     "output_type": "stream",
     "text": [
      " 90%|██████████████████████████████████████████████████████████████████████████████████████████████████▊           | 8784/9778 [07:46<04:28,  3.70it/s]"
     ]
    },
    {
     "name": "stdout",
     "output_type": "stream",
     "text": [
      "Expected hidden states size: (13, B, |s|, 768). Got (13, 1024, 128, 768)\n"
     ]
    },
    {
     "name": "stderr",
     "output_type": "stream",
     "text": [
      " 94%|███████████████████████████████████████████████████████████████████████████████████████████████████████▊      | 9229/9778 [08:07<00:24, 22.32it/s]"
     ]
    },
    {
     "name": "stdout",
     "output_type": "stream",
     "text": [
      "Expected hidden states size: (13, B, |s|, 768). Got (13, 1024, 128, 768)\n"
     ]
    },
    {
     "name": "stderr",
     "output_type": "stream",
     "text": [
      " 98%|███████████████████████████████████████████████████████████████████████████████████████████████████████████▉  | 9595/9778 [08:28<00:07, 25.31it/s]"
     ]
    },
    {
     "name": "stdout",
     "output_type": "stream",
     "text": [
      "Expected hidden states size: (13, B, |s|, 768). Got (13, 1024, 128, 768)\n"
     ]
    },
    {
     "name": "stderr",
     "output_type": "stream",
     "text": [
      "100%|██████████████████████████████████████████████████████████████████████████████████████████████████████████████| 9778/9778 [08:44<00:00, 18.63it/s]\n"
     ]
    },
    {
     "name": "stdout",
     "output_type": "stream",
     "text": [
      "saving usages for decade\n"
     ]
    },
    {
     "name": "stderr",
     "output_type": "stream",
     "text": [
      "Some weights of the model checkpoint at bert-base-uncased were not used when initializing BertModel: ['cls.predictions.transform.LayerNorm.weight', 'cls.predictions.transform.LayerNorm.bias', 'cls.seq_relationship.bias', 'cls.predictions.transform.dense.weight', 'cls.predictions.transform.dense.bias', 'cls.seq_relationship.weight', 'cls.predictions.bias']\n",
      "- This IS expected if you are initializing BertModel from the checkpoint of a model trained on another task or with another architecture (e.g. initializing a BertForSequenceClassification model from a BertForPreTraining model).\n",
      "- This IS NOT expected if you are initializing BertModel from the checkpoint of a model that you expect to be exactly identical (initializing a BertForSequenceClassification model from a BertForSequenceClassification model).\n",
      "/home/gsc685/.conda/envs/gabriella_cwr4lsc/lib/python3.10/site-packages/sklearn/base.py:318: UserWarning: Trying to unpickle estimator PLSRegression from version 1.1.3 when using version 1.2.2. This might lead to breaking code or invalid results. Use at your own risk. For more info please refer to:\n",
      "https://scikit-learn.org/stable/model_persistence.html#security-maintainability-limitations\n",
      "  warnings.warn(\n"
     ]
    },
    {
     "name": "stdout",
     "output_type": "stream",
     "text": [
      "1\n",
      "Decade 2000...\n",
      "/home/shared/corpora/Corpus of Historical American English/TEXTS\n",
      "2000\n"
     ]
    },
    {
     "name": "stderr",
     "output_type": "stream",
     "text": [
      "  0%|                                                                                                                        | 0/13795 [00:00<?, ?it/s]Token indices sequence length is longer than the specified maximum sequence length for this model (642 > 512). Running this sequence through the model will result in indexing errors\n",
      "  7%|███████▏                                                                                                      | 898/13795 [00:11<04:14, 50.76it/s]"
     ]
    },
    {
     "name": "stdout",
     "output_type": "stream",
     "text": [
      "Expected hidden states size: (13, B, |s|, 768). Got (13, 1024, 128, 768)\n"
     ]
    },
    {
     "name": "stderr",
     "output_type": "stream",
     "text": [
      " 11%|████████████▍                                                                                                | 1581/13795 [00:33<07:55, 25.71it/s]"
     ]
    },
    {
     "name": "stdout",
     "output_type": "stream",
     "text": [
      "Expected hidden states size: (13, B, |s|, 768). Got (13, 1024, 128, 768)\n"
     ]
    },
    {
     "name": "stderr",
     "output_type": "stream",
     "text": [
      " 14%|███████████████▌                                                                                             | 1970/13795 [00:57<11:32, 17.08it/s]"
     ]
    },
    {
     "name": "stdout",
     "output_type": "stream",
     "text": [
      "Expected hidden states size: (13, B, |s|, 768). Got (13, 1024, 128, 768)\n"
     ]
    },
    {
     "name": "stderr",
     "output_type": "stream",
     "text": [
      " 16%|█████████████████▎                                                                                           | 2185/13795 [01:18<13:50, 13.99it/s]"
     ]
    },
    {
     "name": "stdout",
     "output_type": "stream",
     "text": [
      "Expected hidden states size: (13, B, |s|, 768). Got (13, 1024, 128, 768)\n"
     ]
    },
    {
     "name": "stderr",
     "output_type": "stream",
     "text": [
      " 18%|███████████████████▊                                                                                         | 2504/13795 [01:42<11:12, 16.79it/s]"
     ]
    },
    {
     "name": "stdout",
     "output_type": "stream",
     "text": [
      "Expected hidden states size: (13, B, |s|, 768). Got (13, 1024, 128, 768)\n"
     ]
    },
    {
     "name": "stderr",
     "output_type": "stream",
     "text": [
      " 20%|█████████████████████▊                                                                                       | 2768/13795 [02:04<08:11, 22.42it/s]"
     ]
    },
    {
     "name": "stdout",
     "output_type": "stream",
     "text": [
      "Expected hidden states size: (13, B, |s|, 768). Got (13, 1024, 128, 768)\n"
     ]
    },
    {
     "name": "stderr",
     "output_type": "stream",
     "text": [
      " 23%|████████████████████████▌                                                                                    | 3109/13795 [02:26<09:31, 18.71it/s]"
     ]
    },
    {
     "name": "stdout",
     "output_type": "stream",
     "text": [
      "Expected hidden states size: (13, B, |s|, 768). Got (13, 1024, 128, 768)\n"
     ]
    },
    {
     "name": "stderr",
     "output_type": "stream",
     "text": [
      " 26%|████████████████████████████▏                                                                               | 3593/13795 [02:48<01:33, 108.77it/s]"
     ]
    },
    {
     "name": "stdout",
     "output_type": "stream",
     "text": [
      "Expected hidden states size: (13, B, |s|, 768). Got (13, 1024, 128, 768)\n"
     ]
    },
    {
     "name": "stderr",
     "output_type": "stream",
     "text": [
      " 31%|█████████████████████████████████▏                                                                          | 4234/13795 [03:06<01:33, 101.82it/s]"
     ]
    },
    {
     "name": "stdout",
     "output_type": "stream",
     "text": [
      "Expected hidden states size: (13, B, |s|, 768). Got (13, 1024, 128, 768)\n"
     ]
    },
    {
     "name": "stderr",
     "output_type": "stream",
     "text": [
      " 37%|███████████████████████████████████████▊                                                                     | 5046/13795 [03:25<03:14, 44.87it/s]"
     ]
    },
    {
     "name": "stdout",
     "output_type": "stream",
     "text": [
      "Expected hidden states size: (13, B, |s|, 768). Got (13, 1024, 128, 768)\n"
     ]
    },
    {
     "name": "stderr",
     "output_type": "stream",
     "text": [
      " 39%|██████████████████████████████████████████▌                                                                  | 5392/13795 [03:47<06:30, 21.50it/s]"
     ]
    },
    {
     "name": "stdout",
     "output_type": "stream",
     "text": [
      "Expected hidden states size: (13, B, |s|, 768). Got (13, 1024, 128, 768)\n"
     ]
    },
    {
     "name": "stderr",
     "output_type": "stream",
     "text": [
      " 43%|██████████████████████████████████████████████▌                                                              | 5890/13795 [04:07<02:31, 52.32it/s]"
     ]
    },
    {
     "name": "stdout",
     "output_type": "stream",
     "text": [
      "Expected hidden states size: (13, B, |s|, 768). Got (13, 1024, 128, 768)\n"
     ]
    },
    {
     "name": "stderr",
     "output_type": "stream",
     "text": [
      " 45%|█████████████████████████████████████████████████▌                                                           | 6275/13795 [04:24<03:06, 40.23it/s]"
     ]
    },
    {
     "name": "stdout",
     "output_type": "stream",
     "text": [
      "Expected hidden states size: (13, B, |s|, 768). Got (13, 1024, 128, 768)\n"
     ]
    },
    {
     "name": "stderr",
     "output_type": "stream",
     "text": [
      " 50%|██████████████████████████████████████████████████████▉                                                      | 6956/13795 [04:43<02:36, 43.70it/s]"
     ]
    },
    {
     "name": "stdout",
     "output_type": "stream",
     "text": [
      "Expected hidden states size: (13, B, |s|, 768). Got (13, 1024, 128, 768)\n"
     ]
    },
    {
     "name": "stderr",
     "output_type": "stream",
     "text": [
      " 55%|████████████████████████████████████████████████████████████▍                                                | 7652/13795 [05:00<02:15, 45.27it/s]"
     ]
    },
    {
     "name": "stdout",
     "output_type": "stream",
     "text": [
      "Expected hidden states size: (13, B, |s|, 768). Got (13, 1024, 128, 768)\n"
     ]
    },
    {
     "name": "stderr",
     "output_type": "stream",
     "text": [
      " 62%|███████████████████████████████████████████████████████████████████▌                                         | 8550/13795 [05:19<01:14, 69.97it/s]"
     ]
    },
    {
     "name": "stdout",
     "output_type": "stream",
     "text": [
      "Expected hidden states size: (13, B, |s|, 768). Got (13, 1024, 128, 768)\n"
     ]
    },
    {
     "name": "stderr",
     "output_type": "stream",
     "text": [
      " 67%|█████████████████████████████████████████████████████████████████████████▎                                   | 9285/13795 [05:41<03:16, 22.91it/s]"
     ]
    },
    {
     "name": "stdout",
     "output_type": "stream",
     "text": [
      "Expected hidden states size: (13, B, |s|, 768). Got (13, 1024, 128, 768)\n"
     ]
    },
    {
     "name": "stderr",
     "output_type": "stream",
     "text": [
      " 70%|████████████████████████████████████████████████████████████████████████████▎                                | 9664/13795 [06:04<01:52, 36.67it/s]"
     ]
    },
    {
     "name": "stdout",
     "output_type": "stream",
     "text": [
      "Expected hidden states size: (13, B, |s|, 768). Got (13, 1024, 128, 768)\n"
     ]
    },
    {
     "name": "stderr",
     "output_type": "stream",
     "text": [
      " 74%|███████████████████████████████████████████████████████████████████████████████▊                            | 10194/13795 [06:27<01:36, 37.39it/s]"
     ]
    },
    {
     "name": "stdout",
     "output_type": "stream",
     "text": [
      "Expected hidden states size: (13, B, |s|, 768). Got (13, 1024, 128, 768)\n"
     ]
    },
    {
     "name": "stderr",
     "output_type": "stream",
     "text": [
      " 77%|███████████████████████████████████████████████████████████████████████████████████▏                        | 10632/13795 [06:50<01:55, 27.29it/s]"
     ]
    },
    {
     "name": "stdout",
     "output_type": "stream",
     "text": [
      "Expected hidden states size: (13, B, |s|, 768). Got (13, 1024, 128, 768)\n"
     ]
    },
    {
     "name": "stderr",
     "output_type": "stream",
     "text": [
      " 82%|████████████████████████████████████████████████████████████████████████████████████████▍                   | 11290/13795 [07:15<00:55, 44.78it/s]"
     ]
    },
    {
     "name": "stdout",
     "output_type": "stream",
     "text": [
      "Expected hidden states size: (13, B, |s|, 768). Got (13, 1024, 128, 768)\n"
     ]
    },
    {
     "name": "stderr",
     "output_type": "stream",
     "text": [
      " 84%|██████████████████████████████████████████████████████████████████████████████████████████▍                 | 11556/13795 [07:36<00:57, 39.01it/s]"
     ]
    },
    {
     "name": "stdout",
     "output_type": "stream",
     "text": [
      "Expected hidden states size: (13, B, |s|, 768). Got (13, 1024, 128, 768)\n"
     ]
    },
    {
     "name": "stderr",
     "output_type": "stream",
     "text": [
      " 86%|█████████████████████████████████████████████████████████████████████████████████████████████▍              | 11927/13795 [07:52<00:43, 43.04it/s]"
     ]
    },
    {
     "name": "stdout",
     "output_type": "stream",
     "text": [
      "Expected hidden states size: (13, B, |s|, 768). Got (13, 1024, 128, 768)\n"
     ]
    },
    {
     "name": "stderr",
     "output_type": "stream",
     "text": [
      " 90%|█████████████████████████████████████████████████████████████████████████████████████████████████▏          | 12408/13795 [08:10<00:27, 50.86it/s]"
     ]
    },
    {
     "name": "stdout",
     "output_type": "stream",
     "text": [
      "Expected hidden states size: (13, B, |s|, 768). Got (13, 1024, 128, 768)\n"
     ]
    },
    {
     "name": "stderr",
     "output_type": "stream",
     "text": [
      " 93%|████████████████████████████████████████████████████████████████████████████████████████████████████▎       | 12811/13795 [08:27<00:26, 36.81it/s]"
     ]
    },
    {
     "name": "stdout",
     "output_type": "stream",
     "text": [
      "Expected hidden states size: (13, B, |s|, 768). Got (13, 1024, 128, 768)\n"
     ]
    },
    {
     "name": "stderr",
     "output_type": "stream",
     "text": [
      " 96%|███████████████████████████████████████████████████████████████████████████████████████████████████████▌    | 13222/13795 [08:47<00:14, 38.82it/s]"
     ]
    },
    {
     "name": "stdout",
     "output_type": "stream",
     "text": [
      "Expected hidden states size: (13, B, |s|, 768). Got (13, 1024, 128, 768)\n"
     ]
    },
    {
     "name": "stderr",
     "output_type": "stream",
     "text": [
      "100%|███████████████████████████████████████████████████████████████████████████████████████████████████████████▌| 13736/13795 [09:11<00:01, 35.91it/s]"
     ]
    },
    {
     "name": "stdout",
     "output_type": "stream",
     "text": [
      "Expected hidden states size: (13, B, |s|, 768). Got (13, 1024, 128, 768)\n"
     ]
    },
    {
     "name": "stderr",
     "output_type": "stream",
     "text": [
      "100%|████████████████████████████████████████████████████████████████████████████████████████████████████████████| 13795/13795 [09:21<00:00, 24.57it/s]\n"
     ]
    },
    {
     "name": "stdout",
     "output_type": "stream",
     "text": [
      "saving usages for decade\n"
     ]
    }
   ],
   "source": [
    "### collect just the usages and not the vectors. \n",
    "\n",
    "for decade in decades:\n",
    "    collect_from_coha(targets,\n",
    "                      [decade],\n",
    "                      sequence_length=sequence_length,\n",
    "                      pretrained_weights=bert_dir,\n",
    "                      coha_dir=coha_dir,\n",
    "                      output_path='{}/usages_with_vectors_16_len{}_{}.dict'.format(output_dir, sequence_length, decade),\n",
    "                      buffer_size=buffer_size)"
   ]
  },
  {
   "cell_type": "code",
   "execution_count": null,
   "id": "d959de78",
   "metadata": {},
   "outputs": [],
   "source": [
    "# import pickle\n",
    "# import argparse\n",
    "# import numpy as np\n",
    "# from usage_collector import collect_from_coha\n",
    "\n",
    "# parser = argparse.ArgumentParser()\n",
    "# parser.add_argument('--seqlen', type=int, default=128)\n",
    "# parser.add_argument('--bertdir', type=str, default='models/bert-base-uncased')\n",
    "# parser.add_argument('--cohadir', type=str, default='data/coha')\n",
    "# parser.add_argument('--outdir', type=str, default='data')\n",
    "# parser.add_argument('--buffer', type=int, default=1024)\n",
    "\n",
    "# args = parser.parse_args()\n",
    "\n",
    "# targets = ['net', 'virtual', 'disk', 'card', 'optical', 'virus',\n",
    "#            'signal', 'mirror', 'energy', 'compact', 'leaf',\n",
    "#            'brick', 'federal', 'sphere', 'coach', 'spine', 'parent', 'sleep']\n",
    "\n",
    "# print('{}\\nSEQUENCE LENGTH: {}\\n{}'.format('-' * 30, args.seqlen, '-' * 30))\n",
    "\n",
    "# # decades = list(np.arange(1910, 2001, 10))\n",
    "# # decades = list(np.arange(1810, 1811, 10))\n",
    "\n",
    "# for decade in np.arange(1910, 2009, 10):\n",
    "#     collect_from_coha(targets,\n",
    "#                       [decade],\n",
    "#                       sequence_length=args.seqlen,\n",
    "#                       pretrained_weights=args.bertdir,\n",
    "#                       coha_dir=args.cohadir,\n",
    "#                       output_path='{}/concat/usages_16_len{}_{}.dict'.format(args.outdir, args.seqlen, decade),\n",
    "#                       buffer_size=args.buffer)\n",
    "\n",
    "#     # # Save usages\n",
    "#     # with open('{}/concat/usages_16_len{}_{}.dict'.format(args.outdir, args.seqlen, decade), 'wb') as f:\n",
    "#     #     pickle.dump(usages, file=f)\n",
    "#     # usages = None\n"
   ]
  },
  {
   "cell_type": "code",
   "execution_count": null,
   "id": "6d167699",
   "metadata": {},
   "outputs": [],
   "source": [
    "with open('/Users/gabriellachronis/Box Sync/src/cwr4lsc/test_output', 'rb') as file:\n",
    "\n",
    "    # dump information to that file\n",
    "    data = pickle.load(file)"
   ]
  },
  {
   "cell_type": "code",
   "execution_count": null,
   "id": "f31073d5",
   "metadata": {},
   "outputs": [],
   "source": []
  }
 ],
 "metadata": {
  "kernelspec": {
   "display_name": "gabriella_cwr4lsc",
   "language": "python",
   "name": "gabriella_cwr4lsc"
  },
  "language_info": {
   "codemirror_mode": {
    "name": "ipython",
    "version": 3
   },
   "file_extension": ".py",
   "mimetype": "text/x-python",
   "name": "python",
   "nbconvert_exporter": "python",
   "pygments_lexer": "ipython3",
   "version": "3.10.9"
  }
 },
 "nbformat": 4,
 "nbformat_minor": 5
}
