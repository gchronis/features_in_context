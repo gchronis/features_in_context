{
 "cells": [
  {
   "cell_type": "code",
   "execution_count": 10,
   "id": "a46e36f4",
   "metadata": {},
   "outputs": [],
   "source": [
    "import os\n",
    "import pickle\n",
    "\n",
    "import torch\n",
    "import numpy as np\n",
    "from tqdm import tqdm\n",
    "from collections import defaultdict\n",
    "from transformers import BertModel, BertTokenizer\n",
    "import re\n",
    "import csv   \n",
    "\n",
    "import sys\n",
    "sys.path.append(\"..\")\n",
    "from src.bert import *\n",
    "\n",
    "\n",
    "def get_context(token_ids, target_position, sequence_length=128):\n",
    "    \"\"\"\n",
    "    Given a text containing a target word, return the sentence snippet which surrounds the target word\n",
    "    (and the target word's position in the snippet).\n",
    "\n",
    "    :param token_ids: list of token ids (for an entire line of text)\n",
    "    :param target_position: index of the target word's position in `tokens`\n",
    "    :param sequence_length: desired length for output sequence (e.g. 128, 256, 512)\n",
    "    :return: (context_ids, new_target_position)\n",
    "                context_ids: list of token ids for the output sequence\n",
    "                new_target_position: index of the target word's position in `context_ids`\n",
    "    \"\"\"\n",
    "    # -2 as [CLS] and [SEP] tokens will be added later; /2 as it's a one-sided window\n",
    "    window_size = int((sequence_length - 2) / 2)\n",
    "    context_start = max([0, target_position - window_size])\n",
    "    padding_offset = max([0, window_size - target_position])\n",
    "    padding_offset += max([0, target_position + window_size - len(token_ids)])\n",
    "\n",
    "    context_ids = token_ids[context_start:target_position + window_size]\n",
    "    context_ids += padding_offset * [0]\n",
    "\n",
    "    new_target_position = target_position - context_start\n",
    "\n",
    "    return context_ids, new_target_position\n",
    "\n",
    "def get_usage_vectors( model,\n",
    "                       batch_input_ids,\n",
    "                       batch_tokens,\n",
    "                       batch_snippets,\n",
    "                       batch_pos, \n",
    "                       batch_decades):\n",
    "    \n",
    "    with torch.no_grad():\n",
    "        # collect list of input ids into a single batch tensor\n",
    "        input_ids_tensor = torch.tensor(batch_input_ids)\n",
    "        if torch.cuda.is_available():\n",
    "            input_ids_tensor = input_ids_tensor.to('cuda')\n",
    "\n",
    "            \n",
    "        #print(input_ids_tensor)\n",
    "        # run usages through language model\n",
    "        outputs = model(input_ids_tensor,  output_hidden_states=True )\n",
    "        #print(len(outputs.hidden_states)) # items in the tuple = 1 + num layers\n",
    "        if torch.cuda.is_available():\n",
    "            hidden_states = [l.detach().cpu().clone().numpy() for l in outputs[2]]\n",
    "        else:\n",
    "            #print(\"fjekl\")\n",
    "            hidden_states = [l.clone().numpy() for l in outputs.hidden_states]\n",
    "\n",
    "        # get usage vectors from hidden states\n",
    "        hidden_states = np.stack(hidden_states)  # (13, B, |s|, 768)\n",
    "        #print('Expected hidden states size: (13, B, |s|, 768). Got {}'.format(hidden_states.shape))\n",
    "        # usage_vectors = np.sum(hidden_states, 0)  # (B, |s|, 768)\n",
    "        # usage_vectors = hidden_states.view(hidden_states.shape[1],\n",
    "        #                                    hidden_states.shape[2],\n",
    "        #                                    -1)\n",
    "        usage_vectors = np.sum(hidden_states[1:, :, :, :], axis=0)\n",
    "        \n",
    "        # usage_vectors = hidden_states.reshape((hidden_states.shape[1], hidden_states.shape[2], -1))\n",
    "        #print(usage_vectors.shape)\n",
    "        return usage_vectors\n",
    "    \n",
    "def get_feature_vectors( model,\n",
    "                        feature_model,\n",
    "                       batch_input_ids,\n",
    "                       batch_tokens,\n",
    "                       batch_snippets,\n",
    "                       batch_pos, \n",
    "                       batch_decades):\n",
    "    \n",
    "    with torch.no_grad():\n",
    "        # collect list of input ids into a single batch tensor\n",
    "        input_ids_tensor = torch.tensor(batch_input_ids)\n",
    "        if torch.cuda.is_available():\n",
    "            input_ids_tensor = input_ids_tensor.to('cuda')\n",
    "\n",
    "            \n",
    "        #print(input_ids_tensor)\n",
    "        # run usages through language model\n",
    "        outputs = model(input_ids_tensor,  output_hidden_states=True )\n",
    "        #print(len(outputs.hidden_states)) # items in the tuple = 1 + num layers\n",
    "        if torch.cuda.is_available():\n",
    "            hidden_states = [l.detach().cpu().clone().numpy() for l in outputs[2]]\n",
    "        else:\n",
    "            #print(\"fjekl\")\n",
    "            hidden_states = [l.clone().numpy() for l in outputs.hidden_states]\n",
    "\n",
    "        # get usage vectors from hidden states\n",
    "        hidden_states = np.stack(hidden_states)  # (13, B, |s|, 768)\n",
    "        print('Expected hidden states size: (13, B, |s|, 768). Got {}'.format(hidden_states.shape))\n",
    "        # usage_vectors = np.sum(hidden_states, 0)  # (B, |s|, 768)\n",
    "        # usage_vectors = hidden_states.view(hidden_states.shape[1],\n",
    "        #                                    hidden_states.shape[2],\n",
    "        #                                    -1)\n",
    "        \n",
    "        #print(hidden_states.shape)\n",
    "        #print(hidden_states[1:, :, :, :].shape)\n",
    "        usage_vectors = hidden_states[8, :, :, :] # get the 8th layer, which the model expects as input\n",
    "        \n",
    "        # usage_vectors = hidden_states.reshape((hidden_states.shape[1], hidden_states.shape[2], -1))\n",
    "        #print(usage_vectors.shape)\n",
    "        \n",
    "        \n",
    "        \n",
    "        return usage_vectors\n",
    "\n",
    "\n",
    "def collect_from_coha(target_words,\n",
    "                      decades,\n",
    "                      sequence_length,\n",
    "                      pretrained_weights='models/bert-base-uncased',\n",
    "                      coha_dir='data/coha',\n",
    "                      output_path=None,\n",
    "                      buffer_size=1024,\n",
    "                      feature_model=None):\n",
    "    \"\"\"\n",
    "    Collect usages of target words from the COHA dataset.\n",
    "\n",
    "    :param target_words: list of words whose usages are to be collected\n",
    "    :param decades: list of year integers (e.g. list(np.arange(1910, 2001, 10)))\n",
    "    :param sequence_length: the number of tokens in the context of a word occurrence\n",
    "    :param pretrained_weights: path to model folder with weights and config file\n",
    "    :param coha_dir: path to COHA directory (containing `all_1810.txt`, ..., `all_2000.txt`)\n",
    "    :param output_path: path to output file for `usages` dictionary. If provided, data is stored\n",
    "                        in this file incrementally (use e.g. to avoid out of memory errors)\n",
    "    :param buffer_size: (max) number of usages to process in a single model run\n",
    "    :return: usages: a dictionary from target words to lists of usage tuples\n",
    "                     lemma -> [(vector, sentence, word_position, decade), (v, s, p, d), ...]\n",
    "    \"\"\"\n",
    "\n",
    "    # load model and tokenizer\n",
    "    tokenizer = BertTokenizer.from_pretrained(pretrained_weights)\n",
    "    model = BertModel.from_pretrained(pretrained_weights)\n",
    "    if torch.cuda.is_available():\n",
    "        model.to('cuda')\n",
    "        \n",
    "        \n",
    "    feature_model = torch.load(feature_model)\n",
    "\n",
    "\n",
    "    # build word-index vocabulary for target words\n",
    "    i2w = {}\n",
    "    for t, t_id in zip(target_words, tokenizer.encode(' '.join(target_words))[1:-1]): #changed for new hugginface api\n",
    "        i2w[t_id] = t\n",
    "\n",
    "    # buffers for batch processing\n",
    "    batch_input_ids = []\n",
    "    batch_tokens = []\n",
    "    batch_pos = []\n",
    "    batch_snippets = []\n",
    "    batch_decades = []\n",
    "\n",
    "    usages = defaultdict(list)  # w -> (vector, sentence, word_position, decade)\n",
    "    \n",
    "    # do collection\n",
    "    \n",
    "    print(len(decades))\n",
    "    for T, decade in enumerate(decades):\n",
    "        # one time interval at a time\n",
    "        print('Decade {}...'.format(decade))\n",
    "\n",
    "        \n",
    "        ### gabriella changes\n",
    "        ### my coha is organized differently. \n",
    "        ### the decades have random numbers for the alphabet index places , so i have to use regex\n",
    "        ### to ignore that. \n",
    "        print(coha_dir)\n",
    "        print(decade)\n",
    "        my_regex = r'text_' + re.escape(str(decade)) + 's.*'\n",
    "\n",
    "        #print(\"running through decade \", decade)\n",
    "\n",
    "        # iterate through directories\n",
    "        for decade_dir in os.listdir(coha_dir):\n",
    "\n",
    "            if re.match(my_regex, decade_dir):\n",
    "                # get all the text files for that decade\n",
    "                # iterate through text files for this decade\n",
    "                this_decade_files = os.listdir(os.path.join(coha_dir, decade_dir))\n",
    "                for F, filename in enumerate(tqdm(this_decade_files)):\n",
    "                    #print(filename)\n",
    "                    \n",
    "                    with open(os.path.join(coha_dir, decade_dir, filename), 'r') as f:\n",
    "                        lines = f.readlines()\n",
    "                        #print(\"gets here\")\n",
    "\n",
    "                        # get the usages from this file\n",
    "                        for L, line in enumerate(lines):\n",
    "                            #print(\"gets to line: \", L)\n",
    "\n",
    "\n",
    "\n",
    "                            # tokenize line and convert to token ids\n",
    "                            tokens = tokenizer.encode(line)\n",
    "\n",
    "                            for pos, token in enumerate(tokens):\n",
    "                                #print(token)\n",
    "                                # store usage info of target words only\n",
    "                                if token in i2w:\n",
    "                                    context_ids, pos_in_context = get_context(tokens, pos, sequence_length)\n",
    "\n",
    "                                    input_ids = [101] + context_ids + [102]\n",
    "\n",
    "\n",
    "                                    # convert later to save storage space\n",
    "                                    snippet = tokenizer.convert_ids_to_tokens(context_ids)\n",
    "                                    #print(i2w[token])\n",
    "                                    #print(' '.join(snippet))\n",
    "\n",
    "                                    # add usage info to buffers\n",
    "                                    batch_input_ids.append(input_ids)\n",
    "                                    batch_tokens.append(i2w[token])\n",
    "                                    batch_pos.append(pos_in_context)\n",
    "                                    batch_snippets.append(snippet)\n",
    "                                    batch_decades.append(decade)\n",
    "\n",
    "#                                 print(\"batch size \", len(batch_input_ids))\n",
    "#                                 print(\"lines left \", len(lines) - L)\n",
    "#                                 print(\"files left in this decade\" , len(this_decade_files) - F)\n",
    "#                                 print(\"decades left\", len(decades) - T)\n",
    "                                    \n",
    "                                # if the buffers are full...             or if we're at the end of the dataset\n",
    "                                if (len(batch_input_ids) >= buffer_size) or (L == len(lines) - 1 and T == len(decades) - 1 and F==len(this_decade_files)):\n",
    "                                    \n",
    "                                    usage_vectors = get_feature_vectors(\n",
    "                                        model,\n",
    "                                        feature_model,\n",
    "                                        batch_input_ids,\n",
    "                                        batch_tokens,\n",
    "                                        batch_snippets, \n",
    "                                        batch_pos, \n",
    "                                        batch_decades )\n",
    "\n",
    "\n",
    "                                    # store usage tuples in a dictionary: lemma -> (vector, snippet, position, decade)\n",
    "                                    #print(len(batch_input_ids))\n",
    "                                    for b in np.arange(len(batch_input_ids)):\n",
    "                                        #print(usage_vectors.shape)\n",
    "                                        layer_8_bert_vector = usage_vectors[b, batch_pos[b]+1, :] # get the right position\n",
    "                                        \n",
    "                                        word, feature_vector = feature_model.predict_from_single_context_vector(batch_tokens[b], layer_8_bert_vector)\n",
    "                                        \n",
    "                                        usages[batch_tokens[b]].append(\n",
    "                                             (feature_vector, batch_snippets[b], batch_pos[b], batch_decades[b]))\n",
    "                                    \n",
    "#                                     print(usages)\n",
    "                        \n",
    "                                    # finally, empty the batch buffers\n",
    "                                    batch_input_ids, batch_tokens, batch_pos, batch_snippets, batch_decades = [], [], [], [], []\n",
    "                        \n",
    "        print(\"saving usages for decade\")\n",
    "        if os.path.exists(output_path):\n",
    "            append_write = 'ab' # append if already exists\n",
    "        else:\n",
    "            append_write = 'wb' # make a new file if not\n",
    "\n",
    "        # and store data incrementally\n",
    "        if output_path:\n",
    "            #print(append_write)\n",
    "            with open(output_path, append_write) as f:\n",
    "                pickle.dump(usages, file=f)\n",
    "    \n",
    "\n",
    "    return usages\n"
   ]
  },
  {
   "cell_type": "code",
   "execution_count": null,
   "id": "b4ee1f40-2823-42f1-bf3a-571963e199c0",
   "metadata": {},
   "outputs": [],
   "source": []
  },
  {
   "cell_type": "code",
   "execution_count": 11,
   "id": "815298a2",
   "metadata": {},
   "outputs": [
    {
     "name": "stdout",
     "output_type": "stream",
     "text": [
      "10\n"
     ]
    }
   ],
   "source": [
    "# Target words: we want to collect tokens of each of these words from COHA\n",
    "\n",
    "targets = ['net', 'virtual', 'disk', 'card', 'optical', 'virus',\n",
    "           'signal', 'mirror', 'energy', 'compact', 'leaf',\n",
    "           'brick', 'federal', 'sphere', 'coach', 'spine', 'parent', 'sleep', 'fire']\n",
    "\n",
    "decades = [decade for decade in np.arange(1910, 2009, 10)]\n",
    "print(len(decades))\n",
    "\n",
    "buffer_size=1024\n",
    "sequence_length=128\n",
    "\n",
    "\n",
    "coha_dir = '/home/shared/corpora/Corpus of Historical American English/TEXTS'\n",
    "bert_dir = 'bert-base-uncased'\n",
    "output_dir = '../data/cwr4lsc/binder'\n",
    "feature_model = '../trained_models/model.ffnn.binder.5k.50epochs.0.5dropout.lr1e-4.hsize300'"
   ]
  },
  {
   "cell_type": "code",
   "execution_count": null,
   "id": "e0889b8d",
   "metadata": {},
   "outputs": [
    {
     "name": "stderr",
     "output_type": "stream",
     "text": [
      "Some weights of the model checkpoint at bert-base-uncased were not used when initializing BertModel: ['cls.predictions.bias', 'cls.predictions.transform.dense.weight', 'cls.predictions.transform.LayerNorm.bias', 'cls.predictions.transform.dense.bias', 'cls.seq_relationship.bias', 'cls.seq_relationship.weight', 'cls.predictions.transform.LayerNorm.weight']\n",
      "- This IS expected if you are initializing BertModel from the checkpoint of a model trained on another task or with another architecture (e.g. initializing a BertForSequenceClassification model from a BertForPreTraining model).\n",
      "- This IS NOT expected if you are initializing BertModel from the checkpoint of a model that you expect to be exactly identical (initializing a BertForSequenceClassification model from a BertForSequenceClassification model).\n"
     ]
    },
    {
     "name": "stdout",
     "output_type": "stream",
     "text": [
      "1\n",
      "Decade 1910...\n",
      "/home/shared/corpora/Corpus of Historical American English/TEXTS\n",
      "1910\n"
     ]
    },
    {
     "name": "stderr",
     "output_type": "stream",
     "text": [
      "  0%|                                                                                                                                                                                  | 0/3355 [00:00<?, ?it/s]Token indices sequence length is longer than the specified maximum sequence length for this model (7482 > 512). Running this sequence through the model will result in indexing errors\n",
      "  7%|███████████▊                                                                                                                                                            | 237/3355 [00:14<02:44, 18.90it/s]"
     ]
    },
    {
     "name": "stdout",
     "output_type": "stream",
     "text": [
      "Expected hidden states size: (13, B, |s|, 768). Got (13, 1024, 128, 768)\n"
     ]
    },
    {
     "name": "stderr",
     "output_type": "stream",
     "text": [
      " 14%|████████████████████████▎                                                                                                                                               | 486/3355 [00:34<03:57, 12.10it/s]"
     ]
    },
    {
     "name": "stdout",
     "output_type": "stream",
     "text": [
      "Expected hidden states size: (13, B, |s|, 768). Got (13, 1024, 128, 768)\n"
     ]
    },
    {
     "name": "stderr",
     "output_type": "stream",
     "text": [
      " 23%|██████████████████████████████████████▋                                                                                                                                 | 772/3355 [00:52<01:34, 27.28it/s]"
     ]
    },
    {
     "name": "stdout",
     "output_type": "stream",
     "text": [
      "Expected hidden states size: (13, B, |s|, 768). Got (13, 1024, 128, 768)\n"
     ]
    },
    {
     "name": "stderr",
     "output_type": "stream",
     "text": [
      " 31%|███████████████████████████████████████████████████▌                                                                                                                   | 1037/3355 [01:11<03:03, 12.63it/s]"
     ]
    },
    {
     "name": "stdout",
     "output_type": "stream",
     "text": [
      "Expected hidden states size: (13, B, |s|, 768). Got (13, 1024, 128, 768)\n"
     ]
    },
    {
     "name": "stderr",
     "output_type": "stream",
     "text": [
      " 35%|███████████████████████████████████████████████████████████▎                                                                                                           | 1191/3355 [01:32<21:27,  1.68it/s]"
     ]
    },
    {
     "name": "stdout",
     "output_type": "stream",
     "text": [
      "Expected hidden states size: (13, B, |s|, 768). Got (13, 1024, 128, 768)\n"
     ]
    },
    {
     "name": "stderr",
     "output_type": "stream",
     "text": [
      " 37%|████████████████████████████████████████████████████████████▉                                                                                                          | 1225/3355 [01:51<15:10,  2.34it/s]"
     ]
    },
    {
     "name": "stdout",
     "output_type": "stream",
     "text": [
      "Expected hidden states size: (13, B, |s|, 768). Got (13, 1024, 128, 768)\n"
     ]
    },
    {
     "name": "stderr",
     "output_type": "stream",
     "text": [
      " 38%|███████████████████████████████████████████████████████████████                                                                                                        | 1267/3355 [02:07<10:03,  3.46it/s]"
     ]
    },
    {
     "name": "stdout",
     "output_type": "stream",
     "text": [
      "Expected hidden states size: (13, B, |s|, 768). Got (13, 1024, 128, 768)\n"
     ]
    },
    {
     "name": "stderr",
     "output_type": "stream",
     "text": [
      " 39%|████████████████████████████████████████████████████████████████▍                                                                                                      | 1294/3355 [02:24<27:34,  1.25it/s]"
     ]
    },
    {
     "name": "stdout",
     "output_type": "stream",
     "text": [
      "Expected hidden states size: (13, B, |s|, 768). Got (13, 1024, 128, 768)\n"
     ]
    },
    {
     "name": "stderr",
     "output_type": "stream",
     "text": [
      " 39%|█████████████████████████████████████████████████████████████████▉                                                                                                     | 1325/3355 [02:42<21:12,  1.60it/s]"
     ]
    },
    {
     "name": "stdout",
     "output_type": "stream",
     "text": [
      "Expected hidden states size: (13, B, |s|, 768). Got (13, 1024, 128, 768)\n"
     ]
    },
    {
     "name": "stderr",
     "output_type": "stream",
     "text": [
      " 40%|██████████████████████████████████████████████████████████████████▉                                                                                                    | 1346/3355 [02:56<12:32,  2.67it/s]"
     ]
    },
    {
     "name": "stdout",
     "output_type": "stream",
     "text": [
      "Expected hidden states size: (13, B, |s|, 768). Got (13, 1024, 128, 768)\n"
     ]
    },
    {
     "name": "stderr",
     "output_type": "stream",
     "text": [
      " 41%|████████████████████████████████████████████████████████████████████▍                                                                                                  | 1374/3355 [03:13<04:42,  7.02it/s]"
     ]
    },
    {
     "name": "stdout",
     "output_type": "stream",
     "text": [
      "Expected hidden states size: (13, B, |s|, 768). Got (13, 1024, 128, 768)\n"
     ]
    },
    {
     "name": "stderr",
     "output_type": "stream",
     "text": [
      " 42%|█████████████████████████████████████████████████████████████████████▊                                                                                                 | 1403/3355 [03:33<14:02,  2.32it/s]"
     ]
    },
    {
     "name": "stdout",
     "output_type": "stream",
     "text": [
      "Expected hidden states size: (13, B, |s|, 768). Got (13, 1024, 128, 768)\n"
     ]
    },
    {
     "name": "stderr",
     "output_type": "stream",
     "text": [
      " 42%|██████████████████████████████████████████████████████████████████████▌                                                                                                | 1417/3355 [03:45<16:46,  1.93it/s]"
     ]
    },
    {
     "name": "stdout",
     "output_type": "stream",
     "text": [
      "Expected hidden states size: (13, B, |s|, 768). Got (13, 1024, 128, 768)\n"
     ]
    },
    {
     "name": "stderr",
     "output_type": "stream",
     "text": [
      " 43%|████████████████████████████████████████████████████████████████████████▎                                                                                              | 1452/3355 [04:04<11:22,  2.79it/s]"
     ]
    },
    {
     "name": "stdout",
     "output_type": "stream",
     "text": [
      "Expected hidden states size: (13, B, |s|, 768). Got (13, 1024, 128, 768)\n"
     ]
    },
    {
     "name": "stderr",
     "output_type": "stream",
     "text": [
      " 45%|███████████████████████████████████████████████████████████████████████████                                                                                            | 1508/3355 [04:24<15:01,  2.05it/s]"
     ]
    },
    {
     "name": "stdout",
     "output_type": "stream",
     "text": [
      "Expected hidden states size: (13, B, |s|, 768). Got (13, 1024, 128, 768)\n"
     ]
    },
    {
     "name": "stderr",
     "output_type": "stream",
     "text": [
      " 46%|████████████████████████████████████████████████████████████████████████████▍                                                                                          | 1536/3355 [04:44<11:36,  2.61it/s]"
     ]
    },
    {
     "name": "stdout",
     "output_type": "stream",
     "text": [
      "Expected hidden states size: (13, B, |s|, 768). Got (13, 1024, 128, 768)\n"
     ]
    },
    {
     "name": "stderr",
     "output_type": "stream",
     "text": [
      " 47%|█████████████████████████████████████████████████████████████████████████████▊                                                                                         | 1563/3355 [05:01<14:24,  2.07it/s]"
     ]
    },
    {
     "name": "stdout",
     "output_type": "stream",
     "text": [
      "Expected hidden states size: (13, B, |s|, 768). Got (13, 1024, 128, 768)\n"
     ]
    },
    {
     "name": "stderr",
     "output_type": "stream",
     "text": [
      " 63%|█████████████████████████████████████████████████████████████████████████████████████████████████████████▋                                                             | 2124/3355 [05:16<00:13, 89.34it/s]"
     ]
    },
    {
     "name": "stdout",
     "output_type": "stream",
     "text": [
      "Expected hidden states size: (13, B, |s|, 768). Got (13, 1024, 128, 768)\n"
     ]
    },
    {
     "name": "stderr",
     "output_type": "stream",
     "text": [
      " 98%|██████████████████████████████████████████████████████████████████████████████████████████████████████████████████████████████████████████████████████████████████▋   | 3288/3355 [05:32<00:00, 102.52it/s]"
     ]
    },
    {
     "name": "stdout",
     "output_type": "stream",
     "text": [
      "Expected hidden states size: (13, B, |s|, 768). Got (13, 1024, 128, 768)\n"
     ]
    },
    {
     "name": "stderr",
     "output_type": "stream",
     "text": [
      "100%|███████████████████████████████████████████████████████████████████████████████████████████████████████████████████████████████████████████████████████████████████████| 3355/3355 [05:37<00:00,  9.95it/s]\n"
     ]
    },
    {
     "name": "stdout",
     "output_type": "stream",
     "text": [
      "saving usages for decade\n"
     ]
    },
    {
     "name": "stderr",
     "output_type": "stream",
     "text": [
      "Some weights of the model checkpoint at bert-base-uncased were not used when initializing BertModel: ['cls.predictions.bias', 'cls.predictions.transform.dense.weight', 'cls.predictions.transform.LayerNorm.bias', 'cls.predictions.transform.dense.bias', 'cls.seq_relationship.bias', 'cls.seq_relationship.weight', 'cls.predictions.transform.LayerNorm.weight']\n",
      "- This IS expected if you are initializing BertModel from the checkpoint of a model trained on another task or with another architecture (e.g. initializing a BertForSequenceClassification model from a BertForPreTraining model).\n",
      "- This IS NOT expected if you are initializing BertModel from the checkpoint of a model that you expect to be exactly identical (initializing a BertForSequenceClassification model from a BertForSequenceClassification model).\n"
     ]
    },
    {
     "name": "stdout",
     "output_type": "stream",
     "text": [
      "1\n",
      "Decade 1920...\n",
      "/home/shared/corpora/Corpus of Historical American English/TEXTS\n",
      "1920\n"
     ]
    },
    {
     "name": "stderr",
     "output_type": "stream",
     "text": [
      "  0%|                                                                                                                                                                                 | 0/11557 [00:00<?, ?it/s]Token indices sequence length is longer than the specified maximum sequence length for this model (5408 > 512). Running this sequence through the model will result in indexing errors\n",
      "  9%|██████████████▏                                                                                                                                                        | 983/11557 [00:18<03:48, 46.23it/s]"
     ]
    },
    {
     "name": "stdout",
     "output_type": "stream",
     "text": [
      "Expected hidden states size: (13, B, |s|, 768). Got (13, 1024, 128, 768)\n"
     ]
    },
    {
     "name": "stderr",
     "output_type": "stream",
     "text": [
      " 24%|████████████████████████████████████████▏                                                                                                                            | 2813/11557 [00:40<00:37, 230.32it/s]"
     ]
    },
    {
     "name": "stdout",
     "output_type": "stream",
     "text": [
      "Expected hidden states size: (13, B, |s|, 768). Got (13, 1024, 128, 768)\n"
     ]
    },
    {
     "name": "stderr",
     "output_type": "stream",
     "text": [
      " 43%|██████████████████████████████████████████████████████████████████████▎                                                                                              | 4928/11557 [01:00<00:30, 217.56it/s]"
     ]
    },
    {
     "name": "stdout",
     "output_type": "stream",
     "text": [
      "Expected hidden states size: (13, B, |s|, 768). Got (13, 1024, 128, 768)\n"
     ]
    },
    {
     "name": "stderr",
     "output_type": "stream",
     "text": [
      " 56%|████████████████████████████████████████████████████████████████████████████████████████████▍                                                                        | 6475/11557 [01:21<00:21, 239.33it/s]"
     ]
    },
    {
     "name": "stdout",
     "output_type": "stream",
     "text": [
      "Expected hidden states size: (13, B, |s|, 768). Got (13, 1024, 128, 768)\n"
     ]
    },
    {
     "name": "stderr",
     "output_type": "stream",
     "text": [
      " 62%|███████████████████████████████████████████████████████████████████████████████████████████████████████▋                                                              | 7223/11557 [01:36<05:40, 12.73it/s]"
     ]
    },
    {
     "name": "stdout",
     "output_type": "stream",
     "text": [
      "Expected hidden states size: (13, B, |s|, 768). Got (13, 1024, 128, 768)\n"
     ]
    },
    {
     "name": "stderr",
     "output_type": "stream",
     "text": [
      " 64%|█████████████████████████████████████████████████████████████████████████████████████████████████████████▌                                                            | 7352/11557 [01:54<11:20,  6.18it/s]"
     ]
    },
    {
     "name": "stdout",
     "output_type": "stream",
     "text": [
      "Expected hidden states size: (13, B, |s|, 768). Got (13, 1024, 128, 768)\n"
     ]
    },
    {
     "name": "stderr",
     "output_type": "stream",
     "text": [
      " 64%|█████████████████████████████████████████████████████████████████████████████████████████████████████████▉                                                            | 7372/11557 [02:14<37:08,  1.88it/s]"
     ]
    },
    {
     "name": "stdout",
     "output_type": "stream",
     "text": [
      "Expected hidden states size: (13, B, |s|, 768). Got (13, 1024, 128, 768)\n"
     ]
    },
    {
     "name": "stderr",
     "output_type": "stream",
     "text": [
      " 64%|██████████████████████████████████████████████████████████████████████████████████████████████████████████▏                                                           | 7393/11557 [02:29<55:34,  1.25it/s]"
     ]
    },
    {
     "name": "stdout",
     "output_type": "stream",
     "text": [
      "Expected hidden states size: (13, B, |s|, 768). Got (13, 1024, 128, 768)\n"
     ]
    },
    {
     "name": "stderr",
     "output_type": "stream",
     "text": [
      " 64%|██████████████████████████████████████████████████████████████████████████████████████████████████████████▍                                                           | 7412/11557 [02:48<44:38,  1.55it/s]"
     ]
    },
    {
     "name": "stdout",
     "output_type": "stream",
     "text": [
      "Expected hidden states size: (13, B, |s|, 768). Got (13, 1024, 128, 768)\n"
     ]
    },
    {
     "name": "stderr",
     "output_type": "stream",
     "text": [
      " 64%|██████████████████████████████████████████████████████████████████████████████████████████████████████████▋                                                           | 7431/11557 [03:03<53:44,  1.28it/s]"
     ]
    },
    {
     "name": "stdout",
     "output_type": "stream",
     "text": [
      "Expected hidden states size: (13, B, |s|, 768). Got (13, 1024, 128, 768)\n"
     ]
    },
    {
     "name": "stderr",
     "output_type": "stream",
     "text": [
      " 64%|███████████████████████████████████████████████████████████████████████████████████████████████████████████                                                           | 7452/11557 [03:20<47:54,  1.43it/s]"
     ]
    },
    {
     "name": "stdout",
     "output_type": "stream",
     "text": [
      "Expected hidden states size: (13, B, |s|, 768). Got (13, 1024, 128, 768)\n"
     ]
    },
    {
     "name": "stderr",
     "output_type": "stream",
     "text": [
      " 65%|███████████████████████████████████████████████████████████████████████████████████████████████████████████▌                                                          | 7491/11557 [03:38<35:38,  1.90it/s]"
     ]
    },
    {
     "name": "stdout",
     "output_type": "stream",
     "text": [
      "Expected hidden states size: (13, B, |s|, 768). Got (13, 1024, 128, 768)\n"
     ]
    },
    {
     "name": "stderr",
     "output_type": "stream",
     "text": [
      " 65%|███████████████████████████████████████████████████████████████████████████████████████████████████████████▉                                                          | 7517/11557 [03:55<59:13,  1.14it/s]"
     ]
    },
    {
     "name": "stdout",
     "output_type": "stream",
     "text": [
      "Expected hidden states size: (13, B, |s|, 768). Got (13, 1024, 128, 768)\n"
     ]
    },
    {
     "name": "stderr",
     "output_type": "stream",
     "text": [
      " 65%|████████████████████████████████████████████████████████████████████████████████████████████████████████████▎                                                         | 7538/11557 [04:12<33:54,  1.98it/s]"
     ]
    },
    {
     "name": "stdout",
     "output_type": "stream",
     "text": [
      "Expected hidden states size: (13, B, |s|, 768). Got (13, 1024, 128, 768)\n"
     ]
    },
    {
     "name": "stderr",
     "output_type": "stream",
     "text": [
      " 66%|████████████████████████████████████████████████████████████████████████████████████████████████████████████▊                                                         | 7574/11557 [04:31<06:52,  9.65it/s]"
     ]
    },
    {
     "name": "stdout",
     "output_type": "stream",
     "text": [
      "Expected hidden states size: (13, B, |s|, 768). Got (13, 1024, 128, 768)\n"
     ]
    },
    {
     "name": "stderr",
     "output_type": "stream",
     "text": [
      " 66%|█████████████████████████████████████████████████████████████████████████████████████████████████████████████                                                         | 7594/11557 [04:48<38:33,  1.71it/s]"
     ]
    },
    {
     "name": "stdout",
     "output_type": "stream",
     "text": [
      "Expected hidden states size: (13, B, |s|, 768). Got (13, 1024, 128, 768)\n"
     ]
    },
    {
     "name": "stderr",
     "output_type": "stream",
     "text": [
      " 66%|██████████████████████████████████████████████████████████████████████████████████████████████████████████████                                                        | 7666/11557 [05:10<41:11,  1.57it/s]"
     ]
    },
    {
     "name": "stdout",
     "output_type": "stream",
     "text": [
      "Expected hidden states size: (13, B, |s|, 768). Got (13, 1024, 128, 768)\n"
     ]
    },
    {
     "name": "stderr",
     "output_type": "stream",
     "text": [
      " 67%|██████████████████████████████████████████████████████████████████████████████████████████████████████████████▋                                                       | 7702/11557 [05:26<15:44,  4.08it/s]"
     ]
    },
    {
     "name": "stdout",
     "output_type": "stream",
     "text": [
      "Expected hidden states size: (13, B, |s|, 768). Got (13, 1024, 128, 768)\n"
     ]
    },
    {
     "name": "stderr",
     "output_type": "stream",
     "text": [
      " 73%|████████████████████████████████████████████████████████████████████████████████████████████████████████████████████████▉                                             | 8416/11557 [05:44<00:34, 91.50it/s]"
     ]
    },
    {
     "name": "stdout",
     "output_type": "stream",
     "text": [
      "Expected hidden states size: (13, B, |s|, 768). Got (13, 1024, 128, 768)\n"
     ]
    },
    {
     "name": "stderr",
     "output_type": "stream",
     "text": [
      " 83%|█████████████████████████████████████████████████████████████████████████████████████████████████████████████████████████████████████████▍                           | 9629/11557 [06:01<00:19, 101.27it/s]"
     ]
    },
    {
     "name": "stdout",
     "output_type": "stream",
     "text": [
      "Expected hidden states size: (13, B, |s|, 768). Got (13, 1024, 128, 768)\n"
     ]
    },
    {
     "name": "stderr",
     "output_type": "stream",
     "text": [
      " 94%|██████████████████████████████████████████████████████████████████████████████████████████████████████████████████████████████████████████████████████████▍          | 10821/11557 [06:18<00:07, 96.10it/s]"
     ]
    },
    {
     "name": "stdout",
     "output_type": "stream",
     "text": [
      "Expected hidden states size: (13, B, |s|, 768). Got (13, 1024, 128, 768)\n"
     ]
    },
    {
     "name": "stderr",
     "output_type": "stream",
     "text": [
      "100%|█████████████████████████████████████████████████████████████████████████████████████████████████████████████████████████████████████████████████████████████████████| 11557/11557 [06:30<00:00, 29.63it/s]\n"
     ]
    },
    {
     "name": "stdout",
     "output_type": "stream",
     "text": [
      "saving usages for decade\n"
     ]
    },
    {
     "name": "stderr",
     "output_type": "stream",
     "text": [
      "Some weights of the model checkpoint at bert-base-uncased were not used when initializing BertModel: ['cls.predictions.bias', 'cls.predictions.transform.dense.weight', 'cls.predictions.transform.LayerNorm.bias', 'cls.predictions.transform.dense.bias', 'cls.seq_relationship.bias', 'cls.seq_relationship.weight', 'cls.predictions.transform.LayerNorm.weight']\n",
      "- This IS expected if you are initializing BertModel from the checkpoint of a model trained on another task or with another architecture (e.g. initializing a BertForSequenceClassification model from a BertForPreTraining model).\n",
      "- This IS NOT expected if you are initializing BertModel from the checkpoint of a model that you expect to be exactly identical (initializing a BertForSequenceClassification model from a BertForSequenceClassification model).\n"
     ]
    },
    {
     "name": "stdout",
     "output_type": "stream",
     "text": [
      "1\n",
      "Decade 1930...\n",
      "/home/shared/corpora/Corpus of Historical American English/TEXTS\n",
      "1930\n"
     ]
    },
    {
     "name": "stderr",
     "output_type": "stream",
     "text": [
      "  0%|                                                                                                                                                                                 | 0/10352 [00:00<?, ?it/s]Token indices sequence length is longer than the specified maximum sequence length for this model (516 > 512). Running this sequence through the model will result in indexing errors\n",
      "  7%|████████████▍                                                                                                                                                          | 770/10352 [00:15<08:59, 17.75it/s]"
     ]
    },
    {
     "name": "stdout",
     "output_type": "stream",
     "text": [
      "Expected hidden states size: (13, B, |s|, 768). Got (13, 1024, 128, 768)\n"
     ]
    },
    {
     "name": "stderr",
     "output_type": "stream",
     "text": [
      " 14%|███████████████████████▏                                                                                                                                              | 1445/10352 [00:33<09:27, 15.69it/s]"
     ]
    },
    {
     "name": "stdout",
     "output_type": "stream",
     "text": [
      "Expected hidden states size: (13, B, |s|, 768). Got (13, 1024, 128, 768)\n"
     ]
    },
    {
     "name": "stderr",
     "output_type": "stream",
     "text": [
      " 23%|██████████████████████████████████████▋                                                                                                                               | 2414/10352 [00:50<04:19, 30.64it/s]"
     ]
    },
    {
     "name": "stdout",
     "output_type": "stream",
     "text": [
      "Expected hidden states size: (13, B, |s|, 768). Got (13, 1024, 128, 768)\n"
     ]
    },
    {
     "name": "stderr",
     "output_type": "stream",
     "text": [
      " 36%|███████████████████████████████████████████████████████████▌                                                                                                         | 3737/10352 [01:07<00:29, 222.65it/s]"
     ]
    },
    {
     "name": "stdout",
     "output_type": "stream",
     "text": [
      "Expected hidden states size: (13, B, |s|, 768). Got (13, 1024, 128, 768)\n"
     ]
    },
    {
     "name": "stderr",
     "output_type": "stream",
     "text": [
      " 51%|████████████████████████████████████████████████████████████████████████████████████▊                                                                                | 5321/10352 [01:25<00:48, 104.50it/s]"
     ]
    },
    {
     "name": "stdout",
     "output_type": "stream",
     "text": [
      "Expected hidden states size: (13, B, |s|, 768). Got (13, 1024, 128, 768)\n"
     ]
    },
    {
     "name": "stderr",
     "output_type": "stream",
     "text": [
      " 56%|████████████████████████████████████████████████████████████████████████████████████████████▏                                                                         | 5749/10352 [01:41<18:23,  4.17it/s]"
     ]
    },
    {
     "name": "stdout",
     "output_type": "stream",
     "text": [
      "Expected hidden states size: (13, B, |s|, 768). Got (13, 1024, 128, 768)\n"
     ]
    },
    {
     "name": "stderr",
     "output_type": "stream",
     "text": [
      " 56%|████████████████████████████████████████████████████████████████████████████████████████████▉                                                                         | 5794/10352 [01:59<43:50,  1.73it/s]"
     ]
    },
    {
     "name": "stdout",
     "output_type": "stream",
     "text": [
      "Expected hidden states size: (13, B, |s|, 768). Got (13, 1024, 128, 768)\n"
     ]
    },
    {
     "name": "stderr",
     "output_type": "stream",
     "text": [
      " 57%|██████████████████████████████████████████████████████████████████████████████████████████████▏                                                                       | 5872/10352 [02:16<20:39,  3.62it/s]"
     ]
    },
    {
     "name": "stdout",
     "output_type": "stream",
     "text": [
      "Expected hidden states size: (13, B, |s|, 768). Got (13, 1024, 128, 768)\n"
     ]
    },
    {
     "name": "stderr",
     "output_type": "stream",
     "text": [
      " 57%|███████████████████████████████████████████████████████████████████████████████████████████████                                                                       | 5925/10352 [02:38<35:23,  2.09it/s]"
     ]
    },
    {
     "name": "stdout",
     "output_type": "stream",
     "text": [
      "Expected hidden states size: (13, B, |s|, 768). Got (13, 1024, 128, 768)\n"
     ]
    },
    {
     "name": "stderr",
     "output_type": "stream",
     "text": [
      " 58%|███████████████████████████████████████████████████████████████████████████████████████████████▋                                                                      | 5969/10352 [02:57<30:29,  2.40it/s]"
     ]
    },
    {
     "name": "stdout",
     "output_type": "stream",
     "text": [
      "Expected hidden states size: (13, B, |s|, 768). Got (13, 1024, 128, 768)\n"
     ]
    },
    {
     "name": "stderr",
     "output_type": "stream",
     "text": [
      " 58%|████████████████████████████████████████████████████████████████████████████████████████████████▍                                                                     | 6017/10352 [03:13<39:06,  1.85it/s]"
     ]
    },
    {
     "name": "stdout",
     "output_type": "stream",
     "text": [
      "Expected hidden states size: (13, B, |s|, 768). Got (13, 1024, 128, 768)\n"
     ]
    },
    {
     "name": "stderr",
     "output_type": "stream",
     "text": [
      " 59%|█████████████████████████████████████████████████████████████████████████████████████████████████▍                                                                    | 6074/10352 [03:32<49:22,  1.44it/s]"
     ]
    },
    {
     "name": "stdout",
     "output_type": "stream",
     "text": [
      "Expected hidden states size: (13, B, |s|, 768). Got (13, 1024, 128, 768)\n"
     ]
    },
    {
     "name": "stderr",
     "output_type": "stream",
     "text": [
      " 59%|██████████████████████████████████████████████████████████████████████████████████████████████████▎                                                                   | 6128/10352 [03:52<19:35,  3.59it/s]"
     ]
    },
    {
     "name": "stdout",
     "output_type": "stream",
     "text": [
      "Expected hidden states size: (13, B, |s|, 768). Got (13, 1024, 128, 768)\n"
     ]
    },
    {
     "name": "stderr",
     "output_type": "stream",
     "text": [
      " 60%|███████████████████████████████████████████████████████████████████████████████████████████████████▎                                                                  | 6192/10352 [04:10<27:23,  2.53it/s]"
     ]
    },
    {
     "name": "stdout",
     "output_type": "stream",
     "text": [
      "Expected hidden states size: (13, B, |s|, 768). Got (13, 1024, 128, 768)\n"
     ]
    },
    {
     "name": "stderr",
     "output_type": "stream",
     "text": [
      " 60%|████████████████████████████████████████████████████████████████████████████████████████████████████                                                                  | 6239/10352 [04:22<26:09,  2.62it/s]"
     ]
    },
    {
     "name": "stdout",
     "output_type": "stream",
     "text": [
      "Expected hidden states size: (13, B, |s|, 768). Got (13, 1024, 128, 768)\n"
     ]
    },
    {
     "name": "stderr",
     "output_type": "stream",
     "text": [
      " 61%|████████████████████████████████████████████████████████████████████████████████████████████████████▊                                                                 | 6287/10352 [04:43<28:01,  2.42it/s]"
     ]
    },
    {
     "name": "stdout",
     "output_type": "stream",
     "text": [
      "Expected hidden states size: (13, B, |s|, 768). Got (13, 1024, 128, 768)\n"
     ]
    },
    {
     "name": "stderr",
     "output_type": "stream",
     "text": [
      " 61%|█████████████████████████████████████████████████████████████████████████████████████████████████████▎                                                                | 6319/10352 [05:00<14:10,  4.74it/s]"
     ]
    },
    {
     "name": "stdout",
     "output_type": "stream",
     "text": [
      "Expected hidden states size: (13, B, |s|, 768). Got (13, 1024, 128, 768)\n"
     ]
    },
    {
     "name": "stderr",
     "output_type": "stream",
     "text": [
      " 62%|███████████████████████████████████████████████████████████████████████████████████████████████████████▋                                                              | 6469/10352 [05:19<19:54,  3.25it/s]"
     ]
    },
    {
     "name": "stdout",
     "output_type": "stream",
     "text": [
      "Expected hidden states size: (13, B, |s|, 768). Got (13, 1024, 128, 768)\n"
     ]
    },
    {
     "name": "stderr",
     "output_type": "stream",
     "text": [
      " 71%|████████████████████████████████████████████████████████████████████████████████████████████████████████████████████▍                                                | 7305/10352 [05:35<00:25, 118.12it/s]"
     ]
    },
    {
     "name": "stdout",
     "output_type": "stream",
     "text": [
      "Expected hidden states size: (13, B, |s|, 768). Got (13, 1024, 128, 768)\n"
     ]
    },
    {
     "name": "stderr",
     "output_type": "stream",
     "text": [
      " 79%|███████████████████████████████████████████████████████████████████████████████████████████████████████████████████████████████████▋                                  | 8209/10352 [05:48<00:22, 95.77it/s]"
     ]
    },
    {
     "name": "stdout",
     "output_type": "stream",
     "text": [
      "Expected hidden states size: (13, B, |s|, 768). Got (13, 1024, 128, 768)\n"
     ]
    },
    {
     "name": "stderr",
     "output_type": "stream",
     "text": [
      " 87%|████████████████████████████████████████████████████████████████████████████████████████████████████████████████████████████████████████████████▎                     | 9002/10352 [06:01<00:13, 97.15it/s]"
     ]
    },
    {
     "name": "stdout",
     "output_type": "stream",
     "text": [
      "Expected hidden states size: (13, B, |s|, 768). Got (13, 1024, 128, 768)\n"
     ]
    },
    {
     "name": "stderr",
     "output_type": "stream",
     "text": [
      " 95%|██████████████████████████████████████████████████████████████████████████████████████████████████████████████████████████████████████████████████████████████▏       | 9865/10352 [06:14<00:05, 95.00it/s]"
     ]
    },
    {
     "name": "stdout",
     "output_type": "stream",
     "text": [
      "Expected hidden states size: (13, B, |s|, 768). Got (13, 1024, 128, 768)\n"
     ]
    },
    {
     "name": "stderr",
     "output_type": "stream",
     "text": [
      "100%|█████████████████████████████████████████████████████████████████████████████████████████████████████████████████████████████████████████████████████████████████████| 10352/10352 [06:24<00:00, 26.89it/s]\n"
     ]
    },
    {
     "name": "stdout",
     "output_type": "stream",
     "text": [
      "saving usages for decade\n"
     ]
    },
    {
     "name": "stderr",
     "output_type": "stream",
     "text": [
      "Some weights of the model checkpoint at bert-base-uncased were not used when initializing BertModel: ['cls.predictions.bias', 'cls.predictions.transform.dense.weight', 'cls.predictions.transform.LayerNorm.bias', 'cls.predictions.transform.dense.bias', 'cls.seq_relationship.bias', 'cls.seq_relationship.weight', 'cls.predictions.transform.LayerNorm.weight']\n",
      "- This IS expected if you are initializing BertModel from the checkpoint of a model trained on another task or with another architecture (e.g. initializing a BertForSequenceClassification model from a BertForPreTraining model).\n",
      "- This IS NOT expected if you are initializing BertModel from the checkpoint of a model that you expect to be exactly identical (initializing a BertForSequenceClassification model from a BertForSequenceClassification model).\n"
     ]
    },
    {
     "name": "stdout",
     "output_type": "stream",
     "text": [
      "1\n",
      "Decade 1940...\n",
      "/home/shared/corpora/Corpus of Historical American English/TEXTS\n",
      "1940\n"
     ]
    },
    {
     "name": "stderr",
     "output_type": "stream",
     "text": [
      "  0%|                                                                                                                                                                                 | 0/11343 [00:00<?, ?it/s]Token indices sequence length is longer than the specified maximum sequence length for this model (768 > 512). Running this sequence through the model will result in indexing errors\n",
      " 12%|████████████████████▏                                                                                                                                                | 1392/11343 [00:15<01:21, 121.70it/s]"
     ]
    },
    {
     "name": "stdout",
     "output_type": "stream",
     "text": [
      "Expected hidden states size: (13, B, |s|, 768). Got (13, 1024, 128, 768)\n"
     ]
    },
    {
     "name": "stderr",
     "output_type": "stream",
     "text": [
      " 24%|███████████████████████████████████████▊                                                                                                                              | 2717/11343 [00:34<04:39, 30.91it/s]"
     ]
    },
    {
     "name": "stdout",
     "output_type": "stream",
     "text": [
      "Expected hidden states size: (13, B, |s|, 768). Got (13, 1024, 128, 768)\n"
     ]
    },
    {
     "name": "stderr",
     "output_type": "stream",
     "text": [
      " 36%|███████████████████████████████████████████████████████████▏                                                                                                          | 4046/11343 [00:53<04:42, 25.85it/s]"
     ]
    },
    {
     "name": "stdout",
     "output_type": "stream",
     "text": [
      "Expected hidden states size: (13, B, |s|, 768). Got (13, 1024, 128, 768)\n"
     ]
    },
    {
     "name": "stderr",
     "output_type": "stream",
     "text": [
      " 49%|████████████████████████████████████████████████████████████████████████████████▏                                                                                    | 5511/11343 [01:12<00:27, 210.23it/s]"
     ]
    },
    {
     "name": "stdout",
     "output_type": "stream",
     "text": [
      "Expected hidden states size: (13, B, |s|, 768). Got (13, 1024, 128, 768)\n"
     ]
    },
    {
     "name": "stderr",
     "output_type": "stream",
     "text": [
      " 60%|██████████████████████████████████████████████████████████████████████████████████████████████████▉                                                                   | 6762/11343 [01:29<01:02, 73.05it/s]"
     ]
    },
    {
     "name": "stdout",
     "output_type": "stream",
     "text": [
      "Expected hidden states size: (13, B, |s|, 768). Got (13, 1024, 128, 768)\n"
     ]
    },
    {
     "name": "stderr",
     "output_type": "stream",
     "text": [
      " 61%|█████████████████████████████████████████████████████████████████████████████████████████████████████▏                                                                | 6911/11343 [01:47<21:20,  3.46it/s]"
     ]
    },
    {
     "name": "stdout",
     "output_type": "stream",
     "text": [
      "Expected hidden states size: (13, B, |s|, 768). Got (13, 1024, 128, 768)\n"
     ]
    },
    {
     "name": "stderr",
     "output_type": "stream",
     "text": [
      " 62%|██████████████████████████████████████████████████████████████████████████████████████████████████████▋                                                               | 7013/11343 [02:05<19:12,  3.76it/s]"
     ]
    },
    {
     "name": "stdout",
     "output_type": "stream",
     "text": [
      "Expected hidden states size: (13, B, |s|, 768). Got (13, 1024, 128, 768)\n"
     ]
    },
    {
     "name": "stderr",
     "output_type": "stream",
     "text": [
      " 62%|███████████████████████████████████████████████████████████████████████████████████████████████████████▎                                                              | 7058/11343 [02:24<41:03,  1.74it/s]"
     ]
    },
    {
     "name": "stdout",
     "output_type": "stream",
     "text": [
      "Expected hidden states size: (13, B, |s|, 768). Got (13, 1024, 128, 768)\n"
     ]
    },
    {
     "name": "stderr",
     "output_type": "stream",
     "text": [
      " 63%|███████████████████████████████████████████████████████████████████████████████████████████████████████▉                                                              | 7099/11343 [02:39<36:05,  1.96it/s]"
     ]
    },
    {
     "name": "stdout",
     "output_type": "stream",
     "text": [
      "Expected hidden states size: (13, B, |s|, 768). Got (13, 1024, 128, 768)\n"
     ]
    },
    {
     "name": "stderr",
     "output_type": "stream",
     "text": [
      " 63%|███████████████████████████████████████████████████████████████████████████████████████████████████████▉                                                              | 7105/11343 [02:47<58:36,  1.21it/s]"
     ]
    },
    {
     "name": "stdout",
     "output_type": "stream",
     "text": [
      "Expected hidden states size: (13, B, |s|, 768). Got (13, 1024, 128, 768)\n"
     ]
    },
    {
     "name": "stderr",
     "output_type": "stream",
     "text": [
      " 63%|████████████████████████████████████████████████████████████████████████████████████████████████████████▋                                                             | 7155/11343 [03:07<41:36,  1.68it/s]"
     ]
    },
    {
     "name": "stdout",
     "output_type": "stream",
     "text": [
      "Expected hidden states size: (13, B, |s|, 768). Got (13, 1024, 128, 768)\n"
     ]
    },
    {
     "name": "stderr",
     "output_type": "stream",
     "text": [
      " 63%|█████████████████████████████████████████████████████████████████████████████████████████████████████████▏                                                            | 7185/11343 [03:24<38:14,  1.81it/s]"
     ]
    },
    {
     "name": "stdout",
     "output_type": "stream",
     "text": [
      "Expected hidden states size: (13, B, |s|, 768). Got (13, 1024, 128, 768)\n"
     ]
    },
    {
     "name": "stderr",
     "output_type": "stream",
     "text": [
      " 64%|█████████████████████████████████████████████████████████████████████████████████████████████████████████▋                                                            | 7219/11343 [03:39<41:30,  1.66it/s]"
     ]
    },
    {
     "name": "stdout",
     "output_type": "stream",
     "text": [
      "Expected hidden states size: (13, B, |s|, 768). Got (13, 1024, 128, 768)\n"
     ]
    },
    {
     "name": "stderr",
     "output_type": "stream",
     "text": [
      " 64%|██████████████████████████████████████████████████████████████████████████████████████████████████████████▎                                                           | 7268/11343 [03:58<36:39,  1.85it/s]"
     ]
    },
    {
     "name": "stdout",
     "output_type": "stream",
     "text": [
      "Expected hidden states size: (13, B, |s|, 768). Got (13, 1024, 128, 768)\n"
     ]
    },
    {
     "name": "stderr",
     "output_type": "stream",
     "text": [
      " 65%|███████████████████████████████████████████████████████████████████████████████████████████████████████████                                                           | 7317/11343 [04:18<47:51,  1.40it/s]"
     ]
    },
    {
     "name": "stdout",
     "output_type": "stream",
     "text": [
      "Expected hidden states size: (13, B, |s|, 768). Got (13, 1024, 128, 768)\n"
     ]
    },
    {
     "name": "stderr",
     "output_type": "stream",
     "text": [
      " 65%|███████████████████████████████████████████████████████████████████████████████████████████████████████████▋                                                          | 7361/11343 [04:33<38:56,  1.70it/s]"
     ]
    },
    {
     "name": "stdout",
     "output_type": "stream",
     "text": [
      "Expected hidden states size: (13, B, |s|, 768). Got (13, 1024, 128, 768)\n"
     ]
    },
    {
     "name": "stderr",
     "output_type": "stream",
     "text": [
      " 66%|████████████████████████████████████████████████████████████████████████████████████████████████████████████▋                                                         | 7430/11343 [04:49<13:19,  4.89it/s]"
     ]
    },
    {
     "name": "stdout",
     "output_type": "stream",
     "text": [
      "Expected hidden states size: (13, B, |s|, 768). Got (13, 1024, 128, 768)\n"
     ]
    },
    {
     "name": "stderr",
     "output_type": "stream",
     "text": [
      " 66%|█████████████████████████████████████████████████████████████████████████████████████████████████████████████▎                                                        | 7468/11343 [05:09<23:39,  2.73it/s]"
     ]
    },
    {
     "name": "stdout",
     "output_type": "stream",
     "text": [
      "Expected hidden states size: (13, B, |s|, 768). Got (13, 1024, 128, 768)\n"
     ]
    },
    {
     "name": "stderr",
     "output_type": "stream",
     "text": [
      " 66%|█████████████████████████████████████████████████████████████████████████████████████████████████████████████▋                                                        | 7499/11343 [05:24<16:56,  3.78it/s]"
     ]
    },
    {
     "name": "stdout",
     "output_type": "stream",
     "text": [
      "Expected hidden states size: (13, B, |s|, 768). Got (13, 1024, 128, 768)\n"
     ]
    },
    {
     "name": "stderr",
     "output_type": "stream",
     "text": [
      " 76%|█████████████████████████████████████████████████████████████████████████████████████████████████████████████████████████████▋                                        | 8586/11343 [05:40<00:28, 96.64it/s]"
     ]
    },
    {
     "name": "stdout",
     "output_type": "stream",
     "text": [
      "Expected hidden states size: (13, B, |s|, 768). Got (13, 1024, 128, 768)\n"
     ]
    },
    {
     "name": "stderr",
     "output_type": "stream",
     "text": [
      " 84%|███████████████████████████████████████████████████████████████████████████████████████████████████████████████████████████████████████████▉                          | 9565/11343 [05:56<00:21, 83.81it/s]"
     ]
    },
    {
     "name": "stdout",
     "output_type": "stream",
     "text": [
      "Expected hidden states size: (13, B, |s|, 768). Got (13, 1024, 128, 768)\n"
     ]
    },
    {
     "name": "stderr",
     "output_type": "stream",
     "text": [
      " 94%|███████████████████████████████████████████████████████████████████████████████████████████████████████████████████████████████████████████████████████████▎         | 10681/11343 [06:12<00:07, 93.16it/s]"
     ]
    },
    {
     "name": "stdout",
     "output_type": "stream",
     "text": [
      "Expected hidden states size: (13, B, |s|, 768). Got (13, 1024, 128, 768)\n"
     ]
    },
    {
     "name": "stderr",
     "output_type": "stream",
     "text": [
      "100%|█████████████████████████████████████████████████████████████████████████████████████████████████████████████████████████████████████████████████████████████████████| 11343/11343 [06:24<00:00, 29.54it/s]\n"
     ]
    },
    {
     "name": "stdout",
     "output_type": "stream",
     "text": [
      "saving usages for decade\n"
     ]
    },
    {
     "name": "stderr",
     "output_type": "stream",
     "text": [
      "Some weights of the model checkpoint at bert-base-uncased were not used when initializing BertModel: ['cls.predictions.bias', 'cls.predictions.transform.dense.weight', 'cls.predictions.transform.LayerNorm.bias', 'cls.predictions.transform.dense.bias', 'cls.seq_relationship.bias', 'cls.seq_relationship.weight', 'cls.predictions.transform.LayerNorm.weight']\n",
      "- This IS expected if you are initializing BertModel from the checkpoint of a model trained on another task or with another architecture (e.g. initializing a BertForSequenceClassification model from a BertForPreTraining model).\n",
      "- This IS NOT expected if you are initializing BertModel from the checkpoint of a model that you expect to be exactly identical (initializing a BertForSequenceClassification model from a BertForSequenceClassification model).\n"
     ]
    },
    {
     "name": "stdout",
     "output_type": "stream",
     "text": [
      "1\n",
      "Decade 1950...\n",
      "/home/shared/corpora/Corpus of Historical American English/TEXTS\n",
      "1950\n"
     ]
    },
    {
     "name": "stderr",
     "output_type": "stream",
     "text": [
      "  0%|                                                                                                                                                                                 | 0/11935 [00:00<?, ?it/s]Token indices sequence length is longer than the specified maximum sequence length for this model (603 > 512). Running this sequence through the model will result in indexing errors\n",
      " 11%|█████████████████▉                                                                                                                                                   | 1295/11935 [00:13<01:04, 165.17it/s]"
     ]
    },
    {
     "name": "stdout",
     "output_type": "stream",
     "text": [
      "Expected hidden states size: (13, B, |s|, 768). Got (13, 1024, 128, 768)\n"
     ]
    },
    {
     "name": "stderr",
     "output_type": "stream",
     "text": [
      " 23%|█████████████████████████████████████▌                                                                                                                                | 2700/11935 [00:30<03:58, 38.80it/s]"
     ]
    },
    {
     "name": "stdout",
     "output_type": "stream",
     "text": [
      "Expected hidden states size: (13, B, |s|, 768). Got (13, 1024, 128, 768)\n"
     ]
    },
    {
     "name": "stderr",
     "output_type": "stream",
     "text": [
      " 31%|███████████████████████████████████████████████████▏                                                                                                                  | 3681/11935 [00:47<02:24, 57.27it/s]"
     ]
    },
    {
     "name": "stdout",
     "output_type": "stream",
     "text": [
      "Expected hidden states size: (13, B, |s|, 768). Got (13, 1024, 128, 768)\n"
     ]
    },
    {
     "name": "stderr",
     "output_type": "stream",
     "text": [
      " 43%|██████████████████████████████████████████████████████████████████████▊                                                                                              | 5124/11935 [01:04<00:35, 190.21it/s]"
     ]
    },
    {
     "name": "stdout",
     "output_type": "stream",
     "text": [
      "Expected hidden states size: (13, B, |s|, 768). Got (13, 1024, 128, 768)\n"
     ]
    },
    {
     "name": "stderr",
     "output_type": "stream",
     "text": [
      " 53%|███████████████████████████████████████████████████████████████████████████████████████▎                                                                              | 6274/11935 [01:22<03:50, 24.61it/s]"
     ]
    },
    {
     "name": "stdout",
     "output_type": "stream",
     "text": [
      "Expected hidden states size: (13, B, |s|, 768). Got (13, 1024, 128, 768)\n"
     ]
    },
    {
     "name": "stderr",
     "output_type": "stream",
     "text": [
      " 61%|████████████████████████████████████████████████████████████████████████████████████████████████████▊                                                                 | 7245/11935 [01:36<04:35, 17.04it/s]"
     ]
    },
    {
     "name": "stdout",
     "output_type": "stream",
     "text": [
      "Expected hidden states size: (13, B, |s|, 768). Got (13, 1024, 128, 768)\n"
     ]
    },
    {
     "name": "stderr",
     "output_type": "stream",
     "text": [
      " 62%|██████████████████████████████████████████████████████████████████████████████████████████████████████▋                                                               | 7382/11935 [01:52<18:38,  4.07it/s]"
     ]
    },
    {
     "name": "stdout",
     "output_type": "stream",
     "text": [
      "Expected hidden states size: (13, B, |s|, 768). Got (13, 1024, 128, 768)\n"
     ]
    },
    {
     "name": "stderr",
     "output_type": "stream",
     "text": [
      " 62%|███████████████████████████████████████████████████████████████████████████████████████████████████████▎                                                              | 7432/11935 [02:12<54:05,  1.39it/s]"
     ]
    },
    {
     "name": "stdout",
     "output_type": "stream",
     "text": [
      "Expected hidden states size: (13, B, |s|, 768). Got (13, 1024, 128, 768)\n"
     ]
    },
    {
     "name": "stderr",
     "output_type": "stream",
     "text": [
      " 63%|████████████████████████████████████████████████████████████████████████████████████████████████████████                                                              | 7482/11935 [02:32<09:40,  7.68it/s]"
     ]
    },
    {
     "name": "stdout",
     "output_type": "stream",
     "text": [
      "Expected hidden states size: (13, B, |s|, 768). Got (13, 1024, 128, 768)\n"
     ]
    },
    {
     "name": "stderr",
     "output_type": "stream",
     "text": [
      " 63%|████████████████████████████████████████████████████████████████████████████████████████████████████████▊                                                             | 7539/11935 [02:50<53:43,  1.36it/s]"
     ]
    },
    {
     "name": "stdout",
     "output_type": "stream",
     "text": [
      "Expected hidden states size: (13, B, |s|, 768). Got (13, 1024, 128, 768)\n"
     ]
    },
    {
     "name": "stderr",
     "output_type": "stream",
     "text": [
      " 64%|█████████████████████████████████████████████████████████████████████████████████████████████████████████▊                                                            | 7606/11935 [03:09<04:31, 15.92it/s]"
     ]
    },
    {
     "name": "stdout",
     "output_type": "stream",
     "text": [
      "Expected hidden states size: (13, B, |s|, 768). Got (13, 1024, 128, 768)\n"
     ]
    },
    {
     "name": "stderr",
     "output_type": "stream",
     "text": [
      " 64%|██████████████████████████████████████████████████████████████████████████████████████████████████████████▎                                                           | 7640/11935 [03:25<43:50,  1.63it/s]"
     ]
    },
    {
     "name": "stdout",
     "output_type": "stream",
     "text": [
      "Expected hidden states size: (13, B, |s|, 768). Got (13, 1024, 128, 768)\n"
     ]
    },
    {
     "name": "stderr",
     "output_type": "stream",
     "text": [
      " 64%|██████████████████████████████████████████████████████████████████████████████████████████████████████████▉                                                           | 7691/11935 [03:44<48:27,  1.46it/s]"
     ]
    },
    {
     "name": "stdout",
     "output_type": "stream",
     "text": [
      "Expected hidden states size: (13, B, |s|, 768). Got (13, 1024, 128, 768)\n"
     ]
    },
    {
     "name": "stderr",
     "output_type": "stream",
     "text": [
      " 65%|███████████████████████████████████████████████████████████████████████████████████████████████████████████▌                                                          | 7734/11935 [04:01<45:15,  1.55it/s]"
     ]
    },
    {
     "name": "stdout",
     "output_type": "stream",
     "text": [
      "Expected hidden states size: (13, B, |s|, 768). Got (13, 1024, 128, 768)\n"
     ]
    },
    {
     "name": "stderr",
     "output_type": "stream",
     "text": [
      " 65%|███████████████████████████████████████████████████████████████████████████████████████████████████████████▉                                                          | 7762/11935 [04:18<37:56,  1.83it/s]"
     ]
    },
    {
     "name": "stdout",
     "output_type": "stream",
     "text": [
      "Expected hidden states size: (13, B, |s|, 768). Got (13, 1024, 128, 768)\n"
     ]
    },
    {
     "name": "stderr",
     "output_type": "stream",
     "text": [
      " 65%|████████████████████████████████████████████████████████████████████████████████████████████████████████████▍                                                         | 7799/11935 [04:35<39:25,  1.75it/s]"
     ]
    },
    {
     "name": "stdout",
     "output_type": "stream",
     "text": [
      "Expected hidden states size: (13, B, |s|, 768). Got (13, 1024, 128, 768)\n"
     ]
    },
    {
     "name": "stderr",
     "output_type": "stream",
     "text": [
      " 66%|█████████████████████████████████████████████████████████████████████████████████████████████████████████████                                                         | 7842/11935 [04:54<40:21,  1.69it/s]"
     ]
    },
    {
     "name": "stdout",
     "output_type": "stream",
     "text": [
      "Expected hidden states size: (13, B, |s|, 768). Got (13, 1024, 128, 768)\n"
     ]
    },
    {
     "name": "stderr",
     "output_type": "stream",
     "text": [
      " 67%|██████████████████████████████████████████████████████████████████████████████████████████████████████████████▊                                                       | 7963/11935 [05:13<20:31,  3.22it/s]"
     ]
    },
    {
     "name": "stdout",
     "output_type": "stream",
     "text": [
      "Expected hidden states size: (13, B, |s|, 768). Got (13, 1024, 128, 768)\n"
     ]
    },
    {
     "name": "stderr",
     "output_type": "stream",
     "text": [
      " 69%|██████████████████████████████████████████████████████████████████████████████████████████████████████████████████▌                                                  | 8284/11935 [05:32<00:33, 110.05it/s]"
     ]
    },
    {
     "name": "stdout",
     "output_type": "stream",
     "text": [
      "Expected hidden states size: (13, B, |s|, 768). Got (13, 1024, 128, 768)\n"
     ]
    },
    {
     "name": "stderr",
     "output_type": "stream",
     "text": [
      " 78%|████████████████████████████████████████████████████████████████████████████████████████████████████████████████████████████████▉                                     | 9268/11935 [05:46<00:32, 82.84it/s]"
     ]
    },
    {
     "name": "stdout",
     "output_type": "stream",
     "text": [
      "Expected hidden states size: (13, B, |s|, 768). Got (13, 1024, 128, 768)\n"
     ]
    },
    {
     "name": "stderr",
     "output_type": "stream",
     "text": [
      " 86%|█████████████████████████████████████████████████████████████████████████████████████████████████████████████████████████████████████████████▋                       | 10248/11935 [06:01<00:18, 92.25it/s]"
     ]
    },
    {
     "name": "stdout",
     "output_type": "stream",
     "text": [
      "Expected hidden states size: (13, B, |s|, 768). Got (13, 1024, 128, 768)\n"
     ]
    },
    {
     "name": "stderr",
     "output_type": "stream",
     "text": [
      " 93%|█████████████████████████████████████████████████████████████████████████████████████████████████████████████████████████████████████████████████████████▏          | 11148/11935 [06:14<00:07, 106.13it/s]"
     ]
    },
    {
     "name": "stdout",
     "output_type": "stream",
     "text": [
      "Expected hidden states size: (13, B, |s|, 768). Got (13, 1024, 128, 768)\n"
     ]
    },
    {
     "name": "stderr",
     "output_type": "stream",
     "text": [
      "100%|█████████████████████████████████████████████████████████████████████████████████████████████████████████████████████████████████████████████████████████████████████| 11935/11935 [06:26<00:00, 30.88it/s]\n"
     ]
    },
    {
     "name": "stdout",
     "output_type": "stream",
     "text": [
      "saving usages for decade\n"
     ]
    },
    {
     "name": "stderr",
     "output_type": "stream",
     "text": [
      "Some weights of the model checkpoint at bert-base-uncased were not used when initializing BertModel: ['cls.predictions.bias', 'cls.predictions.transform.dense.weight', 'cls.predictions.transform.LayerNorm.bias', 'cls.predictions.transform.dense.bias', 'cls.seq_relationship.bias', 'cls.seq_relationship.weight', 'cls.predictions.transform.LayerNorm.weight']\n",
      "- This IS expected if you are initializing BertModel from the checkpoint of a model trained on another task or with another architecture (e.g. initializing a BertForSequenceClassification model from a BertForPreTraining model).\n",
      "- This IS NOT expected if you are initializing BertModel from the checkpoint of a model that you expect to be exactly identical (initializing a BertForSequenceClassification model from a BertForSequenceClassification model).\n"
     ]
    },
    {
     "name": "stdout",
     "output_type": "stream",
     "text": [
      "1\n",
      "Decade 1960...\n",
      "/home/shared/corpora/Corpus of Historical American English/TEXTS\n",
      "1960\n"
     ]
    },
    {
     "name": "stderr",
     "output_type": "stream",
     "text": [
      "  0%|                                                                                                                                                                                 | 0/10113 [00:00<?, ?it/s]Token indices sequence length is longer than the specified maximum sequence length for this model (693 > 512). Running this sequence through the model will result in indexing errors\n",
      " 14%|██████████████████████▉                                                                                                                                               | 1400/10113 [00:16<02:37, 55.33it/s]"
     ]
    },
    {
     "name": "stdout",
     "output_type": "stream",
     "text": [
      "Expected hidden states size: (13, B, |s|, 768). Got (13, 1024, 128, 768)\n"
     ]
    },
    {
     "name": "stderr",
     "output_type": "stream",
     "text": [
      " 23%|██████████████████████████████████████                                                                                                                                | 2322/10113 [00:32<04:06, 31.67it/s]"
     ]
    },
    {
     "name": "stdout",
     "output_type": "stream",
     "text": [
      "Expected hidden states size: (13, B, |s|, 768). Got (13, 1024, 128, 768)\n"
     ]
    },
    {
     "name": "stderr",
     "output_type": "stream",
     "text": [
      " 34%|████████████████████████████████████████████████████████▋                                                                                                            | 3471/10113 [00:52<00:38, 174.78it/s]"
     ]
    },
    {
     "name": "stdout",
     "output_type": "stream",
     "text": [
      "Expected hidden states size: (13, B, |s|, 768). Got (13, 1024, 128, 768)\n"
     ]
    },
    {
     "name": "stderr",
     "output_type": "stream",
     "text": [
      " 43%|███████████████████████████████████████████████████████████████████████▋                                                                                              | 4370/10113 [01:09<06:54, 13.85it/s]"
     ]
    },
    {
     "name": "stdout",
     "output_type": "stream",
     "text": [
      "Expected hidden states size: (13, B, |s|, 768). Got (13, 1024, 128, 768)\n"
     ]
    },
    {
     "name": "stderr",
     "output_type": "stream",
     "text": [
      " 55%|██████████████████████████████████████████████████████████████████████████████████████████▋                                                                           | 5528/10113 [01:25<00:47, 96.36it/s]"
     ]
    },
    {
     "name": "stdout",
     "output_type": "stream",
     "text": [
      "Expected hidden states size: (13, B, |s|, 768). Got (13, 1024, 128, 768)\n"
     ]
    },
    {
     "name": "stderr",
     "output_type": "stream",
     "text": [
      " 57%|██████████████████████████████████████████████████████████████████████████████████████████████▎                                                                       | 5743/10113 [01:41<24:04,  3.02it/s]"
     ]
    },
    {
     "name": "stdout",
     "output_type": "stream",
     "text": [
      "Expected hidden states size: (13, B, |s|, 768). Got (13, 1024, 128, 768)\n"
     ]
    },
    {
     "name": "stderr",
     "output_type": "stream",
     "text": [
      " 57%|███████████████████████████████████████████████████████████████████████████████████████████████                                                                       | 5788/10113 [02:01<08:54,  8.09it/s]"
     ]
    },
    {
     "name": "stdout",
     "output_type": "stream",
     "text": [
      "Expected hidden states size: (13, B, |s|, 768). Got (13, 1024, 128, 768)\n"
     ]
    },
    {
     "name": "stderr",
     "output_type": "stream",
     "text": [
      " 58%|████████████████████████████████████████████████████████████████████████████████████████████████▍                                                                     | 5873/10113 [02:18<09:26,  7.48it/s]"
     ]
    },
    {
     "name": "stdout",
     "output_type": "stream",
     "text": [
      "Expected hidden states size: (13, B, |s|, 768). Got (13, 1024, 128, 768)\n"
     ]
    },
    {
     "name": "stderr",
     "output_type": "stream",
     "text": [
      " 58%|█████████████████████████████████████████████████████████████████████████████████████████████████                                                                     | 5914/10113 [02:36<14:36,  4.79it/s]"
     ]
    },
    {
     "name": "stdout",
     "output_type": "stream",
     "text": [
      "Expected hidden states size: (13, B, |s|, 768). Got (13, 1024, 128, 768)\n"
     ]
    },
    {
     "name": "stderr",
     "output_type": "stream",
     "text": [
      " 59%|█████████████████████████████████████████████████████████████████████████████████████████████████▊                                                                    | 5959/10113 [02:55<41:52,  1.65it/s]"
     ]
    },
    {
     "name": "stdout",
     "output_type": "stream",
     "text": [
      "Expected hidden states size: (13, B, |s|, 768). Got (13, 1024, 128, 768)\n"
     ]
    },
    {
     "name": "stderr",
     "output_type": "stream",
     "text": [
      " 59%|██████████████████████████████████████████████████████████████████████████████████████████████████▍                                                                   | 5997/10113 [03:15<04:23, 15.62it/s]"
     ]
    },
    {
     "name": "stdout",
     "output_type": "stream",
     "text": [
      "Expected hidden states size: (13, B, |s|, 768). Got (13, 1024, 128, 768)\n"
     ]
    },
    {
     "name": "stderr",
     "output_type": "stream",
     "text": [
      " 60%|██████████████████████████████████████████████████████████████████████████████████████████████████▉                                                                   | 6025/10113 [03:33<49:29,  1.38it/s]"
     ]
    },
    {
     "name": "stdout",
     "output_type": "stream",
     "text": [
      "Expected hidden states size: (13, B, |s|, 768). Got (13, 1024, 128, 768)\n"
     ]
    },
    {
     "name": "stderr",
     "output_type": "stream",
     "text": [
      " 60%|███████████████████████████████████████████████████████████████████████████████████████████████████▌                                                                  | 6069/10113 [03:51<44:39,  1.51it/s]"
     ]
    },
    {
     "name": "stdout",
     "output_type": "stream",
     "text": [
      "Expected hidden states size: (13, B, |s|, 768). Got (13, 1024, 128, 768)\n"
     ]
    },
    {
     "name": "stderr",
     "output_type": "stream",
     "text": [
      " 61%|████████████████████████████████████████████████████████████████████████████████████████████████████▌                                                                 | 6130/10113 [04:14<21:11,  3.13it/s]"
     ]
    },
    {
     "name": "stdout",
     "output_type": "stream",
     "text": [
      "Expected hidden states size: (13, B, |s|, 768). Got (13, 1024, 128, 768)\n"
     ]
    },
    {
     "name": "stderr",
     "output_type": "stream",
     "text": [
      " 61%|█████████████████████████████████████████████████████████████████████████████████████████████████████                                                                 | 6159/10113 [04:34<24:52,  2.65it/s]"
     ]
    },
    {
     "name": "stdout",
     "output_type": "stream",
     "text": [
      "Expected hidden states size: (13, B, |s|, 768). Got (13, 1024, 128, 768)\n"
     ]
    },
    {
     "name": "stderr",
     "output_type": "stream",
     "text": [
      " 62%|███████████████████████████████████████████████████████████████████████████████████████████████████████▍                                                              | 6298/10113 [04:52<02:04, 30.55it/s]"
     ]
    },
    {
     "name": "stdout",
     "output_type": "stream",
     "text": [
      "Expected hidden states size: (13, B, |s|, 768). Got (13, 1024, 128, 768)\n"
     ]
    },
    {
     "name": "stderr",
     "output_type": "stream",
     "text": [
      " 63%|███████████████████████████████████████████████████████████████████████████████████████████████████████▉                                                              | 6330/10113 [05:07<26:22,  2.39it/s]"
     ]
    },
    {
     "name": "stdout",
     "output_type": "stream",
     "text": [
      "Expected hidden states size: (13, B, |s|, 768). Got (13, 1024, 128, 768)\n"
     ]
    },
    {
     "name": "stderr",
     "output_type": "stream",
     "text": [
      " 70%|███████████████████████████████████████████████████████████████████████████████████████████████████████████████████▋                                                 | 7093/10113 [05:23<00:29, 100.71it/s]"
     ]
    },
    {
     "name": "stdout",
     "output_type": "stream",
     "text": [
      "Expected hidden states size: (13, B, |s|, 768). Got (13, 1024, 128, 768)\n"
     ]
    },
    {
     "name": "stderr",
     "output_type": "stream",
     "text": [
      " 78%|█████████████████████████████████████████████████████████████████████████████████████████████████████████████████████████████████▉                                    | 7914/10113 [05:36<00:26, 83.65it/s]"
     ]
    },
    {
     "name": "stdout",
     "output_type": "stream",
     "text": [
      "Expected hidden states size: (13, B, |s|, 768). Got (13, 1024, 128, 768)\n"
     ]
    },
    {
     "name": "stderr",
     "output_type": "stream",
     "text": [
      " 87%|████████████████████████████████████████████████████████████████████████████████████████████████████████████████████████████████████████████████▎                     | 8790/10113 [05:50<00:14, 88.38it/s]"
     ]
    },
    {
     "name": "stdout",
     "output_type": "stream",
     "text": [
      "Expected hidden states size: (13, B, |s|, 768). Got (13, 1024, 128, 768)\n"
     ]
    },
    {
     "name": "stderr",
     "output_type": "stream",
     "text": [
      " 95%|██████████████████████████████████████████████████████████████████████████████████████████████████████████████████████████████████████████████████████████████        | 9628/10113 [06:04<00:05, 89.07it/s]"
     ]
    },
    {
     "name": "stdout",
     "output_type": "stream",
     "text": [
      "Expected hidden states size: (13, B, |s|, 768). Got (13, 1024, 128, 768)\n"
     ]
    },
    {
     "name": "stderr",
     "output_type": "stream",
     "text": [
      "100%|█████████████████████████████████████████████████████████████████████████████████████████████████████████████████████████████████████████████████████████████████████| 10113/10113 [06:13<00:00, 27.09it/s]\n"
     ]
    },
    {
     "name": "stdout",
     "output_type": "stream",
     "text": [
      "saving usages for decade\n"
     ]
    },
    {
     "name": "stderr",
     "output_type": "stream",
     "text": [
      "Some weights of the model checkpoint at bert-base-uncased were not used when initializing BertModel: ['cls.predictions.bias', 'cls.predictions.transform.dense.weight', 'cls.predictions.transform.LayerNorm.bias', 'cls.predictions.transform.dense.bias', 'cls.seq_relationship.bias', 'cls.seq_relationship.weight', 'cls.predictions.transform.LayerNorm.weight']\n",
      "- This IS expected if you are initializing BertModel from the checkpoint of a model trained on another task or with another architecture (e.g. initializing a BertForSequenceClassification model from a BertForPreTraining model).\n",
      "- This IS NOT expected if you are initializing BertModel from the checkpoint of a model that you expect to be exactly identical (initializing a BertForSequenceClassification model from a BertForSequenceClassification model).\n"
     ]
    },
    {
     "name": "stdout",
     "output_type": "stream",
     "text": [
      "1\n",
      "Decade 1970...\n",
      "/home/shared/corpora/Corpus of Historical American English/TEXTS\n",
      "1970\n"
     ]
    },
    {
     "name": "stderr",
     "output_type": "stream",
     "text": [
      "  0%|                                                                                                                                                                                  | 0/9419 [00:00<?, ?it/s]Token indices sequence length is longer than the specified maximum sequence length for this model (1233 > 512). Running this sequence through the model will result in indexing errors\n",
      " 12%|████████████████████▍                                                                                                                                                  | 1150/9419 [00:11<04:15, 32.38it/s]"
     ]
    },
    {
     "name": "stdout",
     "output_type": "stream",
     "text": [
      "Expected hidden states size: (13, B, |s|, 768). Got (13, 1024, 128, 768)\n"
     ]
    },
    {
     "name": "stderr",
     "output_type": "stream",
     "text": [
      " 21%|███████████████████████████████████▍                                                                                                                                  | 2013/9419 [00:29<00:46, 158.93it/s]"
     ]
    },
    {
     "name": "stdout",
     "output_type": "stream",
     "text": [
      "Expected hidden states size: (13, B, |s|, 768). Got (13, 1024, 128, 768)\n"
     ]
    },
    {
     "name": "stderr",
     "output_type": "stream",
     "text": [
      " 29%|████████████████████████████████████████████████▋                                                                                                                     | 2761/9419 [00:44<00:40, 165.28it/s]"
     ]
    },
    {
     "name": "stdout",
     "output_type": "stream",
     "text": [
      "Expected hidden states size: (13, B, |s|, 768). Got (13, 1024, 128, 768)\n"
     ]
    },
    {
     "name": "stderr",
     "output_type": "stream",
     "text": [
      " 36%|████████████████████████████████████████████████████████████▊                                                                                                          | 3433/9419 [00:57<01:31, 65.57it/s]"
     ]
    },
    {
     "name": "stdout",
     "output_type": "stream",
     "text": [
      "Expected hidden states size: (13, B, |s|, 768). Got (13, 1024, 128, 768)\n"
     ]
    },
    {
     "name": "stderr",
     "output_type": "stream",
     "text": [
      " 47%|█████████████████████████████████████████████████████████████████████████████▉                                                                                         | 4396/9419 [01:13<01:44, 47.87it/s]"
     ]
    },
    {
     "name": "stdout",
     "output_type": "stream",
     "text": [
      "Expected hidden states size: (13, B, |s|, 768). Got (13, 1024, 128, 768)\n"
     ]
    },
    {
     "name": "stderr",
     "output_type": "stream",
     "text": [
      " 56%|█████████████████████████████████████████████████████████████████████████████████████████████▊                                                                         | 5291/9419 [01:27<00:44, 93.14it/s]"
     ]
    },
    {
     "name": "stdout",
     "output_type": "stream",
     "text": [
      "Expected hidden states size: (13, B, |s|, 768). Got (13, 1024, 128, 768)\n"
     ]
    },
    {
     "name": "stderr",
     "output_type": "stream",
     "text": [
      " 63%|████████████████████████████████████████████████████████████████████████████████████████████████████████▉                                                              | 5921/9419 [01:39<00:41, 84.83it/s]"
     ]
    },
    {
     "name": "stdout",
     "output_type": "stream",
     "text": [
      "Expected hidden states size: (13, B, |s|, 768). Got (13, 1024, 128, 768)\n"
     ]
    },
    {
     "name": "stderr",
     "output_type": "stream",
     "text": [
      " 63%|█████████████████████████████████████████████████████████████████████████████████████████████████████████▋                                                             | 5958/9419 [01:59<18:42,  3.08it/s]"
     ]
    },
    {
     "name": "stdout",
     "output_type": "stream",
     "text": [
      "Expected hidden states size: (13, B, |s|, 768). Got (13, 1024, 128, 768)\n"
     ]
    },
    {
     "name": "stderr",
     "output_type": "stream",
     "text": [
      " 64%|██████████████████████████████████████████████████████████████████████████████████████████████████████████▊                                                            | 6021/9419 [02:16<01:58, 28.64it/s]"
     ]
    },
    {
     "name": "stdout",
     "output_type": "stream",
     "text": [
      "Expected hidden states size: (13, B, |s|, 768). Got (13, 1024, 128, 768)\n"
     ]
    },
    {
     "name": "stderr",
     "output_type": "stream",
     "text": [
      " 65%|███████████████████████████████████████████████████████████████████████████████████████████████████████████▊                                                           | 6079/9419 [02:33<43:03,  1.29it/s]"
     ]
    },
    {
     "name": "stdout",
     "output_type": "stream",
     "text": [
      "Expected hidden states size: (13, B, |s|, 768). Got (13, 1024, 128, 768)\n"
     ]
    },
    {
     "name": "stderr",
     "output_type": "stream",
     "text": [
      " 65%|████████████████████████████████████████████████████████████████████████████████████████████████████████████▎                                                          | 6106/9419 [02:49<44:43,  1.23it/s]"
     ]
    },
    {
     "name": "stdout",
     "output_type": "stream",
     "text": [
      "Expected hidden states size: (13, B, |s|, 768). Got (13, 1024, 128, 768)\n"
     ]
    },
    {
     "name": "stderr",
     "output_type": "stream",
     "text": [
      " 65%|████████████████████████████████████████████████████████████████████████████████████████████████████████████▉                                                          | 6145/9419 [03:08<39:04,  1.40it/s]"
     ]
    },
    {
     "name": "stdout",
     "output_type": "stream",
     "text": [
      "Expected hidden states size: (13, B, |s|, 768). Got (13, 1024, 128, 768)\n"
     ]
    },
    {
     "name": "stderr",
     "output_type": "stream",
     "text": [
      " 66%|█████████████████████████████████████████████████████████████████████████████████████████████████████████████▊                                                         | 6195/9419 [03:26<22:37,  2.37it/s]"
     ]
    },
    {
     "name": "stdout",
     "output_type": "stream",
     "text": [
      "Expected hidden states size: (13, B, |s|, 768). Got (13, 1024, 128, 768)\n"
     ]
    },
    {
     "name": "stderr",
     "output_type": "stream",
     "text": [
      " 66%|██████████████████████████████████████████████████████████████████████████████████████████████████████████████▍                                                        | 6226/9419 [03:43<17:28,  3.05it/s]"
     ]
    },
    {
     "name": "stdout",
     "output_type": "stream",
     "text": [
      "Expected hidden states size: (13, B, |s|, 768). Got (13, 1024, 128, 768)\n"
     ]
    },
    {
     "name": "stderr",
     "output_type": "stream",
     "text": [
      " 66%|███████████████████████████████████████████████████████████████████████████████████████████████████████████████                                                        | 6262/9419 [04:01<18:58,  2.77it/s]"
     ]
    },
    {
     "name": "stdout",
     "output_type": "stream",
     "text": [
      "Expected hidden states size: (13, B, |s|, 768). Got (13, 1024, 128, 768)\n"
     ]
    },
    {
     "name": "stderr",
     "output_type": "stream",
     "text": [
      " 67%|███████████████████████████████████████████████████████████████████████████████████████████████████████████████▋                                                       | 6298/9419 [04:19<16:49,  3.09it/s]"
     ]
    },
    {
     "name": "stdout",
     "output_type": "stream",
     "text": [
      "Expected hidden states size: (13, B, |s|, 768). Got (13, 1024, 128, 768)\n"
     ]
    },
    {
     "name": "stderr",
     "output_type": "stream",
     "text": [
      " 67%|████████████████████████████████████████████████████████████████████████████████████████████████████████████████▎                                                      | 6332/9419 [04:33<21:15,  2.42it/s]"
     ]
    },
    {
     "name": "stdout",
     "output_type": "stream",
     "text": [
      "Expected hidden states size: (13, B, |s|, 768). Got (13, 1024, 128, 768)\n"
     ]
    },
    {
     "name": "stderr",
     "output_type": "stream",
     "text": [
      " 68%|████████████████████████████████████████████████████████████████████████████████████████████████████████████████▉                                                      | 6369/9419 [04:50<13:37,  3.73it/s]"
     ]
    },
    {
     "name": "stdout",
     "output_type": "stream",
     "text": [
      "Expected hidden states size: (13, B, |s|, 768). Got (13, 1024, 128, 768)\n"
     ]
    },
    {
     "name": "stderr",
     "output_type": "stream",
     "text": [
      " 68%|█████████████████████████████████████████████████████████████████████████████████████████████████████████████████▋                                                     | 6411/9419 [05:11<21:33,  2.32it/s]"
     ]
    },
    {
     "name": "stdout",
     "output_type": "stream",
     "text": [
      "Expected hidden states size: (13, B, |s|, 768). Got (13, 1024, 128, 768)\n"
     ]
    },
    {
     "name": "stderr",
     "output_type": "stream",
     "text": [
      " 69%|███████████████████████████████████████████████████████████████████████████████████████████████████████████████████▋                                                   | 6526/9419 [05:26<02:33, 18.87it/s]"
     ]
    },
    {
     "name": "stdout",
     "output_type": "stream",
     "text": [
      "Expected hidden states size: (13, B, |s|, 768). Got (13, 1024, 128, 768)\n"
     ]
    },
    {
     "name": "stderr",
     "output_type": "stream",
     "text": [
      " 76%|███████████████████████████████████████████████████████████████████████████████████████████████████████████████████████████████▍                                       | 7185/9419 [05:38<00:22, 99.30it/s]"
     ]
    },
    {
     "name": "stdout",
     "output_type": "stream",
     "text": [
      "Expected hidden states size: (13, B, |s|, 768). Got (13, 1024, 128, 768)\n"
     ]
    },
    {
     "name": "stderr",
     "output_type": "stream",
     "text": [
      " 82%|█████████████████████████████████████████████████████████████████████████████████████████████████████████████████████████████████████████▏                             | 7739/9419 [05:48<00:19, 87.45it/s]"
     ]
    },
    {
     "name": "stdout",
     "output_type": "stream",
     "text": [
      "Expected hidden states size: (13, B, |s|, 768). Got (13, 1024, 128, 768)\n"
     ]
    },
    {
     "name": "stderr",
     "output_type": "stream",
     "text": [
      " 88%|███████████████████████████████████████████████████████████████████████████████████████████████████████████████████████████████████████████████████▎                   | 8306/9419 [05:59<00:13, 82.65it/s]"
     ]
    },
    {
     "name": "stdout",
     "output_type": "stream",
     "text": [
      "Expected hidden states size: (13, B, |s|, 768). Got (13, 1024, 128, 768)\n"
     ]
    },
    {
     "name": "stderr",
     "output_type": "stream",
     "text": [
      " 94%|████████████████████████████████████████████████████████████████████████████████████████████████████████████████████████████████████████████████████████████▌          | 8832/9419 [06:10<00:07, 82.44it/s]"
     ]
    },
    {
     "name": "stdout",
     "output_type": "stream",
     "text": [
      "Expected hidden states size: (13, B, |s|, 768). Got (13, 1024, 128, 768)\n"
     ]
    },
    {
     "name": "stderr",
     "output_type": "stream",
     "text": [
      "100%|███████████████████████████████████████████████████████████████████████████████████████████████████████████████████████████████████████████████████████████████████████| 9419/9419 [06:22<00:00, 24.64it/s]\n"
     ]
    },
    {
     "name": "stdout",
     "output_type": "stream",
     "text": [
      "saving usages for decade\n"
     ]
    },
    {
     "name": "stderr",
     "output_type": "stream",
     "text": [
      "Some weights of the model checkpoint at bert-base-uncased were not used when initializing BertModel: ['cls.predictions.bias', 'cls.predictions.transform.dense.weight', 'cls.predictions.transform.LayerNorm.bias', 'cls.predictions.transform.dense.bias', 'cls.seq_relationship.bias', 'cls.seq_relationship.weight', 'cls.predictions.transform.LayerNorm.weight']\n",
      "- This IS expected if you are initializing BertModel from the checkpoint of a model trained on another task or with another architecture (e.g. initializing a BertForSequenceClassification model from a BertForPreTraining model).\n",
      "- This IS NOT expected if you are initializing BertModel from the checkpoint of a model that you expect to be exactly identical (initializing a BertForSequenceClassification model from a BertForSequenceClassification model).\n"
     ]
    },
    {
     "name": "stdout",
     "output_type": "stream",
     "text": [
      "1\n",
      "Decade 1980...\n",
      "/home/shared/corpora/Corpus of Historical American English/TEXTS\n",
      "1980\n"
     ]
    },
    {
     "name": "stderr",
     "output_type": "stream",
     "text": [
      "  0%|                                                                                                                                                                                 | 0/11106 [00:00<?, ?it/s]Token indices sequence length is longer than the specified maximum sequence length for this model (4048 > 512). Running this sequence through the model will result in indexing errors\n",
      "  7%|████████████▎                                                                                                                                                         | 820/11106 [00:09<01:05, 158.22it/s]"
     ]
    },
    {
     "name": "stdout",
     "output_type": "stream",
     "text": [
      "Expected hidden states size: (13, B, |s|, 768). Got (13, 1024, 128, 768)\n"
     ]
    },
    {
     "name": "stderr",
     "output_type": "stream",
     "text": [
      " 17%|████████████████████████████▋                                                                                                                                         | 1920/11106 [00:24<02:46, 55.27it/s]"
     ]
    },
    {
     "name": "stdout",
     "output_type": "stream",
     "text": [
      "Expected hidden states size: (13, B, |s|, 768). Got (13, 1024, 128, 768)\n"
     ]
    },
    {
     "name": "stderr",
     "output_type": "stream",
     "text": [
      " 24%|███████████████████████████████████████                                                                                                                               | 2614/11106 [00:39<01:54, 74.03it/s]"
     ]
    },
    {
     "name": "stdout",
     "output_type": "stream",
     "text": [
      "Expected hidden states size: (13, B, |s|, 768). Got (13, 1024, 128, 768)\n"
     ]
    },
    {
     "name": "stderr",
     "output_type": "stream",
     "text": [
      " 30%|█████████████████████████████████████████████████▏                                                                                                                    | 3292/11106 [00:53<02:01, 64.53it/s]"
     ]
    },
    {
     "name": "stdout",
     "output_type": "stream",
     "text": [
      "Expected hidden states size: (13, B, |s|, 768). Got (13, 1024, 128, 768)\n"
     ]
    },
    {
     "name": "stderr",
     "output_type": "stream",
     "text": [
      " 35%|██████████████████████████████████████████████████████████▍                                                                                                           | 3908/11106 [01:07<01:31, 78.41it/s]"
     ]
    },
    {
     "name": "stdout",
     "output_type": "stream",
     "text": [
      "Expected hidden states size: (13, B, |s|, 768). Got (13, 1024, 128, 768)\n"
     ]
    },
    {
     "name": "stderr",
     "output_type": "stream",
     "text": [
      " 47%|█████████████████████████████████████████████████████████████████████████████▊                                                                                        | 5204/11106 [01:23<01:28, 66.94it/s]"
     ]
    },
    {
     "name": "stdout",
     "output_type": "stream",
     "text": [
      "Expected hidden states size: (13, B, |s|, 768). Got (13, 1024, 128, 768)\n"
     ]
    },
    {
     "name": "stderr",
     "output_type": "stream",
     "text": [
      " 55%|███████████████████████████████████████████████████████████████████████████████████████████▉                                                                          | 6150/11106 [01:39<01:33, 53.26it/s]"
     ]
    },
    {
     "name": "stdout",
     "output_type": "stream",
     "text": [
      "Expected hidden states size: (13, B, |s|, 768). Got (13, 1024, 128, 768)\n"
     ]
    },
    {
     "name": "stderr",
     "output_type": "stream",
     "text": [
      " 63%|████████████████████████████████████████████████████████████████████████████████████████████████████████▋                                                             | 7005/11106 [01:53<01:02, 65.58it/s]"
     ]
    },
    {
     "name": "stdout",
     "output_type": "stream",
     "text": [
      "Expected hidden states size: (13, B, |s|, 768). Got (13, 1024, 128, 768)\n"
     ]
    },
    {
     "name": "stderr",
     "output_type": "stream",
     "text": [
      " 70%|███████████████████████████████████████████████████████████████████████████████████████████████████████████████████▋                                                 | 7786/11106 [02:07<00:17, 190.74it/s]"
     ]
    },
    {
     "name": "stdout",
     "output_type": "stream",
     "text": [
      "Expected hidden states size: (13, B, |s|, 768). Got (13, 1024, 128, 768)\n"
     ]
    },
    {
     "name": "stderr",
     "output_type": "stream",
     "text": [
      " 81%|██████████████████████████████████████████████████████████████████████████████████████████████████████████████████████████████████████▎                               | 8984/11106 [02:21<00:22, 93.15it/s]"
     ]
    },
    {
     "name": "stdout",
     "output_type": "stream",
     "text": [
      "Expected hidden states size: (13, B, |s|, 768). Got (13, 1024, 128, 768)\n"
     ]
    },
    {
     "name": "stderr",
     "output_type": "stream",
     "text": [
      " 88%|█████████████████████████████████████████████████████████████████████████████████████████████████████████████████████████████████████████████████▊                    | 9754/11106 [02:36<00:15, 87.99it/s]"
     ]
    },
    {
     "name": "stdout",
     "output_type": "stream",
     "text": [
      "Expected hidden states size: (13, B, |s|, 768). Got (13, 1024, 128, 768)\n"
     ]
    },
    {
     "name": "stderr",
     "output_type": "stream",
     "text": [
      " 91%|██████████████████████████████████████████████████████████████████████████████████████████████████████████████████████████████████████████████████████▍              | 10129/11106 [02:50<04:55,  3.31it/s]"
     ]
    },
    {
     "name": "stdout",
     "output_type": "stream",
     "text": [
      "Expected hidden states size: (13, B, |s|, 768). Got (13, 1024, 128, 768)\n"
     ]
    },
    {
     "name": "stderr",
     "output_type": "stream",
     "text": [
      " 92%|███████████████████████████████████████████████████████████████████████████████████████████████████████████████████████████████████████████████████████              | 10166/11106 [03:09<06:50,  2.29it/s]"
     ]
    },
    {
     "name": "stdout",
     "output_type": "stream",
     "text": [
      "Expected hidden states size: (13, B, |s|, 768). Got (13, 1024, 128, 768)\n"
     ]
    },
    {
     "name": "stderr",
     "output_type": "stream",
     "text": [
      " 92%|████████████████████████████████████████████████████████████████████████████████████████████████████████████████████████████████████████████████████████▎            | 10249/11106 [03:26<05:40,  2.52it/s]"
     ]
    },
    {
     "name": "stdout",
     "output_type": "stream",
     "text": [
      "Expected hidden states size: (13, B, |s|, 768). Got (13, 1024, 128, 768)\n"
     ]
    },
    {
     "name": "stderr",
     "output_type": "stream",
     "text": [
      " 93%|████████████████████████████████████████████████████████████████████████████████████████████████████████████████████████████████████████████████████████▋            | 10278/11106 [03:44<08:59,  1.54it/s]"
     ]
    },
    {
     "name": "stdout",
     "output_type": "stream",
     "text": [
      "Expected hidden states size: (13, B, |s|, 768). Got (13, 1024, 128, 768)\n"
     ]
    },
    {
     "name": "stderr",
     "output_type": "stream",
     "text": [
      " 93%|█████████████████████████████████████████████████████████████████████████████████████████████████████████████████████████████████████████████████████████▏           | 10313/11106 [03:58<07:25,  1.78it/s]"
     ]
    },
    {
     "name": "stdout",
     "output_type": "stream",
     "text": [
      "Expected hidden states size: (13, B, |s|, 768). Got (13, 1024, 128, 768)\n"
     ]
    },
    {
     "name": "stderr",
     "output_type": "stream",
     "text": [
      " 93%|█████████████████████████████████████████████████████████████████████████████████████████████████████████████████████████████████████████████████████████▌           | 10340/11106 [04:15<04:14,  3.01it/s]"
     ]
    },
    {
     "name": "stdout",
     "output_type": "stream",
     "text": [
      "Expected hidden states size: (13, B, |s|, 768). Got (13, 1024, 128, 768)\n"
     ]
    },
    {
     "name": "stderr",
     "output_type": "stream",
     "text": [
      " 93%|██████████████████████████████████████████████████████████████████████████████████████████████████████████████████████████████████████████████████████████           | 10368/11106 [04:31<05:23,  2.28it/s]"
     ]
    },
    {
     "name": "stdout",
     "output_type": "stream",
     "text": [
      "Expected hidden states size: (13, B, |s|, 768). Got (13, 1024, 128, 768)\n"
     ]
    },
    {
     "name": "stderr",
     "output_type": "stream",
     "text": [
      " 94%|██████████████████████████████████████████████████████████████████████████████████████████████████████████████████████████████████████████████████████████▋          | 10408/11106 [04:50<03:54,  2.98it/s]"
     ]
    },
    {
     "name": "stdout",
     "output_type": "stream",
     "text": [
      "Expected hidden states size: (13, B, |s|, 768). Got (13, 1024, 128, 768)\n"
     ]
    },
    {
     "name": "stderr",
     "output_type": "stream",
     "text": [
      " 94%|██████████████████████████████████████████████████████████████████████████████████████████████████████████████████████████████████████████████████████████▋          | 10416/11106 [05:04<14:46,  1.28s/it]"
     ]
    },
    {
     "name": "stdout",
     "output_type": "stream",
     "text": [
      "Expected hidden states size: (13, B, |s|, 768). Got (13, 1024, 128, 768)\n"
     ]
    },
    {
     "name": "stderr",
     "output_type": "stream",
     "text": [
      " 94%|███████████████████████████████████████████████████████████████████████████████████████████████████████████████████████████████████████████████████████████▍         | 10462/11106 [05:21<01:15,  8.53it/s]"
     ]
    },
    {
     "name": "stdout",
     "output_type": "stream",
     "text": [
      "Expected hidden states size: (13, B, |s|, 768). Got (13, 1024, 128, 768)\n"
     ]
    },
    {
     "name": "stderr",
     "output_type": "stream",
     "text": [
      " 94%|███████████████████████████████████████████████████████████████████████████████████████████████████████████████████████████████████████████████████████████▉         | 10494/11106 [05:37<03:17,  3.10it/s]"
     ]
    },
    {
     "name": "stdout",
     "output_type": "stream",
     "text": [
      "Expected hidden states size: (13, B, |s|, 768). Got (13, 1024, 128, 768)\n"
     ]
    },
    {
     "name": "stderr",
     "output_type": "stream",
     "text": [
      " 95%|████████████████████████████████████████████████████████████████████████████████████████████████████████████████████████████████████████████████████████████▏        | 10513/11106 [05:50<03:59,  2.47it/s]"
     ]
    },
    {
     "name": "stdout",
     "output_type": "stream",
     "text": [
      "Expected hidden states size: (13, B, |s|, 768). Got (13, 1024, 128, 768)\n"
     ]
    },
    {
     "name": "stderr",
     "output_type": "stream",
     "text": [
      " 95%|████████████████████████████████████████████████████████████████████████████████████████████████████████████████████████████████████████████████████████████▋        | 10544/11106 [06:07<03:48,  2.46it/s]"
     ]
    },
    {
     "name": "stdout",
     "output_type": "stream",
     "text": [
      "Expected hidden states size: (13, B, |s|, 768). Got (13, 1024, 128, 768)\n"
     ]
    },
    {
     "name": "stderr",
     "output_type": "stream",
     "text": [
      " 95%|█████████████████████████████████████████████████████████████████████████████████████████████████████████████████████████████████████████████████████████████▏       | 10579/11106 [06:25<03:12,  2.74it/s]"
     ]
    },
    {
     "name": "stdout",
     "output_type": "stream",
     "text": [
      "Expected hidden states size: (13, B, |s|, 768). Got (13, 1024, 128, 768)\n"
     ]
    },
    {
     "name": "stderr",
     "output_type": "stream",
     "text": [
      " 95%|█████████████████████████████████████████████████████████████████████████████████████████████████████████████████████████████████████████████████████████████▍       | 10597/11106 [06:40<02:22,  3.56it/s]"
     ]
    },
    {
     "name": "stdout",
     "output_type": "stream",
     "text": [
      "Expected hidden states size: (13, B, |s|, 768). Got (13, 1024, 128, 768)\n"
     ]
    },
    {
     "name": "stderr",
     "output_type": "stream",
     "text": [
      "100%|█████████████████████████████████████████████████████████████████████████████████████████████████████████████████████████████████████████████████████████████████████| 11106/11106 [06:50<00:00, 27.05it/s]\n"
     ]
    },
    {
     "name": "stdout",
     "output_type": "stream",
     "text": [
      "saving usages for decade\n"
     ]
    },
    {
     "name": "stderr",
     "output_type": "stream",
     "text": [
      "Some weights of the model checkpoint at bert-base-uncased were not used when initializing BertModel: ['cls.predictions.bias', 'cls.predictions.transform.dense.weight', 'cls.predictions.transform.LayerNorm.bias', 'cls.predictions.transform.dense.bias', 'cls.seq_relationship.bias', 'cls.seq_relationship.weight', 'cls.predictions.transform.LayerNorm.weight']\n",
      "- This IS expected if you are initializing BertModel from the checkpoint of a model trained on another task or with another architecture (e.g. initializing a BertForSequenceClassification model from a BertForPreTraining model).\n",
      "- This IS NOT expected if you are initializing BertModel from the checkpoint of a model that you expect to be exactly identical (initializing a BertForSequenceClassification model from a BertForSequenceClassification model).\n"
     ]
    },
    {
     "name": "stdout",
     "output_type": "stream",
     "text": [
      "1\n",
      "Decade 1990...\n",
      "/home/shared/corpora/Corpus of Historical American English/TEXTS\n",
      "1990\n"
     ]
    },
    {
     "name": "stderr",
     "output_type": "stream",
     "text": [
      "  0%|                                                                                                                                                                                  | 0/9778 [00:00<?, ?it/s]Token indices sequence length is longer than the specified maximum sequence length for this model (634 > 512). Running this sequence through the model will result in indexing errors\n",
      "  6%|██████████▉                                                                                                                                                             | 635/9778 [00:11<02:59, 51.06it/s]"
     ]
    },
    {
     "name": "stdout",
     "output_type": "stream",
     "text": [
      "Expected hidden states size: (13, B, |s|, 768). Got (13, 1024, 128, 768)\n"
     ]
    },
    {
     "name": "stderr",
     "output_type": "stream",
     "text": [
      " 12%|████████████████████                                                                                                                                                   | 1176/9778 [00:27<02:17, 62.44it/s]"
     ]
    },
    {
     "name": "stdout",
     "output_type": "stream",
     "text": [
      "Expected hidden states size: (13, B, |s|, 768). Got (13, 1024, 128, 768)\n"
     ]
    },
    {
     "name": "stderr",
     "output_type": "stream",
     "text": [
      " 17%|███████████████████████████▊                                                                                                                                           | 1630/9778 [00:41<05:01, 26.99it/s]"
     ]
    },
    {
     "name": "stdout",
     "output_type": "stream",
     "text": [
      "Expected hidden states size: (13, B, |s|, 768). Got (13, 1024, 128, 768)\n"
     ]
    },
    {
     "name": "stderr",
     "output_type": "stream",
     "text": [
      " 21%|███████████████████████████████████                                                                                                                                    | 2056/9778 [00:55<03:54, 32.94it/s]"
     ]
    },
    {
     "name": "stdout",
     "output_type": "stream",
     "text": [
      "Expected hidden states size: (13, B, |s|, 768). Got (13, 1024, 128, 768)\n"
     ]
    },
    {
     "name": "stderr",
     "output_type": "stream",
     "text": [
      " 26%|███████████████████████████████████████████▊                                                                                                                           | 2568/9778 [01:08<03:01, 39.75it/s]"
     ]
    },
    {
     "name": "stdout",
     "output_type": "stream",
     "text": [
      "Expected hidden states size: (13, B, |s|, 768). Got (13, 1024, 128, 768)\n"
     ]
    },
    {
     "name": "stderr",
     "output_type": "stream",
     "text": [
      " 33%|██████████████████████████████████████████████████████▍                                                                                                                | 3191/9778 [01:23<03:20, 32.93it/s]"
     ]
    },
    {
     "name": "stdout",
     "output_type": "stream",
     "text": [
      "Expected hidden states size: (13, B, |s|, 768). Got (13, 1024, 128, 768)\n"
     ]
    },
    {
     "name": "stderr",
     "output_type": "stream",
     "text": [
      " 39%|████████████████████████████████████████████████████████████████▊                                                                                                     | 3816/9778 [01:38<00:59, 100.86it/s]"
     ]
    },
    {
     "name": "stdout",
     "output_type": "stream",
     "text": [
      "Expected hidden states size: (13, B, |s|, 768). Got (13, 1024, 128, 768)\n"
     ]
    },
    {
     "name": "stderr",
     "output_type": "stream",
     "text": [
      " 45%|██████████████████████████████████████████████████████████████████████████▌                                                                                            | 4368/9778 [01:52<02:28, 36.41it/s]"
     ]
    },
    {
     "name": "stdout",
     "output_type": "stream",
     "text": [
      "Expected hidden states size: (13, B, |s|, 768). Got (13, 1024, 128, 768)\n"
     ]
    },
    {
     "name": "stderr",
     "output_type": "stream",
     "text": [
      " 49%|█████████████████████████████████████████████████████████████████████████████████▎                                                                                     | 4760/9778 [02:04<02:04, 40.31it/s]"
     ]
    },
    {
     "name": "stdout",
     "output_type": "stream",
     "text": [
      "Expected hidden states size: (13, B, |s|, 768). Got (13, 1024, 128, 768)\n"
     ]
    },
    {
     "name": "stderr",
     "output_type": "stream",
     "text": [
      " 53%|████████████████████████████████████████████████████████████████████████████████████████▋                                                                              | 5191/9778 [02:17<01:22, 55.91it/s]"
     ]
    },
    {
     "name": "stdout",
     "output_type": "stream",
     "text": [
      "Expected hidden states size: (13, B, |s|, 768). Got (13, 1024, 128, 768)\n"
     ]
    },
    {
     "name": "stderr",
     "output_type": "stream",
     "text": [
      " 59%|██████████████████████████████████████████████████████████████████████████████████████████████████▎                                                                    | 5754/9778 [02:33<01:31, 44.21it/s]"
     ]
    },
    {
     "name": "stdout",
     "output_type": "stream",
     "text": [
      "Expected hidden states size: (13, B, |s|, 768). Got (13, 1024, 128, 768)\n"
     ]
    },
    {
     "name": "stderr",
     "output_type": "stream",
     "text": [
      " 64%|██████████████████████████████████████████████████████████████████████████████████████████████████████████▎                                                            | 6225/9778 [02:45<01:46, 33.52it/s]"
     ]
    },
    {
     "name": "stdout",
     "output_type": "stream",
     "text": [
      "Expected hidden states size: (13, B, |s|, 768). Got (13, 1024, 128, 768)\n"
     ]
    },
    {
     "name": "stderr",
     "output_type": "stream",
     "text": [
      " 70%|█████████████████████████████████████████████████████████████████████████████████████████████████████████████████████                                                  | 6857/9778 [03:00<00:47, 60.89it/s]"
     ]
    },
    {
     "name": "stdout",
     "output_type": "stream",
     "text": [
      "Expected hidden states size: (13, B, |s|, 768). Got (13, 1024, 128, 768)\n"
     ]
    },
    {
     "name": "stderr",
     "output_type": "stream",
     "text": [
      " 73%|█████████████████████████████████████████████████████████████████████████████████████████████████████████████████████████▎                                             | 7106/9778 [03:14<03:12, 13.89it/s]"
     ]
    },
    {
     "name": "stdout",
     "output_type": "stream",
     "text": [
      "Expected hidden states size: (13, B, |s|, 768). Got (13, 1024, 128, 768)\n"
     ]
    },
    {
     "name": "stderr",
     "output_type": "stream",
     "text": [
      " 75%|████████████████████████████████████████████████████████████████████████████████████████████████████████████████████████████▉                                          | 7318/9778 [03:31<02:09, 19.03it/s]"
     ]
    },
    {
     "name": "stdout",
     "output_type": "stream",
     "text": [
      "Expected hidden states size: (13, B, |s|, 768). Got (13, 1024, 128, 768)\n"
     ]
    },
    {
     "name": "stderr",
     "output_type": "stream",
     "text": [
      " 77%|███████████████████████████████████████████████████████████████████████████████████████████████████████████████████████████████▊                                       | 7485/9778 [03:47<01:37, 23.54it/s]"
     ]
    },
    {
     "name": "stdout",
     "output_type": "stream",
     "text": [
      "Expected hidden states size: (13, B, |s|, 768). Got (13, 1024, 128, 768)\n"
     ]
    },
    {
     "name": "stderr",
     "output_type": "stream",
     "text": [
      " 78%|██████████████████████████████████████████████████████████████████████████████████████████████████████████████████████████████████▋                                    | 7651/9778 [04:03<02:39, 13.37it/s]"
     ]
    },
    {
     "name": "stdout",
     "output_type": "stream",
     "text": [
      "Expected hidden states size: (13, B, |s|, 768). Got (13, 1024, 128, 768)\n"
     ]
    },
    {
     "name": "stderr",
     "output_type": "stream",
     "text": [
      " 80%|█████████████████████████████████████████████████████████████████████████████████████████████████████████████████████████████████████                                  | 7789/9778 [04:17<02:29, 13.33it/s]"
     ]
    },
    {
     "name": "stdout",
     "output_type": "stream",
     "text": [
      "Expected hidden states size: (13, B, |s|, 768). Got (13, 1024, 128, 768)\n"
     ]
    },
    {
     "name": "stderr",
     "output_type": "stream",
     "text": [
      " 81%|███████████████████████████████████████████████████████████████████████████████████████████████████████████████████████████████████████▎                               | 7923/9778 [04:32<01:45, 17.54it/s]"
     ]
    },
    {
     "name": "stdout",
     "output_type": "stream",
     "text": [
      "Expected hidden states size: (13, B, |s|, 768). Got (13, 1024, 128, 768)\n"
     ]
    },
    {
     "name": "stderr",
     "output_type": "stream",
     "text": [
      " 83%|█████████████████████████████████████████████████████████████████████████████████████████████████████████████████████████████████████████▉                             | 8073/9778 [04:49<07:17,  3.90it/s]"
     ]
    },
    {
     "name": "stdout",
     "output_type": "stream",
     "text": [
      "Expected hidden states size: (13, B, |s|, 768). Got (13, 1024, 128, 768)\n"
     ]
    },
    {
     "name": "stderr",
     "output_type": "stream",
     "text": [
      " 83%|██████████████████████████████████████████████████████████████████████████████████████████████████████████████████████████████████████████▏                            | 8088/9778 [05:04<17:46,  1.59it/s]"
     ]
    },
    {
     "name": "stdout",
     "output_type": "stream",
     "text": [
      "Expected hidden states size: (13, B, |s|, 768). Got (13, 1024, 128, 768)\n"
     ]
    },
    {
     "name": "stderr",
     "output_type": "stream",
     "text": [
      " 83%|██████████████████████████████████████████████████████████████████████████████████████████████████████████████████████████████████████████▌                            | 8116/9778 [05:20<13:47,  2.01it/s]"
     ]
    },
    {
     "name": "stdout",
     "output_type": "stream",
     "text": [
      "Expected hidden states size: (13, B, |s|, 768). Got (13, 1024, 128, 768)\n"
     ]
    },
    {
     "name": "stderr",
     "output_type": "stream",
     "text": [
      " 83%|██████████████████████████████████████████████████████████████████████████████████████████████████████████████████████████████████████████▊                            | 8129/9778 [05:32<15:54,  1.73it/s]"
     ]
    },
    {
     "name": "stdout",
     "output_type": "stream",
     "text": [
      "Expected hidden states size: (13, B, |s|, 768). Got (13, 1024, 128, 768)\n"
     ]
    },
    {
     "name": "stderr",
     "output_type": "stream",
     "text": [
      " 84%|████████████████████████████████████████████████████████████████████████████████████████████████████████████████████████████████████████████▏                          | 8206/9778 [05:48<01:36, 16.36it/s]"
     ]
    },
    {
     "name": "stdout",
     "output_type": "stream",
     "text": [
      "Expected hidden states size: (13, B, |s|, 768). Got (13, 1024, 128, 768)\n"
     ]
    },
    {
     "name": "stderr",
     "output_type": "stream",
     "text": [
      " 86%|██████████████████████████████████████████████████████████████████████████████████████████████████████████████████████████████████████████████▉                        | 8372/9778 [06:04<01:36, 14.62it/s]"
     ]
    },
    {
     "name": "stdout",
     "output_type": "stream",
     "text": [
      "Expected hidden states size: (13, B, |s|, 768). Got (13, 1024, 128, 768)\n"
     ]
    },
    {
     "name": "stderr",
     "output_type": "stream",
     "text": [
      " 87%|█████████████████████████████████████████████████████████████████████████████████████████████████████████████████████████████████████████████████                      | 8493/9778 [06:18<02:01, 10.55it/s]"
     ]
    },
    {
     "name": "stdout",
     "output_type": "stream",
     "text": [
      "Expected hidden states size: (13, B, |s|, 768). Got (13, 1024, 128, 768)\n"
     ]
    },
    {
     "name": "stderr",
     "output_type": "stream",
     "text": [
      " 88%|██████████████████████████████████████████████████████████████████████████████████████████████████████████████████████████████████████████████████▌                    | 8579/9778 [06:33<04:29,  4.45it/s]"
     ]
    },
    {
     "name": "stdout",
     "output_type": "stream",
     "text": [
      "Expected hidden states size: (13, B, |s|, 768). Got (13, 1024, 128, 768)\n"
     ]
    },
    {
     "name": "stderr",
     "output_type": "stream",
     "text": [
      " 89%|█████████████████████████████████████████████████████████████████████████████████████████████████████████████████████████████████████████████████████▏                 | 8735/9778 [06:48<00:30, 34.24it/s]"
     ]
    },
    {
     "name": "stdout",
     "output_type": "stream",
     "text": [
      "Expected hidden states size: (13, B, |s|, 768). Got (13, 1024, 128, 768)\n"
     ]
    },
    {
     "name": "stderr",
     "output_type": "stream",
     "text": [
      " 94%|████████████████████████████████████████████████████████████████████████████████████████████████████████████████████████████████████████████████████████████▍          | 9157/9778 [07:04<00:41, 15.12it/s]"
     ]
    },
    {
     "name": "stdout",
     "output_type": "stream",
     "text": [
      "Expected hidden states size: (13, B, |s|, 768). Got (13, 1024, 128, 768)\n"
     ]
    },
    {
     "name": "stderr",
     "output_type": "stream",
     "text": [
      " 97%|█████████████████████████████████████████████████████████████████████████████████████████████████████████████████████████████████████████████████████████████████▎     | 9445/9778 [07:19<00:08, 37.57it/s]"
     ]
    },
    {
     "name": "stdout",
     "output_type": "stream",
     "text": [
      "Expected hidden states size: (13, B, |s|, 768). Got (13, 1024, 128, 768)\n"
     ]
    },
    {
     "name": "stderr",
     "output_type": "stream",
     "text": [
      " 99%|████████████████████████████████████████████████████████████████████████████████████████████████████████████████████████████████████████████████████████████████████▊  | 9651/9778 [07:36<00:09, 13.79it/s]"
     ]
    },
    {
     "name": "stdout",
     "output_type": "stream",
     "text": [
      "Expected hidden states size: (13, B, |s|, 768). Got (13, 1024, 128, 768)\n"
     ]
    },
    {
     "name": "stderr",
     "output_type": "stream",
     "text": [
      "100%|███████████████████████████████████████████████████████████████████████████████████████████████████████████████████████████████████████████████████████████████████████| 9778/9778 [07:46<00:00, 20.98it/s]\n"
     ]
    },
    {
     "name": "stdout",
     "output_type": "stream",
     "text": [
      "saving usages for decade\n"
     ]
    },
    {
     "name": "stderr",
     "output_type": "stream",
     "text": [
      "Some weights of the model checkpoint at bert-base-uncased were not used when initializing BertModel: ['cls.predictions.bias', 'cls.predictions.transform.dense.weight', 'cls.predictions.transform.LayerNorm.bias', 'cls.predictions.transform.dense.bias', 'cls.seq_relationship.bias', 'cls.seq_relationship.weight', 'cls.predictions.transform.LayerNorm.weight']\n",
      "- This IS expected if you are initializing BertModel from the checkpoint of a model trained on another task or with another architecture (e.g. initializing a BertForSequenceClassification model from a BertForPreTraining model).\n",
      "- This IS NOT expected if you are initializing BertModel from the checkpoint of a model that you expect to be exactly identical (initializing a BertForSequenceClassification model from a BertForSequenceClassification model).\n"
     ]
    },
    {
     "name": "stdout",
     "output_type": "stream",
     "text": [
      "1\n",
      "Decade 2000...\n",
      "/home/shared/corpora/Corpus of Historical American English/TEXTS\n",
      "2000\n"
     ]
    },
    {
     "name": "stderr",
     "output_type": "stream",
     "text": [
      "  0%|                                                                                                                                                                                 | 0/13795 [00:00<?, ?it/s]Token indices sequence length is longer than the specified maximum sequence length for this model (642 > 512). Running this sequence through the model will result in indexing errors\n",
      "  6%|█████████▋                                                                                                                                                             | 802/13795 [00:09<04:04, 53.14it/s]"
     ]
    },
    {
     "name": "stdout",
     "output_type": "stream",
     "text": [
      "Expected hidden states size: (13, B, |s|, 768). Got (13, 1024, 128, 768)\n"
     ]
    },
    {
     "name": "stderr",
     "output_type": "stream",
     "text": [
      " 10%|████████████████▋                                                                                                                                                     | 1390/13795 [00:23<03:43, 55.61it/s]"
     ]
    },
    {
     "name": "stdout",
     "output_type": "stream",
     "text": [
      "Expected hidden states size: (13, B, |s|, 768). Got (13, 1024, 128, 768)\n"
     ]
    },
    {
     "name": "stderr",
     "output_type": "stream",
     "text": [
      " 13%|█████████████████████▍                                                                                                                                                | 1778/13795 [00:39<15:06, 13.26it/s]"
     ]
    },
    {
     "name": "stdout",
     "output_type": "stream",
     "text": [
      "Expected hidden states size: (13, B, |s|, 768). Got (13, 1024, 128, 768)\n"
     ]
    },
    {
     "name": "stderr",
     "output_type": "stream",
     "text": [
      " 14%|███████████████████████▊                                                                                                                                              | 1977/13795 [00:54<40:40,  4.84it/s]"
     ]
    },
    {
     "name": "stdout",
     "output_type": "stream",
     "text": [
      "Expected hidden states size: (13, B, |s|, 768). Got (13, 1024, 128, 768)\n"
     ]
    },
    {
     "name": "stderr",
     "output_type": "stream",
     "text": [
      " 16%|██████████████████████████                                                                                                                                            | 2167/13795 [01:07<09:23, 20.65it/s]"
     ]
    },
    {
     "name": "stdout",
     "output_type": "stream",
     "text": [
      "Expected hidden states size: (13, B, |s|, 768). Got (13, 1024, 128, 768)\n"
     ]
    },
    {
     "name": "stderr",
     "output_type": "stream",
     "text": [
      " 17%|████████████████████████████▉                                                                                                                                         | 2406/13795 [01:24<05:22, 35.29it/s]"
     ]
    },
    {
     "name": "stdout",
     "output_type": "stream",
     "text": [
      "Expected hidden states size: (13, B, |s|, 768). Got (13, 1024, 128, 768)\n"
     ]
    },
    {
     "name": "stderr",
     "output_type": "stream",
     "text": [
      " 19%|███████████████████████████████▏                                                                                                                                      | 2591/13795 [01:39<08:28, 22.05it/s]"
     ]
    },
    {
     "name": "stdout",
     "output_type": "stream",
     "text": [
      "Expected hidden states size: (13, B, |s|, 768). Got (13, 1024, 128, 768)\n"
     ]
    },
    {
     "name": "stderr",
     "output_type": "stream",
     "text": [
      " 20%|█████████████████████████████████▉                                                                                                                                    | 2816/13795 [01:54<07:12, 25.37it/s]"
     ]
    },
    {
     "name": "stdout",
     "output_type": "stream",
     "text": [
      "Expected hidden states size: (13, B, |s|, 768). Got (13, 1024, 128, 768)\n"
     ]
    },
    {
     "name": "stderr",
     "output_type": "stream",
     "text": [
      " 23%|█████████████████████████████████████▍                                                                                                                                | 3115/13795 [02:11<07:08, 24.92it/s]"
     ]
    },
    {
     "name": "stdout",
     "output_type": "stream",
     "text": [
      "Expected hidden states size: (13, B, |s|, 768). Got (13, 1024, 128, 768)\n"
     ]
    },
    {
     "name": "stderr",
     "output_type": "stream",
     "text": [
      " 25%|██████████████████████████████████████████▎                                                                                                                           | 3512/13795 [02:28<03:30, 48.82it/s]"
     ]
    },
    {
     "name": "stdout",
     "output_type": "stream",
     "text": [
      "Expected hidden states size: (13, B, |s|, 768). Got (13, 1024, 128, 768)\n"
     ]
    },
    {
     "name": "stderr",
     "output_type": "stream",
     "text": [
      " 29%|███████████████████████████████████████████████▍                                                                                                                      | 3947/13795 [02:42<03:04, 53.47it/s]"
     ]
    },
    {
     "name": "stdout",
     "output_type": "stream",
     "text": [
      "Expected hidden states size: (13, B, |s|, 768). Got (13, 1024, 128, 768)\n"
     ]
    },
    {
     "name": "stderr",
     "output_type": "stream",
     "text": [
      " 35%|██████████████████████████████████████████████████████████▍                                                                                                           | 4860/13795 [02:55<02:20, 63.50it/s]"
     ]
    },
    {
     "name": "stdout",
     "output_type": "stream",
     "text": [
      "Expected hidden states size: (13, B, |s|, 768). Got (13, 1024, 128, 768)\n"
     ]
    },
    {
     "name": "stderr",
     "output_type": "stream",
     "text": [
      " 38%|██████████████████████████████████████████████████████████████▉                                                                                                       | 5235/13795 [03:11<09:37, 14.81it/s]"
     ]
    },
    {
     "name": "stdout",
     "output_type": "stream",
     "text": [
      "Expected hidden states size: (13, B, |s|, 768). Got (13, 1024, 128, 768)\n"
     ]
    },
    {
     "name": "stderr",
     "output_type": "stream",
     "text": [
      " 40%|██████████████████████████████████████████████████████████████████▏                                                                                                   | 5503/13795 [03:28<02:48, 49.11it/s]"
     ]
    },
    {
     "name": "stdout",
     "output_type": "stream",
     "text": [
      "Expected hidden states size: (13, B, |s|, 768). Got (13, 1024, 128, 768)\n"
     ]
    },
    {
     "name": "stderr",
     "output_type": "stream",
     "text": [
      " 44%|████████████████████████████████████████████████████████████████████████▎                                                                                             | 6014/13795 [03:41<02:01, 64.08it/s]"
     ]
    },
    {
     "name": "stdout",
     "output_type": "stream",
     "text": [
      "Expected hidden states size: (13, B, |s|, 768). Got (13, 1024, 128, 768)\n"
     ]
    },
    {
     "name": "stderr",
     "output_type": "stream",
     "text": [
      " 46%|████████████████████████████████████████████████████████████████████████████▏                                                                                         | 6327/13795 [03:54<02:57, 42.03it/s]"
     ]
    },
    {
     "name": "stdout",
     "output_type": "stream",
     "text": [
      "Expected hidden states size: (13, B, |s|, 768). Got (13, 1024, 128, 768)\n"
     ]
    },
    {
     "name": "stderr",
     "output_type": "stream",
     "text": [
      " 50%|███████████████████████████████████████████████████████████████████████████████████▏                                                                                  | 6916/13795 [04:07<02:17, 50.18it/s]"
     ]
    },
    {
     "name": "stdout",
     "output_type": "stream",
     "text": [
      "Expected hidden states size: (13, B, |s|, 768). Got (13, 1024, 128, 768)\n"
     ]
    },
    {
     "name": "stderr",
     "output_type": "stream",
     "text": [
      " 54%|█████████████████████████████████████████████████████████████████████████████████████████▊                                                                           | 7506/13795 [04:19<00:45, 139.10it/s]"
     ]
    },
    {
     "name": "stdout",
     "output_type": "stream",
     "text": [
      "Expected hidden states size: (13, B, |s|, 768). Got (13, 1024, 128, 768)\n"
     ]
    },
    {
     "name": "stderr",
     "output_type": "stream",
     "text": [
      " 57%|██████████████████████████████████████████████████████████████████████████████████████████████▌                                                                       | 7863/13795 [04:31<02:44, 36.06it/s]"
     ]
    },
    {
     "name": "stdout",
     "output_type": "stream",
     "text": [
      "Expected hidden states size: (13, B, |s|, 768). Got (13, 1024, 128, 768)\n"
     ]
    },
    {
     "name": "stderr",
     "output_type": "stream",
     "text": [
      " 63%|█████████████████████████████████████████████████████████████████████████████████████████████████████████▎                                                            | 8753/13795 [04:47<01:31, 54.95it/s]"
     ]
    },
    {
     "name": "stdout",
     "output_type": "stream",
     "text": [
      "Expected hidden states size: (13, B, |s|, 768). Got (13, 1024, 128, 768)\n"
     ]
    },
    {
     "name": "stderr",
     "output_type": "stream",
     "text": [
      " 67%|████████████████████████████████████████████████████████████████████████████████████████████████████████████████                                                      | 9309/13795 [05:03<04:18, 17.34it/s]"
     ]
    },
    {
     "name": "stdout",
     "output_type": "stream",
     "text": [
      "Expected hidden states size: (13, B, |s|, 768). Got (13, 1024, 128, 768)\n"
     ]
    },
    {
     "name": "stderr",
     "output_type": "stream",
     "text": [
      " 69%|██████████████████████████████████████████████████████████████████████████████████████████████████████████████████▋                                                   | 9532/13795 [05:19<02:13, 31.85it/s]"
     ]
    },
    {
     "name": "stdout",
     "output_type": "stream",
     "text": [
      "Expected hidden states size: (13, B, |s|, 768). Got (13, 1024, 128, 768)\n"
     ]
    },
    {
     "name": "stderr",
     "output_type": "stream",
     "text": [
      " 70%|████████████████████████████████████████████████████████████████████████████████████████████████████████████████████                                                  | 9644/13795 [05:26<02:27, 28.16it/s]"
     ]
    }
   ],
   "source": [
    "### collect just the usages and not the vectors. \n",
    "\n",
    "for decade in decades:\n",
    "    collect_from_coha(targets,\n",
    "                      [decade],\n",
    "                      sequence_length=sequence_length,\n",
    "                      pretrained_weights=bert_dir,\n",
    "                      coha_dir=coha_dir,\n",
    "                      output_path='{}/usages_with_vectors_16_len{}_{}.dict'.format(output_dir, sequence_length, decade),\n",
    "                      buffer_size=buffer_size,\n",
    "                      feature_model=feature_model)"
   ]
  },
  {
   "cell_type": "code",
   "execution_count": null,
   "id": "dac29dfe-0579-48a7-8740-09131a3a5218",
   "metadata": {},
   "outputs": [],
   "source": [
    "\"\"\"\n",
    "It's finished! we got the binder vectors.\n",
    "\"\"\""
   ]
  },
  {
   "cell_type": "code",
   "execution_count": 4,
   "id": "5c254c74-225a-44aa-a61e-03abb74466c0",
   "metadata": {},
   "outputs": [
    {
     "name": "stderr",
     "output_type": "stream",
     "text": [
      "Some weights of the model checkpoint at bert-base-uncased were not used when initializing BertModel: ['cls.predictions.bias', 'cls.predictions.transform.dense.weight', 'cls.predictions.transform.LayerNorm.bias', 'cls.predictions.transform.dense.bias', 'cls.seq_relationship.bias', 'cls.seq_relationship.weight', 'cls.predictions.transform.LayerNorm.weight']\n",
      "- This IS expected if you are initializing BertModel from the checkpoint of a model trained on another task or with another architecture (e.g. initializing a BertForSequenceClassification model from a BertForPreTraining model).\n",
      "- This IS NOT expected if you are initializing BertModel from the checkpoint of a model that you expect to be exactly identical (initializing a BertForSequenceClassification model from a BertForSequenceClassification model).\n"
     ]
    }
   ],
   "source": [
    "binder_model = torch.load(feature_model)\n",
    "\n",
    "tokenizer = BertTokenizer.from_pretrained(bert_dir)\n",
    "model = BertModel.from_pretrained(bert_dir)\n",
    "\n",
    "\n",
    "encoded_input = tokenizer(\"hello\", return_tensors='pt')\n",
    "outputs = model(**encoded_input, output_hidden_states=True)\n",
    "hidden_states = [l.detach().cpu().clone().numpy() for l in outputs[2]]\n",
    "\n"
   ]
  },
  {
   "cell_type": "code",
   "execution_count": 5,
   "id": "cd4783fb-31d3-4c7c-8549-d2b3b582ec63",
   "metadata": {},
   "outputs": [],
   "source": [
    "vec = hidden_states"
   ]
  },
  {
   "cell_type": "code",
   "execution_count": 6,
   "id": "7082c04a-d79d-4b0e-b29b-475841c37869",
   "metadata": {},
   "outputs": [
    {
     "data": {
      "text/plain": [
       "(768,)"
      ]
     },
     "execution_count": 6,
     "metadata": {},
     "output_type": "execute_result"
    }
   ],
   "source": [
    "vec[8][0][0].shape"
   ]
  },
  {
   "cell_type": "code",
   "execution_count": 7,
   "id": "438a1a93-d44e-4079-8116-5510590a9c63",
   "metadata": {},
   "outputs": [
    {
     "data": {
      "text/plain": [
       "('hello',\n",
       " array([ 1.0056549e+00,  3.8931992e-02, -3.6725351e-01, -9.3476987e-01,\n",
       "        -2.7887559e-01,  7.2497123e-01, -2.0921183e-01,  9.4847614e-01,\n",
       "         1.7737154e+00,  3.1238947e-02, -7.7192754e-02, -1.0627046e-01,\n",
       "         1.7184262e+00,  2.0627036e+00,  4.8392379e-01,  2.0409809e-01,\n",
       "        -6.2202502e-02, -5.3744036e-01,  7.2529328e-01,  2.8303607e+00,\n",
       "         2.0169008e+00,  5.7054991e-01,  1.5627507e+00,  2.5735607e+00,\n",
       "         1.1967081e+00,  1.9624131e+00, -2.8737587e-01,  4.0165412e-01,\n",
       "         1.9263399e+00,  5.1853997e-01,  2.5976652e-01,  1.6036888e+00,\n",
       "        -6.2239653e-01,  1.0072670e+00,  1.5316712e+00,  8.3211809e-05,\n",
       "        -1.4192641e-01,  1.7934600e-01,  1.5579345e-02,  8.6351700e-02,\n",
       "         3.7302986e-01,  5.3672683e-01,  1.1006322e+00,  1.4275689e+00,\n",
       "         1.5960541e+00,  1.4706843e+00,  1.4171218e+00,  4.3489739e-01,\n",
       "         1.8168885e+00,  5.2834034e-01,  1.7661784e+00,  4.5286259e-01,\n",
       "         1.6958729e+00,  1.9344276e-01,  4.2212194e-01,  2.0226495e-01,\n",
       "         6.9245362e-01,  1.4142551e+00,  1.2189908e+00,  2.5202122e+00,\n",
       "         2.0958025e+00,  1.8376832e+00], dtype=float32))"
      ]
     },
     "execution_count": 7,
     "metadata": {},
     "output_type": "execute_result"
    }
   ],
   "source": [
    "binder_model.predict_from_single_context_vector(\"hello\", vec[8][0][0])"
   ]
  },
  {
   "cell_type": "code",
   "execution_count": 8,
   "id": "2b101fc5-fe64-4c84-8609-d04da60672c4",
   "metadata": {},
   "outputs": [
    {
     "name": "stderr",
     "output_type": "stream",
     "text": [
      "/home/gsc685/.conda/envs/gabriella_cwr4lsc/lib/python3.10/site-packages/sklearn/base.py:318: UserWarning: Trying to unpickle estimator PLSRegression from version 1.1.3 when using version 1.2.2. This might lead to breaking code or invalid results. Use at your own risk. For more info please refer to:\n",
      "https://scikit-learn.org/stable/model_persistence.html#security-maintainability-limitations\n",
      "  warnings.warn(\n"
     ]
    }
   ],
   "source": [
    "buchanan = torch.load('../trained_models/model.plsr.buchanan.allbuthomonyms.5k.300components.500max_iters')\n"
   ]
  },
  {
   "cell_type": "code",
   "execution_count": 9,
   "id": "1fa7b665-9ebf-48e1-ad3f-83c928499681",
   "metadata": {},
   "outputs": [
    {
     "data": {
      "text/plain": [
       "('hello',\n",
       " array([-0.00748495, -0.00382117, -0.05292879, ...,  0.00085026,\n",
       "         0.00424264,  0.0031281 ]))"
      ]
     },
     "execution_count": 9,
     "metadata": {},
     "output_type": "execute_result"
    }
   ],
   "source": [
    "buchanan.predict_from_single_context_vector(\"hello\", vec[8][0][0])"
   ]
  },
  {
   "cell_type": "code",
   "execution_count": null,
   "id": "0e2333ff-a07d-43af-919b-54e6087e0ea1",
   "metadata": {},
   "outputs": [],
   "source": []
  }
 ],
 "metadata": {
  "kernelspec": {
   "display_name": "gabriella_cwr4lsc",
   "language": "python",
   "name": "gabriella_cwr4lsc"
  },
  "language_info": {
   "codemirror_mode": {
    "name": "ipython",
    "version": 3
   },
   "file_extension": ".py",
   "mimetype": "text/x-python",
   "name": "python",
   "nbconvert_exporter": "python",
   "pygments_lexer": "ipython3",
   "version": "3.10.9"
  }
 },
 "nbformat": 4,
 "nbformat_minor": 5
}
