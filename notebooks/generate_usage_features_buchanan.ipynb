{
 "cells": [
  {
   "cell_type": "code",
   "execution_count": 10,
   "id": "79ae64f5",
   "metadata": {},
   "outputs": [],
   "source": [
    "import pickle\n",
    "import torch\n",
    "import pandas as pd\n",
    "from tqdm import tqdm\n",
    "import numpy as np\n",
    "from scipy.spatial.distance import cdist\n",
    "\n",
    "import sys\n",
    "sys.path.append(\"..\")\n",
    "import clustering\n",
    "\n",
    "from transformers import BertTokenizer"
   ]
  },
  {
   "cell_type": "code",
   "execution_count": 2,
   "id": "9c2fb5c9-81e5-47fd-8ccd-4325ed10e05d",
   "metadata": {},
   "outputs": [],
   "source": [
    "feature_set = 'binder'"
   ]
  },
  {
   "cell_type": "code",
   "execution_count": 5,
   "id": "28ee9bb0",
   "metadata": {},
   "outputs": [],
   "source": [
    "with open('../data/cwr4lsc/{}/usages_len128.clustering.2.dict'.format(feature_set), 'rb') as f:\n",
    "    clusters = pickle.load(f)"
   ]
  },
  {
   "cell_type": "markdown",
   "id": "2351ddf3",
   "metadata": {},
   "source": [
    "these are the clusters for virtual in coha"
   ]
  },
  {
   "cell_type": "code",
   "execution_count": 6,
   "id": "a860d2ac",
   "metadata": {},
   "outputs": [
    {
     "data": {
      "text/html": [
       "<style>#sk-container-id-1 {color: black;background-color: white;}#sk-container-id-1 pre{padding: 0;}#sk-container-id-1 div.sk-toggleable {background-color: white;}#sk-container-id-1 label.sk-toggleable__label {cursor: pointer;display: block;width: 100%;margin-bottom: 0;padding: 0.3em;box-sizing: border-box;text-align: center;}#sk-container-id-1 label.sk-toggleable__label-arrow:before {content: \"▸\";float: left;margin-right: 0.25em;color: #696969;}#sk-container-id-1 label.sk-toggleable__label-arrow:hover:before {color: black;}#sk-container-id-1 div.sk-estimator:hover label.sk-toggleable__label-arrow:before {color: black;}#sk-container-id-1 div.sk-toggleable__content {max-height: 0;max-width: 0;overflow: hidden;text-align: left;background-color: #f0f8ff;}#sk-container-id-1 div.sk-toggleable__content pre {margin: 0.2em;color: black;border-radius: 0.25em;background-color: #f0f8ff;}#sk-container-id-1 input.sk-toggleable__control:checked~div.sk-toggleable__content {max-height: 200px;max-width: 100%;overflow: auto;}#sk-container-id-1 input.sk-toggleable__control:checked~label.sk-toggleable__label-arrow:before {content: \"▾\";}#sk-container-id-1 div.sk-estimator input.sk-toggleable__control:checked~label.sk-toggleable__label {background-color: #d4ebff;}#sk-container-id-1 div.sk-label input.sk-toggleable__control:checked~label.sk-toggleable__label {background-color: #d4ebff;}#sk-container-id-1 input.sk-hidden--visually {border: 0;clip: rect(1px 1px 1px 1px);clip: rect(1px, 1px, 1px, 1px);height: 1px;margin: -1px;overflow: hidden;padding: 0;position: absolute;width: 1px;}#sk-container-id-1 div.sk-estimator {font-family: monospace;background-color: #f0f8ff;border: 1px dotted black;border-radius: 0.25em;box-sizing: border-box;margin-bottom: 0.5em;}#sk-container-id-1 div.sk-estimator:hover {background-color: #d4ebff;}#sk-container-id-1 div.sk-parallel-item::after {content: \"\";width: 100%;border-bottom: 1px solid gray;flex-grow: 1;}#sk-container-id-1 div.sk-label:hover label.sk-toggleable__label {background-color: #d4ebff;}#sk-container-id-1 div.sk-serial::before {content: \"\";position: absolute;border-left: 1px solid gray;box-sizing: border-box;top: 0;bottom: 0;left: 50%;z-index: 0;}#sk-container-id-1 div.sk-serial {display: flex;flex-direction: column;align-items: center;background-color: white;padding-right: 0.2em;padding-left: 0.2em;position: relative;}#sk-container-id-1 div.sk-item {position: relative;z-index: 1;}#sk-container-id-1 div.sk-parallel {display: flex;align-items: stretch;justify-content: center;background-color: white;position: relative;}#sk-container-id-1 div.sk-item::before, #sk-container-id-1 div.sk-parallel-item::before {content: \"\";position: absolute;border-left: 1px solid gray;box-sizing: border-box;top: 0;bottom: 0;left: 50%;z-index: -1;}#sk-container-id-1 div.sk-parallel-item {display: flex;flex-direction: column;z-index: 1;position: relative;background-color: white;}#sk-container-id-1 div.sk-parallel-item:first-child::after {align-self: flex-end;width: 50%;}#sk-container-id-1 div.sk-parallel-item:last-child::after {align-self: flex-start;width: 50%;}#sk-container-id-1 div.sk-parallel-item:only-child::after {width: 0;}#sk-container-id-1 div.sk-dashed-wrapped {border: 1px dashed gray;margin: 0 0.4em 0.5em 0.4em;box-sizing: border-box;padding-bottom: 0.4em;background-color: white;}#sk-container-id-1 div.sk-label label {font-family: monospace;font-weight: bold;display: inline-block;line-height: 1.2em;}#sk-container-id-1 div.sk-label-container {text-align: center;}#sk-container-id-1 div.sk-container {/* jupyter's `normalize.less` sets `[hidden] { display: none; }` but bootstrap.min.css set `[hidden] { display: none !important; }` so we also need the `!important` here to be able to override the default hidden behavior on the sphinx rendered scikit-learn.org. See: https://github.com/scikit-learn/scikit-learn/issues/21755 */display: inline-block !important;position: relative;}#sk-container-id-1 div.sk-text-repr-fallback {display: none;}</style><div id=\"sk-container-id-1\" class=\"sk-top-container\"><div class=\"sk-text-repr-fallback\"><pre>KMeans(n_clusters=2, random_state=42)</pre><b>In a Jupyter environment, please rerun this cell to show the HTML representation or trust the notebook. <br />On GitHub, the HTML representation is unable to render, please try loading this page with nbviewer.org.</b></div><div class=\"sk-container\" hidden><div class=\"sk-item\"><div class=\"sk-estimator sk-toggleable\"><input class=\"sk-toggleable__control sk-hidden--visually\" id=\"sk-estimator-id-1\" type=\"checkbox\" checked><label for=\"sk-estimator-id-1\" class=\"sk-toggleable__label sk-toggleable__label-arrow\">KMeans</label><div class=\"sk-toggleable__content\"><pre>KMeans(n_clusters=2, random_state=42)</pre></div></div></div></div></div>"
      ],
      "text/plain": [
       "KMeans(n_clusters=2, random_state=42)"
      ]
     },
     "execution_count": 6,
     "metadata": {},
     "output_type": "execute_result"
    }
   ],
   "source": [
    "clusters['virtual']"
   ]
  },
  {
   "cell_type": "markdown",
   "id": "435b8d08",
   "metadata": {},
   "source": [
    "mario has provided us with a function to sample the most prototypical usages from the cluster"
   ]
  },
  {
   "cell_type": "markdown",
   "id": "54a9b8c0",
   "metadata": {},
   "source": [
    "for that we need to load the usages"
   ]
  },
  {
   "cell_type": "code",
   "execution_count": 7,
   "id": "24bf7adb",
   "metadata": {},
   "outputs": [],
   "source": [
    "with open('../data/cwr4lsc/{}/matrix_usages_16_len128.dict'.format(feature_set), 'rb') as f:\n",
    "    usages = pickle.load(f)"
   ]
  },
  {
   "cell_type": "markdown",
   "id": "e1945265-4c16-4aab-a7e0-9fad6fe89fd3",
   "metadata": {},
   "source": [
    "Now I want to get the clusterid for each usage, and normalize the data into tidy format"
   ]
  },
  {
   "cell_type": "markdown",
   "id": "74d7d7bb-f030-4ff2-9075-ceb7f81da53a",
   "metadata": {},
   "source": [
    "let's do a test to get the clusterid for a usage"
   ]
  },
  {
   "cell_type": "code",
   "execution_count": 8,
   "id": "7a402eba-880f-46e4-a028-62d6b3c86dac",
   "metadata": {},
   "outputs": [],
   "source": [
    "U_w, contexts, positions, t_labels = usages['virtual']\n",
    "#example_usage = U_w[1231]"
   ]
  },
  {
   "cell_type": "code",
   "execution_count": 9,
   "id": "fe2786a8-285e-4267-a341-d75f0c6911b3",
   "metadata": {},
   "outputs": [
    {
     "data": {
      "text/plain": [
       "(1940,)"
      ]
     },
     "execution_count": 9,
     "metadata": {},
     "output_type": "execute_result"
    }
   ],
   "source": [
    "preds = clusters['virtual'].predict(U_w)\n",
    "clusters['virtual'].cluster_centers_\n",
    "\n",
    "clusters['virtual'].labels_.shape"
   ]
  },
  {
   "cell_type": "markdown",
   "id": "c297ada1-116d-4ab6-9192-6d623767d0ad",
   "metadata": {},
   "source": [
    "Let's look at the data a little bit with "
   ]
  },
  {
   "cell_type": "code",
   "execution_count": 11,
   "id": "cdf3ffa3-75bf-4e02-95e8-90613bc40433",
   "metadata": {},
   "outputs": [],
   "source": [
    "# word = 'virtual'\n",
    "# window = 5\n",
    "# U_w, contexts, positions, t_labels = usages[word]\n",
    "# cluster_id = 1\n",
    "# n = 10\n",
    "\n",
    "\n",
    "# print(clusters['virtual'].cluster_centers_.shape)\n",
    "\n",
    "# centers = clusters['virtual'].cluster_centers_\n",
    "\n",
    "# print(\"shape of labels: \", clusters['virtual'].labels_.shape)\n",
    "\n",
    "# labels = clusters['virtual'].labels_\n",
    "\n",
    "# #print(\"shape of usages: \", usages['virtual'].shape)\n",
    "# print(\"number of usages: \", usages['virtual'][0].shape)\n",
    "\n",
    "\n",
    "# nearest = np.argsort(cdist([clusters['virtual'].cluster_centers_[cluster_id]], usages['virtual'][0]), axis=1)[:, -n:]\n",
    "\n",
    "# print(nearest[0])\n"
   ]
  },
  {
   "cell_type": "code",
   "execution_count": 12,
   "id": "bda1796b-ad12-491b-9435-8ff06e16e268",
   "metadata": {},
   "outputs": [
    {
     "name": "stdout",
     "output_type": "stream",
     "text": [
      "[[ 1.37155902  0.74701113  0.68513262  0.88769364  0.31982324 -0.5443539\n",
      "   0.98743403 -0.41255775 -0.79178655 -0.34121916 -0.06430614  0.01541085\n",
      "  -0.72087657 -0.98633212  0.35177878 -0.35466141  0.04431364  0.15492362\n",
      "  -0.0988112  -0.93392903 -1.0632689  -0.34798449 -0.22970758 -0.37942541\n",
      "  -0.01137507 -0.76013094 -0.8618564  -0.37450206 -1.25279641 -0.37910265\n",
      "  -0.34031749  0.55303037 -0.04993583  1.11559749  0.3623181  -0.5534032\n",
      "   0.08852845  0.30130619  0.7064231   0.74368632  1.00611794  0.04866311\n",
      "   0.57447565  0.86512351 -0.58402896  0.94512302  0.80908138  1.97223032\n",
      "   0.18008894 -0.05232576  0.73623115  0.62196225  0.55818421  0.69126391\n",
      "   0.38810408  0.41157055  0.15244736  0.21383613  0.79748726  0.35449287\n",
      "   0.55290926  0.49548233]\n",
      " [ 1.73348939  1.10719681  0.4653365   1.30692697  0.67544162 -0.27515912\n",
      "   0.7078892   0.04294072 -0.44345418 -0.14074402 -0.0169379   1.01380873\n",
      "  -0.35449001 -0.97559756  0.54417896 -0.19709367  0.58421969  0.53839976\n",
      "  -0.60668087  1.09622502  0.25524217  0.35585713  0.71608555  1.3247956\n",
      "   1.12389719 -0.06122486 -1.1585443  -0.70622844 -0.49417725  0.23009616\n",
      "  -0.26486751  0.63870937 -0.13025883  1.90907741  0.34020105 -0.64939857\n",
      "   0.0620384  -0.51722711  0.63288701  0.33746192  0.7220993   0.02040029\n",
      "   0.38813478  1.15788257 -0.23439547  1.81582808  0.91392905  2.17211795\n",
      "   2.06227803 -0.74389178  2.24328017 -0.47241437  1.87571049 -0.07725509\n",
      "  -0.31903797 -0.31091067 -0.28820565  0.49475637  1.42778432  1.42801881\n",
      "   1.34922278  0.89059347]\n",
      " [ 1.59558928  0.32190296  0.3824999  -0.41776168 -0.38775915 -0.16096693\n",
      "   0.17946984  0.1694212   0.59702229 -0.50099796 -0.36026028 -0.76980031\n",
      "   0.58959728  0.97890407  0.22270966 -0.75106239 -0.41637051 -1.09440017\n",
      "   0.37040535  1.31808436  0.76811624  0.08451392  0.96045786  1.4917773\n",
      "   1.92224646  0.95436293 -1.07076609 -0.20303753  0.50231504  2.23910284\n",
      "   0.49274379  1.64136195 -0.7618981   2.00187206  1.14543068 -0.37841177\n",
      "  -0.13295376 -0.09900807  0.88807666  0.64556777  0.7478081   0.7120375\n",
      "   1.27492988  2.90273476  1.38408458  2.2784965   1.36983383  1.67106867\n",
      "   1.29918885 -0.04523304  2.48655248  0.67809272  2.37475824  0.77862877\n",
      "   0.81363636  0.57369548  0.48417065  1.24142301  1.97530365  1.00544477\n",
      "   2.33852077  2.64606524]\n",
      " [ 0.50444996  0.05111362  0.04997575 -0.24601182  0.12564966  0.77245909\n",
      "   1.01919436 -0.7060197  -1.55648112 -0.43902689 -0.23666158 -0.0749516\n",
      "  -1.34229326 -1.09398448  0.49187931 -0.06314908  0.13436857  0.40493038\n",
      "  -0.21286929 -1.51725781 -0.95322603 -0.50059414 -0.86391437 -1.29630387\n",
      "  -0.41201982 -1.04054594  0.06909124  0.0858779  -0.7721253   0.89645737\n",
      "  -0.40028352  0.46910891  0.34106246  0.77379483  0.51736528  0.13468559\n",
      "   0.32275546  2.11557007  1.48709798  1.78035247  1.5004214   0.68376434\n",
      "   1.95919633  1.44384658 -0.29547662  0.77025306  0.82750809  1.39427555\n",
      "   1.53817439  0.48419201  0.76727533  0.28640491  0.79684389 -0.0347881\n",
      "   0.14109023  0.13708074  0.09650663  0.31949115  1.4606781   0.43849671\n",
      "   0.45903167  0.76054555]\n",
      " [ 1.04791856  0.02283451  0.455219    0.21353817  0.03012562 -1.25539422\n",
      "   1.33419514  0.31423834  1.23013353  0.21553378  0.28172031 -0.16808122\n",
      "   1.22376561  1.08463323  0.59650606 -0.60213172  0.11453372  0.26285893\n",
      "   0.2486036   0.37891668 -0.28689748 -0.10605462  0.33648342  0.18721902\n",
      "   0.16316615  1.30715132 -0.94024795 -0.84032875  0.09734219  0.46392974\n",
      "  -0.24969952 -0.64827883  0.14165476  0.02515777  0.06994011 -0.16240293\n",
      "   0.44568929  0.31387991  0.43103594  0.50406212  0.18665871  0.30446333\n",
      "   0.44034326  1.37822616  1.25126576  1.63140583  0.40978634  1.80360436\n",
      "  -1.17867661  0.47755593 -0.74640006  1.52778244 -0.88012266  1.14753079\n",
      "   1.34021187  1.00058424  0.31236359  0.22651368  0.15008675 -1.20047855\n",
      "   0.7842676   0.35593474]]\n",
      "[['mu', '##ske', '##t', 'or', 'a', 'revolutionary', 'flint', '-', 'lock', '!', 'but', 'they', 'have', '@', '@', '@', '@', '@', '@', '@', '@', '@', '@', 'would', 'call', 'a', 'weapon', '.', 'they', 'have', 'a', 'thing', 'called', '\"', 'indirect', 'influence', ',', '\"', 'the', 'indirect', '##ion', 'of', 'which', 'is', 'extreme', 'indeed', '.', 'it', 'has', 'been', 'claimed', 'that', 'they', 'are', 'furnished', 'with', 'an', 'ancient', 'argue', '##bus', '##e', 'called', '\"', 'virtual', 'representation', '.', '\"', 'virtual', 'representation', '?', 'there', 'is', 'no', 'such', 'thing', 'in', 'the', 'field', 'of', 'law', ',', 'nor', ',', 'i', 'should', 'imagine', ',', 'in', 'any', 'other', 'field', '.', 'the', 'elector', 'is', 'directly', 'represented', 'by', 'the', 'man', 'he', 'sends', 'to', 'the', 'legislature', '.', 'an', 'army', 'corps', '\"', 'virtually', 'represented', '\"', 'on', 'the', 'battlefield', ',', 'sounds', 'somehow', 'like', 'something', 'out', 'of', 'alice', 'in', 'wonderland'], ['a', 'revolutionary', 'flint', '-', 'lock', '!', 'but', 'they', 'have', '@', '@', '@', '@', '@', '@', '@', '@', '@', '@', 'would', 'call', 'a', 'weapon', '.', 'they', 'have', 'a', 'thing', 'called', '\"', 'indirect', 'influence', ',', '\"', 'the', 'indirect', '##ion', 'of', 'which', 'is', 'extreme', 'indeed', '.', 'it', 'has', 'been', 'claimed', 'that', 'they', 'are', 'furnished', 'with', 'an', 'ancient', 'argue', '##bus', '##e', 'called', '\"', 'virtual', 'representation', '.', '\"', 'virtual', 'representation', '?', 'there', 'is', 'no', 'such', 'thing', 'in', 'the', 'field', 'of', 'law', ',', 'nor', ',', 'i', 'should', 'imagine', ',', 'in', 'any', 'other', 'field', '.', 'the', 'elector', 'is', 'directly', 'represented', 'by', 'the', 'man', 'he', 'sends', 'to', 'the', 'legislature', '.', 'an', 'army', 'corps', '\"', 'virtually', 'represented', '\"', 'on', 'the', 'battlefield', ',', 'sounds', 'somehow', 'like', 'something', 'out', 'of', 'alice', 'in', 'wonderland', '.', 'the', 'arm', 'the'], ['to', 'bring', ':', 'readers', 'close', '-', 'to', 'the', 'mystery', 'of', 'the', 'forest', 'through', 'an', 'interpret', '##ative', 'medium', 'we', 'are', 'of', 'the', 'opinion', 'that', 'in', 'the', 'main', ',', 'long', '##fell', '##ow', 'himself', 'was', 'fairly', 'successful', '.', 'the', 'familiar', 'faces', 'of', 'palmer', 'cox', \"'\", 's', '\"', 'brown', '##ies', '\"', '(', 'century', ')', 'peer', 'forth', 'from', 'the', 'covers', 'of', 'an', 'eighth', 'volume', '.', 'the', 'characters', 'arc', 'virtual', '##l', '-', '-', 'the', 'same', 'as', 'have', 'grace', '##d', 'the', 'pages', 'of', 'st', '.', 'nick', '##ola', '##s', 'for', 'many', 'years', '.', 'but', 'these', 'gnome', '##s', 'are', 'never', 'behind', 'th', 'they', 'always', 'undertake', 'the', 'latest', 'social', 'work', ',', 'this', 'year', 'being', 'very', 'ambitious', 'in', 'their', 'civic', 'activity', '.', 'de', 'wit', '##t', 'clinton', 'falls', 'did', 'not', 'mistake', 'child', 'interest', '@', '@', '@', '@', '@'], ['machinery', ',', 'which', 'has', 'been', 'the', 'most', 'formidable', 'ob', '-', 'st', '##acle', 'all', 'along', 'in', 'the', 'path', 'of', 'successful', 'banking', 'and', 'currency', 'reform', '.', 'such', 'mis', '##giving', 'has', 'found', 'a', 'voice', 'not', 'only', 'among', 'the', 'people', 'at', 'large', 'but', 'among', 'the', 'interior', 'banks', ',', 'and', 'the', 'recent', 'controversy', 'over', 'the', 'holding', '-', 'company', 'device', ',', 'whereby', 'some', 'of', 'our', 'powerful', 'metropolitan', 'banks', 'held', 'virtual', 'controlling', 'interest', 'in', 'a', 'group', 'of', 'other', 'banking', 'institutions', ',', 'was', 'not', 'calculated', 'to', 'alla', '##y', 'it', '.', 'secretary', 'meyer', \"'\", 's', 'advocacy', 'of', 'the', 'sale', 'or', 'abandonment', 'of', 'nearly', 'all', 'the', 'navy', 'yards', '@', '@', '@', '@', '@', '@', '@', '@', '@', '@', 'institution', 'on', 'na', '##rra', '##gan', '##sett', 'bay', 'can', 'be', 'readily', 'defended', 'on', 'the', 'ground', 'of', 'economy', 'and', 'efficiency'], ['all', ',', 'but', 'simply', 'throw', 'out', 'what', 'liberal', 'legislation', 'they', 'dare', ',', 'and', 'when', 'a', 'bill', 'comes', 'along', 'which', 'they', 'fear', 'is', 'immensely', 'popular', ',', 'pass', 'it', 'without', 'a', 'murmur', '.', 'the', 'coronation', 'of', 'george', 'v', 'as', 'em', '-', '-', 'per', '##or', 'of', 'india', 'was', 'signal', '##ized', 'by', 'the', 'noun', '##ce', '##ment', 'of', 'two', 'highly', 'important', 'mi', '##his', '##tra', '##tive', 'changes', ',', 'the', 'virtual', \"'\", 're', '-', 'consolidation', 'of', 'bengal', 'under', 'one', 'governor', ',', 'and', 'the', 'transfer', 'of', 'the', 'capital', 'of', '-', 'india', 'from', 'calcutta', 'to', '-', 'delhi', '.', 'something', 'more', 'than', 'geography', 'enters', 'into', 'both', 'moves', ',', 'although', 'there', 'are', 'plenty', 'of', 'geographical', 'reasons', 'for', 'the', 'selection', 'of', 'delhi', '.', 'that', 'city', 'is', 'situated', 'almost', 'exactly', 'at', 'the', 'middle', 'point', 'of', 'the', 'base', 'line', 'of']]\n",
      "[63, 63, 63, 63, 63]\n",
      "[1910, 1910, 1910, 1910, 1910]\n"
     ]
    }
   ],
   "source": [
    "U_w, contexts, positions, t_labels = usages['virtual']\n",
    "print(U_w[:5])\n",
    "print(contexts[:5])\n",
    "print(positions[:5])\n",
    "print(t_labels[:5])"
   ]
  },
  {
   "cell_type": "code",
   "execution_count": 13,
   "id": "6b3e7018-de80-49a8-b87a-3c0cf6dc858e",
   "metadata": {},
   "outputs": [
    {
     "data": {
      "text/plain": [
       "Counter({0: 1097, 1: 843})"
      ]
     },
     "execution_count": 13,
     "metadata": {},
     "output_type": "execute_result"
    }
   ],
   "source": [
    "# Here's the number of usages in each cluster\n",
    "\n",
    "from collections import Counter\n",
    "Counter(clusters['virtual'].labels_)"
   ]
  },
  {
   "cell_type": "code",
   "execution_count": null,
   "id": "6223a9bc",
   "metadata": {},
   "outputs": [],
   "source": [
    "now we remap the data to have one row for each feature"
   ]
  },
  {
   "cell_type": "code",
   "execution_count": 14,
   "id": "3ca8569e",
   "metadata": {},
   "outputs": [
    {
     "name": "stdout",
     "output_type": "stream",
     "text": [
      "['Vision', 'Bright', 'Dark', 'Color', 'Pattern', 'Large', 'Small', 'Motion', 'Biomotion', 'Fast']\n"
     ]
    }
   ],
   "source": [
    "# get the feature labels for the model\n",
    "model = torch.load('../trained_models/{}'.format(feature_set))\n",
    "feature_map = model.feature_norms.feature_map\n",
    "feature_labels = [str(feature_map.get_object(i)) for i in range(0, len(feature_map))]\n",
    "print(feature_labels[:10])\n",
    "\n"
   ]
  },
  {
   "cell_type": "code",
   "execution_count": 15,
   "id": "02e7d0a4",
   "metadata": {},
   "outputs": [
    {
     "data": {
      "text/plain": [
       "62"
      ]
     },
     "execution_count": 15,
     "metadata": {},
     "output_type": "execute_result"
    }
   ],
   "source": [
    "# model dimensions dont have full 65 oops who knows what happened if our original downloaded data was bunk\n",
    "len(feature_labels)\n",
    "\n"
   ]
  },
  {
   "cell_type": "code",
   "execution_count": 17,
   "id": "bfbf96a6",
   "metadata": {},
   "outputs": [
    {
     "name": "stderr",
     "output_type": "stream",
     "text": [
      "6668it [00:00, 35905.27it/s]\n",
      "32448it [00:00, 34864.23it/s]\n",
      "60311it [00:01, 35679.87it/s]\n",
      "22451it [00:00, 34873.97it/s]\n",
      "10169it [00:00, 35073.65it/s]\n",
      "6285it [00:00, 36380.65it/s]\n",
      "7834it [00:00, 33669.58it/s]\n",
      "7521it [00:00, 35954.74it/s]\n",
      "2804it [00:00, 36964.79it/s]\n",
      "37883it [00:01, 36275.18it/s]\n",
      "13155it [00:00, 34774.87it/s]\n",
      "1954it [00:00, 37315.46it/s]\n",
      "11622it [00:00, 35833.55it/s]\n",
      "14381it [00:00, 32497.52it/s]\n",
      "3068it [00:00, 36551.98it/s]\n",
      "1940it [00:00, 37119.94it/s]\n",
      "2621it [00:00, 36675.04it/s]\n",
      "2486it [00:00, 37406.96it/s]\n",
      "1183it [00:00, 36497.43it/s]\n"
     ]
    }
   ],
   "source": [
    "words = []\n",
    "years = []\n",
    "prototypes =[]\n",
    "usage_ids = []\n",
    "#positions = []\n",
    "features = []\n",
    "values = []\n",
    "\n",
    "# iterate through the words\n",
    "for word in clusters.keys():\n",
    "    # get the usages for this word, where the usage is a tuple of matrices with feature vector and other info\n",
    "    U_w, contexts, positions, t_labels = usages[word]\n",
    "    predictions = clusters[word].predict(U_w)\n",
    "    \n",
    "    for usage_id, u_w in tqdm(enumerate(U_w)):\n",
    "\n",
    "        i=0\n",
    "        for value in u_w:\n",
    "            words.append(word)\n",
    "            years.append(t_labels[usage_id])\n",
    "            prototypes.append(predictions[usage_id])\n",
    "            usage_ids.append(usage_id)\n",
    "            features.append(feature_labels[i])\n",
    "            values.append(value)\n",
    "            i+=1\n",
    "\n",
    "        #prototypes = clustering.get_prototypes(word, clusters[word], usages[word], n=5, window=10)\n",
    "\n",
    "    tidy_df = pd.DataFrame.from_records(\n",
    "        {\"word\": words,\n",
    "         \"year\": years,\n",
    "         \"prototype\": prototypes, \n",
    "         \"usage_id\": usage_ids,\n",
    "        #\"prototype_sentences\": prototypes, \n",
    "        \"feature\": features,\n",
    "        \"value\": values,\n",
    "        }\n",
    "    )\n",
    "    tidy_df.to_csv('../data/cwr4lsc/{}/{}_features.csv'.format(feature_set, word))\n",
    "\n",
    "    "
   ]
  },
  {
   "cell_type": "code",
   "execution_count": 36,
   "id": "13734499",
   "metadata": {},
   "outputs": [
    {
     "data": {
      "text/html": [
       "<div>\n",
       "<style scoped>\n",
       "    .dataframe tbody tr th:only-of-type {\n",
       "        vertical-align: middle;\n",
       "    }\n",
       "\n",
       "    .dataframe tbody tr th {\n",
       "        vertical-align: top;\n",
       "    }\n",
       "\n",
       "    .dataframe thead th {\n",
       "        text-align: right;\n",
       "    }\n",
       "</style>\n",
       "<table border=\"1\" class=\"dataframe\">\n",
       "  <thead>\n",
       "    <tr style=\"text-align: right;\">\n",
       "      <th></th>\n",
       "      <th>feature</th>\n",
       "      <th>prototype_id</th>\n",
       "      <th>target</th>\n",
       "      <th>value</th>\n",
       "    </tr>\n",
       "  </thead>\n",
       "  <tbody>\n",
       "    <tr>\n",
       "      <th>0</th>\n",
       "      <td>desert</td>\n",
       "      <td>0</td>\n",
       "      <td>leaf</td>\n",
       "      <td>-1.186869</td>\n",
       "    </tr>\n",
       "    <tr>\n",
       "      <th>1</th>\n",
       "      <td>give</td>\n",
       "      <td>0</td>\n",
       "      <td>leaf</td>\n",
       "      <td>-1.121639</td>\n",
       "    </tr>\n",
       "    <tr>\n",
       "      <th>2</th>\n",
       "      <td>leave</td>\n",
       "      <td>0</td>\n",
       "      <td>leaf</td>\n",
       "      <td>-1.951784</td>\n",
       "    </tr>\n",
       "    <tr>\n",
       "      <th>3</th>\n",
       "      <td>up</td>\n",
       "      <td>0</td>\n",
       "      <td>leaf</td>\n",
       "      <td>0.149296</td>\n",
       "    </tr>\n",
       "    <tr>\n",
       "      <th>4</th>\n",
       "      <td>withdraw</td>\n",
       "      <td>0</td>\n",
       "      <td>leaf</td>\n",
       "      <td>-1.602879</td>\n",
       "    </tr>\n",
       "  </tbody>\n",
       "</table>\n",
       "</div>"
      ],
      "text/plain": [
       "    feature  prototype_id target     value\n",
       "0    desert             0   leaf -1.186869\n",
       "1      give             0   leaf -1.121639\n",
       "2     leave             0   leaf -1.951784\n",
       "3        up             0   leaf  0.149296\n",
       "4  withdraw             0   leaf -1.602879"
      ]
     },
     "execution_count": 36,
     "metadata": {},
     "output_type": "execute_result"
    }
   ],
   "source": [
    "tidy_df.head(5)"
   ]
  },
  {
   "cell_type": "code",
   "execution_count": null,
   "id": "669320a0-26d7-47d4-a221-54f3b7ec9813",
   "metadata": {},
   "outputs": [],
   "source": []
  }
 ],
 "metadata": {
  "kernelspec": {
   "display_name": "gabriella_cwr4lsc",
   "language": "python",
   "name": "gabriella_cwr4lsc"
  },
  "language_info": {
   "codemirror_mode": {
    "name": "ipython",
    "version": 3
   },
   "file_extension": ".py",
   "mimetype": "text/x-python",
   "name": "python",
   "nbconvert_exporter": "python",
   "pygments_lexer": "ipython3",
   "version": "3.10.9"
  }
 },
 "nbformat": 4,
 "nbformat_minor": 5
}
