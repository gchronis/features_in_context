{
 "cells": [
  {
   "cell_type": "code",
   "execution_count": null,
   "metadata": {},
   "outputs": [],
   "source": [
    "import sys\n",
    "sys.path.append(\"../src/\")\n",
    "sys.path.append(\"..\")\n",
    "\n",
    "import torch\n",
    "from bert import *"
   ]
  },
  {
   "cell_type": "code",
   "execution_count": null,
   "metadata": {},
   "outputs": [],
   "source": [
    "# load bert\n",
    "bert = BERTBase()"
   ]
  },
  {
   "cell_type": "code",
   "execution_count": null,
   "metadata": {},
   "outputs": [],
   "source": [
    "# load bertspace -> feature space projection model\n",
    "# buchanan model\n",
    "model = torch.load('../trained_models/model.plsr.buchanan.allbuthomonyms.5k.300components.500max_iters')\n",
    "\n",
    "\n",
    "# binder model\n",
    "#model = torch.load('../trained_models/model.ffnn.binder.5k.50epochs.0.5dropout.lr1e-4.hsize300')\n",
    "\n",
    "# mcrae model\n",
    "# model = torch.load('main_efe0a_00006_6_clusters=5,embedding_type=bert,model=plsr,plsr_max_iter=500,plsr_n_components=100,train_data=mc_rae_real_2022-10-12_00-08-44')"
   ]
  },
  {
   "cell_type": "code",
   "execution_count": null,
   "metadata": {},
   "outputs": [],
   "source": [
    "model.predict('wizard')"
   ]
  },
  {
   "cell_type": "code",
   "execution_count": null,
   "metadata": {},
   "outputs": [],
   "source": [
    "model.predict_top_n_features('wizard',20)"
   ]
  },
  {
   "cell_type": "code",
   "execution_count": null,
   "metadata": {},
   "outputs": [],
   "source": [
    "sent = \"The second largest order of mammals after rodents, bats comprise about 20% of all classified mammal species worldwide, with over 1,400 species\"\n",
    "\n",
    "model.predict_top_n_features_in_context('bats', sent, 10, bert=bert)"
   ]
  },
  {
   "cell_type": "code",
   "execution_count": null,
   "metadata": {},
   "outputs": [],
   "source": [
    "sent = \"'Or the surging whirling sounds of bats at night , when their black bodies dived into the blackness above and below the amber street lights\"\n",
    "\n",
    "model.predict_top_n_features_in_context('bats', sent, 10, bert=bert)"
   ]
  },
  {
   "cell_type": "code",
   "execution_count": null,
   "metadata": {},
   "outputs": [],
   "source": [
    "model.predict_top_n_features_in_context('foundation', 'The argument has a weak foundation', 10, bert=bert)"
   ]
  },
  {
   "cell_type": "code",
   "execution_count": null,
   "metadata": {},
   "outputs": [],
   "source": [
    "model.predict_top_n_features_in_context('foundation', 'The building has a weak foundation', 10, bert=bert)"
   ]
  },
  {
   "cell_type": "code",
   "execution_count": null,
   "metadata": {},
   "outputs": [],
   "source": [
    "# sents = [\"Two antennas got married. The ceremony wasn’t much, but the reception was excellent.\"]\n",
    "# word = \"reception\"\n",
    "\n",
    "sents = [\"Did you hear about the silk worm race? It ended in a tie.\",\n",
    "         \"The soccer game ended in a 4-4 tie.\",\n",
    "         \"The silk worms produced a beautiful striped tie.\"\n",
    "        ]\n",
    "word = 'tie'\n",
    "\n",
    "# sents = [\"Q: What’s the best thing about Switzerland? A: Well, the flag is a big plus.\"]\n",
    "# word = 'plus'\n",
    "\n",
    "for sent in sents:\n",
    "    features = model.predict_top_n_features_in_context(word, sent, 20, bert=bert)\n",
    "    print(features)"
   ]
  },
  {
   "cell_type": "code",
   "execution_count": null,
   "metadata": {},
   "outputs": [],
   "source": [
    "sent = 'By the way, did everyone notice that misogynist pig served the ladies raw meat? '\n",
    "sent = \"People travel many miles to gaze upon this natural wonder, though few are willing to approach it closely, since it is reputed to be the haunt of various demons and devils\"\n",
    "#sent = \"Early on, the target herd immunity threshold was estimated to be about 60 to 70 percent of the population. Most experts, including Dr. Fauci, expected that the United States would be able to reach it once vaccines were available\"\n",
    "for word in sent.split(' '):\n",
    "    print(word)\n",
    "    feats = model.predict_top_n_features_in_context(word, sent,7, bert=bert)\n",
    "    print(feats)"
   ]
  },
  {
   "cell_type": "code",
   "execution_count": null,
   "metadata": {},
   "outputs": [],
   "source": [
    "# look at mcrae features\n"
   ]
  },
  {
   "cell_type": "code",
   "execution_count": null,
   "metadata": {},
   "outputs": [],
   "source": [
    "model.predict_top_n_features_in_context('pig', 'In fact with the development of deep-litter hen houses and intensive pig culture some such controls are necessary', 20, bert=bert)"
   ]
  },
  {
   "cell_type": "code",
   "execution_count": null,
   "metadata": {},
   "outputs": [],
   "source": [
    "sent = \" My place is an absolute pig sty and I have to do laundry Hahahahaha\"\n",
    "model.predict_top_n_features_in_context('pig', sent, 20, bert=bert)"
   ]
  },
  {
   "cell_type": "code",
   "execution_count": null,
   "metadata": {},
   "outputs": [],
   "source": [
    "model.predict_top_n_features_in_context('sharks', 'We saw sharks, rays, els, turtles, lobsters, crabs, hundreds and hundreds of', 20, bert=bert)"
   ]
  },
  {
   "cell_type": "code",
   "execution_count": null,
   "metadata": {},
   "outputs": [],
   "source": [
    "model.predict_top_n_features_in_context('shark', \"offended by the Poll # The character's name has become a synonym for loan shark, and as a verb to shylock means to lend money at exorbitant rates.\", 20, bert=bert)"
   ]
  },
  {
   "cell_type": "code",
   "execution_count": null,
   "metadata": {},
   "outputs": [],
   "source": [
    "word = \"production\"\n",
    "sents = [\"Here we must stress again that we are not proposing that the category of production should magically disappear, but that we depose it from the metaphysical primacy it has enjoyed for far too long in Western history, especially following the rise of capitalism.\"\n",
    "        , \"Her visit was in conjunction with the School of Theater's production of \\\" The Laramie Project, \\\" a play about Shepard's gay son,\"\n",
    "        , \"Agriculture is the birth of production, complete with its essential features and deformation of life and consciousness\"\n",
    "        , \"How to achieve such a seizure of the means of production is a political question\"\n",
    "        , \"The rig had been expected to begin oil production again later this month\"]"
   ]
  },
  {
   "cell_type": "code",
   "execution_count": null,
   "metadata": {},
   "outputs": [],
   "source": [
    "for sent in sents:\n",
    "    features = model.predict_top_n_features_in_context(word, sent, 20, bert=bert)\n",
    "    print(features)"
   ]
  },
  {
   "cell_type": "code",
   "execution_count": null,
   "metadata": {},
   "outputs": [],
   "source": [
    "word = \"gravel\"\n",
    "sents = [\n",
    "    \"My wheel turned to the left and down a gravel road.\"\n",
    "    , \"The speaker's voice was guttural and low, low and full of gravel and flecks of spit.\"\n",
    "]\n",
    "\n",
    "for sent in sents:\n",
    "    features = model.predict_top_n_features_in_context(word, sent, 20, bert=bert)\n",
    "    print(features)"
   ]
  },
  {
   "cell_type": "code",
   "execution_count": null,
   "metadata": {},
   "outputs": [],
   "source": [
    "word = \"pig\"\n",
    "sents = [\n",
    "    \"The pig trotted up to the fence.\"\n",
    "    , \"My roommate is a pig.\"\n",
    "]\n",
    "\n",
    "for sent in sents:\n",
    "    features = model.predict_top_n_features_in_context(word, sent, 20, bert=bert)\n",
    "    print(features)"
   ]
  },
  {
   "cell_type": "code",
   "execution_count": null,
   "metadata": {},
   "outputs": [],
   "source": [
    "word = \"chess\"\n",
    "sents = [\n",
    "    \"Old men sat around in the park waiting for acquantances to meet them for a game of chess.\"\n",
    "    , \"Sam faced up his opponent in the ring. He bounced off the ropes and swund underneath for an uppercut. This wasn't war. This was chess.\"\n",
    "]\n",
    "\n",
    "for sent in sents:\n",
    "    features = model.predict_top_n_features_in_context(word, sent, 20, bert=bert)\n",
    "    print(features)"
   ]
  },
  {
   "cell_type": "code",
   "execution_count": null,
   "metadata": {},
   "outputs": [],
   "source": []
  }
 ],
 "metadata": {
  "kernelspec": {
   "display_name": "Python 3 (ipykernel)",
   "language": "python",
   "name": "python3"
  },
  "language_info": {
   "codemirror_mode": {
    "name": "ipython",
    "version": 3
   },
   "file_extension": ".py",
   "mimetype": "text/x-python",
   "name": "python",
   "nbconvert_exporter": "python",
   "pygments_lexer": "ipython3",
   "version": "3.10.8"
  }
 },
 "nbformat": 4,
 "nbformat_minor": 4
}
