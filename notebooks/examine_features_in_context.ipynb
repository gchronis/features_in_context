{
 "cells": [
  {
   "cell_type": "code",
   "execution_count": 1,
   "metadata": {},
   "outputs": [],
   "source": [
    "import sys\n",
    "import torch\n",
    "sys.path.append(\"..\")\n",
    "from src.bert import *"
   ]
  },
  {
   "cell_type": "code",
   "execution_count": 2,
   "metadata": {},
   "outputs": [
    {
     "name": "stderr",
     "output_type": "stream",
     "text": [
      "INFO:pytorch_pretrained_bert.modeling:loading archive file https://s3.amazonaws.com/models.huggingface.co/bert/bert-base-uncased.tar.gz from cache at /Users/km/.pytorch_pretrained_bert/9c41111e2de84547a463fd39217199738d1e3deb72d4fec4399e6e241983c6f0.ae3cef932725ca7a30cdcb93fc6e09150a55e2a130ec7af63975a16c153ae2ba\n",
      "INFO:pytorch_pretrained_bert.modeling:extracting archive file /Users/km/.pytorch_pretrained_bert/9c41111e2de84547a463fd39217199738d1e3deb72d4fec4399e6e241983c6f0.ae3cef932725ca7a30cdcb93fc6e09150a55e2a130ec7af63975a16c153ae2ba to temp dir /var/folders/yl/yqkqr3kx0tjdr4wrdwv1sk500000gn/T/tmp93cpwl2c\n",
      "INFO:pytorch_pretrained_bert.modeling:Model config {\n",
      "  \"attention_probs_dropout_prob\": 0.1,\n",
      "  \"hidden_act\": \"gelu\",\n",
      "  \"hidden_dropout_prob\": 0.1,\n",
      "  \"hidden_size\": 768,\n",
      "  \"initializer_range\": 0.02,\n",
      "  \"intermediate_size\": 3072,\n",
      "  \"max_position_embeddings\": 512,\n",
      "  \"num_attention_heads\": 12,\n",
      "  \"num_hidden_layers\": 12,\n",
      "  \"type_vocab_size\": 2,\n",
      "  \"vocab_size\": 30522\n",
      "}\n",
      "\n",
      "INFO:pytorch_pretrained_bert.tokenization:loading vocabulary file https://s3.amazonaws.com/models.huggingface.co/bert/bert-base-uncased-vocab.txt from cache at /Users/km/.pytorch_pretrained_bert/26bc1ad6c0ac742e9b52263248f6d0f00068293b33709fae12320c0e35ccfbbb.542ce4285a40d23a559526243235df47c5f75c197f04f37d1a0c124c32c9a084\n"
     ]
    }
   ],
   "source": [
    "# load bert\n",
    "bert = BERTBase()"
   ]
  },
  {
   "cell_type": "code",
   "execution_count": 27,
   "metadata": {},
   "outputs": [],
   "source": [
    "# load bertspace -> feature space projection model\n",
    "# buchanan model\n",
    "#model = torch.load('../trained_models/model.plsr.buchanan.allbuthomonyms.5k.300components.500max_iters')\n",
    "\n",
    "\n",
    "# binder model\n",
    "model = torch.load('../trained_models/model.ffnn.binder.5k.50epochs.0.5dropout.lr1e-4.hsize300')\n",
    "\n",
    "# mcrae model\n",
    "# model = torch.load('main_efe0a_00006_6_clusters=5,embedding_type=bert,model=plsr,plsr_max_iter=500,plsr_n_components=100,train_data=mc_rae_real_2022-10-12_00-08-44')"
   ]
  },
  {
   "cell_type": "code",
   "execution_count": 28,
   "metadata": {},
   "outputs": [
    {
     "data": {
      "text/plain": [
       "array([2.9568036 , 0.61426425, 0.3744761 , 0.70247775, 0.7854624 ,\n",
       "       1.4191686 , 0.7391516 , 1.7764028 , 1.5506842 , 1.2122059 ,\n",
       "       0.7108153 , 1.7034833 , 1.277241  , 1.310958  , 0.9128889 ,\n",
       "       0.87518716, 1.0036851 , 1.512504  , 0.70719254, 3.1598284 ,\n",
       "       2.0892081 , 0.8565724 , 1.1695713 , 2.4206765 , 1.1395965 ,\n",
       "       1.828603  , 0.22622356, 0.40727967, 1.8939434 , 1.8348547 ,\n",
       "       0.57179576, 0.9359502 , 1.0819094 , 2.025812  , 0.7185721 ,\n",
       "       0.8300108 , 0.7960571 , 0.31336394, 1.0342946 , 1.4954449 ,\n",
       "       1.1481557 , 1.774804  , 2.7916858 , 2.9556499 , 1.9453566 ,\n",
       "       2.5845878 , 1.2213181 , 1.9209309 , 2.502466  , 1.5053197 ,\n",
       "       2.238748  , 1.5596702 , 1.9351563 , 0.9022642 , 0.99593234,\n",
       "       0.6680382 , 0.9449822 , 1.5471233 , 2.1278963 , 1.052221  ,\n",
       "       3.241095  , 2.838128  ], dtype=float32)"
      ]
     },
     "execution_count": 28,
     "metadata": {},
     "output_type": "execute_result"
    }
   ],
   "source": [
    "model.predict('wizard')"
   ]
  },
  {
   "cell_type": "code",
   "execution_count": 29,
   "metadata": {},
   "outputs": [
    {
     "data": {
      "text/plain": [
       "['Motion',\n",
       " 'Speech',\n",
       " 'UpperLimb',\n",
       " 'Head',\n",
       " 'Cognition',\n",
       " 'Sound',\n",
       " 'Benefit',\n",
       " 'Loud',\n",
       " 'Pleasant',\n",
       " 'Communication',\n",
       " 'Happy',\n",
       " 'Human',\n",
       " 'Drive',\n",
       " 'Consequential',\n",
       " 'Scene',\n",
       " 'Arousal',\n",
       " 'Social',\n",
       " 'Audition',\n",
       " 'Attention',\n",
       " 'Vision']"
      ]
     },
     "execution_count": 29,
     "metadata": {},
     "output_type": "execute_result"
    }
   ],
   "source": [
    "model.predict_top_n_features('wizard',20)"
   ]
  },
  {
   "cell_type": "code",
   "execution_count": 30,
   "metadata": {},
   "outputs": [
    {
     "data": {
      "text/plain": [
       "['Texture',\n",
       " 'Fast',\n",
       " 'Shape',\n",
       " 'Biomotion',\n",
       " 'Motion',\n",
       " 'Weight',\n",
       " 'Pattern',\n",
       " 'Color',\n",
       " 'Attention',\n",
       " 'Vision']"
      ]
     },
     "execution_count": 30,
     "metadata": {},
     "output_type": "execute_result"
    }
   ],
   "source": [
    "sent = \"The second largest order of mammals after rodents, bats comprise about 20% of all classified mammal species worldwide, with over 1,400 species\"\n",
    "\n",
    "model.predict_top_n_features_in_context('bats', sent, 10, bert=bert)"
   ]
  },
  {
   "cell_type": "code",
   "execution_count": 37,
   "metadata": {},
   "outputs": [
    {
     "data": {
      "text/plain": [
       "['Shape',\n",
       " 'Body',\n",
       " 'Landmark',\n",
       " 'Needs',\n",
       " 'Consequential',\n",
       " 'Scene',\n",
       " 'Biomotion',\n",
       " 'Attention',\n",
       " 'Benefit',\n",
       " 'Vision']"
      ]
     },
     "execution_count": 37,
     "metadata": {},
     "output_type": "execute_result"
    }
   ],
   "source": [
    "sent = \"wug\"\n",
    "\n",
    "model.predict_top_n_features_in_context('wug', sent, 10, bert=bert)"
   ]
  },
  {
   "cell_type": "code",
   "execution_count": 32,
   "metadata": {},
   "outputs": [
    {
     "data": {
      "text/plain": [
       "['Fast',\n",
       " 'Scene',\n",
       " 'Body',\n",
       " 'Shape',\n",
       " 'Biomotion',\n",
       " 'Motion',\n",
       " 'Sound',\n",
       " 'Audition',\n",
       " 'Attention',\n",
       " 'Vision']"
      ]
     },
     "execution_count": 32,
     "metadata": {},
     "output_type": "execute_result"
    }
   ],
   "source": [
    "sent = \"A wug is a penguin.\"\n",
    "\n",
    "model.predict_top_n_features_in_context('wug', sent, 10, bert=bert)"
   ]
  },
  {
   "cell_type": "code",
   "execution_count": 9,
   "metadata": {},
   "outputs": [
    {
     "data": {
      "text/plain": [
       "['house',\n",
       " 'water',\n",
       " 'material',\n",
       " 'protect',\n",
       " 'walk',\n",
       " 'person',\n",
       " 'object',\n",
       " 'hard',\n",
       " 'build',\n",
       " 'place']"
      ]
     },
     "execution_count": 9,
     "metadata": {},
     "output_type": "execute_result"
    }
   ],
   "source": [
    "model.predict_top_n_features_in_context('foundation', 'The argument has a weak foundation', 10, bert=bert)"
   ]
  },
  {
   "cell_type": "code",
   "execution_count": 10,
   "metadata": {},
   "outputs": [
    {
     "data": {
      "text/plain": [
       "['wood',\n",
       " 'house',\n",
       " 'human',\n",
       " 'heave',\n",
       " 'hand',\n",
       " 'object',\n",
       " 'hard',\n",
       " 'build',\n",
       " 'person',\n",
       " 'walk']"
      ]
     },
     "execution_count": 10,
     "metadata": {},
     "output_type": "execute_result"
    }
   ],
   "source": [
    "model.predict_top_n_features_in_context('foundation', 'The building has a weak foundation', 10, bert=bert)"
   ]
  },
  {
   "cell_type": "code",
   "execution_count": null,
   "metadata": {},
   "outputs": [],
   "source": [
    "# sents = [\"Two antennas got married. The ceremony wasn’t much, but the reception was excellent.\"]\n",
    "# word = \"reception\"\n",
    "\n",
    "sents = [\"Did you hear about the silk worm race? It ended in a tie.\",\n",
    "         \"The soccer game ended in a 4-4 tie.\",\n",
    "         \"The silk worms produced a beautiful striped tie.\"\n",
    "        ]\n",
    "word = 'tie'\n",
    "\n",
    "# sents = [\"Q: What’s the best thing about Switzerland? A: Well, the flag is a big plus.\"]\n",
    "# word = 'plus'\n",
    "\n",
    "for sent in sents:\n",
    "    features = model.predict_top_n_features_in_context(word, sent, 20, bert=bert)\n",
    "    print(features)"
   ]
  },
  {
   "cell_type": "code",
   "execution_count": null,
   "metadata": {},
   "outputs": [],
   "source": [
    "sent = 'By the way, did everyone notice that misogynist pig served the ladies raw meat? '\n",
    "sent = \"People travel many miles to gaze upon this natural wonder, though few are willing to approach it closely, since it is reputed to be the haunt of various demons and devils\"\n",
    "#sent = \"Early on, the target herd immunity threshold was estimated to be about 60 to 70 percent of the population. Most experts, including Dr. Fauci, expected that the United States would be able to reach it once vaccines were available\"\n",
    "for word in sent.split(' '):\n",
    "    print(word)\n",
    "    feats = model.predict_top_n_features_in_context(word, sent,7, bert=bert)\n",
    "    print(feats)"
   ]
  },
  {
   "cell_type": "code",
   "execution_count": null,
   "metadata": {},
   "outputs": [],
   "source": [
    "# look at mcrae features\n"
   ]
  },
  {
   "cell_type": "code",
   "execution_count": null,
   "metadata": {},
   "outputs": [],
   "source": [
    "model.predict_top_n_features_in_context('pig', 'In fact with the development of deep-litter hen houses and intensive pig culture some such controls are necessary', 20, bert=bert)"
   ]
  },
  {
   "cell_type": "code",
   "execution_count": null,
   "metadata": {},
   "outputs": [],
   "source": [
    "sent = \" My place is an absolute pig sty and I have to do laundry Hahahahaha\"\n",
    "model.predict_top_n_features_in_context('pig', sent, 20, bert=bert)"
   ]
  },
  {
   "cell_type": "code",
   "execution_count": null,
   "metadata": {},
   "outputs": [],
   "source": [
    "model.predict_top_n_features_in_context('car',\n",
    "                                        'The car sells well.', 20, bert=bert)"
   ]
  },
  {
   "cell_type": "code",
   "execution_count": null,
   "metadata": {},
   "outputs": [],
   "source": [
    "model.predict_top_n_features_in_context('car',\n",
    "                                        'The salesman sells the car well.', 20, bert=bert)"
   ]
  },
  {
   "cell_type": "code",
   "execution_count": null,
   "metadata": {},
   "outputs": [],
   "source": [
    "word = \"production\"\n",
    "sents = [\"Here we must stress again that we are not proposing that the category of production should magically disappear, but that we depose it from the metaphysical primacy it has enjoyed for far too long in Western history, especially following the rise of capitalism.\"\n",
    "        , \"Her visit was in conjunction with the School of Theater's production of \\\" The Laramie Project, \\\" a play about Shepard's gay son,\"\n",
    "        , \"Agriculture is the birth of production, complete with its essential features and deformation of life and consciousness\"\n",
    "        , \"How to achieve such a seizure of the means of production is a political question\"\n",
    "        , \"The rig had been expected to begin oil production again later this month\"]"
   ]
  },
  {
   "cell_type": "code",
   "execution_count": null,
   "metadata": {},
   "outputs": [],
   "source": [
    "for sent in sents:\n",
    "    features = model.predict_top_n_features_in_context(word, sent, 20, bert=bert)\n",
    "    print(features)"
   ]
  },
  {
   "cell_type": "code",
   "execution_count": null,
   "metadata": {},
   "outputs": [],
   "source": [
    "word = \"gravel\"\n",
    "sents = [\n",
    "    \"My wheel turned to the left and down a gravel road.\"\n",
    "    , \"The speaker's voice was guttural and low, low and full of gravel and flecks of spit.\"\n",
    "]\n",
    "\n",
    "for sent in sents:\n",
    "    features = model.predict_top_n_features_in_context(word, sent, 20, bert=bert)\n",
    "    print(features)"
   ]
  },
  {
   "cell_type": "code",
   "execution_count": null,
   "metadata": {},
   "outputs": [],
   "source": [
    "word = \"pig\"\n",
    "sents = [\n",
    "    \"The pig trotted up to the fence.\"\n",
    "    , \"My roommate is a pig.\"\n",
    "]\n",
    "\n",
    "for sent in sents:\n",
    "    features = model.predict_top_n_features_in_context(word, sent, 20, bert=bert)\n",
    "    print(features)"
   ]
  },
  {
   "cell_type": "code",
   "execution_count": null,
   "metadata": {},
   "outputs": [],
   "source": [
    "word = \"chess\"\n",
    "sents = [\n",
    "    \"Old men sat around in the park waiting for acquantances to meet them for a game of chess.\"\n",
    "    , \"Sam faced up his opponent in the ring. He bounced off the ropes and swund underneath for an uppercut. This wasn't war. This was chess.\"\n",
    "]\n",
    "\n",
    "for sent in sents:\n",
    "    features = model.predict_top_n_features_in_context(word, sent, 20, bert=bert)\n",
    "    print(features)"
   ]
  },
  {
   "cell_type": "code",
   "execution_count": null,
   "metadata": {},
   "outputs": [],
   "source": []
  }
 ],
 "metadata": {
  "kernelspec": {
   "display_name": "Python 3 (ipykernel)",
   "language": "python",
   "name": "python3"
  },
  "language_info": {
   "codemirror_mode": {
    "name": "ipython",
    "version": 3
   },
   "file_extension": ".py",
   "mimetype": "text/x-python",
   "name": "python",
   "nbconvert_exporter": "python",
   "pygments_lexer": "ipython3",
   "version": "3.9.13"
  }
 },
 "nbformat": 4,
 "nbformat_minor": 4
}
