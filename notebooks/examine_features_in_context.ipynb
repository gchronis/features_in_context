{
 "cells": [
  {
   "cell_type": "code",
   "execution_count": 2,
   "metadata": {},
   "outputs": [],
   "source": [
    "import sys\n",
    "sys.path.append(\"../src/\")\n",
    "sys.path.append(\"..\")\n",
    "\n",
    "import torch\n",
    "from bert import *"
   ]
  },
  {
   "cell_type": "code",
   "execution_count": 7,
   "metadata": {},
   "outputs": [
    {
     "name": "stderr",
     "output_type": "stream",
     "text": [
      "INFO:pytorch_pretrained_bert.modeling:loading archive file https://s3.amazonaws.com/models.huggingface.co/bert/bert-base-uncased.tar.gz from cache at /Users/gabriellachronis/.pytorch_pretrained_bert/9c41111e2de84547a463fd39217199738d1e3deb72d4fec4399e6e241983c6f0.ae3cef932725ca7a30cdcb93fc6e09150a55e2a130ec7af63975a16c153ae2ba\n",
      "INFO:pytorch_pretrained_bert.modeling:extracting archive file /Users/gabriellachronis/.pytorch_pretrained_bert/9c41111e2de84547a463fd39217199738d1e3deb72d4fec4399e6e241983c6f0.ae3cef932725ca7a30cdcb93fc6e09150a55e2a130ec7af63975a16c153ae2ba to temp dir /var/folders/9m/vzvx58rs51v_x5nm620fz4xr0000gn/T/tmpthu19ia5\n",
      "INFO:pytorch_pretrained_bert.modeling:Model config {\n",
      "  \"attention_probs_dropout_prob\": 0.1,\n",
      "  \"hidden_act\": \"gelu\",\n",
      "  \"hidden_dropout_prob\": 0.1,\n",
      "  \"hidden_size\": 768,\n",
      "  \"initializer_range\": 0.02,\n",
      "  \"intermediate_size\": 3072,\n",
      "  \"max_position_embeddings\": 512,\n",
      "  \"num_attention_heads\": 12,\n",
      "  \"num_hidden_layers\": 12,\n",
      "  \"type_vocab_size\": 2,\n",
      "  \"vocab_size\": 30522\n",
      "}\n",
      "\n",
      "INFO:pytorch_pretrained_bert.tokenization:loading vocabulary file https://s3.amazonaws.com/models.huggingface.co/bert/bert-base-uncased-vocab.txt from cache at /Users/gabriellachronis/.pytorch_pretrained_bert/26bc1ad6c0ac742e9b52263248f6d0f00068293b33709fae12320c0e35ccfbbb.542ce4285a40d23a559526243235df47c5f75c197f04f37d1a0c124c32c9a084\n"
     ]
    }
   ],
   "source": [
    "# load bert\n",
    "bert = BERTBase()"
   ]
  },
  {
   "cell_type": "code",
   "execution_count": 18,
   "metadata": {},
   "outputs": [],
   "source": [
    "# load bertspace -> feature space projection model\n",
    "# buchanan model\n",
    "#model = torch.load('../trained_models/model.plsr.buchanan.allbuthomonyms.5k.300components.500max_iters')\n",
    "\n",
    "# binder model\n",
    "model = torch.load('../trained_models/model.ffnn.binder.5k.50epochs.0.5dropout.lr1e-4.hsize300')\n",
    "\n",
    "# mcrae model\n",
    "# model = torch.load('main_efe0a_00006_6_clusters=5,embedding_type=bert,model=plsr,plsr_max_iter=500,plsr_n_components=100,train_data=mc_rae_real_2022-10-12_00-08-44')"
   ]
  },
  {
   "cell_type": "code",
   "execution_count": 19,
   "metadata": {},
   "outputs": [
    {
     "data": {
      "text/plain": [
       "array([2.9568036 , 0.6142642 , 0.37447616, 0.7024778 , 0.7854624 ,\n",
       "       1.4191686 , 0.7391517 , 1.7764031 , 1.5506845 , 1.212206  ,\n",
       "       0.7108154 , 1.7034835 , 1.277241  , 1.3109581 , 0.9128889 ,\n",
       "       0.8751872 , 1.0036851 , 1.5125042 , 0.70719254, 3.1598287 ,\n",
       "       2.089208  , 0.85657245, 1.1695712 , 2.4206767 , 1.1395967 ,\n",
       "       1.8286034 , 0.22622359, 0.40727955, 1.8939435 , 1.834855  ,\n",
       "       0.57179576, 0.9359503 , 1.0819094 , 2.0258121 , 0.718572  ,\n",
       "       0.83001083, 0.7960571 , 0.31336397, 1.0342947 , 1.495445  ,\n",
       "       1.1481558 , 1.7748041 , 2.7916858 , 2.9556499 , 1.9453566 ,\n",
       "       2.5845878 , 1.2213181 , 1.9209309 , 2.502466  , 1.5053196 ,\n",
       "       2.238748  , 1.55967   , 1.9351561 , 0.9022642 , 0.9959324 ,\n",
       "       0.6680382 , 0.9449822 , 1.5471234 , 2.1278965 , 1.0522211 ,\n",
       "       3.241095  , 2.838128  ], dtype=float32)"
      ]
     },
     "execution_count": 19,
     "metadata": {},
     "output_type": "execute_result"
    }
   ],
   "source": [
    "model.predict('wizard')"
   ]
  },
  {
   "cell_type": "code",
   "execution_count": 22,
   "metadata": {},
   "outputs": [
    {
     "data": {
      "text/plain": [
       "['Motion',\n",
       " 'Speech',\n",
       " 'UpperLimb',\n",
       " 'Head',\n",
       " 'Cognition',\n",
       " 'Sound',\n",
       " 'Benefit',\n",
       " 'Loud',\n",
       " 'Pleasant',\n",
       " 'Communication',\n",
       " 'Happy',\n",
       " 'Human',\n",
       " 'Drive',\n",
       " 'Consequential',\n",
       " 'Scene',\n",
       " 'Arousal',\n",
       " 'Social',\n",
       " 'Audition',\n",
       " 'Attention',\n",
       " 'Vision']"
      ]
     },
     "execution_count": 22,
     "metadata": {},
     "output_type": "execute_result"
    }
   ],
   "source": [
    "model.predict_top_n_features('wizard',20)"
   ]
  },
  {
   "cell_type": "code",
   "execution_count": 31,
   "metadata": {},
   "outputs": [
    {
     "data": {
      "text/plain": [
       "['Texture',\n",
       " 'Fast',\n",
       " 'Shape',\n",
       " 'Biomotion',\n",
       " 'Motion',\n",
       " 'Weight',\n",
       " 'Pattern',\n",
       " 'Color',\n",
       " 'Attention',\n",
       " 'Vision']"
      ]
     },
     "execution_count": 31,
     "metadata": {},
     "output_type": "execute_result"
    }
   ],
   "source": [
    "sent = \"The second largest order of mammals after rodents, bats comprise about 20% of all classified mammal species worldwide, with over 1,400 species\"\n",
    "\n",
    "model.predict_top_n_features_in_context('bats', sent, 10, bert=bert)"
   ]
  },
  {
   "cell_type": "code",
   "execution_count": 32,
   "metadata": {},
   "outputs": [
    {
     "data": {
      "text/plain": [
       "['Pattern',\n",
       " 'Audition',\n",
       " 'Color',\n",
       " 'Motion',\n",
       " 'Attention',\n",
       " 'Sound',\n",
       " 'Biomotion',\n",
       " 'Shape',\n",
       " 'Weight',\n",
       " 'Vision']"
      ]
     },
     "execution_count": 32,
     "metadata": {},
     "output_type": "execute_result"
    }
   ],
   "source": [
    "sent = \"'Or the surging whirling sounds of bats at night , when their black bodies dived into the blackness above and below the amber street lights\"\n",
    "\n",
    "model.predict_top_n_features_in_context('bats', sent, 10, bert=bert)"
   ]
  },
  {
   "cell_type": "code",
   "execution_count": 34,
   "metadata": {},
   "outputs": [
    {
     "data": {
      "text/plain": [
       "['Cognition',\n",
       " 'Drive',\n",
       " 'Landmark',\n",
       " 'Consequential',\n",
       " 'Shape',\n",
       " 'Large',\n",
       " 'Long',\n",
       " 'Needs',\n",
       " 'Scene',\n",
       " 'Benefit']"
      ]
     },
     "execution_count": 34,
     "metadata": {},
     "output_type": "execute_result"
    }
   ],
   "source": [
    "model.predict_top_n_features_in_context('foundation', 'The argument has a weak foundation', 10, bert=bert)"
   ]
  },
  {
   "cell_type": "code",
   "execution_count": 26,
   "metadata": {},
   "outputs": [
    {
     "data": {
      "text/plain": [
       "['Long',\n",
       " 'Texture',\n",
       " 'Weight',\n",
       " 'Touch',\n",
       " 'Scene',\n",
       " 'Large',\n",
       " 'Vision',\n",
       " 'Needs',\n",
       " 'Shape',\n",
       " 'Benefit']"
      ]
     },
     "execution_count": 26,
     "metadata": {},
     "output_type": "execute_result"
    }
   ],
   "source": [
    "model.predict_top_n_features_in_context('foundation', 'The building has a weak foundation', 10, bert=bert)"
   ]
  },
  {
   "cell_type": "code",
   "execution_count": 28,
   "metadata": {},
   "outputs": [
    {
     "name": "stdout",
     "output_type": "stream",
     "text": [
      "['Angry', 'Head', 'Color', 'Short', 'Time', 'Number', 'Harm', 'UpperLimb', 'Benefit', 'Unpleasant', 'Communication', 'Attention', 'Duration', 'Drive', 'Arousal', 'Cognition', 'Social', 'Consequential', 'Scene', 'Vision']\n",
      "['Toward', 'LowerLimb', 'Drive', 'Communication', 'Short', 'Long', 'Attention', 'Time', 'Pleasant', 'Unpleasant', 'Scene', 'Benefit', 'Cognition', 'Color', 'Head', 'Vision', 'Social', 'Consequential', 'Duration', 'Arousal']\n",
      "['Bright', 'Self', 'Body', 'Communication', 'Social', 'Scene', 'Happy', 'Needs', 'Weight', 'Texture', 'Benefit', 'Color', 'Pattern', 'Small', 'Pleasant', 'Shape', 'Touch', 'Near', 'UpperLimb', 'Vision']\n"
     ]
    }
   ],
   "source": [
    "# sents = [\"Two antennas got married. The ceremony wasn’t much, but the reception was excellent.\"]\n",
    "# word = \"reception\"\n",
    "\n",
    "sents = [\"Did you hear about the silk worm race? It ended in a tie.\",\n",
    "         \"The soccer game ended in a 4-4 tie.\",\n",
    "         \"The silk worms produced a beautiful striped tie.\"\n",
    "        ]\n",
    "word = 'tie'\n",
    "\n",
    "# sents = [\"Q: What’s the best thing about Switzerland? A: Well, the flag is a big plus.\"]\n",
    "# word = 'plus'\n",
    "\n",
    "for sent in sents:\n",
    "    features = model.predict_top_n_features_in_context(word, sent, 20, bert=bert)\n",
    "    print(features)"
   ]
  },
  {
   "cell_type": "code",
   "execution_count": 29,
   "metadata": {},
   "outputs": [
    {
     "name": "stdout",
     "output_type": "stream",
     "text": [
      "People\n",
      "['Audition', 'Face', 'Biomotion', 'Body', 'Human', 'Speech', 'Vision']\n",
      "travel\n",
      "['Happy', 'Benefit', 'Social', 'Pleasant', 'Biomotion', 'Human', 'Body']\n",
      "many\n",
      "['Long', 'Duration', 'Benefit', 'Number', 'Path', 'Large', 'Vision']\n",
      "miles\n",
      "['Landmark', 'Scene', 'Shape', 'Weight', 'Benefit', 'Large', 'Vision']\n",
      "to\n",
      "['Large', 'Benefit', 'Human', 'Vision', 'Landmark', 'Social', 'Scene']\n",
      "gaze\n",
      "['Attention', 'Communication', 'Benefit', 'Vision', 'Social', 'Pleasant', 'Happy']\n",
      "upon\n",
      "['Arousal', 'Happy', 'Pleasant', 'Scene', 'Landmark', 'Attention', 'Vision']\n",
      "this\n",
      "['Attention', 'Vision', 'Scene', 'Landmark', 'Pleasant', 'Benefit', 'Happy']\n",
      "natural\n",
      "['Landmark', 'Scene', 'Attention', 'Benefit', 'Happy', 'Pleasant', 'Vision']\n",
      "wonder,\n",
      "['Landmark', 'Scene', 'Attention', 'Benefit', 'Vision', 'Pleasant', 'Happy']\n",
      "though\n",
      "['Vision', 'Happy', 'Pleasant', 'Benefit', 'Social', 'Attention', 'Arousal']\n",
      "few\n",
      "['Social', 'Speech', 'Body', 'Human', 'Face', 'Biomotion', 'Number']\n",
      "are\n",
      "['Speech', 'Happy', 'Body', 'Pleasant', 'Benefit', 'Social', 'Human']\n",
      "willing\n",
      "['Happy', 'Communication', 'Cognition', 'Pleasant', 'Social', 'Human', 'Benefit']\n",
      "to\n",
      "['Large', 'Benefit', 'Human', 'Vision', 'Landmark', 'Social', 'Scene']\n",
      "approach\n",
      "['Benefit', 'Biomotion', 'Body', 'Vision', 'UpperLimb', 'Human', 'Social']\n",
      "it\n",
      "['Pleasant', 'Weight', 'Shape', 'Large', 'Scene', 'Landmark', 'Vision']\n",
      "closely,\n",
      "['UpperLimb', 'Social', 'Happy', 'Benefit', 'Shape', 'Pleasant', 'Vision']\n",
      "since\n",
      "['Benefit', 'Large', 'Landmark', 'Shape', 'Duration', 'Scene', 'Vision']\n",
      "it\n",
      "['Pleasant', 'Weight', 'Shape', 'Large', 'Scene', 'Landmark', 'Vision']\n",
      "is\n",
      "['Benefit', 'Attention', 'Pleasant', 'Vision', 'Large', 'Landmark', 'Scene']\n",
      "reputed\n",
      "['Social', 'Happy', 'Pleasant', 'Drive', 'Consequential', 'Attention', 'Arousal']\n",
      "to\n",
      "['Large', 'Benefit', 'Human', 'Vision', 'Landmark', 'Social', 'Scene']\n",
      "be\n",
      "['Consequential', 'Harm', 'Arousal', 'Scene', 'Large', 'Attention', 'Vision']\n",
      "the\n",
      "['Arousal', 'Social', 'Scene', 'Landmark', 'Large', 'Attention', 'Vision']\n",
      "haunt\n",
      "['Vision', 'Harm', 'Unpleasant', 'Sad', 'Consequential', 'Attention', 'Angry']\n",
      "of\n",
      "['Attention', 'Human', 'Vision', 'Consequential', 'Biomotion', 'Harm', 'Unpleasant']\n",
      "various\n",
      "['Unpleasant', 'Arousal', 'Harm', 'Consequential', 'Number', 'Attention', 'Vision']\n",
      "demons\n",
      "['Sad', 'Attention', 'Arousal', 'Consequential', 'Fearful', 'Unpleasant', 'Harm']\n",
      "and\n",
      "['Angry', 'Consequential', 'Harm', 'Unpleasant', 'Body', 'Biomotion', 'Vision']\n",
      "devils\n",
      "['Attention', 'Fearful', 'Biomotion', 'Arousal', 'Consequential', 'Harm', 'Unpleasant']\n"
     ]
    }
   ],
   "source": [
    "sent = 'By the way, did everyone notice that misogynist pig served the ladies raw meat? '\n",
    "sent = \"People travel many miles to gaze upon this natural wonder, though few are willing to approach it closely, since it is reputed to be the haunt of various demons and devils\"\n",
    "#sent = \"Early on, the target herd immunity threshold was estimated to be about 60 to 70 percent of the population. Most experts, including Dr. Fauci, expected that the United States would be able to reach it once vaccines were available\"\n",
    "for word in sent.split(' '):\n",
    "    print(word)\n",
    "    feats = model.predict_top_n_features_in_context(word, sent,7, bert=bert)\n",
    "    print(feats)"
   ]
  },
  {
   "cell_type": "code",
   "execution_count": null,
   "metadata": {},
   "outputs": [],
   "source": [
    "# look at mcrae features\n"
   ]
  },
  {
   "cell_type": "code",
   "execution_count": 35,
   "metadata": {},
   "outputs": [
    {
     "data": {
      "text/plain": [
       "['Harm',\n",
       " 'Touch',\n",
       " 'Loud',\n",
       " 'Head',\n",
       " 'Attention',\n",
       " 'Scene',\n",
       " 'Texture',\n",
       " 'Weight',\n",
       " 'Audition',\n",
       " 'Sound',\n",
       " 'Taste',\n",
       " 'Fast',\n",
       " 'Biomotion',\n",
       " 'Motion',\n",
       " 'Small',\n",
       " 'Smell',\n",
       " 'Pattern',\n",
       " 'Color',\n",
       " 'Shape',\n",
       " 'Vision']"
      ]
     },
     "execution_count": 35,
     "metadata": {},
     "output_type": "execute_result"
    }
   ],
   "source": [
    "model.predict_top_n_features_in_context('pig', 'In fact with the development of deep-litter hen houses and intensive pig culture some such controls are necessary', 20, bert=bert)"
   ]
  },
  {
   "cell_type": "code",
   "execution_count": 21,
   "metadata": {},
   "outputs": [
    {
     "data": {
      "text/plain": [
       "['instrument',\n",
       " 'person',\n",
       " 'dirt',\n",
       " 'brown',\n",
       " 'meat',\n",
       " 'tail',\n",
       " 'large',\n",
       " 'fur',\n",
       " 'water',\n",
       " 'leg',\n",
       " 'farm',\n",
       " 'wheel',\n",
       " 'food',\n",
       " 'four',\n",
       " 'music',\n",
       " 'eat',\n",
       " 'metal',\n",
       " 'animal',\n",
       " 'black',\n",
       " 'mammal']"
      ]
     },
     "execution_count": 21,
     "metadata": {},
     "output_type": "execute_result"
    }
   ],
   "source": [
    "sent = \" My place is an absolute pig sty and I have to do laundry Hahahahaha\"\n",
    "model.predict_top_n_features_in_context('pig', sent, 20, bert=bert)"
   ]
  },
  {
   "cell_type": "code",
   "execution_count": 13,
   "metadata": {},
   "outputs": [
    {
     "data": {
      "text/plain": [
       "['danger',\n",
       " 'scale',\n",
       " 'good',\n",
       " 'wood',\n",
       " 'mouth',\n",
       " 'tail',\n",
       " 'boat',\n",
       " 'mammal',\n",
       " 'eat',\n",
       " 'fish',\n",
       " 'large',\n",
       " 'water',\n",
       " 'teeth',\n",
       " 'person',\n",
       " 'swim',\n",
       " 'leg',\n",
       " 'ocean',\n",
       " 'animal',\n",
       " 'hunt',\n",
       " 'long']"
      ]
     },
     "execution_count": 13,
     "metadata": {},
     "output_type": "execute_result"
    }
   ],
   "source": [
    "model.predict_top_n_features_in_context('sharks', 'We saw sharks, rays, els, turtles, lobsters, crabs, hundreds and hundreds of', 20, bert=bert)"
   ]
  },
  {
   "cell_type": "code",
   "execution_count": 14,
   "metadata": {},
   "outputs": [
    {
     "data": {
      "text/plain": [
       "['person',\n",
       " 'metal',\n",
       " 'large',\n",
       " 'fly',\n",
       " 'swim',\n",
       " 'fish',\n",
       " 'bird',\n",
       " 'animal',\n",
       " 'water',\n",
       " 'eat']"
      ]
     },
     "execution_count": 14,
     "metadata": {},
     "output_type": "execute_result"
    }
   ],
   "source": [
    "model.predict_top_n_features_in_context('shark', \"kill what is the same product of rape.... you have simply jumped the logical shark.... it's as simple as that. # We can argue the political and\", 10, bert=bert)"
   ]
  },
  {
   "cell_type": "code",
   "execution_count": 15,
   "metadata": {},
   "outputs": [
    {
     "data": {
      "text/plain": [
       "['long',\n",
       " 'danger',\n",
       " 'fur',\n",
       " 'teeth',\n",
       " 'tail',\n",
       " 'fish',\n",
       " 'hunt',\n",
       " 'mammal',\n",
       " 'four',\n",
       " 'act',\n",
       " 'swim',\n",
       " 'give',\n",
       " 'large',\n",
       " 'eat',\n",
       " 'leg',\n",
       " 'water',\n",
       " 'person',\n",
       " 'human',\n",
       " 'animal',\n",
       " 'money']"
      ]
     },
     "execution_count": 15,
     "metadata": {},
     "output_type": "execute_result"
    }
   ],
   "source": [
    "model.predict_top_n_features_in_context('shark', \"offended by the Poll # The character's name has become a synonym for loan shark, and as a verb to shylock means to lend money at exorbitant rates.\", 20, bert=bert)"
   ]
  },
  {
   "cell_type": "code",
   "execution_count": 16,
   "metadata": {},
   "outputs": [],
   "source": [
    "word = \"production\"\n",
    "sents = [\"Here we must stress again that we are not proposing that the category of production should magically disappear, but that we depose it from the metaphysical primacy it has enjoyed for far too long in Western history, especially following the rise of capitalism.\"\n",
    "        , \"Her visit was in conjunction with the School of Theater's production of \\\" The Laramie Project, \\\" a play about Shepard's gay son,\"\n",
    "        , \"Agriculture is the birth of production, complete with its essential features and deformation of life and consciousness\"\n",
    "        , \"How to achieve such a seizure of the means of production is a political question\"\n",
    "        , \"The rig had been expected to begin oil production again later this month\"]"
   ]
  },
  {
   "cell_type": "code",
   "execution_count": 17,
   "metadata": {},
   "outputs": [
    {
     "name": "stdout",
     "output_type": "stream",
     "text": [
      "['up', 'tool', 'build', 'bad', 'place', 'store', 'dirt', 'act', 'give', 'large', 'person', 'human', 'farm', 'object', 'good', 'money', 'animal', 'body', 'country', 'work']\n",
      "['store', 'window', 'book', 'air', 'group', 'place', 'vehicle', 'loud', 'noise', 'transport', 'sport', 'mouth', 'word', 'human', 'light', 'person', 'fun', 'large', 'funny', 'wheel']\n",
      "['hand', 'more', 'country', 'grow', 'dirt', 'cloth', 'up', 'farm', 'object', 'bad', 'animal', 'give', 'person', 'act', 'body', 'human', 'good', 'work', 'money', 'food']\n",
      "['make', 'animal', 'one', 'hold', 'place', 'work', 'good', 'object', 'give', 'four', 'large', 'together', 'tool', 'money', 'act', 'wheel', 'metal', 'person', 'wood', 'human']\n",
      "['egg', 'sharp', 'fish', 'air', 'fly', 'metal', 'wing', 'place', 'feather', 'high', 'noise', 'mouth', 'beak', 'loud', 'fire', 'work', 'kill', 'weapon', 'bird', 'food']\n"
     ]
    }
   ],
   "source": [
    "for sent in sents:\n",
    "    features = model.predict_top_n_features_in_context(word, sent, 20, bert=bert)\n",
    "    print(features)"
   ]
  },
  {
   "cell_type": "code",
   "execution_count": 37,
   "metadata": {},
   "outputs": [
    {
     "name": "stdout",
     "output_type": "stream",
     "text": [
      "['fruit', 'house', 'drive', 'warm', 'stone', 'grass', 'red', 'eye', 'black', 'cold', 'dirt', 'fish', 'together', 'road', 'white', 'small', 'car', 'rock', 'wheel', 'hard']\n",
      "['dog', 'brown', 'animal', 'dirt', 'hair', 'small', 'loud', 'smell', 'grow', 'leg', 'fish', 'color', 'eat', 'long', 'four', 'rock', 'white', 'hard', 'soft', 'noise']\n"
     ]
    }
   ],
   "source": [
    "word = \"gravel\"\n",
    "sents = [\n",
    "    \"My wheel turned to the left and down a gravel road.\"\n",
    "    , \"The speaker's voice was guttural and low, low and full of gravel and flecks of spit.\"\n",
    "]\n",
    "\n",
    "for sent in sents:\n",
    "    features = model.predict_top_n_features_in_context(word, sent, 20, bert=bert)\n",
    "    print(features)"
   ]
  },
  {
   "cell_type": "code",
   "execution_count": 37,
   "metadata": {},
   "outputs": [
    {
     "name": "stdout",
     "output_type": "stream",
     "text": [
      "['Pattern', 'Large', 'Texture', 'Color', 'Body', 'Scene', 'Weight', 'Audition', 'Pleasant', 'Shape', 'Loud', 'Fast', 'Biomotion', 'Motion', 'High', 'Sound', 'Taste', 'Smell', 'Attention', 'Vision']\n",
      "['Fast', 'Speech', 'Body', 'High', 'Attention', 'Large', 'Face', 'Harm', 'Motion', 'Unpleasant', 'Texture', 'Taste', 'Loud', 'Smell', 'Vision', 'Biomotion', 'Shape', 'Weight', 'Audition', 'Sound']\n"
     ]
    }
   ],
   "source": [
    "word = \"pig\"\n",
    "sents = [\n",
    "    \"The pig trotted up to the fence.\"\n",
    "    , \"My roommate is a pig.\"\n",
    "]\n",
    "\n",
    "for sent in sents:\n",
    "    features = model.predict_top_n_features_in_context(word, sent, 20, bert=bert)\n",
    "    print(features)"
   ]
  },
  {
   "cell_type": "code",
   "execution_count": 36,
   "metadata": {},
   "outputs": [
    {
     "name": "stdout",
     "output_type": "stream",
     "text": [
      "['Away', 'Path', 'Toward', 'Social', 'Attention', 'Scene', 'Small', 'Happy', 'Fast', 'Texture', 'Arousal', 'Pleasant', 'UpperLimb', 'Weight', 'Touch', 'Shape', 'Motion', 'Pattern', 'Color', 'Vision']\n",
      "['Consequential', 'Texture', 'Weight', 'Scene', 'Attention', 'Cognition', 'Touch', 'Music', 'Pleasant', 'Loud', 'Happy', 'Fast', 'Arousal', 'Social', 'UpperLimb', 'Sound', 'Audition', 'Shape', 'Motion', 'Vision']\n"
     ]
    }
   ],
   "source": [
    "word = \"chess\"\n",
    "sents = [\n",
    "    \"Old men sat around in the park waiting for acquantances to meet them for a game of chess.\"\n",
    "    , \"Sam faced up his opponent in the ring. He bounced off the ropes and swund underneath for an uppercut. This wasn't war. This was chess.\"\n",
    "]\n",
    "\n",
    "for sent in sents:\n",
    "    features = model.predict_top_n_features_in_context(word, sent, 20, bert=bert)\n",
    "    print(features)"
   ]
  },
  {
   "cell_type": "code",
   "execution_count": null,
   "metadata": {},
   "outputs": [],
   "source": []
  }
 ],
 "metadata": {
  "kernelspec": {
   "display_name": "Python 3 (ipykernel)",
   "language": "python",
   "name": "python3"
  },
  "language_info": {
   "codemirror_mode": {
    "name": "ipython",
    "version": 3
   },
   "file_extension": ".py",
   "mimetype": "text/x-python",
   "name": "python",
   "nbconvert_exporter": "python",
   "pygments_lexer": "ipython3",
   "version": "3.10.8"
  }
 },
 "nbformat": 4,
 "nbformat_minor": 4
}
