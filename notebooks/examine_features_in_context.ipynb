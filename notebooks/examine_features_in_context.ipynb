{
 "cells": [
  {
   "cell_type": "code",
   "execution_count": 2,
   "metadata": {},
   "outputs": [],
   "source": [
    "import sys\n",
    "sys.path.append(\"../lib/\")\n",
    "\n",
    "import torch\n",
    "from bert import *"
   ]
  },
  {
   "cell_type": "code",
   "execution_count": 7,
   "metadata": {},
   "outputs": [],
   "source": [
    "#model = torch.load('model.60eps.5k.saved2')\n",
    "model = torch.load('../trained_models/model.plsr.buchanan.mc_rae_real.5k.100components.500max_iters',)\n",
    "#model = torch.load('model.30eps.5k.saved4')"
   ]
  },
  {
   "cell_type": "code",
   "execution_count": 34,
   "metadata": {},
   "outputs": [
    {
     "data": {
      "text/plain": [
       "array([ 0.452538  , -0.43092018,  1.9384975 , ...,  0.07903024,\n",
       "       -0.1356357 ,  0.11151882], dtype=float32)"
      ]
     },
     "execution_count": 34,
     "metadata": {},
     "output_type": "execute_result"
    }
   ],
   "source": [
    "model.predict('wizard')"
   ]
  },
  {
   "cell_type": "code",
   "execution_count": 44,
   "metadata": {},
   "outputs": [
    {
     "ename": "ModuleAttributeError",
     "evalue": "'FFNN' object has no attribute 'dropout'",
     "output_type": "error",
     "traceback": [
      "\u001b[0;31m---------------------------------------------------------------------------\u001b[0m",
      "\u001b[0;31mModuleAttributeError\u001b[0m                      Traceback (most recent call last)",
      "\u001b[0;32m<ipython-input-44-2457bac614a9>\u001b[0m in \u001b[0;36m<module>\u001b[0;34m\u001b[0m\n\u001b[0;32m----> 1\u001b[0;31m \u001b[0mmodel\u001b[0m\u001b[0;34m.\u001b[0m\u001b[0mpredict_top_n_features\u001b[0m\u001b[0;34m(\u001b[0m\u001b[0;34m'chess'\u001b[0m\u001b[0;34m,\u001b[0m\u001b[0;36m20\u001b[0m\u001b[0;34m)\u001b[0m\u001b[0;34m\u001b[0m\u001b[0;34m\u001b[0m\u001b[0m\n\u001b[0m",
      "\u001b[0;32m~/src/features_in_context/models.py\u001b[0m in \u001b[0;36mpredict_top_n_features\u001b[0;34m(self, word, n)\u001b[0m\n\u001b[1;32m    115\u001b[0m \u001b[0;34m\u001b[0m\u001b[0m\n\u001b[1;32m    116\u001b[0m     \u001b[0;32mdef\u001b[0m \u001b[0mpredict_top_n_features\u001b[0m\u001b[0;34m(\u001b[0m\u001b[0mself\u001b[0m\u001b[0;34m,\u001b[0m \u001b[0mword\u001b[0m\u001b[0;34m:\u001b[0m \u001b[0mstr\u001b[0m\u001b[0;34m,\u001b[0m \u001b[0mn\u001b[0m\u001b[0;34m:\u001b[0m \u001b[0mint\u001b[0m\u001b[0;34m)\u001b[0m\u001b[0;34m:\u001b[0m\u001b[0;34m\u001b[0m\u001b[0;34m\u001b[0m\u001b[0m\n\u001b[0;32m--> 117\u001b[0;31m         \u001b[0mlogits\u001b[0m \u001b[0;34m=\u001b[0m \u001b[0mself\u001b[0m\u001b[0;34m.\u001b[0m\u001b[0mpredict\u001b[0m\u001b[0;34m(\u001b[0m\u001b[0mword\u001b[0m\u001b[0;34m)\u001b[0m\u001b[0;34m\u001b[0m\u001b[0;34m\u001b[0m\u001b[0m\n\u001b[0m\u001b[1;32m    118\u001b[0m         \u001b[0;31m#logits = logits.detach().numpy()\u001b[0m\u001b[0;34m\u001b[0m\u001b[0;34m\u001b[0m\u001b[0;34m\u001b[0m\u001b[0m\n\u001b[1;32m    119\u001b[0m \u001b[0;34m\u001b[0m\u001b[0m\n",
      "\u001b[0;32m~/src/features_in_context/models.py\u001b[0m in \u001b[0;36mpredict\u001b[0;34m(self, word)\u001b[0m\n\u001b[1;32m     99\u001b[0m \u001b[0;34m\u001b[0m\u001b[0m\n\u001b[1;32m    100\u001b[0m         \u001b[0mx\u001b[0m \u001b[0;34m=\u001b[0m \u001b[0mform_input\u001b[0m\u001b[0;34m(\u001b[0m\u001b[0mword\u001b[0m\u001b[0;34m,\u001b[0m \u001b[0mself\u001b[0m\u001b[0;34m.\u001b[0m\u001b[0mword_vectors\u001b[0m\u001b[0;34m)\u001b[0m\u001b[0;34m\u001b[0m\u001b[0;34m\u001b[0m\u001b[0m\n\u001b[0;32m--> 101\u001b[0;31m         \u001b[0mlogits\u001b[0m \u001b[0;34m=\u001b[0m \u001b[0mself\u001b[0m\u001b[0;34m.\u001b[0m\u001b[0mnn\u001b[0m\u001b[0;34m.\u001b[0m\u001b[0mforward\u001b[0m\u001b[0;34m(\u001b[0m\u001b[0mx\u001b[0m\u001b[0;34m)\u001b[0m\u001b[0;34m\u001b[0m\u001b[0;34m\u001b[0m\u001b[0m\n\u001b[0m\u001b[1;32m    102\u001b[0m         \u001b[0mlogits\u001b[0m \u001b[0;34m=\u001b[0m \u001b[0mlogits\u001b[0m\u001b[0;34m.\u001b[0m\u001b[0mdetach\u001b[0m\u001b[0;34m(\u001b[0m\u001b[0;34m)\u001b[0m\u001b[0;34m.\u001b[0m\u001b[0mnumpy\u001b[0m\u001b[0;34m(\u001b[0m\u001b[0;34m)\u001b[0m\u001b[0;34m\u001b[0m\u001b[0;34m\u001b[0m\u001b[0m\n\u001b[1;32m    103\u001b[0m \u001b[0;34m\u001b[0m\u001b[0m\n",
      "\u001b[0;32m~/src/features_in_context/models.py\u001b[0m in \u001b[0;36mforward\u001b[0;34m(self, x)\u001b[0m\n\u001b[1;32m    364\u001b[0m \u001b[0;34m\u001b[0m\u001b[0m\n\u001b[1;32m    365\u001b[0m         \u001b[0;31m# comment out in favor of our 4 layer MLP\u001b[0m\u001b[0;34m\u001b[0m\u001b[0;34m\u001b[0m\u001b[0;34m\u001b[0m\u001b[0m\n\u001b[0;32m--> 366\u001b[0;31m         \u001b[0;32mreturn\u001b[0m \u001b[0mself\u001b[0m\u001b[0;34m.\u001b[0m\u001b[0mdropout\u001b[0m\u001b[0;34m(\u001b[0m\u001b[0mself\u001b[0m\u001b[0;34m.\u001b[0m\u001b[0mW\u001b[0m\u001b[0;34m(\u001b[0m\u001b[0mself\u001b[0m\u001b[0;34m.\u001b[0m\u001b[0mg\u001b[0m\u001b[0;34m(\u001b[0m\u001b[0mself\u001b[0m\u001b[0;34m.\u001b[0m\u001b[0mV\u001b[0m\u001b[0;34m(\u001b[0m\u001b[0mweighted_avg\u001b[0m\u001b[0;34m)\u001b[0m\u001b[0;34m)\u001b[0m\u001b[0;34m)\u001b[0m\u001b[0;34m)\u001b[0m\u001b[0;34m\u001b[0m\u001b[0;34m\u001b[0m\u001b[0m\n\u001b[0m\u001b[1;32m    367\u001b[0m         \u001b[0;31m#return self.layers(weighted_avg)\u001b[0m\u001b[0;34m\u001b[0m\u001b[0;34m\u001b[0m\u001b[0;34m\u001b[0m\u001b[0m\n\u001b[1;32m    368\u001b[0m \u001b[0;34m\u001b[0m\u001b[0m\n",
      "\u001b[0;32m/usr/local/lib/python3.8/site-packages/torch/nn/modules/module.py\u001b[0m in \u001b[0;36m__getattr__\u001b[0;34m(self, name)\u001b[0m\n\u001b[1;32m    769\u001b[0m             \u001b[0;32mif\u001b[0m \u001b[0mname\u001b[0m \u001b[0;32min\u001b[0m \u001b[0mmodules\u001b[0m\u001b[0;34m:\u001b[0m\u001b[0;34m\u001b[0m\u001b[0;34m\u001b[0m\u001b[0m\n\u001b[1;32m    770\u001b[0m                 \u001b[0;32mreturn\u001b[0m \u001b[0mmodules\u001b[0m\u001b[0;34m[\u001b[0m\u001b[0mname\u001b[0m\u001b[0;34m]\u001b[0m\u001b[0;34m\u001b[0m\u001b[0;34m\u001b[0m\u001b[0m\n\u001b[0;32m--> 771\u001b[0;31m         raise ModuleAttributeError(\"'{}' object has no attribute '{}'\".format(\n\u001b[0m\u001b[1;32m    772\u001b[0m             type(self).__name__, name))\n\u001b[1;32m    773\u001b[0m \u001b[0;34m\u001b[0m\u001b[0m\n",
      "\u001b[0;31mModuleAttributeError\u001b[0m: 'FFNN' object has no attribute 'dropout'"
     ]
    }
   ],
   "source": [
    "model.predict_top_n_features('chess',20)"
   ]
  },
  {
   "cell_type": "code",
   "execution_count": 5,
   "metadata": {},
   "outputs": [
    {
     "name": "stderr",
     "output_type": "stream",
     "text": [
      "INFO:pytorch_pretrained_bert.modeling:loading archive file https://s3.amazonaws.com/models.huggingface.co/bert/bert-base-uncased.tar.gz from cache at /Users/gabriellachronis/.pytorch_pretrained_bert/9c41111e2de84547a463fd39217199738d1e3deb72d4fec4399e6e241983c6f0.ae3cef932725ca7a30cdcb93fc6e09150a55e2a130ec7af63975a16c153ae2ba\n",
      "INFO:pytorch_pretrained_bert.modeling:extracting archive file /Users/gabriellachronis/.pytorch_pretrained_bert/9c41111e2de84547a463fd39217199738d1e3deb72d4fec4399e6e241983c6f0.ae3cef932725ca7a30cdcb93fc6e09150a55e2a130ec7af63975a16c153ae2ba to temp dir /var/folders/9m/vzvx58rs51v_x5nm620fz4xr0000gn/T/tmpe8u_rgm5\n",
      "INFO:pytorch_pretrained_bert.modeling:Model config {\n",
      "  \"attention_probs_dropout_prob\": 0.1,\n",
      "  \"hidden_act\": \"gelu\",\n",
      "  \"hidden_dropout_prob\": 0.1,\n",
      "  \"hidden_size\": 768,\n",
      "  \"initializer_range\": 0.02,\n",
      "  \"intermediate_size\": 3072,\n",
      "  \"max_position_embeddings\": 512,\n",
      "  \"num_attention_heads\": 12,\n",
      "  \"num_hidden_layers\": 12,\n",
      "  \"type_vocab_size\": 2,\n",
      "  \"vocab_size\": 30522\n",
      "}\n",
      "\n",
      "INFO:pytorch_pretrained_bert.tokenization:loading vocabulary file https://s3.amazonaws.com/models.huggingface.co/bert/bert-base-uncased-vocab.txt from cache at /Users/gabriellachronis/.pytorch_pretrained_bert/26bc1ad6c0ac742e9b52263248f6d0f00068293b33709fae12320c0e35ccfbbb.542ce4285a40d23a559526243235df47c5f75c197f04f37d1a0c124c32c9a084\n"
     ]
    }
   ],
   "source": [
    "bert = BERTBase()"
   ]
  },
  {
   "cell_type": "code",
   "execution_count": 30,
   "metadata": {},
   "outputs": [
    {
     "data": {
      "text/plain": [
       "['instrument',\n",
       " 'feather',\n",
       " 'insect',\n",
       " 'wear',\n",
       " 'music',\n",
       " 'animal',\n",
       " 'air',\n",
       " 'fly',\n",
       " 'wing',\n",
       " 'bird']"
      ]
     },
     "execution_count": 30,
     "metadata": {},
     "output_type": "execute_result"
    }
   ],
   "source": [
    "sent = \"The second largest order of mammals after rodents, bats comprise about 20% of all classified mammal species worldwide, with over 1,400 species\"\n",
    "sent = \"'Or the surging whirling sounds of bats at night , when their black bodies dived into the blackness above and below the amber street lights\"\n",
    "\n",
    "model.predict_top_n_features_in_context('bats', sent, 10, bert=bert)"
   ]
  },
  {
   "cell_type": "code",
   "execution_count": 7,
   "metadata": {},
   "outputs": [
    {
     "data": {
      "text/plain": [
       "['cut',\n",
       " 'tool',\n",
       " 'wood',\n",
       " 'loud',\n",
       " 'metal',\n",
       " 'act',\n",
       " 'kitchen',\n",
       " 'hand',\n",
       " 'sharp',\n",
       " 'water']"
      ]
     },
     "execution_count": 7,
     "metadata": {},
     "output_type": "execute_result"
    }
   ],
   "source": [
    "model.predict_top_n_features('drill',10)"
   ]
  },
  {
   "cell_type": "code",
   "execution_count": 8,
   "metadata": {},
   "outputs": [
    {
     "data": {
      "text/plain": [
       "['grow',\n",
       " 'warm',\n",
       " 'tree',\n",
       " 'money',\n",
       " 'leave',\n",
       " 'vegetable',\n",
       " 'hard',\n",
       " 'green',\n",
       " 'water',\n",
       " 'wear']"
      ]
     },
     "execution_count": 8,
     "metadata": {},
     "output_type": "execute_result"
    }
   ],
   "source": [
    "model.predict_top_n_features_in_context('foundation', 'The argument has a weak foundation', 10, bert=bert)"
   ]
  },
  {
   "cell_type": "code",
   "execution_count": 9,
   "metadata": {},
   "outputs": [
    {
     "data": {
      "text/plain": [
       "['green',\n",
       " 'object',\n",
       " 'move',\n",
       " 'water',\n",
       " 'money',\n",
       " 'act',\n",
       " 'hard',\n",
       " 'wear',\n",
       " 'human',\n",
       " 'person']"
      ]
     },
     "execution_count": 9,
     "metadata": {},
     "output_type": "execute_result"
    }
   ],
   "source": [
    "model.predict_top_n_features_in_context('foundation', 'The building has a weak foundation', 10, bert=bert)"
   ]
  },
  {
   "cell_type": "code",
   "execution_count": 12,
   "metadata": {},
   "outputs": [
    {
     "name": "stdout",
     "output_type": "stream",
     "text": [
      "['has_gills', 'a_fish', 'has_doors', 'has_fins', 'is_black', 'lives_in_water', 'is_flat', 'is_orange', 'is_silver', 'is_large', 'made_of_metal', 'beh_-_swims', 'is_rectangular', 'is_small', 'is_gold', 'different_colours', 'clothing', 'found_in_kitchens', 'is_edible', 'is_electrical']\n"
     ]
    }
   ],
   "source": [
    "sents = [\"Two antennas got married. The ceremony wasn’t much, but the reception was excellent.\"]\n",
    "word = \"reception\"\n",
    "\n",
    "sents = [\"Did you hear about the silk worm race? It ended in a tie.\",\n",
    "         \"The soccer game ended in a 4-4 tie.\",\n",
    "         \"The silk worms produced a beautiful striped tie.\"\n",
    "        ]\n",
    "word = 'tie'\n",
    "\n",
    "sents = [\"Q: What’s the best thing about Switzerland? A: Well, the flag is a big plus.\"]\n",
    "word = 'plus'\n",
    "\n",
    "for sent in sents:\n",
    "    features = model.predict_top_n_features_in_context(word, sent, 20, bert=bert)\n",
    "    print(features)"
   ]
  },
  {
   "cell_type": "code",
   "execution_count": 26,
   "metadata": {},
   "outputs": [
    {
     "name": "stdout",
     "output_type": "stream",
     "text": [
      "People\n",
      "['one', 'country', 'together', 'place', 'group', 'large', 'person']\n",
      "travel\n",
      "['two', 'one', 'group', 'person', 'move', 'together', 'act']\n",
      "many\n",
      "['money', 'large', 'bird', 'one', 'many', 'more', 'fly']\n",
      "miles\n",
      "['small', 'land', 'large', 'time', 'country', 'area', 'person']\n",
      "to\n",
      "['instrument', 'group', 'music', 'country', 'take', 'place', 'person']\n",
      "gaze\n",
      "['wood', 'person', 'eye', 'act', 'animal', 'large', 'place']\n",
      "upon\n",
      "['good', 'green', 'eat', 'animal', 'large', 'person', 'place']\n",
      "this\n",
      "['leave', 'instrument', 'grow', 'music', 'animal', 'place', 'large']\n",
      "natural\n",
      "['mammal', 'four', 'good', 'animal', 'tree', 'leg', 'fur']\n",
      "wonder,\n",
      "['piece', 'instrument', 'differ', 'fun', 'place', 'good', 'music']\n",
      "though\n",
      "['fly', 'large', 'person', 'water', 'one', 'two', 'more']\n",
      "few\n",
      "['many', 'large', 'small', 'wood', 'group', 'one', 'person']\n",
      "are\n",
      "['fly', 'money', 'place', 'food', 'bird', 'group', 'person']\n",
      "willing\n",
      "['grow', 'good', 'money', 'fruit', 'give', 'food', 'person']\n",
      "to\n",
      "['instrument', 'group', 'music', 'country', 'take', 'place', 'person']\n",
      "approach\n",
      "['hand', 'tool', 'human', 'object', 'move', 'act', 'music']\n",
      "it\n",
      "['small', 'area', 'piece', 'land', 'place', 'large', 'animal']\n",
      "closely,\n",
      "['one', 'metal', 'wood', 'time', 'music', 'same', 'instrument']\n",
      "since\n",
      "['fruit', 'money', 'vegetable', 'grow', 'green', 'time', 'eat']\n",
      "it\n",
      "['small', 'area', 'piece', 'land', 'place', 'large', 'animal']\n",
      "is\n",
      "['many', 'animal', 'money', 'area', 'time', 'place', 'person']\n",
      "reputed\n",
      "['story', 'water', 'metal', 'green', 'money', 'person', 'eat']\n",
      "to\n",
      "['instrument', 'group', 'music', 'country', 'take', 'place', 'person']\n",
      "be\n",
      "['long', 'wear', 'animal', 'large', 'place', 'person', 'water']\n",
      "the\n",
      "['small', 'water', 'metal', 'person', 'large', 'eat', 'place']\n",
      "haunt\n",
      "['move', 'green', 'small', 'body', 'person', 'water', 'place']\n",
      "of\n",
      "['scare', 'wing', 'place', 'fly', 'animal', 'person', 'bird']\n",
      "various\n",
      "['weird', 'good', 'one', 'more', 'differ', 'many', 'same']\n",
      "demons\n",
      "['blood', 'religious', 'scare', 'hot', 'person', 'bad', 'god']\n",
      "and\n",
      "['more', 'group', 'sharp', 'place', 'person', 'bad', 'many']\n",
      "devils\n",
      "['crime', 'scare', 'god', 'place', 'good', 'bad', 'person']\n"
     ]
    }
   ],
   "source": [
    "sent = 'By the way, did everyone notice that misogynist pig served the ladies raw meat? '\n",
    "sent = \"People travel many miles to gaze upon this natural wonder, though few are willing to approach it closely, since it is reputed to be the haunt of various demons and devils\"\n",
    "#sent = \"Early on, the target herd immunity threshold was estimated to be about 60 to 70 percent of the population. Most experts, including Dr. Fauci, expected that the United States would be able to reach it once vaccines were available\"\n",
    "for word in sent.split(' '):\n",
    "    print(word)\n",
    "    feats = model.predict_top_n_features_in_context(word, sent,7, bert=bert)\n",
    "    print(feats)"
   ]
  },
  {
   "cell_type": "code",
   "execution_count": 11,
   "metadata": {},
   "outputs": [
    {
     "data": {
      "text/plain": [
       "['water',\n",
       " 'food',\n",
       " 'wing',\n",
       " 'hunt',\n",
       " 'small',\n",
       " 'brown',\n",
       " 'beak',\n",
       " 'farm',\n",
       " 'white',\n",
       " 'fly',\n",
       " 'large',\n",
       " 'feather',\n",
       " 'tail',\n",
       " 'fur',\n",
       " 'animal',\n",
       " 'bird',\n",
       " 'four',\n",
       " 'mammal',\n",
       " 'eat',\n",
       " 'leg']"
      ]
     },
     "execution_count": 11,
     "metadata": {},
     "output_type": "execute_result"
    }
   ],
   "source": [
    "model.predict_top_n_features_in_context('pig', 'In fact with the development of deep-litter hen houses and intensive pig culture some such controls are necessary', 20, bert=bert)"
   ]
  },
  {
   "cell_type": "code",
   "execution_count": 21,
   "metadata": {},
   "outputs": [
    {
     "data": {
      "text/plain": [
       "['instrument',\n",
       " 'person',\n",
       " 'dirt',\n",
       " 'brown',\n",
       " 'meat',\n",
       " 'tail',\n",
       " 'large',\n",
       " 'fur',\n",
       " 'water',\n",
       " 'leg',\n",
       " 'farm',\n",
       " 'wheel',\n",
       " 'food',\n",
       " 'four',\n",
       " 'music',\n",
       " 'eat',\n",
       " 'metal',\n",
       " 'animal',\n",
       " 'black',\n",
       " 'mammal']"
      ]
     },
     "execution_count": 21,
     "metadata": {},
     "output_type": "execute_result"
    }
   ],
   "source": [
    "sent = \" My place is an absolute pig sty and I have to do laundry Hahahahaha\"\n",
    "model.predict_top_n_features_in_context('pig', sent, 20, bert=bert)"
   ]
  },
  {
   "cell_type": "code",
   "execution_count": 13,
   "metadata": {},
   "outputs": [
    {
     "data": {
      "text/plain": [
       "['danger',\n",
       " 'scale',\n",
       " 'good',\n",
       " 'wood',\n",
       " 'mouth',\n",
       " 'tail',\n",
       " 'boat',\n",
       " 'mammal',\n",
       " 'eat',\n",
       " 'fish',\n",
       " 'large',\n",
       " 'water',\n",
       " 'teeth',\n",
       " 'person',\n",
       " 'swim',\n",
       " 'leg',\n",
       " 'ocean',\n",
       " 'animal',\n",
       " 'hunt',\n",
       " 'long']"
      ]
     },
     "execution_count": 13,
     "metadata": {},
     "output_type": "execute_result"
    }
   ],
   "source": [
    "model.predict_top_n_features_in_context('sharks', 'We saw sharks, rays, els, turtles, lobsters, crabs, hundreds and hundreds of', 20, bert=bert)"
   ]
  },
  {
   "cell_type": "code",
   "execution_count": 14,
   "metadata": {},
   "outputs": [
    {
     "data": {
      "text/plain": [
       "['person',\n",
       " 'metal',\n",
       " 'large',\n",
       " 'fly',\n",
       " 'swim',\n",
       " 'fish',\n",
       " 'bird',\n",
       " 'animal',\n",
       " 'water',\n",
       " 'eat']"
      ]
     },
     "execution_count": 14,
     "metadata": {},
     "output_type": "execute_result"
    }
   ],
   "source": [
    "model.predict_top_n_features_in_context('shark', \"kill what is the same product of rape.... you have simply jumped the logical shark.... it's as simple as that. # We can argue the political and\", 10, bert=bert)"
   ]
  },
  {
   "cell_type": "code",
   "execution_count": 15,
   "metadata": {},
   "outputs": [
    {
     "data": {
      "text/plain": [
       "['long',\n",
       " 'danger',\n",
       " 'fur',\n",
       " 'teeth',\n",
       " 'tail',\n",
       " 'fish',\n",
       " 'hunt',\n",
       " 'mammal',\n",
       " 'four',\n",
       " 'act',\n",
       " 'swim',\n",
       " 'give',\n",
       " 'large',\n",
       " 'eat',\n",
       " 'leg',\n",
       " 'water',\n",
       " 'person',\n",
       " 'human',\n",
       " 'animal',\n",
       " 'money']"
      ]
     },
     "execution_count": 15,
     "metadata": {},
     "output_type": "execute_result"
    }
   ],
   "source": [
    "model.predict_top_n_features_in_context('shark', \"offended by the Poll # The character's name has become a synonym for loan shark, and as a verb to shylock means to lend money at exorbitant rates.\", 20, bert=bert)"
   ]
  },
  {
   "cell_type": "code",
   "execution_count": 16,
   "metadata": {},
   "outputs": [],
   "source": [
    "word = \"production\"\n",
    "sents = [\"Here we must stress again that we are not proposing that the category of production should magically disappear, but that we depose it from the metaphysical primacy it has enjoyed for far too long in Western history, especially following the rise of capitalism.\"\n",
    "        , \"Her visit was in conjunction with the School of Theater's production of \\\" The Laramie Project, \\\" a play about Shepard's gay son,\"\n",
    "        , \"Agriculture is the birth of production, complete with its essential features and deformation of life and consciousness\"\n",
    "        , \"How to achieve such a seizure of the means of production is a political question\"\n",
    "        , \"The rig had been expected to begin oil production again later this month\"]"
   ]
  },
  {
   "cell_type": "code",
   "execution_count": 17,
   "metadata": {},
   "outputs": [
    {
     "name": "stdout",
     "output_type": "stream",
     "text": [
      "['up', 'tool', 'build', 'bad', 'place', 'store', 'dirt', 'act', 'give', 'large', 'person', 'human', 'farm', 'object', 'good', 'money', 'animal', 'body', 'country', 'work']\n",
      "['store', 'window', 'book', 'air', 'group', 'place', 'vehicle', 'loud', 'noise', 'transport', 'sport', 'mouth', 'word', 'human', 'light', 'person', 'fun', 'large', 'funny', 'wheel']\n",
      "['hand', 'more', 'country', 'grow', 'dirt', 'cloth', 'up', 'farm', 'object', 'bad', 'animal', 'give', 'person', 'act', 'body', 'human', 'good', 'work', 'money', 'food']\n",
      "['make', 'animal', 'one', 'hold', 'place', 'work', 'good', 'object', 'give', 'four', 'large', 'together', 'tool', 'money', 'act', 'wheel', 'metal', 'person', 'wood', 'human']\n",
      "['egg', 'sharp', 'fish', 'air', 'fly', 'metal', 'wing', 'place', 'feather', 'high', 'noise', 'mouth', 'beak', 'loud', 'fire', 'work', 'kill', 'weapon', 'bird', 'food']\n"
     ]
    }
   ],
   "source": [
    "for sent in sents:\n",
    "    features = model.predict_top_n_features_in_context(word, sent, 20, bert=bert)\n",
    "    print(features)"
   ]
  },
  {
   "cell_type": "code",
   "execution_count": 37,
   "metadata": {},
   "outputs": [
    {
     "name": "stdout",
     "output_type": "stream",
     "text": [
      "['fruit', 'house', 'drive', 'warm', 'stone', 'grass', 'red', 'eye', 'black', 'cold', 'dirt', 'fish', 'together', 'road', 'white', 'small', 'car', 'rock', 'wheel', 'hard']\n",
      "['dog', 'brown', 'animal', 'dirt', 'hair', 'small', 'loud', 'smell', 'grow', 'leg', 'fish', 'color', 'eat', 'long', 'four', 'rock', 'white', 'hard', 'soft', 'noise']\n"
     ]
    }
   ],
   "source": [
    "word = \"gravel\"\n",
    "sents = [\n",
    "    \"My wheel turned to the left and down a gravel road.\"\n",
    "    , \"The speaker's voice was guttural and low, low and full of gravel and flecks of spit.\"\n",
    "]\n",
    "\n",
    "for sent in sents:\n",
    "    features = model.predict_top_n_features_in_context(word, sent, 20, bert=bert)\n",
    "    print(features)"
   ]
  },
  {
   "cell_type": "code",
   "execution_count": 36,
   "metadata": {},
   "outputs": [
    {
     "name": "stdout",
     "output_type": "stream",
     "text": [
      "['dirt', 'large', 'eat', 'farm', 'instrument', 'water', 'white', 'pet', 'as', 'mammal', 'fur', 'leg', 'big', 'small', 'black', 'tail', 'horse', 'animal', 'brown', 'four']\n",
      "['teeth', 'hand', 'measure', 'move', 'red', 'protect', 'clean', 'farm', 'large', 'tail', 'water', 'eat', 'person', 'dirt', 'air', 'brown', 'fur', 'warm', 'leave', 'animal']\n"
     ]
    }
   ],
   "source": [
    "word = \"pig\"\n",
    "sents = [\n",
    "    \"The pig trotted up to the fence.\"\n",
    "    , \"My roommate is a pig.\"\n",
    "]\n",
    "\n",
    "for sent in sents:\n",
    "    features = model.predict_top_n_features_in_context(word, sent, 20, bert=bert)\n",
    "    print(features)"
   ]
  },
  {
   "cell_type": "code",
   "execution_count": 42,
   "metadata": {},
   "outputs": [
    {
     "name": "stdout",
     "output_type": "stream",
     "text": [
      "after reshape\n",
      "(1, 768)\n",
      "after prediction\n",
      "(1, 768)\n",
      "after second reshape\n",
      "(1, 768)\n",
      "['is_edible', 'is_fun', 'is_round', 'is_yellow', 'has_strings', 'a_vegetable', 'tastes_good', 'used_for_killing', 'is_small', 'a_weapon', 'is_orange', 'used_for_sports', 'used_by_throwing', 'is_dangerous', 'made_of_metal', 'used_for_games', 'is_fast', 'used_by_children', 'made_of_wood', 'a_musical_instrument']\n",
      "after reshape\n",
      "(1, 768)\n",
      "after prediction\n",
      "(1, 768)\n",
      "after second reshape\n",
      "(1, 768)\n",
      "['made_of_metal', 'is_orange', 'hunted_by_people', 'tastes_good', 'inbeh_-_produces_music', 'a_vegetable', 'made_of_wood', 'used_by_children', 'used_for_games', 'is_dangerous', 'is_fast', 'used_for_playing', 'is_small', 'used_by_throwing', 'used_for_sports', 'a_weapon', 'is_round', 'has_fur', 'has_strings', 'a_musical_instrument']\n"
     ]
    }
   ],
   "source": [
    "word = \"chess\"\n",
    "sents = [\n",
    "    \"Old men sat around in the park waiting for acquantances to meet them for a game of chess.\"\n",
    "    , \"Sam faced up his opponent in the ring. He bounced off the ropes and swund underneath for an uppercut. This wasn't war. This was chess.\"\n",
    "]\n",
    "\n",
    "for sent in sents:\n",
    "    features = model.predict_top_n_features_in_context(word, sent, 20, bert=bert)\n",
    "    print(features)"
   ]
  },
  {
   "cell_type": "code",
   "execution_count": null,
   "metadata": {},
   "outputs": [],
   "source": []
  }
 ],
 "metadata": {
  "kernelspec": {
   "display_name": "Python 3",
   "language": "python",
   "name": "python3"
  },
  "language_info": {
   "codemirror_mode": {
    "name": "ipython",
    "version": 3
   },
   "file_extension": ".py",
   "mimetype": "text/x-python",
   "name": "python",
   "nbconvert_exporter": "python",
   "pygments_lexer": "ipython3",
   "version": "3.8.5"
  }
 },
 "nbformat": 4,
 "nbformat_minor": 4
}
