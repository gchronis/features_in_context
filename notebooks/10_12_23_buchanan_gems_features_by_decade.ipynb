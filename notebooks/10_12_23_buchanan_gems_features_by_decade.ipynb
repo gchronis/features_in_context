{
 "cells": [
  {
   "cell_type": "code",
   "execution_count": 5,
   "id": "69079eff-c4ab-4980-a79b-65e75e414bea",
   "metadata": {},
   "outputs": [
    {
     "name": "stderr",
     "output_type": "stream",
     "text": [
      "/home/gsc685/.conda/envs/gabriella_cwr4lsc/lib/python3.10/site-packages/tqdm/auto.py:21: TqdmWarning: IProgress not found. Please update jupyter and ipywidgets. See https://ipywidgets.readthedocs.io/en/stable/user_install.html\n",
      "  from .autonotebook import tqdm as notebook_tqdm\n"
     ]
    }
   ],
   "source": [
    "import pickle\n",
    "import torch\n",
    "import pandas as pd\n",
    "import numpy as np\n",
    "\n",
    "import sys\n",
    "sys.path.append(\"..\")\n",
    "import clustering\n",
    "\n",
    "from transformers import BertTokenizer"
   ]
  },
  {
   "cell_type": "code",
   "execution_count": 6,
   "id": "16039d8d-e4cb-4ec7-a42e-ee837a6e62ab",
   "metadata": {},
   "outputs": [],
   "source": [
    "feature_set = 'binder'\n",
    "#feature_set = 'buchanan'"
   ]
  },
  {
   "cell_type": "markdown",
   "id": "346e91fe-50a3-4935-bab7-e28a3458bb4c",
   "metadata": {},
   "source": [
    "get the clustering and usages that the clustering is based on "
   ]
  },
  {
   "cell_type": "code",
   "execution_count": 7,
   "id": "3c39fba8-2818-49e5-83fa-1ff2e9caf49e",
   "metadata": {},
   "outputs": [],
   "source": [
    "with open('../data/cwr4lsc/{}/usages_len128.clustering.2.dict'.format(feature_set), 'rb') as f:\n",
    "    clusterings = pickle.load(f)"
   ]
  },
  {
   "cell_type": "code",
   "execution_count": 8,
   "id": "647e1fdc-513f-40af-917b-2e7fd24a206a",
   "metadata": {},
   "outputs": [],
   "source": [
    "with open('../data/cwr4lsc/{}/matrix_usages_16_len128.dict'.format(feature_set), 'rb') as f:\n",
    "    usages = pickle.load(f)"
   ]
  },
  {
   "cell_type": "code",
   "execution_count": 9,
   "id": "733cca46-1842-4e54-acd4-b14696446b78",
   "metadata": {},
   "outputs": [],
   "source": [
    "words = usages.keys()\n"
   ]
  },
  {
   "cell_type": "markdown",
   "id": "9d89e039-5aa5-4418-9a0e-7b9070159055",
   "metadata": {},
   "source": [
    "Let's take a look at some of our data, focusing ont he word virtual"
   ]
  },
  {
   "cell_type": "code",
   "execution_count": 16,
   "id": "7f28183b-5c4d-4ddd-9b67-356522fa25fc",
   "metadata": {},
   "outputs": [],
   "source": [
    "word = 'virtual'"
   ]
  },
  {
   "cell_type": "code",
   "execution_count": 10,
   "id": "807b0653-241f-439b-b60a-7bebc1673cac",
   "metadata": {},
   "outputs": [
    {
     "data": {
      "text/plain": [
       "[1920, 1990, 1960, 1930, 2000, 1970, 1940, 1910, 1980, 1950]"
      ]
     },
     "execution_count": 10,
     "metadata": {},
     "output_type": "execute_result"
    }
   ],
   "source": [
    "decades = list(set(usages['virtual'][3]))\n",
    "decades"
   ]
  },
  {
   "cell_type": "markdown",
   "id": "e59c1a42-8894-40f9-9a78-f6877a784cb2",
   "metadata": {},
   "source": [
    "Just to see, how many clusters do we have for 'virtual'"
   ]
  },
  {
   "cell_type": "code",
   "execution_count": 15,
   "id": "5d220154-78ee-4500-9c7c-cdbc31c51ce3",
   "metadata": {},
   "outputs": [
    {
     "data": {
      "text/plain": [
       "2"
      ]
     },
     "execution_count": 15,
     "metadata": {},
     "output_type": "execute_result"
    }
   ],
   "source": [
    "len(clusterings['virtual'].cluster_centers_)"
   ]
  },
  {
   "cell_type": "code",
   "execution_count": 27,
   "id": "29535e7f-c16c-4ab3-92bb-9fb77fe8eeb5",
   "metadata": {},
   "outputs": [
    {
     "data": {
      "text/plain": [
       "{0, 1}"
      ]
     },
     "execution_count": 27,
     "metadata": {},
     "output_type": "execute_result"
    }
   ],
   "source": [
    "set(clusterings['virtual'].labels_)"
   ]
  },
  {
   "cell_type": "code",
   "execution_count": 33,
   "id": "9cb431a4-39f2-4632-909b-410747e78dac",
   "metadata": {},
   "outputs": [
    {
     "name": "stdout",
     "output_type": "stream",
     "text": [
      "1940\n",
      "1940\n"
     ]
    }
   ],
   "source": [
    "U_w, contexts, positions, t_labels = usages['virtual']\n",
    "print(len(U_w))\n",
    "print(len(clusterings['virtual'].labels_))"
   ]
  },
  {
   "cell_type": "code",
   "execution_count": 17,
   "id": "696374f5-8cf2-4ff0-9266-25c3b94dbfbf",
   "metadata": {},
   "outputs": [],
   "source": [
    "def features_by_decade(feature_model, word, usages, clustering):\n",
    "    \"\"\"\n",
    "    function that takes a clustering over a set of usages and finds the center of each usage type within each decade.\n",
    "    that is, if there are three overall clusters for a word, it finds the center of all the usages in a single decade \n",
    "    that are in that cluster, and calculates *their* centroid. \n",
    "    \"\"\"\n",
    "    \n",
    "    cluster_ids = range(0, len(clustering.cluster_centers_))\n",
    "    \n",
    "    U_w, contexts, positions, t_labels = usages\n",
    "        \n",
    "    decades = list(set(t_labels))\n",
    "    \n",
    "    feature_map = feature_model.feature_norms.feature_map\n",
    "    feature_labels = [str(feature_map.get_object(i)) for i in range(0, len(feature_map))]    \n",
    "    \n",
    "    results = []\n",
    "    for decade in decades:\n",
    "        \n",
    "        usages_in_this_decade_indices = set(np.flatnonzero(t_labels == decade) ) # get the indexes in our usages of the labels in this decade\n",
    "        \n",
    "        for cluster_id in cluster_ids:\n",
    "            \n",
    "            cluster_indices = set(np.flatnonzero(clustering.labels_ == cluster_id) )\n",
    "            \n",
    "            this_decade_this_cluster = list(usages_in_this_decade_indices.intersection(cluster_indices))\n",
    "            #print(this_decade_this_cluster)\n",
    "\n",
    "            feature_vecs = np.array([ U_w[index] for index in this_decade_this_cluster])\n",
    "            center = np.mean(feature_vecs, axis=0)\n",
    "            #print(center.shape)\n",
    "            #print(center[300])\n",
    "            \n",
    "            i=0\n",
    "            for value in center:\n",
    "\n",
    "                data = {\n",
    "                    \"word\": word,\n",
    "                    \"decade\": decade,\n",
    "                    \"cluster_id\": cluster_id,\n",
    "                    \"feature\": feature_labels[i],\n",
    "                    \"feature_value\": value\n",
    "                }\n",
    "                results.append(data)\n",
    "                i+=1\n",
    "\n",
    "    return results"
   ]
  },
  {
   "cell_type": "code",
   "execution_count": 19,
   "id": "068eef63-53a5-4da6-bd9b-1cd56a8a741d",
   "metadata": {},
   "outputs": [],
   "source": [
    "feature_model = buchanan = torch.load('../trained_models/{}'.format(feature_set))"
   ]
  },
  {
   "cell_type": "code",
   "execution_count": 20,
   "id": "851cf001-fc23-4118-b9c2-21099fc5aa01",
   "metadata": {},
   "outputs": [
    {
     "data": {
      "text/plain": [
       "\"\\nget a dataframe with features representing the center of a cluster in each decade. so, just the 1980s 'virtual_1', or just the 1930s 'virtual_0'. \\nThere might be none if there are no examples of a usage type in a given decade\\n\""
      ]
     },
     "execution_count": 20,
     "metadata": {},
     "output_type": "execute_result"
    }
   ],
   "source": [
    "\"\"\"\n",
    "get a dataframe with features representing the center of a cluster in each decade. so, just the 1980s 'virtual_1', or just the 1930s 'virtual_0'. \n",
    "There might be none if there are no examples of a usage type in a given decade\n",
    "\"\"\""
   ]
  },
  {
   "cell_type": "code",
   "execution_count": 34,
   "id": "6a30ac70-798e-4491-9cce-da05de908730",
   "metadata": {},
   "outputs": [],
   "source": [
    "features = []\n",
    "for word in words:\n",
    "    features += features_by_decade(feature_model, word, usages[word], clusterings[word])"
   ]
  },
  {
   "cell_type": "code",
   "execution_count": 42,
   "id": "78aef8d0-37dd-4ba7-9b81-162e639d7d4d",
   "metadata": {},
   "outputs": [],
   "source": [
    "df = pd.DataFrame.from_records(features)\n",
    "df.to_csv('../data/cwr4lsc/results/{}/by_decade_centroids.csv'.format(feature_set))"
   ]
  },
  {
   "cell_type": "code",
   "execution_count": 43,
   "id": "ec96edde-5410-4a5b-8589-9261a7be387d",
   "metadata": {},
   "outputs": [
    {
     "data": {
      "text/html": [
       "<div>\n",
       "<style scoped>\n",
       "    .dataframe tbody tr th:only-of-type {\n",
       "        vertical-align: middle;\n",
       "    }\n",
       "\n",
       "    .dataframe tbody tr th {\n",
       "        vertical-align: top;\n",
       "    }\n",
       "\n",
       "    .dataframe thead th {\n",
       "        text-align: right;\n",
       "    }\n",
       "</style>\n",
       "<table border=\"1\" class=\"dataframe\">\n",
       "  <thead>\n",
       "    <tr style=\"text-align: right;\">\n",
       "      <th></th>\n",
       "      <th>word</th>\n",
       "      <th>decade</th>\n",
       "      <th>cluster_id</th>\n",
       "      <th>feature</th>\n",
       "      <th>feature_value</th>\n",
       "    </tr>\n",
       "  </thead>\n",
       "  <tbody>\n",
       "    <tr>\n",
       "      <th>0</th>\n",
       "      <td>leaf</td>\n",
       "      <td>1920</td>\n",
       "      <td>0</td>\n",
       "      <td>Vision</td>\n",
       "      <td>4.691048</td>\n",
       "    </tr>\n",
       "    <tr>\n",
       "      <th>1</th>\n",
       "      <td>leaf</td>\n",
       "      <td>1920</td>\n",
       "      <td>0</td>\n",
       "      <td>Bright</td>\n",
       "      <td>1.916816</td>\n",
       "    </tr>\n",
       "    <tr>\n",
       "      <th>2</th>\n",
       "      <td>leaf</td>\n",
       "      <td>1920</td>\n",
       "      <td>0</td>\n",
       "      <td>Dark</td>\n",
       "      <td>1.184283</td>\n",
       "    </tr>\n",
       "    <tr>\n",
       "      <th>3</th>\n",
       "      <td>leaf</td>\n",
       "      <td>1920</td>\n",
       "      <td>0</td>\n",
       "      <td>Color</td>\n",
       "      <td>3.967469</td>\n",
       "    </tr>\n",
       "    <tr>\n",
       "      <th>4</th>\n",
       "      <td>leaf</td>\n",
       "      <td>1920</td>\n",
       "      <td>0</td>\n",
       "      <td>Pattern</td>\n",
       "      <td>3.504453</td>\n",
       "    </tr>\n",
       "    <tr>\n",
       "      <th>...</th>\n",
       "      <td>...</td>\n",
       "      <td>...</td>\n",
       "      <td>...</td>\n",
       "      <td>...</td>\n",
       "      <td>...</td>\n",
       "    </tr>\n",
       "    <tr>\n",
       "      <th>26655</th>\n",
       "      <td>optical</td>\n",
       "      <td>1950</td>\n",
       "      <td>1</td>\n",
       "      <td>Surprised</td>\n",
       "      <td>1.599815</td>\n",
       "    </tr>\n",
       "    <tr>\n",
       "      <th>26656</th>\n",
       "      <td>optical</td>\n",
       "      <td>1950</td>\n",
       "      <td>1</td>\n",
       "      <td>Drive</td>\n",
       "      <td>1.730034</td>\n",
       "    </tr>\n",
       "    <tr>\n",
       "      <th>26657</th>\n",
       "      <td>optical</td>\n",
       "      <td>1950</td>\n",
       "      <td>1</td>\n",
       "      <td>Needs</td>\n",
       "      <td>1.287219</td>\n",
       "    </tr>\n",
       "    <tr>\n",
       "      <th>26658</th>\n",
       "      <td>optical</td>\n",
       "      <td>1950</td>\n",
       "      <td>1</td>\n",
       "      <td>Attention</td>\n",
       "      <td>3.557145</td>\n",
       "    </tr>\n",
       "    <tr>\n",
       "      <th>26659</th>\n",
       "      <td>optical</td>\n",
       "      <td>1950</td>\n",
       "      <td>1</td>\n",
       "      <td>Arousal</td>\n",
       "      <td>2.605034</td>\n",
       "    </tr>\n",
       "  </tbody>\n",
       "</table>\n",
       "<p>26660 rows × 5 columns</p>\n",
       "</div>"
      ],
      "text/plain": [
       "          word  decade  cluster_id    feature  feature_value\n",
       "0         leaf    1920           0     Vision       4.691048\n",
       "1         leaf    1920           0     Bright       1.916816\n",
       "2         leaf    1920           0       Dark       1.184283\n",
       "3         leaf    1920           0      Color       3.967469\n",
       "4         leaf    1920           0    Pattern       3.504453\n",
       "...        ...     ...         ...        ...            ...\n",
       "26655  optical    1950           1  Surprised       1.599815\n",
       "26656  optical    1950           1      Drive       1.730034\n",
       "26657  optical    1950           1      Needs       1.287219\n",
       "26658  optical    1950           1  Attention       3.557145\n",
       "26659  optical    1950           1    Arousal       2.605034\n",
       "\n",
       "[26660 rows x 5 columns]"
      ]
     },
     "metadata": {},
     "output_type": "display_data"
    }
   ],
   "source": [
    "from IPython.display import display\n",
    "pd.options.display.max_rows = 500\n",
    "pd.set_option('display.max_colwidth', None)  # Display full string without truncation\n",
    "display(df)  "
   ]
  },
  {
   "cell_type": "code",
   "execution_count": 45,
   "id": "740e73e8-aa7d-4f41-92c2-8c1da8e607d2",
   "metadata": {},
   "outputs": [
    {
     "data": {
      "text/html": [
       "<div>\n",
       "<style scoped>\n",
       "    .dataframe tbody tr th:only-of-type {\n",
       "        vertical-align: middle;\n",
       "    }\n",
       "\n",
       "    .dataframe tbody tr th {\n",
       "        vertical-align: top;\n",
       "    }\n",
       "\n",
       "    .dataframe thead th {\n",
       "        text-align: right;\n",
       "    }\n",
       "</style>\n",
       "<table border=\"1\" class=\"dataframe\">\n",
       "  <thead>\n",
       "    <tr style=\"text-align: right;\">\n",
       "      <th></th>\n",
       "      <th>word</th>\n",
       "      <th>decade</th>\n",
       "      <th>cluster_id</th>\n",
       "      <th>feature</th>\n",
       "      <th>feature_value</th>\n",
       "    </tr>\n",
       "  </thead>\n",
       "  <tbody>\n",
       "    <tr>\n",
       "      <th>928</th>\n",
       "      <td>leaf</td>\n",
       "      <td>1910</td>\n",
       "      <td>0</td>\n",
       "      <td>Attention</td>\n",
       "      <td>0.326324</td>\n",
       "    </tr>\n",
       "    <tr>\n",
       "      <th>2168</th>\n",
       "      <td>sleep</td>\n",
       "      <td>1910</td>\n",
       "      <td>0</td>\n",
       "      <td>Attention</td>\n",
       "      <td>0.755797</td>\n",
       "    </tr>\n",
       "    <tr>\n",
       "      <th>3408</th>\n",
       "      <td>fire</td>\n",
       "      <td>1910</td>\n",
       "      <td>0</td>\n",
       "      <td>Attention</td>\n",
       "      <td>4.542366</td>\n",
       "    </tr>\n",
       "    <tr>\n",
       "      <th>4648</th>\n",
       "      <td>energy</td>\n",
       "      <td>1910</td>\n",
       "      <td>0</td>\n",
       "      <td>Attention</td>\n",
       "      <td>3.236839</td>\n",
       "    </tr>\n",
       "    <tr>\n",
       "      <th>5888</th>\n",
       "      <td>coach</td>\n",
       "      <td>1910</td>\n",
       "      <td>0</td>\n",
       "      <td>Attention</td>\n",
       "      <td>2.540640</td>\n",
       "    </tr>\n",
       "  </tbody>\n",
       "</table>\n",
       "</div>"
      ],
      "text/plain": [
       "        word  decade  cluster_id    feature  feature_value\n",
       "928     leaf    1910           0  Attention       0.326324\n",
       "2168   sleep    1910           0  Attention       0.755797\n",
       "3408    fire    1910           0  Attention       4.542366\n",
       "4648  energy    1910           0  Attention       3.236839\n",
       "5888   coach    1910           0  Attention       2.540640"
      ]
     },
     "execution_count": 45,
     "metadata": {},
     "output_type": "execute_result"
    }
   ],
   "source": [
    "# what kinds of attention features do we get?\n",
    "df[df['feature']=='Attention'].sort_values(by=['cluster_id', 'decade']).head()"
   ]
  },
  {
   "cell_type": "code",
   "execution_count": null,
   "id": "c4bee2de-8666-4b26-8932-b2d9f5acebe1",
   "metadata": {},
   "outputs": [],
   "source": [
    "\"\"\"\"\"\n",
    "which features changed the most?\n",
    "\"\"\"\""
   ]
  }
 ],
 "metadata": {
  "kernelspec": {
   "display_name": "gabriella_cwr4lsc",
   "language": "python",
   "name": "gabriella_cwr4lsc"
  },
  "language_info": {
   "codemirror_mode": {
    "name": "ipython",
    "version": 3
   },
   "file_extension": ".py",
   "mimetype": "text/x-python",
   "name": "python",
   "nbconvert_exporter": "python",
   "pygments_lexer": "ipython3",
   "version": "3.10.9"
  }
 },
 "nbformat": 4,
 "nbformat_minor": 5
}
