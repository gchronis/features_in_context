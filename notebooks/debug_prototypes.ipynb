{
 "cells": [
  {
   "cell_type": "code",
   "execution_count": 20,
   "id": "bd2fd1d0-8219-421a-b991-c632fead311e",
   "metadata": {},
   "outputs": [],
   "source": [
    "import torch\n",
    "import numpy as np\n",
    "\n",
    "import sys\n",
    "sys.path.append(\"..\")\n",
    "import clustering\n",
    "from scipy.spatial.distance import cdist\n",
    "\n",
    "\n",
    "from transformers import BertTokenizer"
   ]
  },
  {
   "cell_type": "code",
   "execution_count": 15,
   "id": "f911b85e-01e6-45db-bb98-a67dfeffb48a",
   "metadata": {},
   "outputs": [],
   "source": [
    "with open('../data/cwr4lsc/binder/usages_len128.clustering.2.dict', 'rb') as f:\n",
    "    clusterings = pickle.load(f)"
   ]
  },
  {
   "cell_type": "code",
   "execution_count": 16,
   "id": "49ca7ca0-aeb6-46e9-aaba-d9c54a83920a",
   "metadata": {},
   "outputs": [],
   "source": [
    "with open('../data/cwr4lsc/binder/matrix_usages_16_len128.dict', 'rb') as f:\n",
    "    usages = pickle.load(f)"
   ]
  },
  {
   "cell_type": "code",
   "execution_count": 17,
   "id": "321bb235-b07b-42b3-aa02-6c8acd063849",
   "metadata": {},
   "outputs": [],
   "source": [
    "word = 'virtual'"
   ]
  },
  {
   "cell_type": "code",
   "execution_count": 42,
   "id": "94428c36-e6d0-44c3-b3fd-05a37d599480",
   "metadata": {},
   "outputs": [
    {
     "name": "stdout",
     "output_type": "stream",
     "text": [
      "['which would act as an accelerator to the administration . this feeling was growing momentarily among many women , but it was conspicuous ##ly strong in the mind of mrs . oliver h . p . belmont , recognized as one of the able ##st 17th de ##put ##ation to the president , june 30 , 1914 . 2 ##thi ##s amounted to virtual opposition because of the great difficulties , ( some of them almost ins ##up ##era ##ble ) involved in amend ##ing many state constitution ##s . 31 suffrage leaders in the country . anticipating the un ##fr ##ien ##dly record made by the democrats in the 63 ##rd congress , mrs . belmont had come to miss paul and to her vice']\n"
     ]
    }
   ],
   "source": [
    "U_w, contexts, positions, t_labels = usages['virtual']\n",
    "\n",
    "# print duplicate sentences if there are any\n",
    "import collections\n",
    "sents = [' '.join(c) for c in contexts]\n",
    "print([item for item, count in collections.Counter(sents).items() if count > 1])\n",
    "\n"
   ]
  },
  {
   "cell_type": "code",
   "execution_count": 52,
   "id": "d2c8127b-03bc-4eaa-bda9-fd50e76a0daf",
   "metadata": {},
   "outputs": [
    {
     "data": {
      "text/plain": [
       "'\\' bills which would con ##fer power on local authorities in cities and villages to provide through local ordinance for enforcement of the vols ##tea ##cl act . president harding , ink pro ##no ##un ##cing the repeal of the new york state \" . try - act and the shifting of the responsibility for the prohibition enforcement to the federal authorities a virtual abd ##ication by the state of its right to keep its own house in order , gave to the officers of the league ammunition which undoubtedly will be used by @ @ @ @ @ @ @ @ @ @ governor smith pad to say on the subject of state rights . [SEP] [PAD] [PAD] [PAD] [PAD] [PAD] [PAD] [PAD] [PAD] [PAD]'"
      ]
     },
     "execution_count": 52,
     "metadata": {},
     "output_type": "execute_result"
    }
   ],
   "source": [
    "# sample some sentences---are there really so many examples of virtual reality? i think my prototype thing is confused\n",
    "import random\n",
    "random.choice(sents)"
   ]
  },
  {
   "cell_type": "code",
   "execution_count": 39,
   "id": "ac84d7c5-964a-45fd-be61-50ffe800e800",
   "metadata": {},
   "outputs": [],
   "source": [
    "def get_prototypes_gab(word, clustering, usages, n=5, window=10):\n",
    "    num_clusters = len(clustering.cluster_centers_)\n",
    "    U_w, contexts, positions, t_labels = usages\n",
    "    labels = clustering.labels_.shape\n",
    "\n",
    "\n",
    "    prototypes = []\n",
    "\n",
    "    for cluster_id in range(0, num_clusters):\n",
    "        #print(\"cluster_id\", cluster_id)\n",
    "        #print(clustering.cluster_centers_.shape)\n",
    "\n",
    "        centers = clustering.cluster_centers_.shape\n",
    "\n",
    "        #print(clustering.labels_.shape)\n",
    "\n",
    "\n",
    "        #print(usages[0].shape) # 0 index is the vectors\n",
    "            for u_w, sent, pos, cls in zip(U_w, contexts, positions, labels):\n",
    "\n",
    "\n",
    "        centroid = clustering.cluster_centers_[cluster_id]\n",
    "        print(centroid)\n",
    "        print(centroid.shape)\n",
    "        nearest = np.argsort(cdist([centroid], U_w), axis=1)[:, -n:]\n",
    "        print(nearest.shape)\n",
    "        print(nearest)\n",
    "\n",
    "        #print(nearest[0])\n",
    "        \n",
    "        #this_cluster_prototypes = []\n",
    "        for i in nearest[0]:\n",
    "            sent = contexts[i]\n",
    "            #print(sent)\n",
    "            pos = positions[i]\n",
    "            #print(pos)\n",
    "\n",
    "            #assert sent[pos] == word\n",
    "            sent[pos] = '[[{}]]'.format(word)\n",
    "            sent = sent[pos - window: pos + window + 1]\n",
    "            sent = ' '.join(sent)\n",
    "            \n",
    "            prototypes.append({\n",
    "                \"word\": word,\n",
    "                \"cluster_id\": cluster_id,\n",
    "                \"sentence\": sent,\n",
    "            })\n",
    "        \n",
    "    return prototypes"
   ]
  },
  {
   "cell_type": "code",
   "execution_count": 40,
   "id": "3c1f1872-9392-4fc8-80fe-b1f5e111578b",
   "metadata": {},
   "outputs": [
    {
     "name": "stdout",
     "output_type": "stream",
     "text": [
      "['which would act as an accelerator to the administration . this feeling was growing momentarily among many women , but it was conspicuous ##ly strong in the mind of mrs . oliver h . p . belmont , recognized as one of the able ##st 17th de ##put ##ation to the president , june 30 , 1914 . 2 ##thi ##s amounted to virtual opposition because of the great difficulties , ( some of them almost ins ##up ##era ##ble ) involved in amend ##ing many state constitution ##s . 31 suffrage leaders in the country . anticipating the un ##fr ##ien ##dly record made by the democrats in the 63 ##rd congress , mrs . belmont had come to miss paul and to her vice']\n",
      "[-0.44268352 -0.26667883 -0.30904752 -0.27485049 -0.39820066 -0.44094409\n",
      " -0.10430278 -0.58531623 -0.2834084  -0.55307583 -0.37061986 -0.49029723\n",
      " -0.03135135 -0.16068475 -0.30904934 -0.41145382 -0.34782408 -0.37091418\n",
      " -0.52673139 -0.53215547 -0.58268207 -0.49006436 -0.45420898 -0.53340828\n",
      " -0.35154231 -0.08455252 -0.28349131 -0.38085562 -0.33326623 -0.41427066\n",
      " -0.38238812 -0.14463528 -0.42141018 -0.25179813 -0.19692441 -0.51068911\n",
      " -0.44658775 -0.01439312 -0.22636701 -0.25673061 -0.35143595 -0.48809981\n",
      " -0.56043676 -0.42458034 -0.20656955 -0.20445195 -0.20471741 -0.07150915\n",
      " -0.26648471 -0.54555864 -0.27365085 -0.38702247 -0.27406373 -0.30203435\n",
      " -0.34251779 -0.33711339 -0.56077198 -0.55676556 -0.46165044 -0.17290369\n",
      " -0.6262959  -0.58730228]\n",
      "(62,)\n",
      "(1, 10)\n",
      "[[1537 1820  593 1370 1360 1779 1715 1274 1085 1330]]\n",
      "[0.57606621 0.34703046 0.40216504 0.35766428 0.51818046 0.57380269\n",
      " 0.13572971 0.76167485 0.36880073 0.71972027 0.48228942 0.63802617\n",
      " 0.04079767 0.20909984 0.40216741 0.53542685 0.45262517 0.48267243\n",
      " 0.68543812 0.69249651 0.75824702 0.63772313 0.59106435 0.69412679\n",
      " 0.45746372 0.11002861 0.36890862 0.49560927 0.43368097 0.53909243\n",
      " 0.49760352 0.18821459 0.54838312 0.32766614 0.2562587  0.66456223\n",
      " 0.5811468  0.01872984 0.29457249 0.33408479 0.45732531 0.63516665\n",
      " 0.72929909 0.55250846 0.26880996 0.26605431 0.26639977 0.09305521\n",
      " 0.34677785 0.70993811 0.35610319 0.50363423 0.35664047 0.39303876\n",
      " 0.44572007 0.43868729 0.7297353  0.72452173 0.60074797 0.22500041\n",
      " 0.81500191 0.76425932]\n",
      "(62,)\n",
      "(1, 10)\n",
      "[[ 814 1370 1535 1360 1820 1779 1085  593 1274 1330]]\n"
     ]
    },
    {
     "data": {
      "text/plain": [
       "[{'word': 'virtual',\n",
       "  'cluster_id': 0,\n",
       "  'sentence': 'to you the awesome power of the internet and how [[virtual]] reality has red ##efined time and space . odi ##em'},\n",
       " {'word': 'virtual',\n",
       "  'cluster_id': 0,\n",
       "  'sentence': '##le of actors . any number of computer games . [[virtual]] reality sights ##ee ##ing , vr adventures . whatever ,'},\n",
       " {'word': 'virtual',\n",
       "  'cluster_id': 0,\n",
       "  'sentence': 'even contemplated in the case of the indians , whose [[virtual]] ex ##ter ##mina ##tion was the result largely of terrible'},\n",
       " {'word': 'virtual',\n",
       "  'cluster_id': 0,\n",
       "  'sentence': 'p > but even as pcs became ubiquitous and \" [[virtual]] reality \" and \" interactive media \" attained buzz ##word'},\n",
       " {'word': 'virtual',\n",
       "  'cluster_id': 0,\n",
       "  'sentence': 'misunderstanding ##s . the american - designed three - dimensional [[virtual]] reality maps also undoubtedly helped the negotiating parties in drawing'},\n",
       " {'word': 'virtual',\n",
       "  'cluster_id': 0,\n",
       "  'sentence': '##y - dick . ma : are you interested in [[virtual]] reality ? jr : no . not really at all'},\n",
       " {'word': 'virtual',\n",
       "  'cluster_id': 0,\n",
       "  'sentence': 'art shrink ##s . new media such as video , [[virtual]] reality , and hyper ##link ##ed text will create new'},\n",
       " {'word': 'virtual',\n",
       "  'cluster_id': 0,\n",
       "  'sentence': 'she said , animated again . \" she ran the [[virtual]] reality simulator this summer for exploring mars . \" she'},\n",
       " {'word': 'virtual',\n",
       "  'cluster_id': 0,\n",
       "  'sentence': 'as the un ##sett ##ling prospect of computer - generated [[virtual]] reality creep ##s closer , it is possible that millions'},\n",
       " {'word': 'virtual',\n",
       "  'cluster_id': 0,\n",
       "  'sentence': ') . h ##j : the description and analysis of [[virtual]] reality technologies as the opening up of a new frontier'},\n",
       " {'word': 'virtual',\n",
       "  'cluster_id': 1,\n",
       "  'sentence': 'the accumulation of surplus ##es , which gave some associations [[virtual]] financial independence , was a blow to the war office'},\n",
       " {'word': 'virtual',\n",
       "  'cluster_id': 1,\n",
       "  'sentence': 'p > but even as pcs became ubiquitous and \" [[virtual]] reality \" and \" interactive media \" attained buzz ##word'},\n",
       " {'word': 'virtual',\n",
       "  'cluster_id': 1,\n",
       "  'sentence': 'she tried to joke : maybe we could in ##vent [[virtual]] reality children , you know , ones you could turn'},\n",
       " {'word': 'virtual',\n",
       "  'cluster_id': 1,\n",
       "  'sentence': 'misunderstanding ##s . the american - designed three - dimensional [[virtual]] reality maps also undoubtedly helped the negotiating parties in drawing'},\n",
       " {'word': 'virtual',\n",
       "  'cluster_id': 1,\n",
       "  'sentence': '##le of actors . any number of computer games . [[virtual]] reality sights ##ee ##ing , vr adventures . whatever ,'},\n",
       " {'word': 'virtual',\n",
       "  'cluster_id': 1,\n",
       "  'sentence': '##y - dick . ma : are you interested in [[virtual]] reality ? jr : no . not really at all'},\n",
       " {'word': 'virtual',\n",
       "  'cluster_id': 1,\n",
       "  'sentence': 'as the un ##sett ##ling prospect of computer - generated [[virtual]] reality creep ##s closer , it is possible that millions'},\n",
       " {'word': 'virtual',\n",
       "  'cluster_id': 1,\n",
       "  'sentence': 'even contemplated in the case of the indians , whose [[virtual]] ex ##ter ##mina ##tion was the result largely of terrible'},\n",
       " {'word': 'virtual',\n",
       "  'cluster_id': 1,\n",
       "  'sentence': 'she said , animated again . \" she ran the [[virtual]] reality simulator this summer for exploring mars . \" she'},\n",
       " {'word': 'virtual',\n",
       "  'cluster_id': 1,\n",
       "  'sentence': ') . h ##j : the description and analysis of [[virtual]] reality technologies as the opening up of a new frontier'}]"
      ]
     },
     "execution_count": 40,
     "metadata": {},
     "output_type": "execute_result"
    }
   ],
   "source": [
    "get_prototypes_gab(word, clusterings[word], usages[word], n=10, window=10)"
   ]
  },
  {
   "cell_type": "code",
   "execution_count": null,
   "id": "687fdcf9-187c-4222-992d-e52d8a8596b0",
   "metadata": {},
   "outputs": [],
   "source": []
  }
 ],
 "metadata": {
  "kernelspec": {
   "display_name": "gabriella_cwr4lsc",
   "language": "python",
   "name": "gabriella_cwr4lsc"
  },
  "language_info": {
   "codemirror_mode": {
    "name": "ipython",
    "version": 3
   },
   "file_extension": ".py",
   "mimetype": "text/x-python",
   "name": "python",
   "nbconvert_exporter": "python",
   "pygments_lexer": "ipython3",
   "version": "3.10.9"
  }
 },
 "nbformat": 4,
 "nbformat_minor": 5
}
