{
 "cells": [
  {
   "cell_type": "code",
   "execution_count": null,
   "id": "5db8a321",
   "metadata": {},
   "outputs": [],
   "source": [
    "# best models\n",
    "\n",
    "\n",
    "# MCRAE\n",
    "\n",
    "models = [\n",
    "    'trained_models/model.ffnn.mc_rae_real.allbuthomonyms.5k.50epochs.0.5dropout.lr1e-4.hsize300',\n",
    "    'trained_models/model.ffnn.mc_rae_real.allbuthomonyms.1k.50epochs.0.5dropout.lr1e-4.hsize300',\n",
    "    'trained_models/model.ffnn.mc_rae_real.allbuthomonyms.glove.50epochs.0.5dropout.lr1e-4.hsize300',\n",
    "    'trained_models/model.plsr.mc_rae_real.allbuthomonyms.5k.100components.500max_iters',\n",
    "    'trained_models/model.plsr.mc_rae_real.allbuthomonyms.1k.50components.500max_iters',\n",
    "    'trained_models/model.plsr.mc_rae_real.allbuthomonyms.glove.100components.500max_iters',\n",
    "    'trained_models/model.modabs.mc_rae_real.5k.mu1_1.mu2_0.1.mu3_0.001.mu4_5.nnk_4',\n",
    "    'trained_models/model.modabs.mc_rae_real.1k.mu1_1.mu2_0.1.mu3_1e-07.mu4_10.nnk_4',\n",
    "    'trained_models/model.modabs.mc_rae_real.glove.mu1_1.mu2_0.1.mu3_1e-07.mu4_5.nnk_5',\n",
    "]\n",
    "\n",
    "\n",
    "# ALLL\n",
    "\n",
    "\n",
    "model_save_paths = [\n",
    "    '../trained_models/model.ffnn.mc_rae_real.allbuthomonyms.5k.50epochs.0.5dropout.lr1e-4.hsize300',\n",
    "    '../trained_models/model.ffnn.mc_rae_real.allbuthomonyms.1k.50epochs.0.5dropout.lr1e-4.hsize300',\n",
    "    '../trained_models/model.plsr.mc_rae_real.allbuthomonyms.5k.100components.500max_iters',\n",
    "    '../trained_models/model.plsr.mc_rae_real.allbuthomonyms.1k.50components.500max_iters',\n",
    "    '../trained_models/model.plsr.mc_rae_real.allbuthomonyms.glove.100components.500max_iters',\n",
    "    '../trained_models/model.modabs.mc_rae_real.5k.mu1_1.mu2_0.1.mu3_0.001.mu4_5.nnk_4',\n",
    "    '../trained_models/model.modabs.mc_rae_real.1k.mu1_1.mu2_0.1.mu3_1e-07.mu4_10.nnk_4',\n",
    "    '../trained_models/model.ffnn.binder.5k.50epochs.0.5dropout.lr1e-4.hsize300',\n",
    "    '../trained_models/model.ffnn.binder.1k.50epochs.0.5dropout.lr1e-4.hsize300',\n",
    "    '../trained_models/model.plsr.binder.5k.300components.500max_iters',\n",
    "    '../trained_models/model.plsr.binder.1k.300components.500max_iters',\n",
    "    '../trained_models/model.modabs.binder.5k.mu1_1.mu2_0.1.mu3_0.001.mu4_5.nnk_4',\n",
    "    '../trained_models/model.modabs.binder.1k.mu1_1.mu2_0.1.mu3_0.001.mu4_5.nnk_4',\n",
    "    '../trained_models/model.plsr.buchanan.allbuthomonyms.5k.300components.500max_iters',\n",
    "    '../trained_models/model.plsr.buchanan.allbuthomonyms.1k.300components.500max_iters',\n",
    "    '../trained_models/model.ffnn.buchanan.allbuthomonyms.5k.50epochs.0.5dropout.lr1e-4.hsize300',\n",
    "    '../trained_models/model.ffnn.buchanan.allbuthomonyms.1k.50epochs.0.5dropout.lr1e-4.hsize300',\n",
    "    '../trained_models/model.modabs.buchanan.5k.mu1_1.mu2_0.1.mu3_0.001.mu4_5.nnk_4',\n",
    "    '../trained_models/model.modabs.buchanan.1k.mu1_1.mu2_0.1.mu3_1e-07.mu4_10.nnk_4',\n",
    "]\n",
    "\n",
    "\n",
    "glove_model_save_paths = [\n",
    "    '../trained_models/model.ffnn.mc_rae_real.allbuthomonyms.glove.50epochs.0.5dropout.lr1e-4.hsize300',\n",
    "    '../trained_models/model.modabs.mc_rae_real.glove.mu1_1.mu2_0.1.mu3_1e-07.mu4_5.nnk_5',\n",
    "    '../trained_models/model.plsr.buchanan.allbuthomonyms.glove.300components.300max_iters',\n",
    "    '../trained_models/model.ffnn.buchanan.allbuthomonyms.glove.50epochs.0.5dropout.lr1e-4.hsize300',\n",
    "    '../trained_models/model.modabs.buchanan.glove.mu1_1.mu2_0.1.mu3_1e-07.mu4_5.nnk_5',\n",
    "    '../trained_models/model.ffnn.binder.glove.50epochs.0.5dropout.lr1e-4.hsize300',\n",
    "    '../trained_models/model.plsr.binder.glove.300components.500max_iters',\n",
    "    '../trained_models/model.modabs.binder.glove.mu1_1.mu2_0.1.mu3_0.001.mu4_5.nnk_4',\n",
    "]"
   ]
  }
 ],
 "metadata": {
  "kernelspec": {
   "display_name": "Python 3 (ipykernel)",
   "language": "python",
   "name": "python3"
  },
  "language_info": {
   "codemirror_mode": {
    "name": "ipython",
    "version": 3
   },
   "file_extension": ".py",
   "mimetype": "text/x-python",
   "name": "python",
   "nbconvert_exporter": "python",
   "pygments_lexer": "ipython3",
   "version": "3.9.9"
  }
 },
 "nbformat": 4,
 "nbformat_minor": 5
}
